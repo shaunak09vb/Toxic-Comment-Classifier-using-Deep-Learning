{
  "nbformat": 4,
  "nbformat_minor": 0,
  "metadata": {
    "colab": {
      "name": "NLP_LSTM.ipynb",
      "provenance": [],
      "collapsed_sections": [
        "z8KPqb7_vC59",
        "D8hAcigh3Sh3",
        "NDWRHguXxOF_",
        "X86VKe_LC3QH",
        "Dwzg_WX32OG3"
      ],
      "toc_visible": true,
      "include_colab_link": true
    },
    "kernelspec": {
      "display_name": "Python 3",
      "language": "python",
      "name": "python3"
    },
    "language_info": {
      "codemirror_mode": {
        "name": "ipython",
        "version": 3
      },
      "file_extension": ".py",
      "mimetype": "text/x-python",
      "name": "python",
      "nbconvert_exporter": "python",
      "pygments_lexer": "ipython3",
      "version": "3.8.3"
    },
    "widgets": {
      "application/vnd.jupyter.widget-state+json": {
        "0d67e5c26ddc4b3cb19dcffa2df2a9f0": {
          "model_module": "@jupyter-widgets/controls",
          "model_name": "HBoxModel",
          "state": {
            "_view_name": "HBoxView",
            "_dom_classes": [],
            "_model_name": "HBoxModel",
            "_view_module": "@jupyter-widgets/controls",
            "_model_module_version": "1.5.0",
            "_view_count": null,
            "_view_module_version": "1.5.0",
            "box_style": "",
            "layout": "IPY_MODEL_c29db9759052430d8e21ea18cb1fa327",
            "_model_module": "@jupyter-widgets/controls",
            "children": [
              "IPY_MODEL_b9c804e47756491595d7702cbfeb7ec9",
              "IPY_MODEL_075279eda27f4e87baa8c3b13a3cacb5"
            ]
          }
        },
        "c29db9759052430d8e21ea18cb1fa327": {
          "model_module": "@jupyter-widgets/base",
          "model_name": "LayoutModel",
          "state": {
            "_view_name": "LayoutView",
            "grid_template_rows": null,
            "right": null,
            "justify_content": null,
            "_view_module": "@jupyter-widgets/base",
            "overflow": null,
            "_model_module_version": "1.2.0",
            "_view_count": null,
            "flex_flow": null,
            "width": null,
            "min_width": null,
            "border": null,
            "align_items": null,
            "bottom": null,
            "_model_module": "@jupyter-widgets/base",
            "top": null,
            "grid_column": null,
            "overflow_y": null,
            "overflow_x": null,
            "grid_auto_flow": null,
            "grid_area": null,
            "grid_template_columns": null,
            "flex": null,
            "_model_name": "LayoutModel",
            "justify_items": null,
            "grid_row": null,
            "max_height": null,
            "align_content": null,
            "visibility": null,
            "align_self": null,
            "height": null,
            "min_height": null,
            "padding": null,
            "grid_auto_rows": null,
            "grid_gap": null,
            "max_width": null,
            "order": null,
            "_view_module_version": "1.2.0",
            "grid_template_areas": null,
            "object_position": null,
            "object_fit": null,
            "grid_auto_columns": null,
            "margin": null,
            "display": null,
            "left": null
          }
        },
        "b9c804e47756491595d7702cbfeb7ec9": {
          "model_module": "@jupyter-widgets/controls",
          "model_name": "FloatProgressModel",
          "state": {
            "_view_name": "ProgressView",
            "style": "IPY_MODEL_c3fb58bb3a5147bfacdb4491949f44d1",
            "_dom_classes": [],
            "description": "100%",
            "_model_name": "FloatProgressModel",
            "bar_style": "success",
            "max": 159571,
            "_view_module": "@jupyter-widgets/controls",
            "_model_module_version": "1.5.0",
            "value": 159571,
            "_view_count": null,
            "_view_module_version": "1.5.0",
            "orientation": "horizontal",
            "min": 0,
            "description_tooltip": null,
            "_model_module": "@jupyter-widgets/controls",
            "layout": "IPY_MODEL_fbe66f98345d4e8a9ca5ad7c9850c873"
          }
        },
        "075279eda27f4e87baa8c3b13a3cacb5": {
          "model_module": "@jupyter-widgets/controls",
          "model_name": "HTMLModel",
          "state": {
            "_view_name": "HTMLView",
            "style": "IPY_MODEL_0eaebd30552f4868b3ee9dd26ddc2fc4",
            "_dom_classes": [],
            "description": "",
            "_model_name": "HTMLModel",
            "placeholder": "​",
            "_view_module": "@jupyter-widgets/controls",
            "_model_module_version": "1.5.0",
            "value": " 159571/159571 [05:36&lt;00:00, 474.03it/s]",
            "_view_count": null,
            "_view_module_version": "1.5.0",
            "description_tooltip": null,
            "_model_module": "@jupyter-widgets/controls",
            "layout": "IPY_MODEL_ef03c9b1c58e4265859c41c65ec0b509"
          }
        },
        "c3fb58bb3a5147bfacdb4491949f44d1": {
          "model_module": "@jupyter-widgets/controls",
          "model_name": "ProgressStyleModel",
          "state": {
            "_view_name": "StyleView",
            "_model_name": "ProgressStyleModel",
            "description_width": "initial",
            "_view_module": "@jupyter-widgets/base",
            "_model_module_version": "1.5.0",
            "_view_count": null,
            "_view_module_version": "1.2.0",
            "bar_color": null,
            "_model_module": "@jupyter-widgets/controls"
          }
        },
        "fbe66f98345d4e8a9ca5ad7c9850c873": {
          "model_module": "@jupyter-widgets/base",
          "model_name": "LayoutModel",
          "state": {
            "_view_name": "LayoutView",
            "grid_template_rows": null,
            "right": null,
            "justify_content": null,
            "_view_module": "@jupyter-widgets/base",
            "overflow": null,
            "_model_module_version": "1.2.0",
            "_view_count": null,
            "flex_flow": null,
            "width": null,
            "min_width": null,
            "border": null,
            "align_items": null,
            "bottom": null,
            "_model_module": "@jupyter-widgets/base",
            "top": null,
            "grid_column": null,
            "overflow_y": null,
            "overflow_x": null,
            "grid_auto_flow": null,
            "grid_area": null,
            "grid_template_columns": null,
            "flex": null,
            "_model_name": "LayoutModel",
            "justify_items": null,
            "grid_row": null,
            "max_height": null,
            "align_content": null,
            "visibility": null,
            "align_self": null,
            "height": null,
            "min_height": null,
            "padding": null,
            "grid_auto_rows": null,
            "grid_gap": null,
            "max_width": null,
            "order": null,
            "_view_module_version": "1.2.0",
            "grid_template_areas": null,
            "object_position": null,
            "object_fit": null,
            "grid_auto_columns": null,
            "margin": null,
            "display": null,
            "left": null
          }
        },
        "0eaebd30552f4868b3ee9dd26ddc2fc4": {
          "model_module": "@jupyter-widgets/controls",
          "model_name": "DescriptionStyleModel",
          "state": {
            "_view_name": "StyleView",
            "_model_name": "DescriptionStyleModel",
            "description_width": "",
            "_view_module": "@jupyter-widgets/base",
            "_model_module_version": "1.5.0",
            "_view_count": null,
            "_view_module_version": "1.2.0",
            "_model_module": "@jupyter-widgets/controls"
          }
        },
        "ef03c9b1c58e4265859c41c65ec0b509": {
          "model_module": "@jupyter-widgets/base",
          "model_name": "LayoutModel",
          "state": {
            "_view_name": "LayoutView",
            "grid_template_rows": null,
            "right": null,
            "justify_content": null,
            "_view_module": "@jupyter-widgets/base",
            "overflow": null,
            "_model_module_version": "1.2.0",
            "_view_count": null,
            "flex_flow": null,
            "width": null,
            "min_width": null,
            "border": null,
            "align_items": null,
            "bottom": null,
            "_model_module": "@jupyter-widgets/base",
            "top": null,
            "grid_column": null,
            "overflow_y": null,
            "overflow_x": null,
            "grid_auto_flow": null,
            "grid_area": null,
            "grid_template_columns": null,
            "flex": null,
            "_model_name": "LayoutModel",
            "justify_items": null,
            "grid_row": null,
            "max_height": null,
            "align_content": null,
            "visibility": null,
            "align_self": null,
            "height": null,
            "min_height": null,
            "padding": null,
            "grid_auto_rows": null,
            "grid_gap": null,
            "max_width": null,
            "order": null,
            "_view_module_version": "1.2.0",
            "grid_template_areas": null,
            "object_position": null,
            "object_fit": null,
            "grid_auto_columns": null,
            "margin": null,
            "display": null,
            "left": null
          }
        },
        "6a95a3c1c0054b6982239099d19e64cc": {
          "model_module": "@jupyter-widgets/controls",
          "model_name": "HBoxModel",
          "state": {
            "_view_name": "HBoxView",
            "_dom_classes": [],
            "_model_name": "HBoxModel",
            "_view_module": "@jupyter-widgets/controls",
            "_model_module_version": "1.5.0",
            "_view_count": null,
            "_view_module_version": "1.5.0",
            "box_style": "",
            "layout": "IPY_MODEL_d6641c16fe9243398597a2115492fd1d",
            "_model_module": "@jupyter-widgets/controls",
            "children": [
              "IPY_MODEL_e5fb459c9bab4ef2adc717e6a6d128f4",
              "IPY_MODEL_59ff4ad0d4914246b73301d3109332c6"
            ]
          }
        },
        "d6641c16fe9243398597a2115492fd1d": {
          "model_module": "@jupyter-widgets/base",
          "model_name": "LayoutModel",
          "state": {
            "_view_name": "LayoutView",
            "grid_template_rows": null,
            "right": null,
            "justify_content": null,
            "_view_module": "@jupyter-widgets/base",
            "overflow": null,
            "_model_module_version": "1.2.0",
            "_view_count": null,
            "flex_flow": null,
            "width": null,
            "min_width": null,
            "border": null,
            "align_items": null,
            "bottom": null,
            "_model_module": "@jupyter-widgets/base",
            "top": null,
            "grid_column": null,
            "overflow_y": null,
            "overflow_x": null,
            "grid_auto_flow": null,
            "grid_area": null,
            "grid_template_columns": null,
            "flex": null,
            "_model_name": "LayoutModel",
            "justify_items": null,
            "grid_row": null,
            "max_height": null,
            "align_content": null,
            "visibility": null,
            "align_self": null,
            "height": null,
            "min_height": null,
            "padding": null,
            "grid_auto_rows": null,
            "grid_gap": null,
            "max_width": null,
            "order": null,
            "_view_module_version": "1.2.0",
            "grid_template_areas": null,
            "object_position": null,
            "object_fit": null,
            "grid_auto_columns": null,
            "margin": null,
            "display": null,
            "left": null
          }
        },
        "e5fb459c9bab4ef2adc717e6a6d128f4": {
          "model_module": "@jupyter-widgets/controls",
          "model_name": "FloatProgressModel",
          "state": {
            "_view_name": "ProgressView",
            "style": "IPY_MODEL_7d6a4917426c4e23a7f423b55fda539e",
            "_dom_classes": [],
            "description": "100%",
            "_model_name": "FloatProgressModel",
            "bar_style": "success",
            "max": 153164,
            "_view_module": "@jupyter-widgets/controls",
            "_model_module_version": "1.5.0",
            "value": 153164,
            "_view_count": null,
            "_view_module_version": "1.5.0",
            "orientation": "horizontal",
            "min": 0,
            "description_tooltip": null,
            "_model_module": "@jupyter-widgets/controls",
            "layout": "IPY_MODEL_6f7ce55f964947e890f6ae5eae88a8d3"
          }
        },
        "59ff4ad0d4914246b73301d3109332c6": {
          "model_module": "@jupyter-widgets/controls",
          "model_name": "HTMLModel",
          "state": {
            "_view_name": "HTMLView",
            "style": "IPY_MODEL_5affa0e5189c4794ada97dfb01be6619",
            "_dom_classes": [],
            "description": "",
            "_model_name": "HTMLModel",
            "placeholder": "​",
            "_view_module": "@jupyter-widgets/controls",
            "_model_module_version": "1.5.0",
            "value": " 153164/153164 [01:38&lt;00:00, 1552.52it/s]",
            "_view_count": null,
            "_view_module_version": "1.5.0",
            "description_tooltip": null,
            "_model_module": "@jupyter-widgets/controls",
            "layout": "IPY_MODEL_0d01b5353d5749cbbabf442be5eb7232"
          }
        },
        "7d6a4917426c4e23a7f423b55fda539e": {
          "model_module": "@jupyter-widgets/controls",
          "model_name": "ProgressStyleModel",
          "state": {
            "_view_name": "StyleView",
            "_model_name": "ProgressStyleModel",
            "description_width": "initial",
            "_view_module": "@jupyter-widgets/base",
            "_model_module_version": "1.5.0",
            "_view_count": null,
            "_view_module_version": "1.2.0",
            "bar_color": null,
            "_model_module": "@jupyter-widgets/controls"
          }
        },
        "6f7ce55f964947e890f6ae5eae88a8d3": {
          "model_module": "@jupyter-widgets/base",
          "model_name": "LayoutModel",
          "state": {
            "_view_name": "LayoutView",
            "grid_template_rows": null,
            "right": null,
            "justify_content": null,
            "_view_module": "@jupyter-widgets/base",
            "overflow": null,
            "_model_module_version": "1.2.0",
            "_view_count": null,
            "flex_flow": null,
            "width": null,
            "min_width": null,
            "border": null,
            "align_items": null,
            "bottom": null,
            "_model_module": "@jupyter-widgets/base",
            "top": null,
            "grid_column": null,
            "overflow_y": null,
            "overflow_x": null,
            "grid_auto_flow": null,
            "grid_area": null,
            "grid_template_columns": null,
            "flex": null,
            "_model_name": "LayoutModel",
            "justify_items": null,
            "grid_row": null,
            "max_height": null,
            "align_content": null,
            "visibility": null,
            "align_self": null,
            "height": null,
            "min_height": null,
            "padding": null,
            "grid_auto_rows": null,
            "grid_gap": null,
            "max_width": null,
            "order": null,
            "_view_module_version": "1.2.0",
            "grid_template_areas": null,
            "object_position": null,
            "object_fit": null,
            "grid_auto_columns": null,
            "margin": null,
            "display": null,
            "left": null
          }
        },
        "5affa0e5189c4794ada97dfb01be6619": {
          "model_module": "@jupyter-widgets/controls",
          "model_name": "DescriptionStyleModel",
          "state": {
            "_view_name": "StyleView",
            "_model_name": "DescriptionStyleModel",
            "description_width": "",
            "_view_module": "@jupyter-widgets/base",
            "_model_module_version": "1.5.0",
            "_view_count": null,
            "_view_module_version": "1.2.0",
            "_model_module": "@jupyter-widgets/controls"
          }
        },
        "0d01b5353d5749cbbabf442be5eb7232": {
          "model_module": "@jupyter-widgets/base",
          "model_name": "LayoutModel",
          "state": {
            "_view_name": "LayoutView",
            "grid_template_rows": null,
            "right": null,
            "justify_content": null,
            "_view_module": "@jupyter-widgets/base",
            "overflow": null,
            "_model_module_version": "1.2.0",
            "_view_count": null,
            "flex_flow": null,
            "width": null,
            "min_width": null,
            "border": null,
            "align_items": null,
            "bottom": null,
            "_model_module": "@jupyter-widgets/base",
            "top": null,
            "grid_column": null,
            "overflow_y": null,
            "overflow_x": null,
            "grid_auto_flow": null,
            "grid_area": null,
            "grid_template_columns": null,
            "flex": null,
            "_model_name": "LayoutModel",
            "justify_items": null,
            "grid_row": null,
            "max_height": null,
            "align_content": null,
            "visibility": null,
            "align_self": null,
            "height": null,
            "min_height": null,
            "padding": null,
            "grid_auto_rows": null,
            "grid_gap": null,
            "max_width": null,
            "order": null,
            "_view_module_version": "1.2.0",
            "grid_template_areas": null,
            "object_position": null,
            "object_fit": null,
            "grid_auto_columns": null,
            "margin": null,
            "display": null,
            "left": null
          }
        },
        "a7324d14451840b59ecde8b4adaae9f9": {
          "model_module": "@jupyter-widgets/controls",
          "model_name": "HBoxModel",
          "state": {
            "_view_name": "HBoxView",
            "_dom_classes": [],
            "_model_name": "HBoxModel",
            "_view_module": "@jupyter-widgets/controls",
            "_model_module_version": "1.5.0",
            "_view_count": null,
            "_view_module_version": "1.5.0",
            "box_style": "",
            "layout": "IPY_MODEL_75011c1d7b8b4466a2cfcc80ebf28621",
            "_model_module": "@jupyter-widgets/controls",
            "children": [
              "IPY_MODEL_61de2ddcd22f495fb6fd5b20d584efb2",
              "IPY_MODEL_8bff6364427343e08a0a9593eb0ad8e0"
            ]
          }
        },
        "75011c1d7b8b4466a2cfcc80ebf28621": {
          "model_module": "@jupyter-widgets/base",
          "model_name": "LayoutModel",
          "state": {
            "_view_name": "LayoutView",
            "grid_template_rows": null,
            "right": null,
            "justify_content": null,
            "_view_module": "@jupyter-widgets/base",
            "overflow": null,
            "_model_module_version": "1.2.0",
            "_view_count": null,
            "flex_flow": null,
            "width": null,
            "min_width": null,
            "border": null,
            "align_items": null,
            "bottom": null,
            "_model_module": "@jupyter-widgets/base",
            "top": null,
            "grid_column": null,
            "overflow_y": null,
            "overflow_x": null,
            "grid_auto_flow": null,
            "grid_area": null,
            "grid_template_columns": null,
            "flex": null,
            "_model_name": "LayoutModel",
            "justify_items": null,
            "grid_row": null,
            "max_height": null,
            "align_content": null,
            "visibility": null,
            "align_self": null,
            "height": null,
            "min_height": null,
            "padding": null,
            "grid_auto_rows": null,
            "grid_gap": null,
            "max_width": null,
            "order": null,
            "_view_module_version": "1.2.0",
            "grid_template_areas": null,
            "object_position": null,
            "object_fit": null,
            "grid_auto_columns": null,
            "margin": null,
            "display": null,
            "left": null
          }
        },
        "61de2ddcd22f495fb6fd5b20d584efb2": {
          "model_module": "@jupyter-widgets/controls",
          "model_name": "FloatProgressModel",
          "state": {
            "_view_name": "ProgressView",
            "style": "IPY_MODEL_1e7ce21b30074898ba0a75a93f8a3a80",
            "_dom_classes": [],
            "description": "100%",
            "_model_name": "FloatProgressModel",
            "bar_style": "success",
            "max": 159571,
            "_view_module": "@jupyter-widgets/controls",
            "_model_module_version": "1.5.0",
            "value": 159571,
            "_view_count": null,
            "_view_module_version": "1.5.0",
            "orientation": "horizontal",
            "min": 0,
            "description_tooltip": null,
            "_model_module": "@jupyter-widgets/controls",
            "layout": "IPY_MODEL_6cc679dd6edc4a7ba137a3e449c04bcf"
          }
        },
        "8bff6364427343e08a0a9593eb0ad8e0": {
          "model_module": "@jupyter-widgets/controls",
          "model_name": "HTMLModel",
          "state": {
            "_view_name": "HTMLView",
            "style": "IPY_MODEL_b798b827ac22407eb99328ec6f50c613",
            "_dom_classes": [],
            "description": "",
            "_model_name": "HTMLModel",
            "placeholder": "​",
            "_view_module": "@jupyter-widgets/controls",
            "_model_module_version": "1.5.0",
            "value": " 159571/159571 [02:04&lt;00:00, 1277.84it/s]",
            "_view_count": null,
            "_view_module_version": "1.5.0",
            "description_tooltip": null,
            "_model_module": "@jupyter-widgets/controls",
            "layout": "IPY_MODEL_d76d80ce9d0d42dd94f0521f29803142"
          }
        },
        "1e7ce21b30074898ba0a75a93f8a3a80": {
          "model_module": "@jupyter-widgets/controls",
          "model_name": "ProgressStyleModel",
          "state": {
            "_view_name": "StyleView",
            "_model_name": "ProgressStyleModel",
            "description_width": "initial",
            "_view_module": "@jupyter-widgets/base",
            "_model_module_version": "1.5.0",
            "_view_count": null,
            "_view_module_version": "1.2.0",
            "bar_color": null,
            "_model_module": "@jupyter-widgets/controls"
          }
        },
        "6cc679dd6edc4a7ba137a3e449c04bcf": {
          "model_module": "@jupyter-widgets/base",
          "model_name": "LayoutModel",
          "state": {
            "_view_name": "LayoutView",
            "grid_template_rows": null,
            "right": null,
            "justify_content": null,
            "_view_module": "@jupyter-widgets/base",
            "overflow": null,
            "_model_module_version": "1.2.0",
            "_view_count": null,
            "flex_flow": null,
            "width": null,
            "min_width": null,
            "border": null,
            "align_items": null,
            "bottom": null,
            "_model_module": "@jupyter-widgets/base",
            "top": null,
            "grid_column": null,
            "overflow_y": null,
            "overflow_x": null,
            "grid_auto_flow": null,
            "grid_area": null,
            "grid_template_columns": null,
            "flex": null,
            "_model_name": "LayoutModel",
            "justify_items": null,
            "grid_row": null,
            "max_height": null,
            "align_content": null,
            "visibility": null,
            "align_self": null,
            "height": null,
            "min_height": null,
            "padding": null,
            "grid_auto_rows": null,
            "grid_gap": null,
            "max_width": null,
            "order": null,
            "_view_module_version": "1.2.0",
            "grid_template_areas": null,
            "object_position": null,
            "object_fit": null,
            "grid_auto_columns": null,
            "margin": null,
            "display": null,
            "left": null
          }
        },
        "b798b827ac22407eb99328ec6f50c613": {
          "model_module": "@jupyter-widgets/controls",
          "model_name": "DescriptionStyleModel",
          "state": {
            "_view_name": "StyleView",
            "_model_name": "DescriptionStyleModel",
            "description_width": "",
            "_view_module": "@jupyter-widgets/base",
            "_model_module_version": "1.5.0",
            "_view_count": null,
            "_view_module_version": "1.2.0",
            "_model_module": "@jupyter-widgets/controls"
          }
        },
        "d76d80ce9d0d42dd94f0521f29803142": {
          "model_module": "@jupyter-widgets/base",
          "model_name": "LayoutModel",
          "state": {
            "_view_name": "LayoutView",
            "grid_template_rows": null,
            "right": null,
            "justify_content": null,
            "_view_module": "@jupyter-widgets/base",
            "overflow": null,
            "_model_module_version": "1.2.0",
            "_view_count": null,
            "flex_flow": null,
            "width": null,
            "min_width": null,
            "border": null,
            "align_items": null,
            "bottom": null,
            "_model_module": "@jupyter-widgets/base",
            "top": null,
            "grid_column": null,
            "overflow_y": null,
            "overflow_x": null,
            "grid_auto_flow": null,
            "grid_area": null,
            "grid_template_columns": null,
            "flex": null,
            "_model_name": "LayoutModel",
            "justify_items": null,
            "grid_row": null,
            "max_height": null,
            "align_content": null,
            "visibility": null,
            "align_self": null,
            "height": null,
            "min_height": null,
            "padding": null,
            "grid_auto_rows": null,
            "grid_gap": null,
            "max_width": null,
            "order": null,
            "_view_module_version": "1.2.0",
            "grid_template_areas": null,
            "object_position": null,
            "object_fit": null,
            "grid_auto_columns": null,
            "margin": null,
            "display": null,
            "left": null
          }
        },
        "d6d52fd0b476439ba1dbc9f207cf27dd": {
          "model_module": "@jupyter-widgets/controls",
          "model_name": "HBoxModel",
          "state": {
            "_view_name": "HBoxView",
            "_dom_classes": [],
            "_model_name": "HBoxModel",
            "_view_module": "@jupyter-widgets/controls",
            "_model_module_version": "1.5.0",
            "_view_count": null,
            "_view_module_version": "1.5.0",
            "box_style": "",
            "layout": "IPY_MODEL_e6b1e5375d1c44f9be658a503f320aae",
            "_model_module": "@jupyter-widgets/controls",
            "children": [
              "IPY_MODEL_8ba98e6082864f2a96fa09fd006fa3b6",
              "IPY_MODEL_2c28315e14654fe497733d81a6f34c14"
            ]
          }
        },
        "e6b1e5375d1c44f9be658a503f320aae": {
          "model_module": "@jupyter-widgets/base",
          "model_name": "LayoutModel",
          "state": {
            "_view_name": "LayoutView",
            "grid_template_rows": null,
            "right": null,
            "justify_content": null,
            "_view_module": "@jupyter-widgets/base",
            "overflow": null,
            "_model_module_version": "1.2.0",
            "_view_count": null,
            "flex_flow": null,
            "width": null,
            "min_width": null,
            "border": null,
            "align_items": null,
            "bottom": null,
            "_model_module": "@jupyter-widgets/base",
            "top": null,
            "grid_column": null,
            "overflow_y": null,
            "overflow_x": null,
            "grid_auto_flow": null,
            "grid_area": null,
            "grid_template_columns": null,
            "flex": null,
            "_model_name": "LayoutModel",
            "justify_items": null,
            "grid_row": null,
            "max_height": null,
            "align_content": null,
            "visibility": null,
            "align_self": null,
            "height": null,
            "min_height": null,
            "padding": null,
            "grid_auto_rows": null,
            "grid_gap": null,
            "max_width": null,
            "order": null,
            "_view_module_version": "1.2.0",
            "grid_template_areas": null,
            "object_position": null,
            "object_fit": null,
            "grid_auto_columns": null,
            "margin": null,
            "display": null,
            "left": null
          }
        },
        "8ba98e6082864f2a96fa09fd006fa3b6": {
          "model_module": "@jupyter-widgets/controls",
          "model_name": "FloatProgressModel",
          "state": {
            "_view_name": "ProgressView",
            "style": "IPY_MODEL_a228436069ca4be38957b514704d3100",
            "_dom_classes": [],
            "description": "100%",
            "_model_name": "FloatProgressModel",
            "bar_style": "success",
            "max": 159571,
            "_view_module": "@jupyter-widgets/controls",
            "_model_module_version": "1.5.0",
            "value": 159571,
            "_view_count": null,
            "_view_module_version": "1.5.0",
            "orientation": "horizontal",
            "min": 0,
            "description_tooltip": null,
            "_model_module": "@jupyter-widgets/controls",
            "layout": "IPY_MODEL_c4872be22dd7458eb1cabb62d7a15029"
          }
        },
        "2c28315e14654fe497733d81a6f34c14": {
          "model_module": "@jupyter-widgets/controls",
          "model_name": "HTMLModel",
          "state": {
            "_view_name": "HTMLView",
            "style": "IPY_MODEL_549000f0c00f439386fc6dcc1aa9b5db",
            "_dom_classes": [],
            "description": "",
            "_model_name": "HTMLModel",
            "placeholder": "​",
            "_view_module": "@jupyter-widgets/controls",
            "_model_module_version": "1.5.0",
            "value": " 159571/159571 [00:07&lt;00:00, 20168.35it/s]",
            "_view_count": null,
            "_view_module_version": "1.5.0",
            "description_tooltip": null,
            "_model_module": "@jupyter-widgets/controls",
            "layout": "IPY_MODEL_cce3356e4100409982db9a0312034527"
          }
        },
        "a228436069ca4be38957b514704d3100": {
          "model_module": "@jupyter-widgets/controls",
          "model_name": "ProgressStyleModel",
          "state": {
            "_view_name": "StyleView",
            "_model_name": "ProgressStyleModel",
            "description_width": "initial",
            "_view_module": "@jupyter-widgets/base",
            "_model_module_version": "1.5.0",
            "_view_count": null,
            "_view_module_version": "1.2.0",
            "bar_color": null,
            "_model_module": "@jupyter-widgets/controls"
          }
        },
        "c4872be22dd7458eb1cabb62d7a15029": {
          "model_module": "@jupyter-widgets/base",
          "model_name": "LayoutModel",
          "state": {
            "_view_name": "LayoutView",
            "grid_template_rows": null,
            "right": null,
            "justify_content": null,
            "_view_module": "@jupyter-widgets/base",
            "overflow": null,
            "_model_module_version": "1.2.0",
            "_view_count": null,
            "flex_flow": null,
            "width": null,
            "min_width": null,
            "border": null,
            "align_items": null,
            "bottom": null,
            "_model_module": "@jupyter-widgets/base",
            "top": null,
            "grid_column": null,
            "overflow_y": null,
            "overflow_x": null,
            "grid_auto_flow": null,
            "grid_area": null,
            "grid_template_columns": null,
            "flex": null,
            "_model_name": "LayoutModel",
            "justify_items": null,
            "grid_row": null,
            "max_height": null,
            "align_content": null,
            "visibility": null,
            "align_self": null,
            "height": null,
            "min_height": null,
            "padding": null,
            "grid_auto_rows": null,
            "grid_gap": null,
            "max_width": null,
            "order": null,
            "_view_module_version": "1.2.0",
            "grid_template_areas": null,
            "object_position": null,
            "object_fit": null,
            "grid_auto_columns": null,
            "margin": null,
            "display": null,
            "left": null
          }
        },
        "549000f0c00f439386fc6dcc1aa9b5db": {
          "model_module": "@jupyter-widgets/controls",
          "model_name": "DescriptionStyleModel",
          "state": {
            "_view_name": "StyleView",
            "_model_name": "DescriptionStyleModel",
            "description_width": "",
            "_view_module": "@jupyter-widgets/base",
            "_model_module_version": "1.5.0",
            "_view_count": null,
            "_view_module_version": "1.2.0",
            "_model_module": "@jupyter-widgets/controls"
          }
        },
        "cce3356e4100409982db9a0312034527": {
          "model_module": "@jupyter-widgets/base",
          "model_name": "LayoutModel",
          "state": {
            "_view_name": "LayoutView",
            "grid_template_rows": null,
            "right": null,
            "justify_content": null,
            "_view_module": "@jupyter-widgets/base",
            "overflow": null,
            "_model_module_version": "1.2.0",
            "_view_count": null,
            "flex_flow": null,
            "width": null,
            "min_width": null,
            "border": null,
            "align_items": null,
            "bottom": null,
            "_model_module": "@jupyter-widgets/base",
            "top": null,
            "grid_column": null,
            "overflow_y": null,
            "overflow_x": null,
            "grid_auto_flow": null,
            "grid_area": null,
            "grid_template_columns": null,
            "flex": null,
            "_model_name": "LayoutModel",
            "justify_items": null,
            "grid_row": null,
            "max_height": null,
            "align_content": null,
            "visibility": null,
            "align_self": null,
            "height": null,
            "min_height": null,
            "padding": null,
            "grid_auto_rows": null,
            "grid_gap": null,
            "max_width": null,
            "order": null,
            "_view_module_version": "1.2.0",
            "grid_template_areas": null,
            "object_position": null,
            "object_fit": null,
            "grid_auto_columns": null,
            "margin": null,
            "display": null,
            "left": null
          }
        },
        "9f4b750283914bd3a71f81795b9844a8": {
          "model_module": "@jupyter-widgets/controls",
          "model_name": "HBoxModel",
          "state": {
            "_view_name": "HBoxView",
            "_dom_classes": [],
            "_model_name": "HBoxModel",
            "_view_module": "@jupyter-widgets/controls",
            "_model_module_version": "1.5.0",
            "_view_count": null,
            "_view_module_version": "1.5.0",
            "box_style": "",
            "layout": "IPY_MODEL_91793eb2dd4041c281d7a1b523d816cc",
            "_model_module": "@jupyter-widgets/controls",
            "children": [
              "IPY_MODEL_325f6ad1e95e45948e383e72ba5022a4",
              "IPY_MODEL_668b87b3e36647048a6783857c6e4c61"
            ]
          }
        },
        "91793eb2dd4041c281d7a1b523d816cc": {
          "model_module": "@jupyter-widgets/base",
          "model_name": "LayoutModel",
          "state": {
            "_view_name": "LayoutView",
            "grid_template_rows": null,
            "right": null,
            "justify_content": null,
            "_view_module": "@jupyter-widgets/base",
            "overflow": null,
            "_model_module_version": "1.2.0",
            "_view_count": null,
            "flex_flow": null,
            "width": null,
            "min_width": null,
            "border": null,
            "align_items": null,
            "bottom": null,
            "_model_module": "@jupyter-widgets/base",
            "top": null,
            "grid_column": null,
            "overflow_y": null,
            "overflow_x": null,
            "grid_auto_flow": null,
            "grid_area": null,
            "grid_template_columns": null,
            "flex": null,
            "_model_name": "LayoutModel",
            "justify_items": null,
            "grid_row": null,
            "max_height": null,
            "align_content": null,
            "visibility": null,
            "align_self": null,
            "height": null,
            "min_height": null,
            "padding": null,
            "grid_auto_rows": null,
            "grid_gap": null,
            "max_width": null,
            "order": null,
            "_view_module_version": "1.2.0",
            "grid_template_areas": null,
            "object_position": null,
            "object_fit": null,
            "grid_auto_columns": null,
            "margin": null,
            "display": null,
            "left": null
          }
        },
        "325f6ad1e95e45948e383e72ba5022a4": {
          "model_module": "@jupyter-widgets/controls",
          "model_name": "FloatProgressModel",
          "state": {
            "_view_name": "ProgressView",
            "style": "IPY_MODEL_5a53e3e69b4f4cc59d1b266b8ef00125",
            "_dom_classes": [],
            "description": "100%",
            "_model_name": "FloatProgressModel",
            "bar_style": "success",
            "max": 153164,
            "_view_module": "@jupyter-widgets/controls",
            "_model_module_version": "1.5.0",
            "value": 153164,
            "_view_count": null,
            "_view_module_version": "1.5.0",
            "orientation": "horizontal",
            "min": 0,
            "description_tooltip": null,
            "_model_module": "@jupyter-widgets/controls",
            "layout": "IPY_MODEL_cfe2827d37304262a12c89978a2e6184"
          }
        },
        "668b87b3e36647048a6783857c6e4c61": {
          "model_module": "@jupyter-widgets/controls",
          "model_name": "HTMLModel",
          "state": {
            "_view_name": "HTMLView",
            "style": "IPY_MODEL_6ccc7078cab84cbe86836f9d2071063f",
            "_dom_classes": [],
            "description": "",
            "_model_name": "HTMLModel",
            "placeholder": "​",
            "_view_module": "@jupyter-widgets/controls",
            "_model_module_version": "1.5.0",
            "value": " 153164/153164 [00:05&lt;00:00, 27568.04it/s]",
            "_view_count": null,
            "_view_module_version": "1.5.0",
            "description_tooltip": null,
            "_model_module": "@jupyter-widgets/controls",
            "layout": "IPY_MODEL_fe30a44e0e384866b04b75693fe753ef"
          }
        },
        "5a53e3e69b4f4cc59d1b266b8ef00125": {
          "model_module": "@jupyter-widgets/controls",
          "model_name": "ProgressStyleModel",
          "state": {
            "_view_name": "StyleView",
            "_model_name": "ProgressStyleModel",
            "description_width": "initial",
            "_view_module": "@jupyter-widgets/base",
            "_model_module_version": "1.5.0",
            "_view_count": null,
            "_view_module_version": "1.2.0",
            "bar_color": null,
            "_model_module": "@jupyter-widgets/controls"
          }
        },
        "cfe2827d37304262a12c89978a2e6184": {
          "model_module": "@jupyter-widgets/base",
          "model_name": "LayoutModel",
          "state": {
            "_view_name": "LayoutView",
            "grid_template_rows": null,
            "right": null,
            "justify_content": null,
            "_view_module": "@jupyter-widgets/base",
            "overflow": null,
            "_model_module_version": "1.2.0",
            "_view_count": null,
            "flex_flow": null,
            "width": null,
            "min_width": null,
            "border": null,
            "align_items": null,
            "bottom": null,
            "_model_module": "@jupyter-widgets/base",
            "top": null,
            "grid_column": null,
            "overflow_y": null,
            "overflow_x": null,
            "grid_auto_flow": null,
            "grid_area": null,
            "grid_template_columns": null,
            "flex": null,
            "_model_name": "LayoutModel",
            "justify_items": null,
            "grid_row": null,
            "max_height": null,
            "align_content": null,
            "visibility": null,
            "align_self": null,
            "height": null,
            "min_height": null,
            "padding": null,
            "grid_auto_rows": null,
            "grid_gap": null,
            "max_width": null,
            "order": null,
            "_view_module_version": "1.2.0",
            "grid_template_areas": null,
            "object_position": null,
            "object_fit": null,
            "grid_auto_columns": null,
            "margin": null,
            "display": null,
            "left": null
          }
        },
        "6ccc7078cab84cbe86836f9d2071063f": {
          "model_module": "@jupyter-widgets/controls",
          "model_name": "DescriptionStyleModel",
          "state": {
            "_view_name": "StyleView",
            "_model_name": "DescriptionStyleModel",
            "description_width": "",
            "_view_module": "@jupyter-widgets/base",
            "_model_module_version": "1.5.0",
            "_view_count": null,
            "_view_module_version": "1.2.0",
            "_model_module": "@jupyter-widgets/controls"
          }
        },
        "fe30a44e0e384866b04b75693fe753ef": {
          "model_module": "@jupyter-widgets/base",
          "model_name": "LayoutModel",
          "state": {
            "_view_name": "LayoutView",
            "grid_template_rows": null,
            "right": null,
            "justify_content": null,
            "_view_module": "@jupyter-widgets/base",
            "overflow": null,
            "_model_module_version": "1.2.0",
            "_view_count": null,
            "flex_flow": null,
            "width": null,
            "min_width": null,
            "border": null,
            "align_items": null,
            "bottom": null,
            "_model_module": "@jupyter-widgets/base",
            "top": null,
            "grid_column": null,
            "overflow_y": null,
            "overflow_x": null,
            "grid_auto_flow": null,
            "grid_area": null,
            "grid_template_columns": null,
            "flex": null,
            "_model_name": "LayoutModel",
            "justify_items": null,
            "grid_row": null,
            "max_height": null,
            "align_content": null,
            "visibility": null,
            "align_self": null,
            "height": null,
            "min_height": null,
            "padding": null,
            "grid_auto_rows": null,
            "grid_gap": null,
            "max_width": null,
            "order": null,
            "_view_module_version": "1.2.0",
            "grid_template_areas": null,
            "object_position": null,
            "object_fit": null,
            "grid_auto_columns": null,
            "margin": null,
            "display": null,
            "left": null
          }
        }
      }
    },
    "accelerator": "GPU"
  },
  "cells": [
    {
      "cell_type": "markdown",
      "metadata": {
        "id": "view-in-github",
        "colab_type": "text"
      },
      "source": [
        "<a href=\"https://colab.research.google.com/github/shaunak09vb/Toxic-Comment-Classifier-using-LSTM/blob/main/NLP_LSTM.ipynb\" target=\"_parent\"><img src=\"https://colab.research.google.com/assets/colab-badge.svg\" alt=\"Open In Colab\"/></a>"
      ]
    },
    {
      "cell_type": "markdown",
      "metadata": {
        "id": "wcGq1dF0iWju"
      },
      "source": [
        "# Importing Libraries"
      ]
    },
    {
      "cell_type": "code",
      "metadata": {
        "colab": {
          "base_uri": "https://localhost:8080/"
        },
        "id": "iyTgJx85_MUt",
        "outputId": "828ca8a5-09b4-4b35-cd02-9ba8cc126a66"
      },
      "source": [
        "from google.colab import drive\n",
        "drive.mount('/content/drive')"
      ],
      "execution_count": null,
      "outputs": [
        {
          "output_type": "stream",
          "text": [
            "Drive already mounted at /content/drive; to attempt to forcibly remount, call drive.mount(\"/content/drive\", force_remount=True).\n"
          ],
          "name": "stdout"
        }
      ]
    },
    {
      "cell_type": "code",
      "metadata": {
        "id": "xEXu-mePiK9T",
        "colab": {
          "base_uri": "https://localhost:8080/"
        },
        "outputId": "0d624c10-a168-4a17-c289-34246071bdc9"
      },
      "source": [
        "import numpy as np, pandas as pd\n",
        "\n",
        "!pip install talos\n",
        "\n",
        "import re\n",
        "import spacy\n",
        "from spacy.lang.en import English\n",
        "from spacy.lang.en.stop_words import STOP_WORDS\n",
        "from nltk.tokenize import word_tokenize\n",
        "import nltk\n",
        "from nltk.stem import WordNetLemmatizer\n",
        "nltk.download('wordnet')\n",
        "import string\n",
        "from string import ascii_lowercase\n",
        "\n",
        "from tqdm import tqdm_notebook\n",
        "import itertools\n",
        "import io\n",
        "\n",
        "import matplotlib.pyplot as plt\n",
        "%matplotlib inline\n",
        "\n",
        "from functools import reduce\n",
        "from tensorflow import keras\n",
        "from keras.preprocessing.text import Tokenizer\n",
        "from keras.preprocessing.sequence import pad_sequences\n",
        "from keras.layers import Dense, Input, LSTM, Embedding, Dropout, Activation\n",
        "from keras.layers import Bidirectional, GlobalMaxPool1D\n",
        "from keras.models import Model\n",
        "from keras.models import Sequential\n",
        "from keras.layers import Conv1D, MaxPooling1D\n",
        "from keras.layers import BatchNormalization\n",
        "from keras import initializers, regularizers, constraints, optimizers, layers\n",
        "import talos"
      ],
      "execution_count": null,
      "outputs": [
        {
          "output_type": "stream",
          "text": [
            "Requirement already satisfied: talos in /usr/local/lib/python3.6/dist-packages (1.0)\n",
            "Requirement already satisfied: numpy in /usr/local/lib/python3.6/dist-packages (from talos) (1.19.4)\n",
            "Requirement already satisfied: requests in /usr/local/lib/python3.6/dist-packages (from talos) (2.23.0)\n",
            "Requirement already satisfied: tqdm in /usr/local/lib/python3.6/dist-packages (from talos) (4.41.1)\n",
            "Requirement already satisfied: chances in /usr/local/lib/python3.6/dist-packages (from talos) (0.1.9)\n",
            "Requirement already satisfied: astetik in /usr/local/lib/python3.6/dist-packages (from talos) (1.11.1)\n",
            "Requirement already satisfied: statsmodels>=0.11.0 in /usr/local/lib/python3.6/dist-packages (from talos) (0.12.1)\n",
            "Requirement already satisfied: kerasplotlib in /usr/local/lib/python3.6/dist-packages (from talos) (0.1.6)\n",
            "Requirement already satisfied: tensorflow>=2.0.0 in /usr/local/lib/python3.6/dist-packages (from talos) (2.4.0)\n",
            "Requirement already satisfied: wrangle in /usr/local/lib/python3.6/dist-packages (from talos) (0.6.7)\n",
            "Requirement already satisfied: pandas in /usr/local/lib/python3.6/dist-packages (from talos) (1.1.5)\n",
            "Requirement already satisfied: sklearn in /usr/local/lib/python3.6/dist-packages (from talos) (0.0)\n",
            "Requirement already satisfied: chardet<4,>=3.0.2 in /usr/local/lib/python3.6/dist-packages (from requests->talos) (3.0.4)\n",
            "Requirement already satisfied: urllib3!=1.25.0,!=1.25.1,<1.26,>=1.21.1 in /usr/local/lib/python3.6/dist-packages (from requests->talos) (1.24.3)\n",
            "Requirement already satisfied: idna<3,>=2.5 in /usr/local/lib/python3.6/dist-packages (from requests->talos) (2.10)\n",
            "Requirement already satisfied: certifi>=2017.4.17 in /usr/local/lib/python3.6/dist-packages (from requests->talos) (2020.12.5)\n",
            "Requirement already satisfied: scipy in /usr/local/lib/python3.6/dist-packages (from chances->talos) (1.4.1)\n",
            "Requirement already satisfied: IPython in /usr/local/lib/python3.6/dist-packages (from astetik->talos) (5.5.0)\n",
            "Requirement already satisfied: patsy in /usr/local/lib/python3.6/dist-packages (from astetik->talos) (0.5.1)\n",
            "Requirement already satisfied: seaborn in /usr/local/lib/python3.6/dist-packages (from astetik->talos) (0.11.0)\n",
            "Requirement already satisfied: geonamescache in /usr/local/lib/python3.6/dist-packages (from astetik->talos) (1.2.0)\n",
            "Requirement already satisfied: opt-einsum~=3.3.0 in /usr/local/lib/python3.6/dist-packages (from tensorflow>=2.0.0->talos) (3.3.0)\n",
            "Requirement already satisfied: tensorflow-estimator<2.5.0,>=2.4.0rc0 in /usr/local/lib/python3.6/dist-packages (from tensorflow>=2.0.0->talos) (2.4.0)\n",
            "Requirement already satisfied: h5py~=2.10.0 in /usr/local/lib/python3.6/dist-packages (from tensorflow>=2.0.0->talos) (2.10.0)\n",
            "Requirement already satisfied: keras-preprocessing~=1.1.2 in /usr/local/lib/python3.6/dist-packages (from tensorflow>=2.0.0->talos) (1.1.2)\n",
            "Requirement already satisfied: typing-extensions~=3.7.4 in /usr/local/lib/python3.6/dist-packages (from tensorflow>=2.0.0->talos) (3.7.4.3)\n",
            "Requirement already satisfied: tensorboard~=2.4 in /usr/local/lib/python3.6/dist-packages (from tensorflow>=2.0.0->talos) (2.4.0)\n",
            "Requirement already satisfied: six~=1.15.0 in /usr/local/lib/python3.6/dist-packages (from tensorflow>=2.0.0->talos) (1.15.0)\n",
            "Requirement already satisfied: flatbuffers~=1.12.0 in /usr/local/lib/python3.6/dist-packages (from tensorflow>=2.0.0->talos) (1.12)\n",
            "Requirement already satisfied: wheel~=0.35 in /usr/local/lib/python3.6/dist-packages (from tensorflow>=2.0.0->talos) (0.36.2)\n",
            "Requirement already satisfied: astunparse~=1.6.3 in /usr/local/lib/python3.6/dist-packages (from tensorflow>=2.0.0->talos) (1.6.3)\n",
            "Requirement already satisfied: protobuf>=3.9.2 in /usr/local/lib/python3.6/dist-packages (from tensorflow>=2.0.0->talos) (3.12.4)\n",
            "Requirement already satisfied: gast==0.3.3 in /usr/local/lib/python3.6/dist-packages (from tensorflow>=2.0.0->talos) (0.3.3)\n",
            "Requirement already satisfied: google-pasta~=0.2 in /usr/local/lib/python3.6/dist-packages (from tensorflow>=2.0.0->talos) (0.2.0)\n",
            "Requirement already satisfied: termcolor~=1.1.0 in /usr/local/lib/python3.6/dist-packages (from tensorflow>=2.0.0->talos) (1.1.0)\n",
            "Requirement already satisfied: absl-py~=0.10 in /usr/local/lib/python3.6/dist-packages (from tensorflow>=2.0.0->talos) (0.10.0)\n",
            "Requirement already satisfied: grpcio~=1.32.0 in /usr/local/lib/python3.6/dist-packages (from tensorflow>=2.0.0->talos) (1.32.0)\n",
            "Requirement already satisfied: wrapt~=1.12.1 in /usr/local/lib/python3.6/dist-packages (from tensorflow>=2.0.0->talos) (1.12.1)\n",
            "Requirement already satisfied: keras in /usr/local/lib/python3.6/dist-packages (from wrangle->talos) (2.4.3)\n",
            "Requirement already satisfied: pytz>=2017.2 in /usr/local/lib/python3.6/dist-packages (from pandas->talos) (2018.9)\n",
            "Requirement already satisfied: python-dateutil>=2.7.3 in /usr/local/lib/python3.6/dist-packages (from pandas->talos) (2.8.1)\n",
            "Requirement already satisfied: scikit-learn in /usr/local/lib/python3.6/dist-packages (from sklearn->talos) (0.22.2.post1)\n",
            "Requirement already satisfied: pexpect; sys_platform != \"win32\" in /usr/local/lib/python3.6/dist-packages (from IPython->astetik->talos) (4.8.0)\n",
            "Requirement already satisfied: pygments in /usr/local/lib/python3.6/dist-packages (from IPython->astetik->talos) (2.6.1)\n",
            "Requirement already satisfied: prompt-toolkit<2.0.0,>=1.0.4 in /usr/local/lib/python3.6/dist-packages (from IPython->astetik->talos) (1.0.18)\n",
            "Requirement already satisfied: decorator in /usr/local/lib/python3.6/dist-packages (from IPython->astetik->talos) (4.4.2)\n",
            "Requirement already satisfied: traitlets>=4.2 in /usr/local/lib/python3.6/dist-packages (from IPython->astetik->talos) (4.3.3)\n",
            "Requirement already satisfied: setuptools>=18.5 in /usr/local/lib/python3.6/dist-packages (from IPython->astetik->talos) (51.1.1)\n",
            "Requirement already satisfied: simplegeneric>0.8 in /usr/local/lib/python3.6/dist-packages (from IPython->astetik->talos) (0.8.1)\n",
            "Requirement already satisfied: pickleshare in /usr/local/lib/python3.6/dist-packages (from IPython->astetik->talos) (0.7.5)\n",
            "Requirement already satisfied: matplotlib>=2.2 in /usr/local/lib/python3.6/dist-packages (from seaborn->astetik->talos) (3.2.2)\n",
            "Requirement already satisfied: markdown>=2.6.8 in /usr/local/lib/python3.6/dist-packages (from tensorboard~=2.4->tensorflow>=2.0.0->talos) (3.3.3)\n",
            "Requirement already satisfied: tensorboard-plugin-wit>=1.6.0 in /usr/local/lib/python3.6/dist-packages (from tensorboard~=2.4->tensorflow>=2.0.0->talos) (1.7.0)\n",
            "Requirement already satisfied: google-auth-oauthlib<0.5,>=0.4.1 in /usr/local/lib/python3.6/dist-packages (from tensorboard~=2.4->tensorflow>=2.0.0->talos) (0.4.2)\n",
            "Requirement already satisfied: werkzeug>=0.11.15 in /usr/local/lib/python3.6/dist-packages (from tensorboard~=2.4->tensorflow>=2.0.0->talos) (1.0.1)\n",
            "Requirement already satisfied: google-auth<2,>=1.6.3 in /usr/local/lib/python3.6/dist-packages (from tensorboard~=2.4->tensorflow>=2.0.0->talos) (1.17.2)\n",
            "Requirement already satisfied: pyyaml in /usr/local/lib/python3.6/dist-packages (from keras->wrangle->talos) (3.13)\n",
            "Requirement already satisfied: joblib>=0.11 in /usr/local/lib/python3.6/dist-packages (from scikit-learn->sklearn->talos) (1.0.0)\n",
            "Requirement already satisfied: ptyprocess>=0.5 in /usr/local/lib/python3.6/dist-packages (from pexpect; sys_platform != \"win32\"->IPython->astetik->talos) (0.6.0)\n",
            "Requirement already satisfied: wcwidth in /usr/local/lib/python3.6/dist-packages (from prompt-toolkit<2.0.0,>=1.0.4->IPython->astetik->talos) (0.2.5)\n",
            "Requirement already satisfied: ipython-genutils in /usr/local/lib/python3.6/dist-packages (from traitlets>=4.2->IPython->astetik->talos) (0.2.0)\n",
            "Requirement already satisfied: pyparsing!=2.0.4,!=2.1.2,!=2.1.6,>=2.0.1 in /usr/local/lib/python3.6/dist-packages (from matplotlib>=2.2->seaborn->astetik->talos) (2.4.7)\n",
            "Requirement already satisfied: kiwisolver>=1.0.1 in /usr/local/lib/python3.6/dist-packages (from matplotlib>=2.2->seaborn->astetik->talos) (1.3.1)\n",
            "Requirement already satisfied: cycler>=0.10 in /usr/local/lib/python3.6/dist-packages (from matplotlib>=2.2->seaborn->astetik->talos) (0.10.0)\n",
            "Requirement already satisfied: importlib-metadata; python_version < \"3.8\" in /usr/local/lib/python3.6/dist-packages (from markdown>=2.6.8->tensorboard~=2.4->tensorflow>=2.0.0->talos) (3.3.0)\n",
            "Requirement already satisfied: requests-oauthlib>=0.7.0 in /usr/local/lib/python3.6/dist-packages (from google-auth-oauthlib<0.5,>=0.4.1->tensorboard~=2.4->tensorflow>=2.0.0->talos) (1.3.0)\n",
            "Requirement already satisfied: rsa<5,>=3.1.4; python_version >= \"3\" in /usr/local/lib/python3.6/dist-packages (from google-auth<2,>=1.6.3->tensorboard~=2.4->tensorflow>=2.0.0->talos) (4.6)\n",
            "Requirement already satisfied: pyasn1-modules>=0.2.1 in /usr/local/lib/python3.6/dist-packages (from google-auth<2,>=1.6.3->tensorboard~=2.4->tensorflow>=2.0.0->talos) (0.2.8)\n",
            "Requirement already satisfied: cachetools<5.0,>=2.0.0 in /usr/local/lib/python3.6/dist-packages (from google-auth<2,>=1.6.3->tensorboard~=2.4->tensorflow>=2.0.0->talos) (4.2.0)\n",
            "Requirement already satisfied: zipp>=0.5 in /usr/local/lib/python3.6/dist-packages (from importlib-metadata; python_version < \"3.8\"->markdown>=2.6.8->tensorboard~=2.4->tensorflow>=2.0.0->talos) (3.4.0)\n",
            "Requirement already satisfied: oauthlib>=3.0.0 in /usr/local/lib/python3.6/dist-packages (from requests-oauthlib>=0.7.0->google-auth-oauthlib<0.5,>=0.4.1->tensorboard~=2.4->tensorflow>=2.0.0->talos) (3.1.0)\n",
            "Requirement already satisfied: pyasn1>=0.1.3 in /usr/local/lib/python3.6/dist-packages (from rsa<5,>=3.1.4; python_version >= \"3\"->google-auth<2,>=1.6.3->tensorboard~=2.4->tensorflow>=2.0.0->talos) (0.4.8)\n",
            "[nltk_data] Downloading package wordnet to /root/nltk_data...\n",
            "[nltk_data]   Package wordnet is already up-to-date!\n"
          ],
          "name": "stdout"
        }
      ]
    },
    {
      "cell_type": "markdown",
      "metadata": {
        "id": "z8KPqb7_vC59"
      },
      "source": [
        "# Importing Data"
      ]
    },
    {
      "cell_type": "code",
      "metadata": {
        "id": "96Z6cXAZiaAY"
      },
      "source": [
        "train=pd.read_csv('https://raw.githubusercontent.com/shaunak09vb/Toxic-Comment-Classifier-using-LSTM/main/Data/train.csv')    "
      ],
      "execution_count": null,
      "outputs": []
    },
    {
      "cell_type": "code",
      "metadata": {
        "colab": {
          "base_uri": "https://localhost:8080/"
        },
        "id": "yTbZDdkc1lxE",
        "outputId": "acf6ee72-ddf4-4ff1-8f8b-f393fe2f335e"
      },
      "source": [
        "train.head()"
      ],
      "execution_count": null,
      "outputs": [
        {
          "output_type": "execute_result",
          "data": {
            "text/html": [
              "<div>\n",
              "<style scoped>\n",
              "    .dataframe tbody tr th:only-of-type {\n",
              "        vertical-align: middle;\n",
              "    }\n",
              "\n",
              "    .dataframe tbody tr th {\n",
              "        vertical-align: top;\n",
              "    }\n",
              "\n",
              "    .dataframe thead th {\n",
              "        text-align: right;\n",
              "    }\n",
              "</style>\n",
              "<table border=\"1\" class=\"dataframe\">\n",
              "  <thead>\n",
              "    <tr style=\"text-align: right;\">\n",
              "      <th></th>\n",
              "      <th>id</th>\n",
              "      <th>comment_text</th>\n",
              "      <th>toxic</th>\n",
              "      <th>severe_toxic</th>\n",
              "      <th>obscene</th>\n",
              "      <th>threat</th>\n",
              "      <th>insult</th>\n",
              "      <th>identity_hate</th>\n",
              "    </tr>\n",
              "  </thead>\n",
              "  <tbody>\n",
              "    <tr>\n",
              "      <th>0</th>\n",
              "      <td>0000997932d777bf</td>\n",
              "      <td>Explanation\\nWhy the edits made under my usern...</td>\n",
              "      <td>0</td>\n",
              "      <td>0</td>\n",
              "      <td>0</td>\n",
              "      <td>0</td>\n",
              "      <td>0</td>\n",
              "      <td>0</td>\n",
              "    </tr>\n",
              "    <tr>\n",
              "      <th>1</th>\n",
              "      <td>000103f0d9cfb60f</td>\n",
              "      <td>D'aww! He matches this background colour I'm s...</td>\n",
              "      <td>0</td>\n",
              "      <td>0</td>\n",
              "      <td>0</td>\n",
              "      <td>0</td>\n",
              "      <td>0</td>\n",
              "      <td>0</td>\n",
              "    </tr>\n",
              "    <tr>\n",
              "      <th>2</th>\n",
              "      <td>000113f07ec002fd</td>\n",
              "      <td>Hey man, I'm really not trying to edit war. It...</td>\n",
              "      <td>0</td>\n",
              "      <td>0</td>\n",
              "      <td>0</td>\n",
              "      <td>0</td>\n",
              "      <td>0</td>\n",
              "      <td>0</td>\n",
              "    </tr>\n",
              "    <tr>\n",
              "      <th>3</th>\n",
              "      <td>0001b41b1c6bb37e</td>\n",
              "      <td>\"\\nMore\\nI can't make any real suggestions on ...</td>\n",
              "      <td>0</td>\n",
              "      <td>0</td>\n",
              "      <td>0</td>\n",
              "      <td>0</td>\n",
              "      <td>0</td>\n",
              "      <td>0</td>\n",
              "    </tr>\n",
              "    <tr>\n",
              "      <th>4</th>\n",
              "      <td>0001d958c54c6e35</td>\n",
              "      <td>You, sir, are my hero. Any chance you remember...</td>\n",
              "      <td>0</td>\n",
              "      <td>0</td>\n",
              "      <td>0</td>\n",
              "      <td>0</td>\n",
              "      <td>0</td>\n",
              "      <td>0</td>\n",
              "    </tr>\n",
              "  </tbody>\n",
              "</table>\n",
              "</div>"
            ],
            "text/plain": [
              "                 id  ... identity_hate\n",
              "0  0000997932d777bf  ...             0\n",
              "1  000103f0d9cfb60f  ...             0\n",
              "2  000113f07ec002fd  ...             0\n",
              "3  0001b41b1c6bb37e  ...             0\n",
              "4  0001d958c54c6e35  ...             0\n",
              "\n",
              "[5 rows x 8 columns]"
            ]
          },
          "metadata": {
            "tags": []
          },
          "execution_count": 4
        }
      ]
    },
    {
      "cell_type": "code",
      "metadata": {
        "id": "O2_gDuPMvQHZ"
      },
      "source": [
        "test=pd.read_csv('https://raw.githubusercontent.com/shaunak09vb/Toxic-Comment-Classifier-using-LSTM/main/Data/test.csv')"
      ],
      "execution_count": null,
      "outputs": []
    },
    {
      "cell_type": "code",
      "metadata": {
        "id": "vewUHsrQvcti",
        "colab": {
          "base_uri": "https://localhost:8080/"
        },
        "outputId": "57692a24-665f-4455-a4c3-6dc1ee432844"
      },
      "source": [
        "test.head()"
      ],
      "execution_count": null,
      "outputs": [
        {
          "output_type": "execute_result",
          "data": {
            "text/html": [
              "<div>\n",
              "<style scoped>\n",
              "    .dataframe tbody tr th:only-of-type {\n",
              "        vertical-align: middle;\n",
              "    }\n",
              "\n",
              "    .dataframe tbody tr th {\n",
              "        vertical-align: top;\n",
              "    }\n",
              "\n",
              "    .dataframe thead th {\n",
              "        text-align: right;\n",
              "    }\n",
              "</style>\n",
              "<table border=\"1\" class=\"dataframe\">\n",
              "  <thead>\n",
              "    <tr style=\"text-align: right;\">\n",
              "      <th></th>\n",
              "      <th>id</th>\n",
              "      <th>comment_text</th>\n",
              "    </tr>\n",
              "  </thead>\n",
              "  <tbody>\n",
              "    <tr>\n",
              "      <th>0</th>\n",
              "      <td>00001cee341fdb12</td>\n",
              "      <td>Yo bitch Ja Rule is more succesful then you'll...</td>\n",
              "    </tr>\n",
              "    <tr>\n",
              "      <th>1</th>\n",
              "      <td>0000247867823ef7</td>\n",
              "      <td>== From RfC == \\n\\n The title is fine as it is...</td>\n",
              "    </tr>\n",
              "    <tr>\n",
              "      <th>2</th>\n",
              "      <td>00013b17ad220c46</td>\n",
              "      <td>\" \\n\\n == Sources == \\n\\n * Zawe Ashton on Lap...</td>\n",
              "    </tr>\n",
              "    <tr>\n",
              "      <th>3</th>\n",
              "      <td>00017563c3f7919a</td>\n",
              "      <td>:If you have a look back at the source, the in...</td>\n",
              "    </tr>\n",
              "    <tr>\n",
              "      <th>4</th>\n",
              "      <td>00017695ad8997eb</td>\n",
              "      <td>I don't anonymously edit articles at all.</td>\n",
              "    </tr>\n",
              "  </tbody>\n",
              "</table>\n",
              "</div>"
            ],
            "text/plain": [
              "                 id                                       comment_text\n",
              "0  00001cee341fdb12  Yo bitch Ja Rule is more succesful then you'll...\n",
              "1  0000247867823ef7  == From RfC == \\n\\n The title is fine as it is...\n",
              "2  00013b17ad220c46  \" \\n\\n == Sources == \\n\\n * Zawe Ashton on Lap...\n",
              "3  00017563c3f7919a  :If you have a look back at the source, the in...\n",
              "4  00017695ad8997eb          I don't anonymously edit articles at all."
            ]
          },
          "metadata": {
            "tags": []
          },
          "execution_count": 6
        }
      ]
    },
    {
      "cell_type": "markdown",
      "metadata": {
        "id": "D8hAcigh3Sh3"
      },
      "source": [
        "# Data Exploration"
      ]
    },
    {
      "cell_type": "markdown",
      "metadata": {
        "id": "MsOBGKJI4aHT"
      },
      "source": [
        "Checking for missing values"
      ]
    },
    {
      "cell_type": "code",
      "metadata": {
        "colab": {
          "base_uri": "https://localhost:8080/"
        },
        "id": "ZzAnL7ly1epE",
        "outputId": "109e8e42-f7a6-441b-db15-de3c16a13559"
      },
      "source": [
        "train.isnull().any()"
      ],
      "execution_count": null,
      "outputs": [
        {
          "output_type": "execute_result",
          "data": {
            "text/plain": [
              "id               False\n",
              "comment_text     False\n",
              "toxic            False\n",
              "severe_toxic     False\n",
              "obscene          False\n",
              "threat           False\n",
              "insult           False\n",
              "identity_hate    False\n",
              "dtype: bool"
            ]
          },
          "metadata": {
            "tags": []
          },
          "execution_count": 7
        }
      ]
    },
    {
      "cell_type": "code",
      "metadata": {
        "id": "cRc5Wyw24c62",
        "colab": {
          "base_uri": "https://localhost:8080/"
        },
        "outputId": "191144f5-a2c3-4f71-ba08-b71320d73066"
      },
      "source": [
        "test.isnull().any()\n"
      ],
      "execution_count": null,
      "outputs": [
        {
          "output_type": "execute_result",
          "data": {
            "text/plain": [
              "id              False\n",
              "comment_text    False\n",
              "dtype: bool"
            ]
          },
          "metadata": {
            "tags": []
          },
          "execution_count": 8
        }
      ]
    },
    {
      "cell_type": "code",
      "metadata": {
        "id": "TYZ93LlRbwRB"
      },
      "source": [
        "labels = ['toxic', 'severe_toxic', 'obscene', 'threat', 'insult', 'identity_hate']\r\n",
        "y = train[labels].values"
      ],
      "execution_count": null,
      "outputs": []
    },
    {
      "cell_type": "markdown",
      "metadata": {
        "id": "NDWRHguXxOF_"
      },
      "source": [
        "#Data Pre-processing"
      ]
    },
    {
      "cell_type": "markdown",
      "metadata": {
        "id": "6z-4hq4jyhBw"
      },
      "source": [
        "## Text Normalization"
      ]
    },
    {
      "cell_type": "markdown",
      "metadata": {
        "id": "h4k-vI8DbqiP"
      },
      "source": [
        "* Removing Characters in between Text\n",
        "* Removing Repeated Characters\n",
        "* Converting data to lower-case\n",
        "* Removing Numbers from the data\n",
        "* Remove Punctuation\n",
        "* Remove Whitespaces\n",
        "* Removing spaces in between words\n",
        "* Removing \"\\n\"\n",
        "* Remove Non-english characters"
      ]
    },
    {
      "cell_type": "code",
      "metadata": {
        "id": "jglnA7LEbpoA"
      },
      "source": [
        "RE_PATTERNS = {\n",
        "    ' american ':\n",
        "        [\n",
        "            'amerikan'\n",
        "        ],\n",
        "\n",
        "    ' adolf ':\n",
        "        [\n",
        "            'adolf'\n",
        "        ],\n",
        "\n",
        "\n",
        "    ' hitler ':\n",
        "        [\n",
        "            'hitler'\n",
        "        ],\n",
        "\n",
        "    ' fuck':\n",
        "        [\n",
        "            '(f)(u|[^a-z0-9 ])(c|[^a-z0-9 ])(k|[^a-z0-9 ])([^ ])*',\n",
        "            '(f)([^a-z]*)(u)([^a-z]*)(c)([^a-z]*)(k)',\n",
        "            ' f[!@#\\$%\\^\\&\\*]*u[!@#\\$%\\^&\\*]*k', 'f u u c',\n",
        "            '(f)(c|[^a-z ])(u|[^a-z ])(k)', r'f\\*',\n",
        "            'feck ', ' fux ', 'f\\*\\*', 'f**k','fu*k',\n",
        "            'f\\-ing', 'f\\.u\\.', 'f###', ' fu ', 'f@ck', 'f u c k', 'f uck', 'f ck'\n",
        "        ],\n",
        "\n",
        "    ' ass ':\n",
        "        [\n",
        "            '[^a-z]ass ', '[^a-z]azz ', 'arrse', ' arse ', '@\\$\\$',\n",
        "            '[^a-z]anus', ' a\\*s\\*s', '[^a-z]ass[^a-z ]',\n",
        "            'a[@#\\$%\\^&\\*][@#\\$%\\^&\\*]', '[^a-z]anal ', 'a s s','a55', '@$$'\n",
        "        ],\n",
        "\n",
        "    ' ass hole ':\n",
        "        [\n",
        "            ' a[s|z]*wipe', 'a[s|z]*[w]*h[o|0]+[l]*e', '@\\$\\$hole', 'a**hole'\n",
        "        ],\n",
        "\n",
        "    ' bitch ':\n",
        "        [\n",
        "            'b[w]*i[t]*ch', 'b!tch',\n",
        "            'bi\\+ch', 'b!\\+ch', '(b)([^a-z]*)(i)([^a-z]*)(t)([^a-z]*)(c)([^a-z]*)(h)',\n",
        "            'biatch', 'bi\\*\\*h', 'bytch', 'b i t c h', 'b!tch', 'bi+ch', 'l3itch'\n",
        "        ],\n",
        "\n",
        "    ' bastard ':\n",
        "        [\n",
        "            'ba[s|z]+t[e|a]+rd'\n",
        "        ],\n",
        "\n",
        "    ' trans gender':\n",
        "        [\n",
        "            'transgender'\n",
        "        ],\n",
        "\n",
        "    ' gay ':\n",
        "        [\n",
        "            'gay'\n",
        "        ],\n",
        "\n",
        "    ' cock ':\n",
        "        [\n",
        "            '[^a-z]cock', 'c0ck', '[^a-z]cok ', 'c0k', '[^a-z]cok[^aeiou]', ' cawk',\n",
        "            '(c)([^a-z ])(o)([^a-z ]*)(c)([^a-z ]*)(k)', 'c o c k'\n",
        "        ],\n",
        "\n",
        "    ' dick ':\n",
        "        [\n",
        "            ' dick[^aeiou]', 'deek', 'd i c k', 'dik'\n",
        "        ],\n",
        "\n",
        "    ' suck ':\n",
        "        [\n",
        "            'sucker', '(s)([^a-z ]*)(u)([^a-z ]*)(c)([^a-z ]*)(k)', 'sucks', '5uck', 's u c k'\n",
        "        ],\n",
        "\n",
        "    ' cunt ':\n",
        "        [\n",
        "            'cunt', 'c u n t'\n",
        "        ],\n",
        "\n",
        "    ' bull shit ':\n",
        "        [\n",
        "            'bullsh\\*t', 'bull\\$hit'\n",
        "        ],\n",
        "\n",
        "    ' homo sex ual':\n",
        "        [\n",
        "            'homosexual'\n",
        "        ],\n",
        "\n",
        "    ' jerk ':\n",
        "        [\n",
        "            'jerk'\n",
        "        ],\n",
        "\n",
        "    ' idiot ':\n",
        "        [\n",
        "            'i[d]+io[t]+', '(i)([^a-z ]*)(d)([^a-z ]*)(i)([^a-z ]*)(o)([^a-z ]*)(t)', 'idiots'\n",
        "                                                                                      'i d i o t'\n",
        "        ],\n",
        "\n",
        "    ' dumb ':\n",
        "        [\n",
        "            '(d)([^a-z ]*)(u)([^a-z ]*)(m)([^a-z ]*)(b)'\n",
        "        ],\n",
        "\n",
        "    ' shit ':\n",
        "        [\n",
        "            'shitty', '(s)([^a-z ]*)(h)([^a-z ]*)(i)([^a-z ]*)(t)', 'shite', '\\$hit', 's h i t', '$h1t'\n",
        "        ],\n",
        "\n",
        "    ' shit hole ':\n",
        "        [\n",
        "            'shythole'\n",
        "        ],\n",
        "\n",
        "    ' retard ':\n",
        "        [\n",
        "            'returd', 'retad', 'retard', 'wiktard', 'wikitud'\n",
        "        ],\n",
        "\n",
        "    ' rape ':\n",
        "        [\n",
        "            ' raped'\n",
        "        ],\n",
        "\n",
        "    ' dumb ass':\n",
        "        [\n",
        "            'dumbass', 'dubass'\n",
        "        ],\n",
        "\n",
        "    ' ass head':\n",
        "        [\n",
        "            'butthead'\n",
        "        ],\n",
        "\n",
        "    ' sex ':\n",
        "        [\n",
        "            'sexy', 's3x', 'sexuality'\n",
        "        ],\n",
        "\n",
        "\n",
        "    ' nigger ':\n",
        "        [\n",
        "            'nigger', 'ni[g]+a', ' nigr ', 'negrito', 'niguh', 'n3gr', 'n i g g e r'\n",
        "        ],\n",
        "\n",
        "    ' shut the fuck up':\n",
        "        [\n",
        "            'stfu', 'st*u'\n",
        "        ],\n",
        "\n",
        "    ' pussy ':\n",
        "        [\n",
        "            'pussy[^c]', 'pusy', 'pussi[^l]', 'pusses', 'p*ssy'\n",
        "        ],\n",
        "\n",
        "    ' faggot ':\n",
        "        [\n",
        "            'faggot', ' fa[g]+[s]*[^a-z ]', 'fagot', 'f a g g o t', 'faggit',\n",
        "            '(f)([^a-z ]*)(a)([^a-z ]*)([g]+)([^a-z ]*)(o)([^a-z ]*)(t)', 'fau[g]+ot', 'fae[g]+ot',\n",
        "        ],\n",
        "\n",
        "    ' mother fucker':\n",
        "        [\n",
        "            ' motha ', ' motha f', ' mother f', 'motherucker',\n",
        "        ],\n",
        "\n",
        "    ' whore ':\n",
        "        [\n",
        "            'wh\\*\\*\\*', 'w h o r e'\n",
        "        ],\n",
        "    ' fucking ':\n",
        "        [\n",
        "            'f*$%-ing'\n",
        "        ],\n",
        "}\n"
      ],
      "execution_count": null,
      "outputs": []
    },
    {
      "cell_type": "code",
      "metadata": {
        "id": "4RetJ1vgswOG"
      },
      "source": [
        "def clean_text(text,remove_repeat_text=True, remove_patterns_text=True, is_lower=True, remove_abbreviations=True):\n",
        "\n",
        "  if is_lower:\n",
        "    text=text.lower()\n",
        "    \n",
        "  if remove_patterns_text:\n",
        "    for target, patterns in RE_PATTERNS.items():\n",
        "      for pat in patterns:\n",
        "        text=str(text).replace(pat, target)\n",
        "\n",
        "  if remove_repeat_text:\n",
        "    text = re.sub(r'(.)\\1{2,}', r'\\1', text) \n",
        "\n",
        "  text = str(text).replace(\"\\n\", \" \")\n",
        "  text = re.sub(r'[^\\w\\s]',' ',text)\n",
        "  text = re.sub('[0-9]',\"\",text)\n",
        "  text = re.sub(\" +\", \" \", text)\n",
        "  text = re.sub(\"([^\\x00-\\x7F])+\",\" \",text)\n",
        "  return text "
      ],
      "execution_count": null,
      "outputs": []
    },
    {
      "cell_type": "markdown",
      "metadata": {
        "id": "LwyO_GcPuPE_"
      },
      "source": [
        "Cleaning Training Data"
      ]
    },
    {
      "cell_type": "code",
      "metadata": {
        "id": "Cak-Q0fl0qyb",
        "colab": {
          "base_uri": "https://localhost:8080/"
        },
        "outputId": "a0f70d82-b25f-4330-ea07-331fbc575f51"
      },
      "source": [
        "train['comment_text']=train['comment_text'].apply(lambda x: clean_text(x))\r\n",
        "train['comment_text'][1]"
      ],
      "execution_count": null,
      "outputs": [
        {
          "output_type": "execute_result",
          "data": {
            "application/vnd.google.colaboratory.intrinsic+json": {
              "type": "string"
            },
            "text/plain": [
              "'d aww he matches this background colour i m seemingly stuck with thanks talk january utc '"
            ]
          },
          "metadata": {
            "tags": []
          },
          "execution_count": 12
        }
      ]
    },
    {
      "cell_type": "markdown",
      "metadata": {
        "id": "8qfbjYXq8huL"
      },
      "source": [
        "Cleaning Test Data"
      ]
    },
    {
      "cell_type": "code",
      "metadata": {
        "id": "V02zaxGN8g-s",
        "colab": {
          "base_uri": "https://localhost:8080/"
        },
        "outputId": "e4bac29c-5f7a-4417-8802-9141c2865b92"
      },
      "source": [
        "test['comment_text']=test['comment_text'].apply(lambda x: clean_text(x))\r\n",
        "test['comment_text'][1048]"
      ],
      "execution_count": null,
      "outputs": [
        {
          "output_type": "execute_result",
          "data": {
            "application/vnd.google.colaboratory.intrinsic+json": {
              "type": "string"
            },
            "text/plain": [
              "'this is a university ip address just fyi '"
            ]
          },
          "metadata": {
            "tags": []
          },
          "execution_count": 13
        }
      ]
    },
    {
      "cell_type": "markdown",
      "metadata": {
        "id": "mqRVmH1FRWpL"
      },
      "source": [
        "## Lemmatization"
      ]
    },
    {
      "cell_type": "code",
      "metadata": {
        "id": "vnhCAXkKUF9i"
      },
      "source": [
        "comments_train=train['comment_text']\n",
        "comments_test=test['comment_text']"
      ],
      "execution_count": null,
      "outputs": []
    },
    {
      "cell_type": "code",
      "metadata": {
        "id": "WwhTNF3pW7Hp"
      },
      "source": [
        "comments_train=list(comments_train)\n",
        "comments_test=list(comments_test)"
      ],
      "execution_count": null,
      "outputs": []
    },
    {
      "cell_type": "code",
      "metadata": {
        "id": "IuWMc1xqRVqV"
      },
      "source": [
        "wordnet_lemmatizer = WordNetLemmatizer()"
      ],
      "execution_count": null,
      "outputs": []
    },
    {
      "cell_type": "code",
      "metadata": {
        "id": "fi-vYUcPoi-a"
      },
      "source": [
        "def lemma(text, lemmatization=True):\n",
        "  output=\"\"\n",
        "  if lemmatization:\n",
        "    text=text.split(\" \")\n",
        "    for word in text:\n",
        "       word1 = wordnet_lemmatizer.lemmatize(word, pos = \"n\")\n",
        "       word2 = wordnet_lemmatizer.lemmatize(word1, pos = \"v\")\n",
        "       word3 = wordnet_lemmatizer.lemmatize(word2, pos = \"a\")\n",
        "       word4 = wordnet_lemmatizer.lemmatize(word3, pos = \"r\")\n",
        "       output=output + \" \" + word4\n",
        "  else:\n",
        "    output=text\n",
        "  \n",
        "  return str(output.strip()) "
      ],
      "execution_count": null,
      "outputs": []
    },
    {
      "cell_type": "markdown",
      "metadata": {
        "id": "AX4DTjGJ-8Id"
      },
      "source": [
        "Lemmatizing Training Data"
      ]
    },
    {
      "cell_type": "code",
      "metadata": {
        "colab": {
          "base_uri": "https://localhost:8080/",
          "referenced_widgets": [
            "0d67e5c26ddc4b3cb19dcffa2df2a9f0",
            "c29db9759052430d8e21ea18cb1fa327",
            "b9c804e47756491595d7702cbfeb7ec9",
            "075279eda27f4e87baa8c3b13a3cacb5",
            "c3fb58bb3a5147bfacdb4491949f44d1",
            "fbe66f98345d4e8a9ca5ad7c9850c873",
            "0eaebd30552f4868b3ee9dd26ddc2fc4",
            "ef03c9b1c58e4265859c41c65ec0b509"
          ]
        },
        "id": "JRquFt30qWk0",
        "outputId": "2b579c18-147e-4a0e-bcdf-307844edf0be"
      },
      "source": [
        "lemmatized_train_data = [] \n",
        "\n",
        "for line in tqdm_notebook(comments_train, total=159571): \n",
        "    lemmatized_train_data.append(lemma(line))"
      ],
      "execution_count": null,
      "outputs": [
        {
          "output_type": "display_data",
          "data": {
            "application/vnd.jupyter.widget-view+json": {
              "model_id": "0d67e5c26ddc4b3cb19dcffa2df2a9f0",
              "version_minor": 0,
              "version_major": 2
            },
            "text/plain": [
              "HBox(children=(FloatProgress(value=0.0, max=159571.0), HTML(value='')))"
            ]
          },
          "metadata": {
            "tags": []
          }
        },
        {
          "output_type": "stream",
          "text": [
            "\n"
          ],
          "name": "stdout"
        }
      ]
    },
    {
      "cell_type": "code",
      "metadata": {
        "colab": {
          "base_uri": "https://localhost:8080/"
        },
        "id": "WK9azHjSrbic",
        "outputId": "8f49c31b-b3a8-4132-bfbe-cd5033785a58"
      },
      "source": [
        "lemmatized_train_data[152458]"
      ],
      "execution_count": null,
      "outputs": [
        {
          "output_type": "execute_result",
          "data": {
            "application/vnd.google.colaboratory.intrinsic+json": {
              "type": "string"
            },
            "text/plain": [
              "'i agree with you about graemel s intention he be a revert nazi and wikipedia ha a way of protect against this report him to the wp rr three revert rule notice board post by report the revert nazi graemel ha show himself herself to be a revert nazi this be unacceptable on a site that be make by it s user and not it s admins if you feel you have be unjustly revert more than time over a hour period please report him her to the three revert noticeboard wp rr it be time to take back what be ours'"
            ]
          },
          "metadata": {
            "tags": []
          },
          "execution_count": 19
        }
      ]
    },
    {
      "cell_type": "markdown",
      "metadata": {
        "id": "yxRJbMBQ-oQ-"
      },
      "source": [
        "Lemmatizing Test Data"
      ]
    },
    {
      "cell_type": "code",
      "metadata": {
        "id": "B4LZUmqy-vvD",
        "colab": {
          "base_uri": "https://localhost:8080/",
          "referenced_widgets": [
            "6a95a3c1c0054b6982239099d19e64cc",
            "d6641c16fe9243398597a2115492fd1d",
            "e5fb459c9bab4ef2adc717e6a6d128f4",
            "59ff4ad0d4914246b73301d3109332c6",
            "7d6a4917426c4e23a7f423b55fda539e",
            "6f7ce55f964947e890f6ae5eae88a8d3",
            "5affa0e5189c4794ada97dfb01be6619",
            "0d01b5353d5749cbbabf442be5eb7232"
          ]
        },
        "outputId": "8dc0403d-f744-41ef-cc51-a437b9b28dfe"
      },
      "source": [
        "lemmatized_test_data = [] \n",
        "\n",
        "for line in tqdm_notebook(comments_test, total=len(comments_test)): \n",
        "    lemmatized_test_data.append(lemma(line))"
      ],
      "execution_count": null,
      "outputs": [
        {
          "output_type": "display_data",
          "data": {
            "application/vnd.jupyter.widget-view+json": {
              "model_id": "6a95a3c1c0054b6982239099d19e64cc",
              "version_minor": 0,
              "version_major": 2
            },
            "text/plain": [
              "HBox(children=(FloatProgress(value=0.0, max=153164.0), HTML(value='')))"
            ]
          },
          "metadata": {
            "tags": []
          }
        },
        {
          "output_type": "stream",
          "text": [
            "\n"
          ],
          "name": "stdout"
        }
      ]
    },
    {
      "cell_type": "markdown",
      "metadata": {
        "id": "yZaP8BH2UG0N"
      },
      "source": [
        "## Stopwords Removal"
      ]
    },
    {
      "cell_type": "code",
      "metadata": {
        "id": "vNKjE4Vq8kpG"
      },
      "source": [
        "stopword_list=STOP_WORDS\n",
        "#stopword_list"
      ],
      "execution_count": null,
      "outputs": []
    },
    {
      "cell_type": "markdown",
      "metadata": {
        "id": "m_oqV08mMWmk"
      },
      "source": [
        "Adding Single and Dual to STOP_WORDS"
      ]
    },
    {
      "cell_type": "code",
      "metadata": {
        "id": "go7RVS52I1US"
      },
      "source": [
        "def iter_all_strings():\n",
        "    for size in itertools.count(1):\n",
        "        for s in itertools.product(ascii_lowercase, repeat=size):\n",
        "            yield \"\".join(s)\n",
        "\n",
        "dual_alpha_list=[]\n",
        "for s in iter_all_strings():\n",
        "    dual_alpha_list.append(s)\n",
        "    if s == 'zz':\n",
        "        break"
      ],
      "execution_count": null,
      "outputs": []
    },
    {
      "cell_type": "code",
      "metadata": {
        "id": "7_x3bQ4MIGVK"
      },
      "source": [
        "dual_alpha_list.remove('i')\n",
        "dual_alpha_list.remove('a')\n",
        "dual_alpha_list.remove('am')\n",
        "dual_alpha_list.remove('an')\n",
        "dual_alpha_list.remove('as')\n",
        "dual_alpha_list.remove('at')\n",
        "dual_alpha_list.remove('be')\n",
        "dual_alpha_list.remove('by')\n",
        "dual_alpha_list.remove('do')\n",
        "dual_alpha_list.remove('go')\n",
        "dual_alpha_list.remove('he')\n",
        "dual_alpha_list.remove('hi')\n",
        "dual_alpha_list.remove('if')\n",
        "dual_alpha_list.remove('is')\n",
        "dual_alpha_list.remove('in')\n",
        "dual_alpha_list.remove('me')\n",
        "dual_alpha_list.remove('my')\n",
        "dual_alpha_list.remove('no')\n",
        "dual_alpha_list.remove('of')\n",
        "dual_alpha_list.remove('on')\n",
        "dual_alpha_list.remove('or')\n",
        "dual_alpha_list.remove('ok')\n",
        "dual_alpha_list.remove('so')\n",
        "dual_alpha_list.remove('to')\n",
        "dual_alpha_list.remove('up')\n",
        "dual_alpha_list.remove('us')\n",
        "dual_alpha_list.remove('we')"
      ],
      "execution_count": null,
      "outputs": []
    },
    {
      "cell_type": "code",
      "metadata": {
        "id": "of4MsE5VJXHn"
      },
      "source": [
        "#dual_alpha_list"
      ],
      "execution_count": null,
      "outputs": []
    },
    {
      "cell_type": "code",
      "metadata": {
        "colab": {
          "base_uri": "https://localhost:8080/"
        },
        "id": "H11kkMtXMyct",
        "outputId": "88d7e9d4-92f1-4a00-d38a-4eea0cca0222"
      },
      "source": [
        "for letter in dual_alpha_list:\n",
        "    stopword_list.add(letter)\n",
        "print(\"Done!!\")"
      ],
      "execution_count": null,
      "outputs": [
        {
          "output_type": "stream",
          "text": [
            "Done!!\n"
          ],
          "name": "stdout"
        }
      ]
    },
    {
      "cell_type": "code",
      "metadata": {
        "id": "bvjwDFMmNNmo"
      },
      "source": [
        "#stopword_list"
      ],
      "execution_count": null,
      "outputs": []
    },
    {
      "cell_type": "markdown",
      "metadata": {
        "id": "Ti67XuLCNnsL"
      },
      "source": [
        "Checking for other words that we may need in STOP_WORDS"
      ]
    },
    {
      "cell_type": "code",
      "metadata": {
        "id": "Z4lBqjcBaDVK"
      },
      "source": [
        "def search_stopwords(data, search_stop=True):\n",
        "  output=\"\"\n",
        "  if search_stop:\n",
        "    data=data.split(\" \")\n",
        "    for word in data:\n",
        "      if not word in stopword_list:\n",
        "        output=output+\" \"+word \n",
        "  else:\n",
        "    output=data\n",
        "\n",
        "  return str(output.strip())  "
      ],
      "execution_count": null,
      "outputs": []
    },
    {
      "cell_type": "code",
      "metadata": {
        "colab": {
          "base_uri": "https://localhost:8080/",
          "referenced_widgets": [
            "a7324d14451840b59ecde8b4adaae9f9",
            "75011c1d7b8b4466a2cfcc80ebf28621",
            "61de2ddcd22f495fb6fd5b20d584efb2",
            "8bff6364427343e08a0a9593eb0ad8e0",
            "1e7ce21b30074898ba0a75a93f8a3a80",
            "6cc679dd6edc4a7ba137a3e449c04bcf",
            "b798b827ac22407eb99328ec6f50c613",
            "d76d80ce9d0d42dd94f0521f29803142"
          ]
        },
        "id": "xn21RMeIbQti",
        "outputId": "c84eced4-84f7-42e3-edd5-fbd974e51498"
      },
      "source": [
        "potential_stopwords = [] \n",
        "\n",
        "for line in tqdm_notebook(lemmatized_train_data, total=159571): \n",
        "    potential_stopwords.append(search_stopwords(line))"
      ],
      "execution_count": null,
      "outputs": [
        {
          "output_type": "display_data",
          "data": {
            "application/vnd.jupyter.widget-view+json": {
              "model_id": "a7324d14451840b59ecde8b4adaae9f9",
              "version_minor": 0,
              "version_major": 2
            },
            "text/plain": [
              "HBox(children=(FloatProgress(value=0.0, max=159571.0), HTML(value='')))"
            ]
          },
          "metadata": {
            "tags": []
          }
        },
        {
          "output_type": "stream",
          "text": [
            "\n"
          ],
          "name": "stdout"
        }
      ]
    },
    {
      "cell_type": "code",
      "metadata": {
        "colab": {
          "base_uri": "https://localhost:8080/"
        },
        "id": "R4Yp_YRoap6Q",
        "outputId": "6dd6c955-006b-4de8-f76d-ea7bb1771ab5"
      },
      "source": [
        "len(potential_stopwords)"
      ],
      "execution_count": null,
      "outputs": [
        {
          "output_type": "execute_result",
          "data": {
            "text/plain": [
              "159571"
            ]
          },
          "metadata": {
            "tags": []
          },
          "execution_count": 29
        }
      ]
    },
    {
      "cell_type": "markdown",
      "metadata": {
        "id": "PFSkmGjAZuR3"
      },
      "source": [
        "Combining all the sentences in the list into a single string"
      ]
    },
    {
      "cell_type": "code",
      "metadata": {
        "id": "zpmze-Q7BrK0"
      },
      "source": [
        "def string_combine_a(stopword):\n",
        "  final_a=\"\"\n",
        "  for item in range(39893):\n",
        "    final_a=final_a+\" \"+stopword[item]\n",
        "  return final_a\n",
        "\n",
        "def string_combine_b(stopword):\n",
        "  final_b=\"\"\n",
        "  for item in range(39893,79785):\n",
        "    final_b=final_b+\" \"+stopword[item]\n",
        "  return final_b\n",
        "\n",
        "def string_combine_c(stopword):\n",
        "  final_c=\"\"\n",
        "  for item in range(79785,119678):\n",
        "    final_c=final_c+\" \"+stopword[item]\n",
        "  return final_c\n",
        "\n",
        "def string_combine_d(stopword):\n",
        "  final_d=\"\"\n",
        "  for item in range(119678,159571):\n",
        "    final_d=final_d+\" \"+stopword[item]\n",
        "  return final_d"
      ],
      "execution_count": null,
      "outputs": []
    },
    {
      "cell_type": "code",
      "metadata": {
        "id": "UqBc4rOahmAz"
      },
      "source": [
        "total_string_potential_a=string_combine_a(potential_stopwords)\n",
        "total_string_potential_b=string_combine_b(potential_stopwords)\n",
        "total_string_potential_c=string_combine_c(potential_stopwords)\n",
        "total_string_potential_d=string_combine_d(potential_stopwords)"
      ],
      "execution_count": null,
      "outputs": []
    },
    {
      "cell_type": "code",
      "metadata": {
        "id": "VrrmDPjin1gM"
      },
      "source": [
        "#total_string_potential_a"
      ],
      "execution_count": null,
      "outputs": []
    },
    {
      "cell_type": "markdown",
      "metadata": {
        "id": "hbEm3D8txMSH"
      },
      "source": [
        "Counting the number of words in each of the 4 strings"
      ]
    },
    {
      "cell_type": "code",
      "metadata": {
        "id": "O_hhbMS_xR6t"
      },
      "source": [
        "def word_count(str):\n",
        "    counts = dict()\n",
        "    words = str.split()\n",
        "\n",
        "    for word in words:\n",
        "        if word in counts:\n",
        "            counts[word] += 1\n",
        "        else:\n",
        "            counts[word] = 1\n",
        "\n",
        "    return counts"
      ],
      "execution_count": null,
      "outputs": []
    },
    {
      "cell_type": "code",
      "metadata": {
        "id": "bsh0BuT9xSDg"
      },
      "source": [
        "#print(word_count(total_string_potential_a))\n",
        "total_string_potential_a_dict=word_count(total_string_potential_a)\n",
        "#print(word_count(total_string_potential_b))\n",
        "total_string_potential_b_dict=word_count(total_string_potential_b)\n",
        "#print(word_count(total_string_potential_c))\n",
        "total_string_potential_c_dict=word_count(total_string_potential_c)\n",
        "#print(word_count(total_string_potential_d))\n",
        "total_string_potential_d_dict=word_count(total_string_potential_d)"
      ],
      "execution_count": null,
      "outputs": []
    },
    {
      "cell_type": "markdown",
      "metadata": {
        "id": "shmHkLSk3Xxp"
      },
      "source": [
        "Converting Dictionaries to Dataframe"
      ]
    },
    {
      "cell_type": "code",
      "metadata": {
        "id": "pSJXHnv6y9T0"
      },
      "source": [
        "total_string_potential_a_df = pd.DataFrame(list(total_string_potential_a_dict.items()),columns = ['Word','Count'])\n",
        "#total_string_potential_a_df\n",
        "total_string_potential_b_df = pd.DataFrame(list(total_string_potential_b_dict.items()),columns = ['Word','Count'])\n",
        "#total_string_potential_b_df\n",
        "total_string_potential_c_df = pd.DataFrame(list(total_string_potential_c_dict.items()),columns = ['Word','Count'])\n",
        "#total_string_potential_c_df\n",
        "total_string_potential_d_df = pd.DataFrame(list(total_string_potential_d_dict.items()),columns = ['Word','Count'])\n",
        "#total_string_potential_d_df"
      ],
      "execution_count": null,
      "outputs": []
    },
    {
      "cell_type": "markdown",
      "metadata": {
        "id": "WjWO0vj2yaW7"
      },
      "source": [
        "Getting Dataframe output in descending order"
      ]
    },
    {
      "cell_type": "code",
      "metadata": {
        "id": "bzThNOjA2pjx"
      },
      "source": [
        "top50_potential_stopwords_a=total_string_potential_a_df.sort_values(by=['Count'],ascending=False).head(50)\n",
        "top50_potential_stopwords_b=total_string_potential_b_df.sort_values(by=['Count'],ascending=False).head(50)\n",
        "top50_potential_stopwords_c=total_string_potential_c_df.sort_values(by=['Count'],ascending=False).head(50)\n",
        "top50_potential_stopwords_d=total_string_potential_d_df.sort_values(by=['Count'],ascending=False).head(50)"
      ],
      "execution_count": null,
      "outputs": []
    },
    {
      "cell_type": "markdown",
      "metadata": {
        "id": "H1d8reN9CaZ8"
      },
      "source": [
        "Looking for common terms in all top 50 dataframes"
      ]
    },
    {
      "cell_type": "code",
      "metadata": {
        "id": "AKUuEbHvCiYG"
      },
      "source": [
        "common_potential_stopwords=list(reduce(set.intersection,map(set,[top50_potential_stopwords_a.Word,top50_potential_stopwords_b.Word,top50_potential_stopwords_c.Word,top50_potential_stopwords_d.Word])))"
      ],
      "execution_count": null,
      "outputs": []
    },
    {
      "cell_type": "code",
      "metadata": {
        "colab": {
          "base_uri": "https://localhost:8080/"
        },
        "id": "FkQme4SIEGBa",
        "outputId": "76030ce1-6522-43b9-b00a-b23c50f93c67"
      },
      "source": [
        "print(common_potential_stopwords)"
      ],
      "execution_count": null,
      "outputs": [
        {
          "output_type": "stream",
          "text": [
            "['link', 'way', 'user', 'page', 'look', 'block', 'doe', 'people', 'editor', 'help', 'point', 'image', 'mean', 'think', 'new', 'add', 'time', 'list', 'delete', 'like', 'thing', 'write', 'know', 'need', 'find', 'section', 'article', 'comment', 'remove', 'work', 'source', 'don', 'good', 'change', 'talk', 'reference', 'use', 'information', 'read', 'thank', 'question', 'deletion', 'try', 'wikipedia', 'fact', 'want', 'fuck', 'edit']\n"
          ],
          "name": "stdout"
        }
      ]
    },
    {
      "cell_type": "markdown",
      "metadata": {
        "id": "hX3lIQj0l36i"
      },
      "source": [
        "Retaining certain words and removing others form the above list"
      ]
    },
    {
      "cell_type": "code",
      "metadata": {
        "id": "zacbW5ASjN2r"
      },
      "source": [
        "potential_stopwords=['editor', 'reference', 'thank', 'work','find', 'good', 'know', 'like', 'look', 'thing', 'want', 'time', 'list', 'section','wikipedia', 'doe', 'add','new', 'try', 'think', 'write','use', 'user', 'way', 'page']"
      ],
      "execution_count": null,
      "outputs": []
    },
    {
      "cell_type": "code",
      "metadata": {
        "id": "AxMLifFZl3Bj"
      },
      "source": [
        "#potential_stopwords=['day','ask', 'consider', 'http', 'word', 'mean', 'try', 'let', 'feel', 'come', 'list', 'far', 'doe','thing','utc','note','mention' ]"
      ],
      "execution_count": null,
      "outputs": []
    },
    {
      "cell_type": "markdown",
      "metadata": {
        "id": "7-yjjvj3LpZs"
      },
      "source": [
        "Adding above retrived words into the stopwords list"
      ]
    },
    {
      "cell_type": "code",
      "metadata": {
        "colab": {
          "base_uri": "https://localhost:8080/"
        },
        "id": "73PbxjxbLvz9",
        "outputId": "a2a074db-25cd-4e84-972d-f7f73d32a50e"
      },
      "source": [
        "for word in potential_stopwords:\n",
        "    stopword_list.add(word)\n",
        "print(\"Done!!\")"
      ],
      "execution_count": null,
      "outputs": [
        {
          "output_type": "stream",
          "text": [
            "Done!!\n"
          ],
          "name": "stdout"
        }
      ]
    },
    {
      "cell_type": "markdown",
      "metadata": {
        "id": "101v0iZjaNLR"
      },
      "source": [
        "Removing Stopwords from Training Data"
      ]
    },
    {
      "cell_type": "code",
      "metadata": {
        "id": "RRSga8PKsktA"
      },
      "source": [
        "def remove_stopwords(text, remove_stop=True):\n",
        "  output = \"\"\n",
        "  if remove_stop:\n",
        "    text=text.split(\" \")\n",
        "    for word in text:\n",
        "      if word not in stopword_list:\n",
        "        output=output + \" \" + word\n",
        "  else :\n",
        "    output=text\n",
        "\n",
        "  return str(output.strip())      "
      ],
      "execution_count": null,
      "outputs": []
    },
    {
      "cell_type": "code",
      "metadata": {
        "colab": {
          "base_uri": "https://localhost:8080/",
          "referenced_widgets": [
            "d6d52fd0b476439ba1dbc9f207cf27dd",
            "e6b1e5375d1c44f9be658a503f320aae",
            "8ba98e6082864f2a96fa09fd006fa3b6",
            "2c28315e14654fe497733d81a6f34c14",
            "a228436069ca4be38957b514704d3100",
            "c4872be22dd7458eb1cabb62d7a15029",
            "549000f0c00f439386fc6dcc1aa9b5db",
            "cce3356e4100409982db9a0312034527"
          ]
        },
        "id": "Q-hItiV7skoV",
        "outputId": "c1506cad-a478-4fa6-e8eb-4da12d75aa96"
      },
      "source": [
        "processed_train_data = [] \n",
        "\n",
        "for line in tqdm_notebook(lemmatized_train_data, total=159571): \n",
        "    processed_train_data.append(remove_stopwords(line))"
      ],
      "execution_count": null,
      "outputs": [
        {
          "output_type": "display_data",
          "data": {
            "application/vnd.jupyter.widget-view+json": {
              "model_id": "d6d52fd0b476439ba1dbc9f207cf27dd",
              "version_minor": 0,
              "version_major": 2
            },
            "text/plain": [
              "HBox(children=(FloatProgress(value=0.0, max=159571.0), HTML(value='')))"
            ]
          },
          "metadata": {
            "tags": []
          }
        },
        {
          "output_type": "stream",
          "text": [
            "\n"
          ],
          "name": "stdout"
        }
      ]
    },
    {
      "cell_type": "code",
      "metadata": {
        "id": "a29qOSPA-rbS",
        "colab": {
          "base_uri": "https://localhost:8080/"
        },
        "outputId": "dc443c7b-eb8a-4a66-94ce-7c1fddeac8fb"
      },
      "source": [
        "processed_train_data[152458]"
      ],
      "execution_count": null,
      "outputs": [
        {
          "output_type": "execute_result",
          "data": {
            "application/vnd.google.colaboratory.intrinsic+json": {
              "type": "string"
            },
            "text/plain": [
              "'agree graemel intention revert nazi protect report revert rule notice board post report revert nazi graemel revert nazi unacceptable site admins feel unjustly revert hour period report revert noticeboard'"
            ]
          },
          "metadata": {
            "tags": []
          },
          "execution_count": 44
        }
      ]
    },
    {
      "cell_type": "markdown",
      "metadata": {
        "id": "iqXHFaSC-Bkf"
      },
      "source": [
        "Removing Stopwords from Test Data"
      ]
    },
    {
      "cell_type": "code",
      "metadata": {
        "id": "EQ_lUOej-H_b",
        "colab": {
          "base_uri": "https://localhost:8080/",
          "referenced_widgets": [
            "9f4b750283914bd3a71f81795b9844a8",
            "91793eb2dd4041c281d7a1b523d816cc",
            "325f6ad1e95e45948e383e72ba5022a4",
            "668b87b3e36647048a6783857c6e4c61",
            "5a53e3e69b4f4cc59d1b266b8ef00125",
            "cfe2827d37304262a12c89978a2e6184",
            "6ccc7078cab84cbe86836f9d2071063f",
            "fe30a44e0e384866b04b75693fe753ef"
          ]
        },
        "outputId": "0563162f-c786-435c-cc16-28982040ac7a"
      },
      "source": [
        "processed_test_data = [] \n",
        "\n",
        "for line in tqdm_notebook(lemmatized_test_data, total=153164): \n",
        "    processed_test_data.append(remove_stopwords(line))"
      ],
      "execution_count": null,
      "outputs": [
        {
          "output_type": "display_data",
          "data": {
            "application/vnd.jupyter.widget-view+json": {
              "model_id": "9f4b750283914bd3a71f81795b9844a8",
              "version_minor": 0,
              "version_major": 2
            },
            "text/plain": [
              "HBox(children=(FloatProgress(value=0.0, max=153164.0), HTML(value='')))"
            ]
          },
          "metadata": {
            "tags": []
          }
        },
        {
          "output_type": "stream",
          "text": [
            "\n"
          ],
          "name": "stdout"
        }
      ]
    },
    {
      "cell_type": "markdown",
      "metadata": {
        "id": "CeScalvZDEdD"
      },
      "source": [
        "# Model Building"
      ]
    },
    {
      "cell_type": "code",
      "metadata": {
        "id": "SkK1P-CdX_0N"
      },
      "source": [
        "max_features=100000      \r\n",
        "maxpadlen = 200          \r\n",
        "val_split = 0.2   \r\n",
        "embedding_dim = 200      \r\n",
        "embedding_dim_fasttext = 300  #for fast text"
      ],
      "execution_count": null,
      "outputs": []
    },
    {
      "cell_type": "markdown",
      "metadata": {
        "id": "GIeovLIr6aAo"
      },
      "source": [
        "Tokenization"
      ]
    },
    {
      "cell_type": "code",
      "metadata": {
        "id": "qaA52PlK4xnV"
      },
      "source": [
        "tokenizer = Tokenizer(num_words=max_features)\n",
        "tokenizer.fit_on_texts(list(processed_train_data))\n",
        "list_tokenized_train = tokenizer.texts_to_sequences(processed_train_data)\n",
        "list_tokenized_test = tokenizer.texts_to_sequences(processed_test_data)"
      ],
      "execution_count": null,
      "outputs": []
    },
    {
      "cell_type": "code",
      "metadata": {
        "colab": {
          "base_uri": "https://localhost:8080/"
        },
        "id": "pkSXj5sT7jbR",
        "outputId": "5bb240a5-d386-443a-bc1b-51874d6b6613"
      },
      "source": [
        "word_index=tokenizer.word_index\n",
        "print(\"Words in Vocabulary: \",len(word_index))"
      ],
      "execution_count": null,
      "outputs": [
        {
          "output_type": "stream",
          "text": [
            "Words in Vocabulary:  148917\n"
          ],
          "name": "stdout"
        }
      ]
    },
    {
      "cell_type": "markdown",
      "metadata": {
        "id": "TfDwmzPj8TJf"
      },
      "source": [
        "Padding"
      ]
    },
    {
      "cell_type": "code",
      "metadata": {
        "id": "gEmacO337twa"
      },
      "source": [
        "X_t=pad_sequences(list_tokenized_train, maxlen=maxpadlen, padding = 'post')\n",
        "X_te=pad_sequences(list_tokenized_test, maxlen=maxpadlen, padding = 'post')"
      ],
      "execution_count": null,
      "outputs": []
    },
    {
      "cell_type": "code",
      "metadata": {
        "colab": {
          "base_uri": "https://localhost:8080/"
        },
        "id": "U6dAeWAnM4RL",
        "outputId": "61e904f0-58e8-4ad4-ed8b-f7839b029cc6"
      },
      "source": [
        "print('Tokenized sentences: \\n', X_t[10])\r\n",
        "print('One hot label: \\n', y[10])"
      ],
      "execution_count": null,
      "outputs": [
        {
          "output_type": "stream",
          "text": [
            "Tokenized sentences: \n",
            " [  116   578    11 32199   239   192    11 32199   239    90    11   579\n",
            "    11   116   366   578     1  1082   116   338  5356   116   119    11\n",
            "   387   269   366   578    11     1  1341   116    11   387     2    32\n",
            "   116   578   192   116   172    46    84   579   116   578    11     2\n",
            "   488   105    10  1087   403  1073    11  2401   489    36   116    11\n",
            "   192   407   366     9   255   192   242   150   109    18    19    29\n",
            "   172    77    19     3   257  4540     4    11 32199   239   192    11\n",
            " 32199   239    90   171   387   312    68   579    34    44    77   423\n",
            "  1550    34   171     8   579  1268    77  1638   134    10   134  4671\n",
            "   134    94    44   565  1255    17    77  1338   118   134  1577    77\n",
            "  1134     4   507    77   434    31   171    68    34   168  2207   449\n",
            "    31   315  1529    70   172   236   150   116    31    31    11    77\n",
            "    31   116    11    77    31    77    31   192   171    46    84   579\n",
            "     4    31   171   192    80    10   862  3126    11     9   255    31\n",
            "   242   150   109    18    11    77   124    67   434   116    11     9\n",
            "   357    19    29   172    77    19     3   257     0     0     0     0\n",
            "     0     0     0     0     0     0     0     0]\n",
            "One hot label: \n",
            " [0 0 0 0 0 0]\n"
          ],
          "name": "stdout"
        }
      ]
    },
    {
      "cell_type": "code",
      "metadata": {
        "id": "XtZD1j9BCrsG"
      },
      "source": [
        "indices = np.arange(X_t.shape[0])\r\n",
        "np.random.shuffle(indices)"
      ],
      "execution_count": null,
      "outputs": []
    },
    {
      "cell_type": "code",
      "metadata": {
        "id": "k51hkGqOnZLB"
      },
      "source": [
        "X_t = X_t[indices]\r\n",
        "labels = y[indices]"
      ],
      "execution_count": null,
      "outputs": []
    },
    {
      "cell_type": "markdown",
      "metadata": {
        "id": "MWn-SkJCCswd"
      },
      "source": [
        "### Splitting data into Training and Validation Set"
      ]
    },
    {
      "cell_type": "code",
      "metadata": {
        "id": "B5hOSGJVb7o4"
      },
      "source": [
        "num_validation_samples = int(val_split*X_t.shape[0])\r\n",
        "x_train = X_t[: -num_validation_samples]\r\n",
        "y_train = labels[: -num_validation_samples]\r\n",
        "x_val = X_t[-num_validation_samples: ]\r\n",
        "y_val = labels[-num_validation_samples: ]"
      ],
      "execution_count": null,
      "outputs": []
    },
    {
      "cell_type": "code",
      "metadata": {
        "colab": {
          "base_uri": "https://localhost:8080/"
        },
        "id": "cHyYFZPDcEmK",
        "outputId": "0a51045f-e6c4-42a6-8339-81522a831160"
      },
      "source": [
        "print('Number of entries in each category:')\r\n",
        "print('training: ', y_train.sum(axis=0))\r\n",
        "print('validation: ', y_val.sum(axis=0))"
      ],
      "execution_count": null,
      "outputs": [
        {
          "output_type": "stream",
          "text": [
            "Number of entries in each category:\n",
            "training:  [12221  1252  6766   369  6328  1116]\n",
            "validation:  [3073  343 1683  109 1549  289]\n"
          ],
          "name": "stdout"
        }
      ]
    },
    {
      "cell_type": "markdown",
      "metadata": {
        "id": "X86VKe_LC3QH"
      },
      "source": [
        "### Importing Glove"
      ]
    },
    {
      "cell_type": "code",
      "metadata": {
        "id": "9DALhsP1DMF-"
      },
      "source": [
        "embeddings_index = {}\r\n",
        "f = open('/content/drive/MyDrive/Glove/glove.6B.200d.txt', encoding='utf8')\r\n",
        "#print('Loading GloVe from:', GLOVE_DIR,'...', end='')\r\n",
        "for line in f:\r\n",
        "    values = line.split()\r\n",
        "    word = values[0]\r\n",
        "    embeddings_index[word] = np.asarray(values[1:], dtype='float32')\r\n",
        "f.close()"
      ],
      "execution_count": null,
      "outputs": []
    },
    {
      "cell_type": "code",
      "metadata": {
        "colab": {
          "base_uri": "https://localhost:8080/"
        },
        "id": "IQpA9WlSC268",
        "outputId": "d5dcea80-84d9-42ae-ffb6-45d4f50b9e6a"
      },
      "source": [
        "embedding_matrix = np.random.random((len(word_index) + 1, embedding_dim))\r\n",
        "for word, i in word_index.items():\r\n",
        "    embedding_vector = embeddings_index.get(word)\r\n",
        "    if embedding_vector is not None:\r\n",
        "        embedding_matrix[i] = embedding_vector\r\n",
        "print(\" Completed!\")"
      ],
      "execution_count": null,
      "outputs": [
        {
          "output_type": "stream",
          "text": [
            " Completed!\n"
          ],
          "name": "stdout"
        }
      ]
    },
    {
      "cell_type": "markdown",
      "metadata": {
        "id": "hL7Mv1Z6D8_w"
      },
      "source": [
        "### Importing Fast Text"
      ]
    },
    {
      "cell_type": "code",
      "metadata": {
        "id": "vsvNLXZ6DlWS"
      },
      "source": [
        "embeddings_index_fasttext = {}\r\n",
        "f = open('/content/drive/MyDrive/Fast Text/wiki-news-300d-1M.vec', encoding='utf8')\r\n",
        "for line in f:\r\n",
        "    values = line.split()\r\n",
        "    word = values[0]\r\n",
        "    embeddings_index_fasttext[word] = np.asarray(values[1:], dtype='float32')\r\n",
        "f.close()"
      ],
      "execution_count": null,
      "outputs": []
    },
    {
      "cell_type": "code",
      "metadata": {
        "colab": {
          "base_uri": "https://localhost:8080/"
        },
        "id": "hpkSOB6iEFCB",
        "outputId": "2e3e0077-514a-47f0-ca87-63a058b5fc21"
      },
      "source": [
        "embedding_matrix_fasttext = np.random.random((len(word_index) + 1, embedding_dim_fasttext))\r\n",
        "for word, i in word_index.items():\r\n",
        "    embedding_vector = embeddings_index_fasttext.get(word)\r\n",
        "    if embedding_vector is not None:\r\n",
        "        embedding_matrix_fasttext[i] = embedding_vector\r\n",
        "print(\" Completed!\")"
      ],
      "execution_count": null,
      "outputs": [
        {
          "output_type": "stream",
          "text": [
            " Completed!\n"
          ],
          "name": "stdout"
        }
      ]
    },
    {
      "cell_type": "markdown",
      "metadata": {
        "id": "0OoZ7fTpPWhi"
      },
      "source": [
        "### Creating Model"
      ]
    },
    {
      "cell_type": "markdown",
      "metadata": {
        "id": "Dwzg_WX32OG3"
      },
      "source": [
        "#### Method 1"
      ]
    },
    {
      "cell_type": "code",
      "metadata": {
        "id": "1kG7BkCYga1Z"
      },
      "source": [
        "def toxic_classifier(x_train,y_train,x_val,y_val,params):\r\n",
        "\r\n",
        "  inp=Input(shape=(maxpadlen, ),dtype='int32')\r\n",
        "\r\n",
        "  embedding_layer = Embedding(len(word_index) + 1,\r\n",
        "                           embedding_dim,\r\n",
        "                           weights = [embedding_matrix],\r\n",
        "                           input_length = maxpadlen,\r\n",
        "                           trainable=False,\r\n",
        "                           name = 'embeddings')\r\n",
        "  embedded_sequences = embedding_layer(inp)\r\n",
        "\r\n",
        "  x = LSTM(60, return_sequences=True,name='lstm_layer')(embedded_sequences)\r\n",
        "  \r\n",
        "  x = GlobalMaxPool1D()(x)\r\n",
        "  \r\n",
        "  x = Dropout(params['dropout'])(x)\r\n",
        "  \r\n",
        "  x = Dense(50, activation=params['activation'], kernel_initializer='he_uniform')(x)\r\n",
        "  \r\n",
        "  x = Dropout(params['dropout'])(x)\r\n",
        "  \r\n",
        "  preds = Dense(6, activation=params['last_activation'], kernel_initializer='glorot_uniform')(x)\r\n",
        "\r\n",
        "  model = Model(inputs=inp, outputs=preds)\r\n",
        "\r\n",
        "  model.compile(loss=params['loss'], optimizer=params['optimizer'], metrics=['accuracy'])\r\n",
        "\r\n",
        "  model_info=model.fit(x_train,y_train, epochs=params['epochs'], batch_size=params['batch_size'],  validation_data=(x_val, y_val))\r\n",
        "\r\n",
        "  return model_info, model"
      ],
      "execution_count": null,
      "outputs": []
    },
    {
      "cell_type": "code",
      "metadata": {
        "id": "0-6V_-kpht72"
      },
      "source": [
        "p={\r\n",
        "    'batch_size': [32,64],\r\n",
        "    'epochs':[2],\r\n",
        "    'optimizer':['adam','SGD'],\r\n",
        "    'activation':['relu', 'elu'],\r\n",
        "    'last_activation': ['sigmoid'],\r\n",
        "    'dropout':[0.1,0.2,0.3],\r\n",
        "    'loss': ['binary_crossentropy']   \r\n",
        "}"
      ],
      "execution_count": null,
      "outputs": []
    },
    {
      "cell_type": "code",
      "metadata": {
        "id": "xlZZ3hQ5oC0Y"
      },
      "source": [
        "scan_results = talos.Scan(x=x_train,\r\n",
        "               y=y_train,\r\n",
        "               x_val=x_val,\r\n",
        "               y_val=y_val,\r\n",
        "               model=toxic_classifier,\r\n",
        "               params=p,\r\n",
        "               experiment_name='tcc',\r\n",
        "               print_params=True)"
      ],
      "execution_count": null,
      "outputs": []
    },
    {
      "cell_type": "code",
      "metadata": {
        "id": "oCSjUV4j1U8P",
        "colab": {
          "base_uri": "https://localhost:8080/"
        },
        "outputId": "93c7fdd1-12a7-48f8-8d28-5a094aa145f9"
      },
      "source": [
        "model_id = scan_results.data['val_accuracy'].astype('float').argmax()\r\n",
        "model_id"
      ],
      "execution_count": null,
      "outputs": [
        {
          "output_type": "execute_result",
          "data": {
            "text/plain": [
              "4"
            ]
          },
          "metadata": {
            "tags": []
          },
          "execution_count": 67
        }
      ]
    },
    {
      "cell_type": "code",
      "metadata": {
        "id": "CXz2e0VnAE2r",
        "colab": {
          "base_uri": "https://localhost:8080/",
          "height": 116
        },
        "outputId": "4ef63143-3688-4734-9fa9-756e5232eb40"
      },
      "source": [
        "scan_results.data "
      ],
      "execution_count": null,
      "outputs": [
        {
          "output_type": "execute_result",
          "data": {
            "text/html": [
              "<div>\n",
              "<style scoped>\n",
              "    .dataframe tbody tr th:only-of-type {\n",
              "        vertical-align: middle;\n",
              "    }\n",
              "\n",
              "    .dataframe tbody tr th {\n",
              "        vertical-align: top;\n",
              "    }\n",
              "\n",
              "    .dataframe thead th {\n",
              "        text-align: right;\n",
              "    }\n",
              "</style>\n",
              "<table border=\"1\" class=\"dataframe\">\n",
              "  <thead>\n",
              "    <tr style=\"text-align: right;\">\n",
              "      <th></th>\n",
              "      <th>start</th>\n",
              "      <th>end</th>\n",
              "      <th>duration</th>\n",
              "      <th>round_epochs</th>\n",
              "      <th>loss</th>\n",
              "      <th>accuracy</th>\n",
              "      <th>val_loss</th>\n",
              "      <th>val_accuracy</th>\n",
              "      <th>activation</th>\n",
              "      <th>batch_size</th>\n",
              "      <th>dropout</th>\n",
              "      <th>epochs</th>\n",
              "      <th>last_activation</th>\n",
              "      <th>loss</th>\n",
              "      <th>optimizer</th>\n",
              "    </tr>\n",
              "  </thead>\n",
              "  <tbody>\n",
              "    <tr>\n",
              "      <th>4</th>\n",
              "      <td>01/01/21-102225</td>\n",
              "      <td>01/01/21-102400</td>\n",
              "      <td>95.071578</td>\n",
              "      <td>2</td>\n",
              "      <td>0.055593</td>\n",
              "      <td>0.992464</td>\n",
              "      <td>0.05324</td>\n",
              "      <td>0.993639</td>\n",
              "      <td>relu</td>\n",
              "      <td>32</td>\n",
              "      <td>0.3</td>\n",
              "      <td>2</td>\n",
              "      <td>sigmoid</td>\n",
              "      <td>binary_crossentropy</td>\n",
              "      <td>adam</td>\n",
              "    </tr>\n",
              "  </tbody>\n",
              "</table>\n",
              "</div>"
            ],
            "text/plain": [
              "             start              end  ...                 loss  optimizer\n",
              "4  01/01/21-102225  01/01/21-102400  ...  binary_crossentropy       adam\n",
              "\n",
              "[1 rows x 15 columns]"
            ]
          },
          "metadata": {
            "tags": []
          },
          "execution_count": 95
        }
      ]
    },
    {
      "cell_type": "code",
      "metadata": {
        "id": "PXpk9UhkAEhl"
      },
      "source": [
        "analyze_object = talos.Analyze(scan_results)"
      ],
      "execution_count": null,
      "outputs": []
    },
    {
      "cell_type": "code",
      "metadata": {
        "colab": {
          "base_uri": "https://localhost:8080/"
        },
        "id": "L-oz956EK2Em",
        "outputId": "996f31f3-d810-4836-b164-5218b6c09826"
      },
      "source": [
        "analyze_object.best_params('val_accuracy', ['accuracy', 'loss', 'val_loss'])"
      ],
      "execution_count": null,
      "outputs": [
        {
          "output_type": "execute_result",
          "data": {
            "text/plain": [
              "array([[2, '01/01/21-102225', 'adam', 95.07157826423645, 'relu', 32, 0.3,\n",
              "        'sigmoid', '01/01/21-102400', 2, 0],\n",
              "       [2, '01/01/21-102536', 'adam', 57.60084891319275, 'relu', 64, 0.1,\n",
              "        'sigmoid', '01/01/21-102634', 2, 1],\n",
              "       [2, '01/01/21-102928', 'adam', 57.46389818191528, 'relu', 64, 0.3,\n",
              "        'sigmoid', '01/01/21-103025', 2, 2],\n",
              "       [2, '01/01/21-102731', 'adam', 57.942434549331665, 'relu', 64,\n",
              "        0.2, 'sigmoid', '01/01/21-102829', 2, 3],\n",
              "       [2, '01/01/21-101914', 'adam', 94.84455800056458, 'relu', 32, 0.2,\n",
              "        'sigmoid', '01/01/21-102049', 2, 4],\n",
              "       [2, '01/01/21-102401', 'SGD', 94.69964265823364, 'relu', 32, 0.3,\n",
              "        'sigmoid', '01/01/21-102535', 2, 5],\n",
              "       [2, '01/01/21-102830', 'SGD', 57.00875115394592, 'relu', 64, 0.2,\n",
              "        'sigmoid', '01/01/21-102927', 2, 6],\n",
              "       [2, '01/01/21-104447', 'adam', 57.0409152507782, 'elu', 64, 0.3,\n",
              "        'sigmoid', '01/01/21-104545', 2, 7],\n",
              "       [2, '01/01/21-101602', 'adam', 96.27245306968689, 'relu', 32, 0.1,\n",
              "        'sigmoid', '01/01/21-101738', 2, 8],\n",
              "       [2, '01/01/21-103123', 'adam', 94.61547088623047, 'elu', 32, 0.1,\n",
              "        'sigmoid', '01/01/21-103257', 2, 9]], dtype=object)"
            ]
          },
          "metadata": {
            "tags": []
          },
          "execution_count": 70
        }
      ]
    },
    {
      "cell_type": "code",
      "metadata": {
        "colab": {
          "base_uri": "https://localhost:8080/",
          "height": 410
        },
        "id": "q7KU1zmzLbAV",
        "outputId": "d5aeb1ea-85da-4bb2-acd2-ce4d94e858ed"
      },
      "source": [
        "analyze_object.plot_line('val_accuracy')"
      ],
      "execution_count": null,
      "outputs": [
        {
          "output_type": "display_data",
          "data": {
            "image/png": "[encoded data removed]",
            "text/plain": [
              "<Figure size 864x475.2 with 1 Axes>"
            ]
          },
          "metadata": {
            "tags": []
          }
        }
      ]
    },
    {
      "cell_type": "code",
      "metadata": {
        "colab": {
          "base_uri": "https://localhost:8080/",
          "height": 410
        },
        "id": "H7sj8Z5-MMFn",
        "outputId": "af4a355d-5ec1-4262-dca4-fa26c1eb5231"
      },
      "source": [
        "analyze_object.plot_line('accuracy')"
      ],
      "execution_count": null,
      "outputs": [
        {
          "output_type": "display_data",
          "data": {
            "image/png": "[encoded data removed]",
            "text/plain": [
              "<Figure size 864x475.2 with 1 Axes>"
            ]
          },
          "metadata": {
            "tags": []
          }
        }
      ]
    },
    {
      "cell_type": "markdown",
      "metadata": {
        "id": "MaPR9n8d_4kI"
      },
      "source": [
        "#### Method 2"
      ]
    },
    {
      "cell_type": "code",
      "metadata": {
        "id": "oZdik3-jGkye"
      },
      "source": [
        "def toxic_classifier(x_train,y_train,x_val,y_val,params):\r\n",
        "\r\n",
        "  inp=Input(shape=(maxpadlen, ),dtype='int32')\r\n",
        "\r\n",
        "  embedding_layer = Embedding(len(word_index) + 1,\r\n",
        "                           embedding_dim_fasttext,\r\n",
        "                           weights = [embedding_matrix_fasttext],\r\n",
        "                           input_length = maxpadlen,\r\n",
        "                           trainable=False,\r\n",
        "                           name = 'embeddings')\r\n",
        "  embedded_sequences = embedding_layer(inp)\r\n",
        "\r\n",
        "  x = LSTM(params['output_count_lstm'], return_sequences=True,name='lstm_layer')(embedded_sequences)\r\n",
        "  \r\n",
        "  x = GlobalMaxPool1D()(x)\r\n",
        "  \r\n",
        "  x = Dropout(params['dropout'])(x)\r\n",
        "  \r\n",
        "  x = Dense(params['output_count_dense'], activation=params['activation'], kernel_initializer='he_uniform')(x)\r\n",
        "  \r\n",
        "  x = Dropout(params['dropout'])(x)\r\n",
        "  \r\n",
        "  preds = Dense(6, activation=params['last_activation'], kernel_initializer='glorot_uniform')(x)\r\n",
        "\r\n",
        "  model = Model(inputs=inp, outputs=preds)\r\n",
        "\r\n",
        "  model.compile(loss=params['loss'], optimizer=params['optimizer'], metrics=['accuracy'])\r\n",
        "\r\n",
        "  model_info=model.fit(x_train,y_train, epochs=params['epochs'], batch_size=params['batch_size'],  validation_data=(x_val, y_val))\r\n",
        "\r\n",
        "  return model_info, model"
      ],
      "execution_count": null,
      "outputs": []
    },
    {
      "cell_type": "code",
      "metadata": {
        "id": "-6AtSibHGoTU"
      },
      "source": [
        "p={\r\n",
        "    'output_count_lstm': [40,50,60],\r\n",
        "    'output_count_dense': [30,40,50],\r\n",
        "    'batch_size': [32],\r\n",
        "    'epochs':[2],\r\n",
        "    'optimizer':['adam'],\r\n",
        "    'activation':['relu'],\r\n",
        "    'last_activation': ['sigmoid'],\r\n",
        "    'dropout':[0.2],\r\n",
        "    'loss': ['binary_crossentropy']   \r\n",
        "}"
      ],
      "execution_count": null,
      "outputs": []
    },
    {
      "cell_type": "code",
      "metadata": {
        "colab": {
          "base_uri": "https://localhost:8080/"
        },
        "id": "DAnaHxh1GpFi",
        "outputId": "49b8ea1d-7b68-423e-be1d-f5f7d8ac1051"
      },
      "source": [
        "scan_results = talos.Scan(x=x_train,\r\n",
        "               y=y_train,\r\n",
        "               x_val=x_val,\r\n",
        "               y_val=y_val,\r\n",
        "               model=toxic_classifier,\r\n",
        "               params=p,\r\n",
        "               experiment_name='tcc',\r\n",
        "               print_params=True)"
      ],
      "execution_count": null,
      "outputs": [
        {
          "output_type": "stream",
          "text": [
            "\r  0%|          | 0/18 [00:00<?, ?it/s]"
          ],
          "name": "stderr"
        },
        {
          "output_type": "stream",
          "text": [
            "{'activation': 'relu', 'batch_size': 32, 'dropout': 0.2, 'epochs': 2, 'last_activation': 'sigmoid', 'loss': 'binary_crossentropy', 'optimizer': 'adam', 'output_count_dense': 30, 'output_count_lstm': 40}\n",
            "Epoch 1/2\n",
            "3990/3990 [==============================] - 53s 12ms/step - loss: 0.1140 - accuracy: 0.7891 - val_loss: 0.0549 - val_accuracy: 0.9940\n",
            "Epoch 2/2\n",
            "3990/3990 [==============================] - 48s 12ms/step - loss: 0.0526 - accuracy: 0.9901 - val_loss: 0.0481 - val_accuracy: 0.9940\n"
          ],
          "name": "stdout"
        },
        {
          "output_type": "stream",
          "text": [
            "\r  6%|▌         | 1/18 [01:44<29:32, 104.25s/it]"
          ],
          "name": "stderr"
        },
        {
          "output_type": "stream",
          "text": [
            "{'activation': 'relu', 'batch_size': 32, 'dropout': 0.2, 'epochs': 2, 'last_activation': 'sigmoid', 'loss': 'binary_crossentropy', 'optimizer': 'adam', 'output_count_dense': 30, 'output_count_lstm': 50}\n",
            "Epoch 1/2\n",
            "3990/3990 [==============================] - 53s 13ms/step - loss: 0.1028 - accuracy: 0.8009 - val_loss: 0.0500 - val_accuracy: 0.9940\n",
            "Epoch 2/2\n",
            "3990/3990 [==============================] - 51s 13ms/step - loss: 0.0524 - accuracy: 0.9781 - val_loss: 0.0475 - val_accuracy: 0.9940\n"
          ],
          "name": "stdout"
        },
        {
          "output_type": "stream",
          "text": [
            "\r 11%|█         | 2/18 [03:29<27:54, 104.63s/it]"
          ],
          "name": "stderr"
        },
        {
          "output_type": "stream",
          "text": [
            "{'activation': 'relu', 'batch_size': 32, 'dropout': 0.2, 'epochs': 2, 'last_activation': 'sigmoid', 'loss': 'binary_crossentropy', 'optimizer': 'adam', 'output_count_dense': 30, 'output_count_lstm': 60}\n",
            "Epoch 1/2\n",
            "3990/3990 [==============================] - 53s 13ms/step - loss: 0.0880 - accuracy: 0.8229 - val_loss: 0.0494 - val_accuracy: 0.9940\n",
            "Epoch 2/2\n",
            "3990/3990 [==============================] - 51s 13ms/step - loss: 0.0500 - accuracy: 0.9858 - val_loss: 0.0471 - val_accuracy: 0.9940\n"
          ],
          "name": "stdout"
        },
        {
          "output_type": "stream",
          "text": [
            "\r 17%|█▋        | 3/18 [05:15<26:14, 104.96s/it]"
          ],
          "name": "stderr"
        },
        {
          "output_type": "stream",
          "text": [
            "{'activation': 'relu', 'batch_size': 32, 'dropout': 0.2, 'epochs': 2, 'last_activation': 'sigmoid', 'loss': 'binary_crossentropy', 'optimizer': 'adam', 'output_count_dense': 40, 'output_count_lstm': 40}\n",
            "Epoch 1/2\n",
            "3990/3990 [==============================] - 51s 12ms/step - loss: 0.0950 - accuracy: 0.8232 - val_loss: 0.0509 - val_accuracy: 0.9940\n",
            "Epoch 2/2\n",
            "3990/3990 [==============================] - 49s 12ms/step - loss: 0.0528 - accuracy: 0.9875 - val_loss: 0.0472 - val_accuracy: 0.9940\n"
          ],
          "name": "stdout"
        },
        {
          "output_type": "stream",
          "text": [
            "\r 22%|██▏       | 4/18 [06:57<24:16, 104.05s/it]"
          ],
          "name": "stderr"
        },
        {
          "output_type": "stream",
          "text": [
            "{'activation': 'relu', 'batch_size': 32, 'dropout': 0.2, 'epochs': 2, 'last_activation': 'sigmoid', 'loss': 'binary_crossentropy', 'optimizer': 'adam', 'output_count_dense': 40, 'output_count_lstm': 50}\n",
            "Epoch 1/2\n",
            "3990/3990 [==============================] - 53s 13ms/step - loss: 0.1006 - accuracy: 0.7848 - val_loss: 0.0514 - val_accuracy: 0.9940\n",
            "Epoch 2/2\n",
            "3990/3990 [==============================] - 51s 13ms/step - loss: 0.0516 - accuracy: 0.9894 - val_loss: 0.0463 - val_accuracy: 0.9940\n"
          ],
          "name": "stdout"
        },
        {
          "output_type": "stream",
          "text": [
            "\r 28%|██▊       | 5/18 [08:42<22:38, 104.48s/it]"
          ],
          "name": "stderr"
        },
        {
          "output_type": "stream",
          "text": [
            "{'activation': 'relu', 'batch_size': 32, 'dropout': 0.2, 'epochs': 2, 'last_activation': 'sigmoid', 'loss': 'binary_crossentropy', 'optimizer': 'adam', 'output_count_dense': 40, 'output_count_lstm': 60}\n",
            "Epoch 1/2\n",
            "3990/3990 [==============================] - 54s 13ms/step - loss: 0.0969 - accuracy: 0.8193 - val_loss: 0.0504 - val_accuracy: 0.9940\n",
            "Epoch 2/2\n",
            "3990/3990 [==============================] - 52s 13ms/step - loss: 0.0525 - accuracy: 0.9848 - val_loss: 0.0492 - val_accuracy: 0.9940\n"
          ],
          "name": "stdout"
        },
        {
          "output_type": "stream",
          "text": [
            "\r 33%|███▎      | 6/18 [10:29<21:01, 105.13s/it]"
          ],
          "name": "stderr"
        },
        {
          "output_type": "stream",
          "text": [
            "{'activation': 'relu', 'batch_size': 32, 'dropout': 0.2, 'epochs': 2, 'last_activation': 'sigmoid', 'loss': 'binary_crossentropy', 'optimizer': 'adam', 'output_count_dense': 50, 'output_count_lstm': 40}\n",
            "Epoch 1/2\n",
            "3990/3990 [==============================] - 52s 13ms/step - loss: 0.0943 - accuracy: 0.7687 - val_loss: 0.0492 - val_accuracy: 0.9940\n",
            "Epoch 2/2\n",
            "3990/3990 [==============================] - 49s 12ms/step - loss: 0.0510 - accuracy: 0.9891 - val_loss: 0.0468 - val_accuracy: 0.9940\n"
          ],
          "name": "stdout"
        },
        {
          "output_type": "stream",
          "text": [
            "\r 39%|███▉      | 7/18 [12:12<19:07, 104.36s/it]"
          ],
          "name": "stderr"
        },
        {
          "output_type": "stream",
          "text": [
            "{'activation': 'relu', 'batch_size': 32, 'dropout': 0.2, 'epochs': 2, 'last_activation': 'sigmoid', 'loss': 'binary_crossentropy', 'optimizer': 'adam', 'output_count_dense': 50, 'output_count_lstm': 50}\n",
            "Epoch 1/2\n",
            "3990/3990 [==============================] - 53s 13ms/step - loss: 0.0961 - accuracy: 0.8356 - val_loss: 0.0498 - val_accuracy: 0.9940\n",
            "Epoch 2/2\n",
            "3990/3990 [==============================] - 50s 13ms/step - loss: 0.0525 - accuracy: 0.9858 - val_loss: 0.0474 - val_accuracy: 0.9940\n"
          ],
          "name": "stdout"
        },
        {
          "output_type": "stream",
          "text": [
            "\r 44%|████▍     | 8/18 [13:57<17:26, 104.61s/it]"
          ],
          "name": "stderr"
        },
        {
          "output_type": "stream",
          "text": [
            "{'activation': 'relu', 'batch_size': 32, 'dropout': 0.2, 'epochs': 2, 'last_activation': 'sigmoid', 'loss': 'binary_crossentropy', 'optimizer': 'adam', 'output_count_dense': 50, 'output_count_lstm': 60}\n",
            "Epoch 1/2\n",
            "3990/3990 [==============================] - 54s 13ms/step - loss: 0.0845 - accuracy: 0.8286 - val_loss: 0.0501 - val_accuracy: 0.9940\n",
            "Epoch 2/2\n",
            "3990/3990 [==============================] - 51s 13ms/step - loss: 0.0508 - accuracy: 0.9765 - val_loss: 0.0471 - val_accuracy: 0.9940\n"
          ],
          "name": "stdout"
        },
        {
          "output_type": "stream",
          "text": [
            "\r 50%|█████     | 9/18 [15:43<15:46, 105.14s/it]"
          ],
          "name": "stderr"
        },
        {
          "output_type": "stream",
          "text": [
            "{'activation': 'relu', 'batch_size': 32, 'dropout': 0.3, 'epochs': 2, 'last_activation': 'sigmoid', 'loss': 'binary_crossentropy', 'optimizer': 'adam', 'output_count_dense': 30, 'output_count_lstm': 40}\n",
            "Epoch 1/2\n",
            "3990/3990 [==============================] - 51s 12ms/step - loss: 0.1107 - accuracy: 0.7633 - val_loss: 0.0516 - val_accuracy: 0.9940\n",
            "Epoch 2/2\n",
            "3990/3990 [==============================] - 49s 12ms/step - loss: 0.0563 - accuracy: 0.9863 - val_loss: 0.0494 - val_accuracy: 0.9940\n"
          ],
          "name": "stdout"
        },
        {
          "output_type": "stream",
          "text": [
            "\r 56%|█████▌    | 10/18 [17:25<13:52, 104.08s/it]"
          ],
          "name": "stderr"
        },
        {
          "output_type": "stream",
          "text": [
            "{'activation': 'relu', 'batch_size': 32, 'dropout': 0.3, 'epochs': 2, 'last_activation': 'sigmoid', 'loss': 'binary_crossentropy', 'optimizer': 'adam', 'output_count_dense': 30, 'output_count_lstm': 50}\n",
            "Epoch 1/2\n",
            "3990/3990 [==============================] - 53s 13ms/step - loss: 0.1004 - accuracy: 0.8051 - val_loss: 0.0502 - val_accuracy: 0.9940\n",
            "Epoch 2/2\n",
            "3990/3990 [==============================] - 51s 13ms/step - loss: 0.0544 - accuracy: 0.9910 - val_loss: 0.0480 - val_accuracy: 0.9940\n"
          ],
          "name": "stdout"
        },
        {
          "output_type": "stream",
          "text": [
            "\r 61%|██████    | 11/18 [19:10<12:11, 104.51s/it]"
          ],
          "name": "stderr"
        },
        {
          "output_type": "stream",
          "text": [
            "{'activation': 'relu', 'batch_size': 32, 'dropout': 0.3, 'epochs': 2, 'last_activation': 'sigmoid', 'loss': 'binary_crossentropy', 'optimizer': 'adam', 'output_count_dense': 30, 'output_count_lstm': 60}\n",
            "Epoch 1/2\n",
            "3990/3990 [==============================] - 53s 13ms/step - loss: 0.1013 - accuracy: 0.8256 - val_loss: 0.0498 - val_accuracy: 0.9940\n",
            "Epoch 2/2\n",
            "3990/3990 [==============================] - 52s 13ms/step - loss: 0.0544 - accuracy: 0.9888 - val_loss: 0.0486 - val_accuracy: 0.9940\n"
          ],
          "name": "stdout"
        },
        {
          "output_type": "stream",
          "text": [
            "\r 67%|██████▋   | 12/18 [20:57<10:30, 105.03s/it]"
          ],
          "name": "stderr"
        },
        {
          "output_type": "stream",
          "text": [
            "{'activation': 'relu', 'batch_size': 32, 'dropout': 0.3, 'epochs': 2, 'last_activation': 'sigmoid', 'loss': 'binary_crossentropy', 'optimizer': 'adam', 'output_count_dense': 40, 'output_count_lstm': 40}\n",
            "Epoch 1/2\n",
            "3990/3990 [==============================] - 51s 12ms/step - loss: 0.0951 - accuracy: 0.8149 - val_loss: 0.0494 - val_accuracy: 0.9940\n",
            "Epoch 2/2\n",
            "3990/3990 [==============================] - 49s 12ms/step - loss: 0.0528 - accuracy: 0.9917 - val_loss: 0.0473 - val_accuracy: 0.9940\n"
          ],
          "name": "stdout"
        },
        {
          "output_type": "stream",
          "text": [
            "\r 72%|███████▏  | 13/18 [22:38<08:39, 103.99s/it]"
          ],
          "name": "stderr"
        },
        {
          "output_type": "stream",
          "text": [
            "{'activation': 'relu', 'batch_size': 32, 'dropout': 0.3, 'epochs': 2, 'last_activation': 'sigmoid', 'loss': 'binary_crossentropy', 'optimizer': 'adam', 'output_count_dense': 40, 'output_count_lstm': 50}\n",
            "Epoch 1/2\n",
            "3990/3990 [==============================] - 53s 13ms/step - loss: 0.1085 - accuracy: 0.8062 - val_loss: 0.0504 - val_accuracy: 0.9940\n",
            "Epoch 2/2\n",
            "3990/3990 [==============================] - 51s 13ms/step - loss: 0.0537 - accuracy: 0.9871 - val_loss: 0.0491 - val_accuracy: 0.9940\n"
          ],
          "name": "stdout"
        },
        {
          "output_type": "stream",
          "text": [
            "\r 78%|███████▊  | 14/18 [24:24<06:57, 104.48s/it]"
          ],
          "name": "stderr"
        },
        {
          "output_type": "stream",
          "text": [
            "{'activation': 'relu', 'batch_size': 32, 'dropout': 0.3, 'epochs': 2, 'last_activation': 'sigmoid', 'loss': 'binary_crossentropy', 'optimizer': 'adam', 'output_count_dense': 40, 'output_count_lstm': 60}\n",
            "Epoch 1/2\n",
            "3990/3990 [==============================] - 53s 13ms/step - loss: 0.0945 - accuracy: 0.8025 - val_loss: 0.0498 - val_accuracy: 0.9940\n",
            "Epoch 2/2\n",
            "3990/3990 [==============================] - 51s 13ms/step - loss: 0.0531 - accuracy: 0.9925 - val_loss: 0.0475 - val_accuracy: 0.9940\n"
          ],
          "name": "stdout"
        },
        {
          "output_type": "stream",
          "text": [
            "\r 83%|████████▎ | 15/18 [26:10<05:15, 105.02s/it]"
          ],
          "name": "stderr"
        },
        {
          "output_type": "stream",
          "text": [
            "{'activation': 'relu', 'batch_size': 32, 'dropout': 0.3, 'epochs': 2, 'last_activation': 'sigmoid', 'loss': 'binary_crossentropy', 'optimizer': 'adam', 'output_count_dense': 50, 'output_count_lstm': 40}\n",
            "Epoch 1/2\n",
            "3990/3990 [==============================] - 51s 12ms/step - loss: 0.0972 - accuracy: 0.8232 - val_loss: 0.0504 - val_accuracy: 0.9940\n",
            "Epoch 2/2\n",
            "3990/3990 [==============================] - 49s 12ms/step - loss: 0.0540 - accuracy: 0.9823 - val_loss: 0.0485 - val_accuracy: 0.9940\n"
          ],
          "name": "stdout"
        },
        {
          "output_type": "stream",
          "text": [
            "\r 89%|████████▉ | 16/18 [27:51<03:27, 103.83s/it]"
          ],
          "name": "stderr"
        },
        {
          "output_type": "stream",
          "text": [
            "{'activation': 'relu', 'batch_size': 32, 'dropout': 0.3, 'epochs': 2, 'last_activation': 'sigmoid', 'loss': 'binary_crossentropy', 'optimizer': 'adam', 'output_count_dense': 50, 'output_count_lstm': 50}\n",
            "Epoch 1/2\n",
            "3990/3990 [==============================] - 53s 13ms/step - loss: 0.0946 - accuracy: 0.7860 - val_loss: 0.0525 - val_accuracy: 0.9940\n",
            "Epoch 2/2\n",
            "3990/3990 [==============================] - 50s 13ms/step - loss: 0.0532 - accuracy: 0.9838 - val_loss: 0.0477 - val_accuracy: 0.9940\n"
          ],
          "name": "stdout"
        },
        {
          "output_type": "stream",
          "text": [
            "\r 94%|█████████▍| 17/18 [29:36<01:44, 104.22s/it]"
          ],
          "name": "stderr"
        },
        {
          "output_type": "stream",
          "text": [
            "{'activation': 'relu', 'batch_size': 32, 'dropout': 0.3, 'epochs': 2, 'last_activation': 'sigmoid', 'loss': 'binary_crossentropy', 'optimizer': 'adam', 'output_count_dense': 50, 'output_count_lstm': 60}\n",
            "Epoch 1/2\n",
            "3990/3990 [==============================] - 54s 13ms/step - loss: 0.0921 - accuracy: 0.8052 - val_loss: 0.0508 - val_accuracy: 0.9940\n",
            "Epoch 2/2\n",
            "3990/3990 [==============================] - 52s 13ms/step - loss: 0.0523 - accuracy: 0.9811 - val_loss: 0.0476 - val_accuracy: 0.9940\n"
          ],
          "name": "stdout"
        },
        {
          "output_type": "stream",
          "text": [
            "100%|██████████| 18/18 [31:23<00:00, 104.64s/it]\n"
          ],
          "name": "stderr"
        }
      ]
    },
    {
      "cell_type": "code",
      "metadata": {
        "id": "7yict0QyGxV7"
      },
      "source": [
        "analyze_object = talos.Analyze(scan_results)"
      ],
      "execution_count": null,
      "outputs": []
    },
    {
      "cell_type": "code",
      "metadata": {
        "id": "S3d78iYYG0I3",
        "colab": {
          "base_uri": "https://localhost:8080/"
        },
        "outputId": "c2d47fd2-99ea-4145-de4b-12d22208fb52"
      },
      "source": [
        "analyze_object.best_params('val_accuracy', ['accuracy', 'loss', 'val_loss'])"
      ],
      "execution_count": null,
      "outputs": [
        {
          "output_type": "execute_result",
          "data": {
            "text/plain": [
              "array([[32, 2, 2, 30, 'sigmoid', 'adam', 0.2, 102.61963963508606, 40,\n",
              "        '01/10/21-104029', 'relu', '01/10/21-103847', 0],\n",
              "       [32, 2, 2, 30, 'sigmoid', 'adam', 0.2, 104.79173731803894, 50,\n",
              "        '01/10/21-104216', 'relu', '01/10/21-104031', 1],\n",
              "       [32, 2, 2, 50, 'sigmoid', 'adam', 0.3, 104.42740154266357, 50,\n",
              "        '01/10/21-110823', 'relu', '01/10/21-110638', 2],\n",
              "       [32, 2, 2, 50, 'sigmoid', 'adam', 0.3, 100.33402729034424, 40,\n",
              "        '01/10/21-110638', 'relu', '01/10/21-110457', 3],\n",
              "       [32, 2, 2, 40, 'sigmoid', 'adam', 0.3, 105.58643436431885, 60,\n",
              "        '01/10/21-110457', 'relu', '01/10/21-110311', 4],\n",
              "       [32, 2, 2, 40, 'sigmoid', 'adam', 0.3, 104.95515632629395, 50,\n",
              "        '01/10/21-110310', 'relu', '01/10/21-110125', 5],\n",
              "       [32, 2, 2, 40, 'sigmoid', 'adam', 0.3, 100.8472375869751, 40,\n",
              "        '01/10/21-110125', 'relu', '01/10/21-105944', 6],\n",
              "       [32, 2, 2, 30, 'sigmoid', 'adam', 0.3, 105.52223634719849, 60,\n",
              "        '01/10/21-105943', 'relu', '01/10/21-105758', 7],\n",
              "       [32, 2, 2, 30, 'sigmoid', 'adam', 0.3, 104.80707001686096, 50,\n",
              "        '01/10/21-105757', 'relu', '01/10/21-105612', 8],\n",
              "       [32, 2, 2, 30, 'sigmoid', 'adam', 0.3, 100.88511085510254, 40,\n",
              "        '01/10/21-105611', 'relu', '01/10/21-105431', 9]], dtype=object)"
            ]
          },
          "metadata": {
            "tags": []
          },
          "execution_count": 62
        }
      ]
    },
    {
      "cell_type": "code",
      "metadata": {
        "id": "KBlqpfIhG2xq",
        "colab": {
          "base_uri": "https://localhost:8080/",
          "height": 423
        },
        "outputId": "720179c6-a3eb-41a7-d7d7-9af96aa2b5ef"
      },
      "source": [
        "analyze_object.plot_line('val_accuracy')"
      ],
      "execution_count": null,
      "outputs": [
        {
          "output_type": "display_data",
          "data": {
            "image/png": "[encoded data removed]",
            "text/plain": [
              "<Figure size 864x475.2 with 1 Axes>"
            ]
          },
          "metadata": {
            "tags": []
          }
        }
      ]
    },
    {
      "cell_type": "code",
      "metadata": {
        "id": "mQ8Xr0tiG4ry",
        "colab": {
          "base_uri": "https://localhost:8080/",
          "height": 410
        },
        "outputId": "6e1870b3-1611-4e9d-fa02-eeaf97b8e572"
      },
      "source": [
        "analyze_object.plot_line('accuracy')"
      ],
      "execution_count": null,
      "outputs": [
        {
          "output_type": "display_data",
          "data": {
            "image/png": "[encoded data removed]",
            "text/plain": [
              "<Figure size 864x475.2 with 1 Axes>"
            ]
          },
          "metadata": {
            "tags": []
          }
        }
      ]
    },
    {
      "cell_type": "markdown",
      "metadata": {
        "id": "pV4ierVz7J02"
      },
      "source": [
        "#### Method 3"
      ]
    },
    {
      "cell_type": "code",
      "metadata": {
        "id": "jH7jcbAs7MXv"
      },
      "source": [
        "def toxic_classifier(x_train,y_train,x_val,y_val,params):\r\n",
        "\r\n",
        "  inp=Input(shape=(maxpadlen, ),dtype='int32')\r\n",
        "\r\n",
        "  embedding_layer = Embedding(len(word_index) + 1,\r\n",
        "                           embedding_dim_fasttext,\r\n",
        "                           weights = [embedding_matrix_fasttext],\r\n",
        "                           input_length = maxpadlen,\r\n",
        "                           trainable=False,\r\n",
        "                           name = 'embeddings')\r\n",
        "  embedded_sequences = embedding_layer(inp)\r\n",
        "\r\n",
        "  x = LSTM(params['output_count_lstm'], return_sequences=True,name='lstm_layer')(embedded_sequences)\r\n",
        "\r\n",
        "  x = Conv1D(filters=params['filters'], kernel_size=params['kernel_size'], padding='same', activation='relu', kernel_initializer='he_uniform')(x)\r\n",
        "\r\n",
        "  x = MaxPooling1D(params['pool_size'])(x)\r\n",
        "  \r\n",
        "  x = GlobalMaxPool1D()(x)\r\n",
        "  \r\n",
        "  x = BatchNormalization()(x)\r\n",
        "  \r\n",
        "  x = Dense(params['output_1_count_dense'], activation=params['activation'], kernel_initializer='he_uniform')(x)\r\n",
        "  \r\n",
        "  x = Dropout(params['dropout'])(x)\r\n",
        "\r\n",
        "  x = Dense(params['output_2_count_dense'], activation=params['activation'], kernel_initializer='he_uniform')(x)\r\n",
        "  \r\n",
        "  x = Dropout(params['dropout'])(x)\r\n",
        "  \r\n",
        "  preds = Dense(6, activation=params['last_activation'], kernel_initializer='glorot_uniform')(x)\r\n",
        "\r\n",
        "  model = Model(inputs=inp, outputs=preds)\r\n",
        "\r\n",
        "  model.compile(loss=params['loss'], optimizer=params['optimizer'], metrics=['accuracy'])\r\n",
        "\r\n",
        "  model_info=model.fit(x_train,y_train, epochs=params['epochs'], batch_size=params['batch_size'],  validation_data=(x_val, y_val))\r\n",
        "\r\n",
        "  return model_info, model"
      ],
      "execution_count": null,
      "outputs": []
    },
    {
      "cell_type": "code",
      "metadata": {
        "id": "-Ru7Tkq67QoO"
      },
      "source": [
        "p={\r\n",
        "    'output_count_lstm': [50,60],\r\n",
        "    'output_1_count_dense': [40,50],\r\n",
        "    'output_2_count_dense': [30,40],\r\n",
        "    'filters' : [64],\r\n",
        "    'kernel_size' : [3],\r\n",
        "    'batch_size': [32],\r\n",
        "    'pool_size': [3],\r\n",
        "    'epochs':[2],\r\n",
        "    'optimizer':['adam'],\r\n",
        "    'activation':['relu'],\r\n",
        "    'last_activation': ['sigmoid'],\r\n",
        "    'dropout':[0.2],\r\n",
        "    'loss': ['binary_crossentropy']   \r\n",
        "}"
      ],
      "execution_count": null,
      "outputs": []
    },
    {
      "cell_type": "code",
      "metadata": {
        "colab": {
          "base_uri": "https://localhost:8080/"
        },
        "id": "9l3M27FU7QiG",
        "outputId": "54ff1850-c200-4a43-bd62-cb90511d9701"
      },
      "source": [
        "scan_results = talos.Scan(x=x_train,\r\n",
        "               y=y_train,\r\n",
        "               x_val=x_val,\r\n",
        "               y_val=y_val,\r\n",
        "               model=toxic_classifier,\r\n",
        "               params=p,\r\n",
        "               experiment_name='tcc',\r\n",
        "               print_params=True)"
      ],
      "execution_count": null,
      "outputs": [
        {
          "output_type": "stream",
          "text": [
            "\r  0%|          | 0/24 [00:00<?, ?it/s]"
          ],
          "name": "stderr"
        },
        {
          "output_type": "stream",
          "text": [
            "{'activation': 'relu', 'batch_size': 32, 'dropout': 0.2, 'epochs': 2, 'filters': 64, 'kernel_size': 3, 'last_activation': 'sigmoid', 'loss': 'binary_crossentropy', 'optimizer': 'adam', 'output_1_count_dense': 40, 'output_2_count_dense': 30, 'output_count_lstm': 50, 'pool_size': 3}\n",
            "Epoch 1/2\n",
            "3990/3990 [==============================] - 60s 14ms/step - loss: 0.1122 - accuracy: 0.6805 - val_loss: 0.0529 - val_accuracy: 0.9941\n",
            "Epoch 2/2\n",
            "3990/3990 [==============================] - 55s 14ms/step - loss: 0.0555 - accuracy: 0.9812 - val_loss: 0.0517 - val_accuracy: 0.9941\n"
          ],
          "name": "stdout"
        },
        {
          "output_type": "stream",
          "text": [
            "\r  4%|▍         | 1/24 [01:57<45:03, 117.55s/it]"
          ],
          "name": "stderr"
        },
        {
          "output_type": "stream",
          "text": [
            "{'activation': 'relu', 'batch_size': 32, 'dropout': 0.2, 'epochs': 2, 'filters': 64, 'kernel_size': 3, 'last_activation': 'sigmoid', 'loss': 'binary_crossentropy', 'optimizer': 'adam', 'output_1_count_dense': 40, 'output_2_count_dense': 40, 'output_count_lstm': 50, 'pool_size': 3}\n",
            "Epoch 1/2\n",
            "3990/3990 [==============================] - 57s 14ms/step - loss: 0.1062 - accuracy: 0.6787 - val_loss: 0.0604 - val_accuracy: 0.9941\n",
            "Epoch 2/2\n",
            "3990/3990 [==============================] - 55s 14ms/step - loss: 0.0557 - accuracy: 0.9810 - val_loss: 0.0493 - val_accuracy: 0.9940\n"
          ],
          "name": "stdout"
        },
        {
          "output_type": "stream",
          "text": [
            "\r  8%|▊         | 2/24 [03:50<42:34, 116.10s/it]"
          ],
          "name": "stderr"
        },
        {
          "output_type": "stream",
          "text": [
            "{'activation': 'relu', 'batch_size': 32, 'dropout': 0.2, 'epochs': 2, 'filters': 64, 'kernel_size': 4, 'last_activation': 'sigmoid', 'loss': 'binary_crossentropy', 'optimizer': 'adam', 'output_1_count_dense': 40, 'output_2_count_dense': 30, 'output_count_lstm': 50, 'pool_size': 3}\n",
            "Epoch 1/2\n",
            "3990/3990 [==============================] - 57s 14ms/step - loss: 0.1068 - accuracy: 0.7428 - val_loss: 0.0558 - val_accuracy: 0.9941\n",
            "Epoch 2/2\n",
            "3990/3990 [==============================] - 54s 13ms/step - loss: 0.0559 - accuracy: 0.9907 - val_loss: 0.0532 - val_accuracy: 0.9941\n"
          ],
          "name": "stdout"
        },
        {
          "output_type": "stream",
          "text": [
            "\r 12%|█▎        | 3/24 [05:42<40:11, 114.81s/it]"
          ],
          "name": "stderr"
        },
        {
          "output_type": "stream",
          "text": [
            "{'activation': 'relu', 'batch_size': 32, 'dropout': 0.2, 'epochs': 2, 'filters': 64, 'kernel_size': 4, 'last_activation': 'sigmoid', 'loss': 'binary_crossentropy', 'optimizer': 'adam', 'output_1_count_dense': 40, 'output_2_count_dense': 40, 'output_count_lstm': 50, 'pool_size': 3}\n",
            "Epoch 1/2\n",
            "3990/3990 [==============================] - 57s 14ms/step - loss: 0.1057 - accuracy: 0.7745 - val_loss: 0.0734 - val_accuracy: 0.9941\n",
            "Epoch 2/2\n",
            "3990/3990 [==============================] - 54s 14ms/step - loss: 0.0561 - accuracy: 0.9800 - val_loss: 0.0506 - val_accuracy: 0.9937\n"
          ],
          "name": "stdout"
        },
        {
          "output_type": "stream",
          "text": [
            "\r 17%|█▋        | 4/24 [07:34<38:04, 114.24s/it]"
          ],
          "name": "stderr"
        },
        {
          "output_type": "stream",
          "text": [
            "{'activation': 'relu', 'batch_size': 32, 'dropout': 0.2, 'epochs': 2, 'filters': 64, 'kernel_size': 5, 'last_activation': 'sigmoid', 'loss': 'binary_crossentropy', 'optimizer': 'adam', 'output_1_count_dense': 40, 'output_2_count_dense': 30, 'output_count_lstm': 50, 'pool_size': 3}\n",
            "Epoch 1/2\n",
            "3990/3990 [==============================] - 56s 14ms/step - loss: 0.1169 - accuracy: 0.8019 - val_loss: 0.0509 - val_accuracy: 0.9935\n",
            "Epoch 2/2\n",
            "3990/3990 [==============================] - 54s 13ms/step - loss: 0.0568 - accuracy: 0.9886 - val_loss: 0.0498 - val_accuracy: 0.9941\n"
          ],
          "name": "stdout"
        },
        {
          "output_type": "stream",
          "text": [
            "\r 21%|██        | 5/24 [09:26<35:54, 113.37s/it]"
          ],
          "name": "stderr"
        },
        {
          "output_type": "stream",
          "text": [
            "{'activation': 'relu', 'batch_size': 32, 'dropout': 0.2, 'epochs': 2, 'filters': 64, 'kernel_size': 5, 'last_activation': 'sigmoid', 'loss': 'binary_crossentropy', 'optimizer': 'adam', 'output_1_count_dense': 40, 'output_2_count_dense': 40, 'output_count_lstm': 50, 'pool_size': 3}\n",
            "Epoch 1/2\n",
            "3990/3990 [==============================] - 56s 14ms/step - loss: 0.1013 - accuracy: 0.7782 - val_loss: 0.0674 - val_accuracy: 0.9941\n",
            "Epoch 2/2\n",
            "3990/3990 [==============================] - 53s 13ms/step - loss: 0.0551 - accuracy: 0.9755 - val_loss: 0.0484 - val_accuracy: 0.9929\n"
          ],
          "name": "stdout"
        },
        {
          "output_type": "stream",
          "text": [
            "\r 25%|██▌       | 6/24 [11:17<33:47, 112.66s/it]"
          ],
          "name": "stderr"
        },
        {
          "output_type": "stream",
          "text": [
            "{'activation': 'relu', 'batch_size': 32, 'dropout': 0.2, 'epochs': 2, 'filters': 128, 'kernel_size': 3, 'last_activation': 'sigmoid', 'loss': 'binary_crossentropy', 'optimizer': 'adam', 'output_1_count_dense': 40, 'output_2_count_dense': 30, 'output_count_lstm': 50, 'pool_size': 3}\n",
            "Epoch 1/2\n",
            "3990/3990 [==============================] - 58s 14ms/step - loss: 0.1071 - accuracy: 0.6946 - val_loss: 0.0522 - val_accuracy: 0.9941\n",
            "Epoch 2/2\n",
            "3990/3990 [==============================] - 54s 14ms/step - loss: 0.0557 - accuracy: 0.9911 - val_loss: 0.0489 - val_accuracy: 0.9941\n"
          ],
          "name": "stdout"
        },
        {
          "output_type": "stream",
          "text": [
            "\r 29%|██▉       | 7/24 [13:10<31:59, 112.89s/it]"
          ],
          "name": "stderr"
        },
        {
          "output_type": "stream",
          "text": [
            "{'activation': 'relu', 'batch_size': 32, 'dropout': 0.2, 'epochs': 2, 'filters': 128, 'kernel_size': 3, 'last_activation': 'sigmoid', 'loss': 'binary_crossentropy', 'optimizer': 'adam', 'output_1_count_dense': 40, 'output_2_count_dense': 40, 'output_count_lstm': 50, 'pool_size': 3}\n",
            "Epoch 1/2\n",
            "3990/3990 [==============================] - 57s 14ms/step - loss: 0.0945 - accuracy: 0.7963 - val_loss: 0.0521 - val_accuracy: 0.9941\n",
            "Epoch 2/2\n",
            "3990/3990 [==============================] - 54s 14ms/step - loss: 0.0550 - accuracy: 0.9744 - val_loss: 0.0524 - val_accuracy: 0.9941\n"
          ],
          "name": "stdout"
        },
        {
          "output_type": "stream",
          "text": [
            "\r 33%|███▎      | 8/24 [15:03<30:04, 112.78s/it]"
          ],
          "name": "stderr"
        },
        {
          "output_type": "stream",
          "text": [
            "{'activation': 'relu', 'batch_size': 32, 'dropout': 0.2, 'epochs': 2, 'filters': 128, 'kernel_size': 4, 'last_activation': 'sigmoid', 'loss': 'binary_crossentropy', 'optimizer': 'adam', 'output_1_count_dense': 40, 'output_2_count_dense': 30, 'output_count_lstm': 50, 'pool_size': 3}\n",
            "Epoch 1/2\n",
            "3990/3990 [==============================] - 57s 14ms/step - loss: 0.1092 - accuracy: 0.7207 - val_loss: 0.0543 - val_accuracy: 0.9941\n",
            "Epoch 2/2\n",
            "3990/3990 [==============================] - 54s 14ms/step - loss: 0.0545 - accuracy: 0.9854 - val_loss: 0.0486 - val_accuracy: 0.9941\n"
          ],
          "name": "stdout"
        },
        {
          "output_type": "stream",
          "text": [
            "\r 38%|███▊      | 9/24 [16:55<28:10, 112.72s/it]"
          ],
          "name": "stderr"
        },
        {
          "output_type": "stream",
          "text": [
            "{'activation': 'relu', 'batch_size': 32, 'dropout': 0.2, 'epochs': 2, 'filters': 128, 'kernel_size': 4, 'last_activation': 'sigmoid', 'loss': 'binary_crossentropy', 'optimizer': 'adam', 'output_1_count_dense': 40, 'output_2_count_dense': 40, 'output_count_lstm': 50, 'pool_size': 3}\n",
            "Epoch 1/2\n",
            "3990/3990 [==============================] - 57s 14ms/step - loss: 0.0999 - accuracy: 0.7439 - val_loss: 0.0525 - val_accuracy: 0.9939\n",
            "Epoch 2/2\n",
            "3990/3990 [==============================] - 54s 13ms/step - loss: 0.0548 - accuracy: 0.9855 - val_loss: 0.0495 - val_accuracy: 0.9938\n"
          ],
          "name": "stdout"
        },
        {
          "output_type": "stream",
          "text": [
            "\r 42%|████▏     | 10/24 [18:47<26:15, 112.54s/it]"
          ],
          "name": "stderr"
        },
        {
          "output_type": "stream",
          "text": [
            "{'activation': 'relu', 'batch_size': 32, 'dropout': 0.2, 'epochs': 2, 'filters': 128, 'kernel_size': 5, 'last_activation': 'sigmoid', 'loss': 'binary_crossentropy', 'optimizer': 'adam', 'output_1_count_dense': 40, 'output_2_count_dense': 30, 'output_count_lstm': 50, 'pool_size': 3}\n",
            "Epoch 1/2\n",
            "3990/3990 [==============================] - 57s 14ms/step - loss: 0.1129 - accuracy: 0.6835 - val_loss: 0.0526 - val_accuracy: 0.9938\n",
            "Epoch 2/2\n",
            "3990/3990 [==============================] - 54s 14ms/step - loss: 0.0561 - accuracy: 0.9837 - val_loss: 0.0495 - val_accuracy: 0.9941\n"
          ],
          "name": "stdout"
        },
        {
          "output_type": "stream",
          "text": [
            "\r 46%|████▌     | 11/24 [20:40<24:21, 112.45s/it]"
          ],
          "name": "stderr"
        },
        {
          "output_type": "stream",
          "text": [
            "{'activation': 'relu', 'batch_size': 32, 'dropout': 0.2, 'epochs': 2, 'filters': 128, 'kernel_size': 5, 'last_activation': 'sigmoid', 'loss': 'binary_crossentropy', 'optimizer': 'adam', 'output_1_count_dense': 40, 'output_2_count_dense': 40, 'output_count_lstm': 50, 'pool_size': 3}\n",
            "Epoch 1/2\n",
            "3990/3990 [==============================] - 56s 14ms/step - loss: 0.0955 - accuracy: 0.8038 - val_loss: 0.0514 - val_accuracy: 0.9898\n",
            "Epoch 2/2\n",
            "3990/3990 [==============================] - 54s 14ms/step - loss: 0.0553 - accuracy: 0.9849 - val_loss: 0.0497 - val_accuracy: 0.9941\n"
          ],
          "name": "stdout"
        },
        {
          "output_type": "stream",
          "text": [
            "\r 50%|█████     | 12/24 [22:32<22:27, 112.30s/it]"
          ],
          "name": "stderr"
        },
        {
          "output_type": "stream",
          "text": [
            "{'activation': 'relu', 'batch_size': 32, 'dropout': 0.3, 'epochs': 2, 'filters': 64, 'kernel_size': 3, 'last_activation': 'sigmoid', 'loss': 'binary_crossentropy', 'optimizer': 'adam', 'output_1_count_dense': 40, 'output_2_count_dense': 30, 'output_count_lstm': 50, 'pool_size': 3}\n",
            "Epoch 1/2\n",
            "3990/3990 [==============================] - 56s 14ms/step - loss: 0.1130 - accuracy: 0.7310 - val_loss: 0.0530 - val_accuracy: 0.9941\n",
            "Epoch 2/2\n",
            "3990/3990 [==============================] - 54s 13ms/step - loss: 0.0580 - accuracy: 0.9885 - val_loss: 0.0543 - val_accuracy: 0.9941\n"
          ],
          "name": "stdout"
        },
        {
          "output_type": "stream",
          "text": [
            "\r 54%|█████▍    | 13/24 [24:23<20:31, 111.97s/it]"
          ],
          "name": "stderr"
        },
        {
          "output_type": "stream",
          "text": [
            "{'activation': 'relu', 'batch_size': 32, 'dropout': 0.3, 'epochs': 2, 'filters': 64, 'kernel_size': 3, 'last_activation': 'sigmoid', 'loss': 'binary_crossentropy', 'optimizer': 'adam', 'output_1_count_dense': 40, 'output_2_count_dense': 40, 'output_count_lstm': 50, 'pool_size': 3}\n",
            "Epoch 1/2\n",
            "3990/3990 [==============================] - 56s 14ms/step - loss: 0.1119 - accuracy: 0.7097 - val_loss: 0.0549 - val_accuracy: 0.9941\n",
            "Epoch 2/2\n",
            "3990/3990 [==============================] - 53s 13ms/step - loss: 0.0578 - accuracy: 0.9675 - val_loss: 0.0694 - val_accuracy: 0.9941\n"
          ],
          "name": "stdout"
        },
        {
          "output_type": "stream",
          "text": [
            "\r 58%|█████▊    | 14/24 [26:14<18:36, 111.61s/it]"
          ],
          "name": "stderr"
        },
        {
          "output_type": "stream",
          "text": [
            "{'activation': 'relu', 'batch_size': 32, 'dropout': 0.3, 'epochs': 2, 'filters': 64, 'kernel_size': 4, 'last_activation': 'sigmoid', 'loss': 'binary_crossentropy', 'optimizer': 'adam', 'output_1_count_dense': 40, 'output_2_count_dense': 30, 'output_count_lstm': 50, 'pool_size': 3}\n",
            "Epoch 1/2\n",
            "3990/3990 [==============================] - 57s 14ms/step - loss: 0.1221 - accuracy: 0.7096 - val_loss: 0.0541 - val_accuracy: 0.9941\n",
            "Epoch 2/2\n",
            "3990/3990 [==============================] - 55s 14ms/step - loss: 0.0569 - accuracy: 0.9934 - val_loss: 0.0521 - val_accuracy: 0.9941\n"
          ],
          "name": "stdout"
        },
        {
          "output_type": "stream",
          "text": [
            "\r 62%|██████▎   | 15/24 [28:07<16:49, 112.15s/it]"
          ],
          "name": "stderr"
        },
        {
          "output_type": "stream",
          "text": [
            "{'activation': 'relu', 'batch_size': 32, 'dropout': 0.3, 'epochs': 2, 'filters': 64, 'kernel_size': 4, 'last_activation': 'sigmoid', 'loss': 'binary_crossentropy', 'optimizer': 'adam', 'output_1_count_dense': 40, 'output_2_count_dense': 40, 'output_count_lstm': 50, 'pool_size': 3}\n",
            "Epoch 1/2\n",
            "3990/3990 [==============================] - 56s 14ms/step - loss: 0.1136 - accuracy: 0.7548 - val_loss: 0.0533 - val_accuracy: 0.9941\n",
            "Epoch 2/2\n",
            "3990/3990 [==============================] - 54s 13ms/step - loss: 0.0576 - accuracy: 0.9853 - val_loss: 0.0514 - val_accuracy: 0.9941\n"
          ],
          "name": "stdout"
        },
        {
          "output_type": "stream",
          "text": [
            "\r 67%|██████▋   | 16/24 [29:59<14:55, 111.98s/it]"
          ],
          "name": "stderr"
        },
        {
          "output_type": "stream",
          "text": [
            "{'activation': 'relu', 'batch_size': 32, 'dropout': 0.3, 'epochs': 2, 'filters': 64, 'kernel_size': 5, 'last_activation': 'sigmoid', 'loss': 'binary_crossentropy', 'optimizer': 'adam', 'output_1_count_dense': 40, 'output_2_count_dense': 30, 'output_count_lstm': 50, 'pool_size': 3}\n",
            "Epoch 1/2\n",
            "3990/3990 [==============================] - 56s 14ms/step - loss: 0.1311 - accuracy: 0.7175 - val_loss: 0.0573 - val_accuracy: 0.9941\n",
            "Epoch 2/2\n",
            "3990/3990 [==============================] - 53s 13ms/step - loss: 0.0585 - accuracy: 0.9678 - val_loss: 0.0502 - val_accuracy: 0.9941\n"
          ],
          "name": "stdout"
        },
        {
          "output_type": "stream",
          "text": [
            "\r 71%|███████   | 17/24 [31:49<13:01, 111.60s/it]"
          ],
          "name": "stderr"
        },
        {
          "output_type": "stream",
          "text": [
            "{'activation': 'relu', 'batch_size': 32, 'dropout': 0.3, 'epochs': 2, 'filters': 64, 'kernel_size': 5, 'last_activation': 'sigmoid', 'loss': 'binary_crossentropy', 'optimizer': 'adam', 'output_1_count_dense': 40, 'output_2_count_dense': 40, 'output_count_lstm': 50, 'pool_size': 3}\n",
            "Epoch 1/2\n",
            "3990/3990 [==============================] - 57s 14ms/step - loss: 0.1278 - accuracy: 0.6966 - val_loss: 0.0526 - val_accuracy: 0.9940\n",
            "Epoch 2/2\n",
            "3990/3990 [==============================] - 54s 14ms/step - loss: 0.0579 - accuracy: 0.9848 - val_loss: 0.0532 - val_accuracy: 0.9941\n"
          ],
          "name": "stdout"
        },
        {
          "output_type": "stream",
          "text": [
            "\r 75%|███████▌  | 18/24 [33:42<11:10, 111.78s/it]"
          ],
          "name": "stderr"
        },
        {
          "output_type": "stream",
          "text": [
            "{'activation': 'relu', 'batch_size': 32, 'dropout': 0.3, 'epochs': 2, 'filters': 128, 'kernel_size': 3, 'last_activation': 'sigmoid', 'loss': 'binary_crossentropy', 'optimizer': 'adam', 'output_1_count_dense': 40, 'output_2_count_dense': 30, 'output_count_lstm': 50, 'pool_size': 3}\n",
            "Epoch 1/2\n",
            "3990/3990 [==============================] - 56s 14ms/step - loss: 0.1252 - accuracy: 0.6679 - val_loss: 0.0553 - val_accuracy: 0.9941\n",
            "Epoch 2/2\n",
            "3990/3990 [==============================] - 54s 13ms/step - loss: 0.0583 - accuracy: 0.9920 - val_loss: 0.0519 - val_accuracy: 0.9941\n"
          ],
          "name": "stdout"
        },
        {
          "output_type": "stream",
          "text": [
            "\r 79%|███████▉  | 19/24 [35:32<09:17, 111.52s/it]"
          ],
          "name": "stderr"
        },
        {
          "output_type": "stream",
          "text": [
            "{'activation': 'relu', 'batch_size': 32, 'dropout': 0.3, 'epochs': 2, 'filters': 128, 'kernel_size': 3, 'last_activation': 'sigmoid', 'loss': 'binary_crossentropy', 'optimizer': 'adam', 'output_1_count_dense': 40, 'output_2_count_dense': 40, 'output_count_lstm': 50, 'pool_size': 3}\n",
            "Epoch 1/2\n",
            "3990/3990 [==============================] - 56s 14ms/step - loss: 0.1070 - accuracy: 0.6480 - val_loss: 0.0540 - val_accuracy: 0.9941\n",
            "Epoch 2/2\n",
            "3990/3990 [==============================] - 54s 14ms/step - loss: 0.0566 - accuracy: 0.9872 - val_loss: 0.0520 - val_accuracy: 0.9941\n"
          ],
          "name": "stdout"
        },
        {
          "output_type": "stream",
          "text": [
            "\r 83%|████████▎ | 20/24 [37:25<07:26, 111.70s/it]"
          ],
          "name": "stderr"
        },
        {
          "output_type": "stream",
          "text": [
            "{'activation': 'relu', 'batch_size': 32, 'dropout': 0.3, 'epochs': 2, 'filters': 128, 'kernel_size': 4, 'last_activation': 'sigmoid', 'loss': 'binary_crossentropy', 'optimizer': 'adam', 'output_1_count_dense': 40, 'output_2_count_dense': 30, 'output_count_lstm': 50, 'pool_size': 3}\n",
            "Epoch 1/2\n",
            "3990/3990 [==============================] - 57s 14ms/step - loss: 0.1139 - accuracy: 0.6824 - val_loss: 0.0534 - val_accuracy: 0.9941\n",
            "Epoch 2/2\n",
            "3990/3990 [==============================] - 54s 14ms/step - loss: 0.0587 - accuracy: 0.9878 - val_loss: 0.0506 - val_accuracy: 0.9941\n"
          ],
          "name": "stdout"
        },
        {
          "output_type": "stream",
          "text": [
            "\r 88%|████████▊ | 21/24 [39:17<05:35, 111.83s/it]"
          ],
          "name": "stderr"
        },
        {
          "output_type": "stream",
          "text": [
            "{'activation': 'relu', 'batch_size': 32, 'dropout': 0.3, 'epochs': 2, 'filters': 128, 'kernel_size': 4, 'last_activation': 'sigmoid', 'loss': 'binary_crossentropy', 'optimizer': 'adam', 'output_1_count_dense': 40, 'output_2_count_dense': 40, 'output_count_lstm': 50, 'pool_size': 3}\n",
            "Epoch 1/2\n",
            "3990/3990 [==============================] - 57s 14ms/step - loss: 0.1029 - accuracy: 0.7413 - val_loss: 0.0619 - val_accuracy: 0.9941\n",
            "Epoch 2/2\n",
            "3990/3990 [==============================] - 54s 14ms/step - loss: 0.0588 - accuracy: 0.9834 - val_loss: 0.0504 - val_accuracy: 0.9941\n"
          ],
          "name": "stdout"
        },
        {
          "output_type": "stream",
          "text": [
            "\r 92%|█████████▏| 22/24 [41:09<03:43, 111.97s/it]"
          ],
          "name": "stderr"
        },
        {
          "output_type": "stream",
          "text": [
            "{'activation': 'relu', 'batch_size': 32, 'dropout': 0.3, 'epochs': 2, 'filters': 128, 'kernel_size': 5, 'last_activation': 'sigmoid', 'loss': 'binary_crossentropy', 'optimizer': 'adam', 'output_1_count_dense': 40, 'output_2_count_dense': 30, 'output_count_lstm': 50, 'pool_size': 3}\n",
            "Epoch 1/2\n",
            "3990/3990 [==============================] - 56s 14ms/step - loss: 0.1220 - accuracy: 0.6922 - val_loss: 0.0623 - val_accuracy: 0.9941\n",
            "Epoch 2/2\n",
            "3990/3990 [==============================] - 54s 14ms/step - loss: 0.0585 - accuracy: 0.9902 - val_loss: 0.0617 - val_accuracy: 0.9941\n"
          ],
          "name": "stdout"
        },
        {
          "output_type": "stream",
          "text": [
            "\r 96%|█████████▌| 23/24 [43:01<01:51, 111.98s/it]"
          ],
          "name": "stderr"
        },
        {
          "output_type": "stream",
          "text": [
            "{'activation': 'relu', 'batch_size': 32, 'dropout': 0.3, 'epochs': 2, 'filters': 128, 'kernel_size': 5, 'last_activation': 'sigmoid', 'loss': 'binary_crossentropy', 'optimizer': 'adam', 'output_1_count_dense': 40, 'output_2_count_dense': 40, 'output_count_lstm': 50, 'pool_size': 3}\n",
            "Epoch 1/2\n",
            "3990/3990 [==============================] - 56s 14ms/step - loss: 0.1070 - accuracy: 0.6884 - val_loss: 0.0639 - val_accuracy: 0.9941\n",
            "Epoch 2/2\n",
            "3990/3990 [==============================] - 54s 14ms/step - loss: 0.0580 - accuracy: 0.9799 - val_loss: 0.0500 - val_accuracy: 0.9941\n"
          ],
          "name": "stdout"
        },
        {
          "output_type": "stream",
          "text": [
            "100%|██████████| 24/24 [44:53<00:00, 112.22s/it]\n"
          ],
          "name": "stderr"
        }
      ]
    },
    {
      "cell_type": "code",
      "metadata": {
        "colab": {
          "base_uri": "https://localhost:8080/"
        },
        "id": "eQU9iqMM_IT2",
        "outputId": "2128d1c6-0201-4387-c82d-c619d43d54b5"
      },
      "source": [
        "model_id = scan_results.data['val_accuracy'].astype('float').argmax()\r\n",
        "model_id"
      ],
      "execution_count": null,
      "outputs": [
        {
          "output_type": "execute_result",
          "data": {
            "text/plain": [
              "0"
            ]
          },
          "metadata": {
            "tags": []
          },
          "execution_count": 60
        }
      ]
    },
    {
      "cell_type": "code",
      "metadata": {
        "colab": {
          "base_uri": "https://localhost:8080/",
          "height": 116
        },
        "id": "8OiN965L_JOz",
        "outputId": "c0452f44-ad6f-4f7f-bcde-7db6a0e71ddb"
      },
      "source": [
        "scan_results.data[0:1]"
      ],
      "execution_count": null,
      "outputs": [
        {
          "output_type": "execute_result",
          "data": {
            "text/html": [
              "<div>\n",
              "<style scoped>\n",
              "    .dataframe tbody tr th:only-of-type {\n",
              "        vertical-align: middle;\n",
              "    }\n",
              "\n",
              "    .dataframe tbody tr th {\n",
              "        vertical-align: top;\n",
              "    }\n",
              "\n",
              "    .dataframe thead th {\n",
              "        text-align: right;\n",
              "    }\n",
              "</style>\n",
              "<table border=\"1\" class=\"dataframe\">\n",
              "  <thead>\n",
              "    <tr style=\"text-align: right;\">\n",
              "      <th></th>\n",
              "      <th>start</th>\n",
              "      <th>end</th>\n",
              "      <th>duration</th>\n",
              "      <th>round_epochs</th>\n",
              "      <th>loss</th>\n",
              "      <th>accuracy</th>\n",
              "      <th>val_loss</th>\n",
              "      <th>val_accuracy</th>\n",
              "      <th>activation</th>\n",
              "      <th>batch_size</th>\n",
              "      <th>dropout</th>\n",
              "      <th>epochs</th>\n",
              "      <th>filters</th>\n",
              "      <th>kernel_size</th>\n",
              "      <th>last_activation</th>\n",
              "      <th>loss</th>\n",
              "      <th>optimizer</th>\n",
              "      <th>output_1_count_dense</th>\n",
              "      <th>output_2_count_dense</th>\n",
              "      <th>output_count_lstm</th>\n",
              "      <th>pool_size</th>\n",
              "    </tr>\n",
              "  </thead>\n",
              "  <tbody>\n",
              "    <tr>\n",
              "      <th>0</th>\n",
              "      <td>01/10/21-090630</td>\n",
              "      <td>01/10/21-090826</td>\n",
              "      <td>116.698817</td>\n",
              "      <td>2</td>\n",
              "      <td>0.054549</td>\n",
              "      <td>0.982038</td>\n",
              "      <td>0.051664</td>\n",
              "      <td>0.994078</td>\n",
              "      <td>relu</td>\n",
              "      <td>32</td>\n",
              "      <td>0.2</td>\n",
              "      <td>2</td>\n",
              "      <td>64</td>\n",
              "      <td>3</td>\n",
              "      <td>sigmoid</td>\n",
              "      <td>binary_crossentropy</td>\n",
              "      <td>adam</td>\n",
              "      <td>40</td>\n",
              "      <td>30</td>\n",
              "      <td>50</td>\n",
              "      <td>3</td>\n",
              "    </tr>\n",
              "  </tbody>\n",
              "</table>\n",
              "</div>"
            ],
            "text/plain": [
              "             start              end  ...  output_count_lstm  pool_size\n",
              "0  01/10/21-090630  01/10/21-090826  ...                 50          3\n",
              "\n",
              "[1 rows x 21 columns]"
            ]
          },
          "metadata": {
            "tags": []
          },
          "execution_count": 61
        }
      ]
    },
    {
      "cell_type": "code",
      "metadata": {
        "id": "xbIfeqlH_JK-"
      },
      "source": [
        "analyze_object = talos.Analyze(scan_results)"
      ],
      "execution_count": null,
      "outputs": []
    },
    {
      "cell_type": "code",
      "metadata": {
        "colab": {
          "base_uri": "https://localhost:8080/"
        },
        "id": "oMfSKDje_JHw",
        "outputId": "82f30e3b-66c1-42fb-84e9-9a62a938c82f"
      },
      "source": [
        "analyze_object.best_params('val_accuracy', ['accuracy', 'loss', 'val_loss'])"
      ],
      "execution_count": null,
      "outputs": [
        {
          "output_type": "execute_result",
          "data": {
            "text/plain": [
              "array([['adam', 3, 0.2, 50, 30, '01/10/21-090630', 32, 40, 2, 3,\n",
              "        '01/10/21-090826', 'sigmoid', 64, 2, 'relu', 116.69881653785706,\n",
              "        0],\n",
              "       ['adam', 3, 0.3, 50, 40, '01/10/21-093053', 32, 40, 2, 3,\n",
              "        '01/10/21-093243', 'sigmoid', 64, 2, 'relu', 110.06025195121765,\n",
              "        1],\n",
              "       ['adam', 3, 0.3, 50, 30, '01/10/21-094739', 32, 40, 2, 5,\n",
              "        '01/10/21-094930', 'sigmoid', 128, 2, 'relu', 111.29186987876892,\n",
              "        2],\n",
              "       ['adam', 3, 0.3, 50, 40, '01/10/21-094547', 32, 40, 2, 4,\n",
              "        '01/10/21-094738', 'sigmoid', 128, 2, 'relu', 111.57755947113037,\n",
              "        3],\n",
              "       ['adam', 3, 0.3, 50, 30, '01/10/21-094355', 32, 40, 2, 4,\n",
              "        '01/10/21-094546', 'sigmoid', 128, 2, 'relu', 111.43396997451782,\n",
              "        4],\n",
              "       ['adam', 3, 0.3, 50, 40, '01/10/21-094203', 32, 40, 2, 3,\n",
              "        '01/10/21-094354', 'sigmoid', 128, 2, 'relu', 111.39009833335876,\n",
              "        5],\n",
              "       ['adam', 3, 0.3, 50, 30, '01/10/21-094012', 32, 40, 2, 3,\n",
              "        '01/10/21-094202', 'sigmoid', 128, 2, 'relu', 110.21675276756287,\n",
              "        6],\n",
              "       ['adam', 3, 0.3, 50, 40, '01/10/21-093819', 32, 40, 2, 5,\n",
              "        '01/10/21-094011', 'sigmoid', 64, 2, 'relu', 111.47262454032898,\n",
              "        7],\n",
              "       ['adam', 3, 0.3, 50, 30, '01/10/21-093629', 32, 40, 2, 5,\n",
              "        '01/10/21-093819', 'sigmoid', 64, 2, 'relu', 110.01473665237427,\n",
              "        8],\n",
              "       ['adam', 3, 0.3, 50, 40, '01/10/21-093437', 32, 40, 2, 4,\n",
              "        '01/10/21-093628', 'sigmoid', 64, 2, 'relu', 110.83472061157227,\n",
              "        9]], dtype=object)"
            ]
          },
          "metadata": {
            "tags": []
          },
          "execution_count": 63
        }
      ]
    },
    {
      "cell_type": "code",
      "metadata": {
        "colab": {
          "base_uri": "https://localhost:8080/",
          "height": 410
        },
        "id": "K40v1m_N_Rgo",
        "outputId": "8f35c201-8eaa-4d2d-fc00-ad8141843196"
      },
      "source": [
        "analyze_object.plot_line('val_accuracy')"
      ],
      "execution_count": null,
      "outputs": [
        {
          "output_type": "display_data",
          "data": {
            "image/png": "[encoded data removed]",
            "text/plain": [
              "<Figure size 864x475.2 with 1 Axes>"
            ]
          },
          "metadata": {
            "tags": []
          }
        }
      ]
    },
    {
      "cell_type": "code",
      "metadata": {
        "colab": {
          "base_uri": "https://localhost:8080/",
          "height": 410
        },
        "id": "z50AydTs_RdW",
        "outputId": "8969baaf-f574-4897-fa5d-7c1e9fdc383c"
      },
      "source": [
        "analyze_object.plot_line('accuracy')"
      ],
      "execution_count": null,
      "outputs": [
        {
          "output_type": "display_data",
          "data": {
            "image/png": "[encoded data removed]",
            "text/plain": [
              "<Figure size 864x475.2 with 1 Axes>"
            ]
          },
          "metadata": {
            "tags": []
          }
        }
      ]
    },
    {
      "cell_type": "markdown",
      "metadata": {
        "id": "sHrPeYI_Giky"
      },
      "source": [
        "#### Training Model with Best Parameters"
      ]
    },
    {
      "cell_type": "code",
      "metadata": {
        "id": "9x04BXTCCdsV"
      },
      "source": [
        "inp=Input(shape=(maxpadlen, ),dtype='int32')"
      ],
      "execution_count": null,
      "outputs": []
    },
    {
      "cell_type": "code",
      "metadata": {
        "id": "U-fPTQKHFF61"
      },
      "source": [
        "embedding_layer = Embedding(len(word_index) + 1,\n",
        "                           embedding_dim_fasttext,\n",
        "                           weights = [embedding_matrix_fasttext],\n",
        "                           input_length = maxpadlen,\n",
        "                           trainable=False,\n",
        "                           name = 'embeddings')\n",
        "embedded_sequences = embedding_layer(inp)"
      ],
      "execution_count": null,
      "outputs": []
    },
    {
      "cell_type": "markdown",
      "metadata": {
        "id": "lIRoKKp9mzQz"
      },
      "source": [
        "LSTM"
      ]
    },
    {
      "cell_type": "code",
      "metadata": {
        "id": "mAF1Ui22FmHX"
      },
      "source": [
        "x = LSTM(40, return_sequences=True,name='lstm_layer')(embedded_sequences)\r\n",
        "x = GlobalMaxPool1D()(x)\r\n",
        "x = Dropout(0.2)(x)\r\n",
        "x = Dense(30, activation=\"relu\", kernel_initializer='he_uniform')(x)\r\n",
        "x = Dropout(0.2)(x)\r\n",
        "preds = Dense(6, activation=\"sigmoid\", kernel_initializer='glorot_uniform')(x)"
      ],
      "execution_count": null,
      "outputs": []
    },
    {
      "cell_type": "markdown",
      "metadata": {
        "id": "q63N5a-Rm0zp"
      },
      "source": [
        "LSTM-CNN"
      ]
    },
    {
      "cell_type": "code",
      "metadata": {
        "id": "hKK_321BdT-o"
      },
      "source": [
        "x = LSTM(50, return_sequences=True,name='lstm_layer')(embedded_sequences)\r\n",
        "x = Conv1D(filters=64, kernel_size=3, padding='same', activation='relu', kernel_initializer='he_uniform')(x)\r\n",
        "x = MaxPooling1D(3)(x)\r\n",
        "x = GlobalMaxPool1D()(x)\r\n",
        "x = BatchNormalization()(x)\r\n",
        "x = Dense(40, activation=\"relu\", kernel_initializer='he_uniform')(x)\r\n",
        "x = Dropout(0.2)(x)\r\n",
        "x = Dense(30, activation=\"relu\", kernel_initializer='he_uniform')(x)\r\n",
        "x = Dropout(0.2)(x)\r\n",
        "preds = Dense(6, activation=\"sigmoid\", kernel_initializer='glorot_uniform')(x)"
      ],
      "execution_count": null,
      "outputs": []
    },
    {
      "cell_type": "code",
      "metadata": {
        "id": "kigFyK4cHHrv"
      },
      "source": [
        "model = Model(inputs=inp, outputs=preds)\n",
        "model.compile(loss='binary_crossentropy',\n",
        "                  optimizer='adam',\n",
        "                  metrics=['accuracy'])"
      ],
      "execution_count": null,
      "outputs": []
    },
    {
      "cell_type": "code",
      "metadata": {
        "colab": {
          "base_uri": "https://localhost:8080/"
        },
        "id": "e_qJGa25HVxi",
        "outputId": "b8934c5d-5040-4229-ac11-8258bf0284e1"
      },
      "source": [
        "model.summary()"
      ],
      "execution_count": null,
      "outputs": [
        {
          "output_type": "stream",
          "text": [
            "Model: \"model_1\"\n",
            "_________________________________________________________________\n",
            "Layer (type)                 Output Shape              Param #   \n",
            "=================================================================\n",
            "input_1 (InputLayer)         [(None, 200)]             0         \n",
            "_________________________________________________________________\n",
            "embeddings (Embedding)       (None, 200, 300)          44675400  \n",
            "_________________________________________________________________\n",
            "lstm_layer (LSTM)            (None, 200, 50)           70200     \n",
            "_________________________________________________________________\n",
            "global_max_pooling1d_1 (Glob (None, 50)                0         \n",
            "_________________________________________________________________\n",
            "dropout_2 (Dropout)          (None, 50)                0         \n",
            "_________________________________________________________________\n",
            "dense_2 (Dense)              (None, 40)                2040      \n",
            "_________________________________________________________________\n",
            "dropout_3 (Dropout)          (None, 40)                0         \n",
            "_________________________________________________________________\n",
            "dense_3 (Dense)              (None, 6)                 246       \n",
            "=================================================================\n",
            "Total params: 44,747,886\n",
            "Trainable params: 72,486\n",
            "Non-trainable params: 44,675,400\n",
            "_________________________________________________________________\n"
          ],
          "name": "stdout"
        }
      ]
    },
    {
      "cell_type": "code",
      "metadata": {
        "id": "Bc-HX52zHNg9"
      },
      "source": [
        "model_info=model.fit(x_train,y_train, epochs=2, batch_size=32,  validation_data=(x_val, y_val))"
      ],
      "execution_count": null,
      "outputs": []
    },
    {
      "cell_type": "markdown",
      "metadata": {
        "id": "kL2OV0YiB3sp"
      },
      "source": [
        "## Plotting Graphs"
      ]
    },
    {
      "cell_type": "code",
      "metadata": {
        "id": "3qKSCDX-KjSX",
        "colab": {
          "base_uri": "https://localhost:8080/",
          "height": 315
        },
        "outputId": "3b4c1c0c-4bc7-47bd-a0a8-37431c8705c9"
      },
      "source": [
        "loss = model_info.history['loss']\r\n",
        "val_loss = model_info.history['val_loss']\r\n",
        "\r\n",
        "epochs = range(1, len(loss)+1)\r\n",
        "\r\n",
        "plt.plot(epochs, loss, label='Training loss')\r\n",
        "plt.plot(epochs, val_loss, label='Validation loss')\r\n",
        "plt.title('Training and Validation loss')\r\n",
        "plt.xlabel('Epochs')\r\n",
        "plt.ylabel('Loss')\r\n",
        "plt.legend()\r\n",
        "plt.show();"
      ],
      "execution_count": null,
      "outputs": [
        {
          "output_type": "display_data",
          "data": {
            "image/png": "[encoded data removed]",
            "text/plain": [
              "<Figure size 432x288 with 1 Axes>"
            ]
          },
          "metadata": {
            "tags": []
          }
        }
      ]
    },
    {
      "cell_type": "markdown",
      "metadata": {
        "id": "7wv1IdwZk_qG"
      },
      "source": [
        "# Saving the Model"
      ]
    },
    {
      "cell_type": "code",
      "metadata": {
        "colab": {
          "base_uri": "https://localhost:8080/"
        },
        "id": "eisFdjOUlBbM",
        "outputId": "93a6f297-29b2-4dc5-8f4c-6e73a19095ca"
      },
      "source": [
        "model.save(filepath=\"/content/drive/MyDrive/lstm_model\")"
      ],
      "execution_count": null,
      "outputs": [
        {
          "output_type": "stream",
          "text": [
            "WARNING:absl:Found untraced functions such as lstm_cell_layer_call_fn, lstm_cell_layer_call_and_return_conditional_losses, lstm_cell_layer_call_fn, lstm_cell_layer_call_and_return_conditional_losses, lstm_cell_layer_call_and_return_conditional_losses while saving (showing 5 of 5). These functions will not be directly callable after loading.\n",
            "WARNING:absl:Found untraced functions such as lstm_cell_layer_call_fn, lstm_cell_layer_call_and_return_conditional_losses, lstm_cell_layer_call_fn, lstm_cell_layer_call_and_return_conditional_losses, lstm_cell_layer_call_and_return_conditional_losses while saving (showing 5 of 5). These functions will not be directly callable after loading.\n"
          ],
          "name": "stderr"
        },
        {
          "output_type": "stream",
          "text": [
            "INFO:tensorflow:Assets written to: /content/drive/MyDrive/lstm_model/assets\n"
          ],
          "name": "stdout"
        },
        {
          "output_type": "stream",
          "text": [
            "INFO:tensorflow:Assets written to: /content/drive/MyDrive/lstm_model/assets\n"
          ],
          "name": "stderr"
        }
      ]
    },
    {
      "cell_type": "markdown",
      "metadata": {
        "id": "bXx4IOYn4_XB"
      },
      "source": [
        "# Loading Saved Model"
      ]
    },
    {
      "cell_type": "code",
      "metadata": {
        "id": "ulj64J7p4YKB"
      },
      "source": [
        "loaded_model = keras.models.load_model(filepath=\"/content/drive/MyDrive/lstm_model\")"
      ],
      "execution_count": null,
      "outputs": []
    },
    {
      "cell_type": "markdown",
      "metadata": {
        "id": "kJJJs5txVS8S"
      },
      "source": [
        "# Generating the Output"
      ]
    },
    {
      "cell_type": "code",
      "metadata": {
        "id": "aUL3S8xiCYxU",
        "colab": {
          "base_uri": "https://localhost:8080/"
        },
        "outputId": "ebbcb10e-a5fc-4ee1-cf6a-ef39ce334c74"
      },
      "source": [
        "test_values = model.predict([X_te], batch_size=1, verbose=1)"
      ],
      "execution_count": null,
      "outputs": [
        {
          "output_type": "stream",
          "text": [
            "153164/153164 [==============================] - 647s 4ms/step\n"
          ],
          "name": "stdout"
        }
      ]
    },
    {
      "cell_type": "code",
      "metadata": {
        "id": "_FSvu4hpyU4r"
      },
      "source": [
        "sample_submission = pd.read_csv('https://raw.githubusercontent.com/shaunak09vb/Toxic-Comment-Classifier-using-LSTM/main/Data/sample_submission.csv')\r\n",
        "test_values=pd.DataFrame(test_values,columns=['toxic', 'severe_toxic', 'obscene', 'threat', 'insult', 'identity_hate'])\r\n",
        "submission = pd.DataFrame(sample_submission[\"id\"])\r\n",
        "combined_submission=pd.concat([submission,test_values],axis=1)\r\n",
        "combined_submission.to_csv('/content/drive/MyDrive/Submission_Kaggle/submission_25.csv', index=False)"
      ],
      "execution_count": null,
      "outputs": []
    },
    {
      "cell_type": "markdown",
      "metadata": {
        "id": "7HkAldq1IJcr"
      },
      "source": [
        "# Testing the Created Model"
      ]
    },
    {
      "cell_type": "code",
      "metadata": {
        "id": "fPneHbuzIIxj"
      },
      "source": [
        "def toxicity_level(string):\r\n",
        "    \"\"\"\r\n",
        "    Return toxicity probability based on inputed string.\r\n",
        "    \"\"\"\r\n",
        "    # Process string\r\n",
        "    new_string = [string]\r\n",
        "    new_string = tokenizer.texts_to_sequences(new_string)\r\n",
        "    new_string = pad_sequences(new_string, maxlen=maxpadlen, padding='post')\r\n",
        "    \r\n",
        "    # Predict\r\n",
        "    prediction = model.predict(new_string)\r\n",
        "    \r\n",
        "    # Print output\r\n",
        "    print(\"Toxicity levels for '{}':\".format(string))\r\n",
        "    print('Toxic:         {:.0%}'.format(prediction[0][0]))\r\n",
        "    print('Severe Toxic:  {:.0%}'.format(prediction[0][1]))\r\n",
        "    print('Obscene:       {:.0%}'.format(prediction[0][2]))\r\n",
        "    print('Threat:        {:.0%}'.format(prediction[0][3]))\r\n",
        "    print('Insult:        {:.0%}'.format(prediction[0][4]))\r\n",
        "    print('Identity Hate: {:.0%}'.format(prediction[0][5]))\r\n",
        "    print()\r\n",
        "    \r\n",
        "    return"
      ],
      "execution_count": null,
      "outputs": []
    },
    {
      "cell_type": "code",
      "metadata": {
        "colab": {
          "base_uri": "https://localhost:8080/"
        },
        "id": "wxWkAax7JLF1",
        "outputId": "ee05ebaa-18bd-4fc0-c490-bf7ff4174adc"
      },
      "source": [
        "toxicity_level('go jump off a bridge jerk')"
      ],
      "execution_count": null,
      "outputs": [
        {
          "output_type": "stream",
          "text": [
            "Toxicity levels for 'go jump off a bridge jerk':\n",
            "Toxic:         57%\n",
            "Severe Toxic:  1%\n",
            "Obscene:       15%\n",
            "Threat:        0%\n",
            "Insult:        27%\n",
            "Identity Hate: 1%\n",
            "\n"
          ],
          "name": "stdout"
        }
      ]
    },
    {
      "cell_type": "code",
      "metadata": {
        "colab": {
          "base_uri": "https://localhost:8080/"
        },
        "id": "QLGZpQ1KIpFG",
        "outputId": "f4499507-11f3-4127-b404-56f172ff5c00"
      },
      "source": [
        "toxicity_level('i will kill you')"
      ],
      "execution_count": null,
      "outputs": [
        {
          "output_type": "stream",
          "text": [
            "Toxicity levels for 'i will kill you':\n",
            "Toxic:         8%\n",
            "Severe Toxic:  0%\n",
            "Obscene:       1%\n",
            "Threat:        1%\n",
            "Insult:        2%\n",
            "Identity Hate: 0%\n",
            "\n"
          ],
          "name": "stdout"
        }
      ]
    },
    {
      "cell_type": "code",
      "metadata": {
        "colab": {
          "base_uri": "https://localhost:8080/"
        },
        "id": "Be1lw-liIpfe",
        "outputId": "26894830-60a5-4ef2-b83e-5447e80805ad"
      },
      "source": [
        "toxicity_level('have a nice day')"
      ],
      "execution_count": null,
      "outputs": [
        {
          "output_type": "stream",
          "text": [
            "Toxicity levels for 'have a nice day':\n",
            "Toxic:         1%\n",
            "Severe Toxic:  0%\n",
            "Obscene:       0%\n",
            "Threat:        0%\n",
            "Insult:        0%\n",
            "Identity Hate: 0%\n",
            "\n"
          ],
          "name": "stdout"
        }
      ]
    },
    {
      "cell_type": "code",
      "metadata": {
        "colab": {
          "base_uri": "https://localhost:8080/"
        },
        "id": "HZ-_6XzxIxxT",
        "outputId": "11da5536-6708-4418-af95-4211dd3587d0"
      },
      "source": [
        "toxicity_level('fuck off!!')"
      ],
      "execution_count": null,
      "outputs": [
        {
          "output_type": "stream",
          "text": [
            "Toxicity levels for 'fuck off!!':\n",
            "Toxic:         99%\n",
            "Severe Toxic:  21%\n",
            "Obscene:       95%\n",
            "Threat:        2%\n",
            "Insult:        81%\n",
            "Identity Hate: 8%\n",
            "\n"
          ],
          "name": "stdout"
        }
      ]
    },
    {
      "cell_type": "code",
      "metadata": {
        "colab": {
          "base_uri": "https://localhost:8080/"
        },
        "id": "1s_5EQEFJD3G",
        "outputId": "7169447c-9205-42e9-f114-b25b1fbd54c2"
      },
      "source": [
        "toxicity_level('Hello, How are you?')"
      ],
      "execution_count": null,
      "outputs": [
        {
          "output_type": "stream",
          "text": [
            "Toxicity levels for 'Hello, How are you?':\n",
            "Toxic:         0%\n",
            "Severe Toxic:  0%\n",
            "Obscene:       0%\n",
            "Threat:        0%\n",
            "Insult:        0%\n",
            "Identity Hate: 0%\n",
            "\n"
          ],
          "name": "stdout"
        }
      ]
    }
  ]
}