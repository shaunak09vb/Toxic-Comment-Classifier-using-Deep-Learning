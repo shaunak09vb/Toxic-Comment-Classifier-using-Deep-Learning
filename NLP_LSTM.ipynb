{
  "nbformat": 4,
  "nbformat_minor": 0,
  "metadata": {
    "colab": {
      "name": "NLP_LSTM.ipynb",
      "provenance": [],
      "collapsed_sections": [],
      "toc_visible": true,
      "include_colab_link": true
    },
    "kernelspec": {
      "display_name": "Python 3",
      "language": "python",
      "name": "python3"
    },
    "language_info": {
      "codemirror_mode": {
        "name": "ipython",
        "version": 3
      },
      "file_extension": ".py",
      "mimetype": "text/x-python",
      "name": "python",
      "nbconvert_exporter": "python",
      "pygments_lexer": "ipython3",
      "version": "3.8.3"
    },
    "widgets": {
      "application/vnd.jupyter.widget-state+json": {
        "f4cc69e66d9f40088049c8181eda3398": {
          "model_module": "@jupyter-widgets/controls",
          "model_name": "HBoxModel",
          "state": {
            "_view_name": "HBoxView",
            "_dom_classes": [],
            "_model_name": "HBoxModel",
            "_view_module": "@jupyter-widgets/controls",
            "_model_module_version": "1.5.0",
            "_view_count": null,
            "_view_module_version": "1.5.0",
            "box_style": "",
            "layout": "IPY_MODEL_385e6def25464f879880818fc4ce4288",
            "_model_module": "@jupyter-widgets/controls",
            "children": [
              "IPY_MODEL_6b94108d122c4d35bda80833f55c9726",
              "IPY_MODEL_690ec97fc3754adda77e6dabe314837c"
            ]
          }
        },
        "385e6def25464f879880818fc4ce4288": {
          "model_module": "@jupyter-widgets/base",
          "model_name": "LayoutModel",
          "state": {
            "_view_name": "LayoutView",
            "grid_template_rows": null,
            "right": null,
            "justify_content": null,
            "_view_module": "@jupyter-widgets/base",
            "overflow": null,
            "_model_module_version": "1.2.0",
            "_view_count": null,
            "flex_flow": null,
            "width": null,
            "min_width": null,
            "border": null,
            "align_items": null,
            "bottom": null,
            "_model_module": "@jupyter-widgets/base",
            "top": null,
            "grid_column": null,
            "overflow_y": null,
            "overflow_x": null,
            "grid_auto_flow": null,
            "grid_area": null,
            "grid_template_columns": null,
            "flex": null,
            "_model_name": "LayoutModel",
            "justify_items": null,
            "grid_row": null,
            "max_height": null,
            "align_content": null,
            "visibility": null,
            "align_self": null,
            "height": null,
            "min_height": null,
            "padding": null,
            "grid_auto_rows": null,
            "grid_gap": null,
            "max_width": null,
            "order": null,
            "_view_module_version": "1.2.0",
            "grid_template_areas": null,
            "object_position": null,
            "object_fit": null,
            "grid_auto_columns": null,
            "margin": null,
            "display": null,
            "left": null
          }
        },
        "6b94108d122c4d35bda80833f55c9726": {
          "model_module": "@jupyter-widgets/controls",
          "model_name": "FloatProgressModel",
          "state": {
            "_view_name": "ProgressView",
            "style": "IPY_MODEL_eddcfee0b60c425d82ce51e68530a6f1",
            "_dom_classes": [],
            "description": "100%",
            "_model_name": "FloatProgressModel",
            "bar_style": "success",
            "max": 159571,
            "_view_module": "@jupyter-widgets/controls",
            "_model_module_version": "1.5.0",
            "value": 159571,
            "_view_count": null,
            "_view_module_version": "1.5.0",
            "orientation": "horizontal",
            "min": 0,
            "description_tooltip": null,
            "_model_module": "@jupyter-widgets/controls",
            "layout": "IPY_MODEL_aaa3829b584f4dd6a460626fec615ed5"
          }
        },
        "690ec97fc3754adda77e6dabe314837c": {
          "model_module": "@jupyter-widgets/controls",
          "model_name": "HTMLModel",
          "state": {
            "_view_name": "HTMLView",
            "style": "IPY_MODEL_b4dc46b9a4b14f2da9b858f6333661ca",
            "_dom_classes": [],
            "description": "",
            "_model_name": "HTMLModel",
            "placeholder": "​",
            "_view_module": "@jupyter-widgets/controls",
            "_model_module_version": "1.5.0",
            "value": " 159571/159571 [05:23&lt;00:00, 493.93it/s]",
            "_view_count": null,
            "_view_module_version": "1.5.0",
            "description_tooltip": null,
            "_model_module": "@jupyter-widgets/controls",
            "layout": "IPY_MODEL_0cf758a77de340c58971367d3aeab594"
          }
        },
        "eddcfee0b60c425d82ce51e68530a6f1": {
          "model_module": "@jupyter-widgets/controls",
          "model_name": "ProgressStyleModel",
          "state": {
            "_view_name": "StyleView",
            "_model_name": "ProgressStyleModel",
            "description_width": "initial",
            "_view_module": "@jupyter-widgets/base",
            "_model_module_version": "1.5.0",
            "_view_count": null,
            "_view_module_version": "1.2.0",
            "bar_color": null,
            "_model_module": "@jupyter-widgets/controls"
          }
        },
        "aaa3829b584f4dd6a460626fec615ed5": {
          "model_module": "@jupyter-widgets/base",
          "model_name": "LayoutModel",
          "state": {
            "_view_name": "LayoutView",
            "grid_template_rows": null,
            "right": null,
            "justify_content": null,
            "_view_module": "@jupyter-widgets/base",
            "overflow": null,
            "_model_module_version": "1.2.0",
            "_view_count": null,
            "flex_flow": null,
            "width": null,
            "min_width": null,
            "border": null,
            "align_items": null,
            "bottom": null,
            "_model_module": "@jupyter-widgets/base",
            "top": null,
            "grid_column": null,
            "overflow_y": null,
            "overflow_x": null,
            "grid_auto_flow": null,
            "grid_area": null,
            "grid_template_columns": null,
            "flex": null,
            "_model_name": "LayoutModel",
            "justify_items": null,
            "grid_row": null,
            "max_height": null,
            "align_content": null,
            "visibility": null,
            "align_self": null,
            "height": null,
            "min_height": null,
            "padding": null,
            "grid_auto_rows": null,
            "grid_gap": null,
            "max_width": null,
            "order": null,
            "_view_module_version": "1.2.0",
            "grid_template_areas": null,
            "object_position": null,
            "object_fit": null,
            "grid_auto_columns": null,
            "margin": null,
            "display": null,
            "left": null
          }
        },
        "b4dc46b9a4b14f2da9b858f6333661ca": {
          "model_module": "@jupyter-widgets/controls",
          "model_name": "DescriptionStyleModel",
          "state": {
            "_view_name": "StyleView",
            "_model_name": "DescriptionStyleModel",
            "description_width": "",
            "_view_module": "@jupyter-widgets/base",
            "_model_module_version": "1.5.0",
            "_view_count": null,
            "_view_module_version": "1.2.0",
            "_model_module": "@jupyter-widgets/controls"
          }
        },
        "0cf758a77de340c58971367d3aeab594": {
          "model_module": "@jupyter-widgets/base",
          "model_name": "LayoutModel",
          "state": {
            "_view_name": "LayoutView",
            "grid_template_rows": null,
            "right": null,
            "justify_content": null,
            "_view_module": "@jupyter-widgets/base",
            "overflow": null,
            "_model_module_version": "1.2.0",
            "_view_count": null,
            "flex_flow": null,
            "width": null,
            "min_width": null,
            "border": null,
            "align_items": null,
            "bottom": null,
            "_model_module": "@jupyter-widgets/base",
            "top": null,
            "grid_column": null,
            "overflow_y": null,
            "overflow_x": null,
            "grid_auto_flow": null,
            "grid_area": null,
            "grid_template_columns": null,
            "flex": null,
            "_model_name": "LayoutModel",
            "justify_items": null,
            "grid_row": null,
            "max_height": null,
            "align_content": null,
            "visibility": null,
            "align_self": null,
            "height": null,
            "min_height": null,
            "padding": null,
            "grid_auto_rows": null,
            "grid_gap": null,
            "max_width": null,
            "order": null,
            "_view_module_version": "1.2.0",
            "grid_template_areas": null,
            "object_position": null,
            "object_fit": null,
            "grid_auto_columns": null,
            "margin": null,
            "display": null,
            "left": null
          }
        },
        "c3263f8a0a8647afa4e003483930a47c": {
          "model_module": "@jupyter-widgets/controls",
          "model_name": "HBoxModel",
          "state": {
            "_view_name": "HBoxView",
            "_dom_classes": [],
            "_model_name": "HBoxModel",
            "_view_module": "@jupyter-widgets/controls",
            "_model_module_version": "1.5.0",
            "_view_count": null,
            "_view_module_version": "1.5.0",
            "box_style": "",
            "layout": "IPY_MODEL_03a70230bbc7409dbcbcd884bb52f2e8",
            "_model_module": "@jupyter-widgets/controls",
            "children": [
              "IPY_MODEL_e451f3e75fd34fb3a88a8213e42bf645",
              "IPY_MODEL_a53b156056334b02bcdf16e23abcf0a4"
            ]
          }
        },
        "03a70230bbc7409dbcbcd884bb52f2e8": {
          "model_module": "@jupyter-widgets/base",
          "model_name": "LayoutModel",
          "state": {
            "_view_name": "LayoutView",
            "grid_template_rows": null,
            "right": null,
            "justify_content": null,
            "_view_module": "@jupyter-widgets/base",
            "overflow": null,
            "_model_module_version": "1.2.0",
            "_view_count": null,
            "flex_flow": null,
            "width": null,
            "min_width": null,
            "border": null,
            "align_items": null,
            "bottom": null,
            "_model_module": "@jupyter-widgets/base",
            "top": null,
            "grid_column": null,
            "overflow_y": null,
            "overflow_x": null,
            "grid_auto_flow": null,
            "grid_area": null,
            "grid_template_columns": null,
            "flex": null,
            "_model_name": "LayoutModel",
            "justify_items": null,
            "grid_row": null,
            "max_height": null,
            "align_content": null,
            "visibility": null,
            "align_self": null,
            "height": null,
            "min_height": null,
            "padding": null,
            "grid_auto_rows": null,
            "grid_gap": null,
            "max_width": null,
            "order": null,
            "_view_module_version": "1.2.0",
            "grid_template_areas": null,
            "object_position": null,
            "object_fit": null,
            "grid_auto_columns": null,
            "margin": null,
            "display": null,
            "left": null
          }
        },
        "e451f3e75fd34fb3a88a8213e42bf645": {
          "model_module": "@jupyter-widgets/controls",
          "model_name": "FloatProgressModel",
          "state": {
            "_view_name": "ProgressView",
            "style": "IPY_MODEL_2be44ba5e09943438eed0bb22daf531e",
            "_dom_classes": [],
            "description": "100%",
            "_model_name": "FloatProgressModel",
            "bar_style": "success",
            "max": 153164,
            "_view_module": "@jupyter-widgets/controls",
            "_model_module_version": "1.5.0",
            "value": 153164,
            "_view_count": null,
            "_view_module_version": "1.5.0",
            "orientation": "horizontal",
            "min": 0,
            "description_tooltip": null,
            "_model_module": "@jupyter-widgets/controls",
            "layout": "IPY_MODEL_3e10ceb12e8b4bc99e6352ea50a15d13"
          }
        },
        "a53b156056334b02bcdf16e23abcf0a4": {
          "model_module": "@jupyter-widgets/controls",
          "model_name": "HTMLModel",
          "state": {
            "_view_name": "HTMLView",
            "style": "IPY_MODEL_884387683f8646c4bb9ee346a705d3e7",
            "_dom_classes": [],
            "description": "",
            "_model_name": "HTMLModel",
            "placeholder": "​",
            "_view_module": "@jupyter-widgets/controls",
            "_model_module_version": "1.5.0",
            "value": " 153164/153164 [03:21&lt;00:00, 761.70it/s]",
            "_view_count": null,
            "_view_module_version": "1.5.0",
            "description_tooltip": null,
            "_model_module": "@jupyter-widgets/controls",
            "layout": "IPY_MODEL_0fe5014f0a914789986a724763100841"
          }
        },
        "2be44ba5e09943438eed0bb22daf531e": {
          "model_module": "@jupyter-widgets/controls",
          "model_name": "ProgressStyleModel",
          "state": {
            "_view_name": "StyleView",
            "_model_name": "ProgressStyleModel",
            "description_width": "initial",
            "_view_module": "@jupyter-widgets/base",
            "_model_module_version": "1.5.0",
            "_view_count": null,
            "_view_module_version": "1.2.0",
            "bar_color": null,
            "_model_module": "@jupyter-widgets/controls"
          }
        },
        "3e10ceb12e8b4bc99e6352ea50a15d13": {
          "model_module": "@jupyter-widgets/base",
          "model_name": "LayoutModel",
          "state": {
            "_view_name": "LayoutView",
            "grid_template_rows": null,
            "right": null,
            "justify_content": null,
            "_view_module": "@jupyter-widgets/base",
            "overflow": null,
            "_model_module_version": "1.2.0",
            "_view_count": null,
            "flex_flow": null,
            "width": null,
            "min_width": null,
            "border": null,
            "align_items": null,
            "bottom": null,
            "_model_module": "@jupyter-widgets/base",
            "top": null,
            "grid_column": null,
            "overflow_y": null,
            "overflow_x": null,
            "grid_auto_flow": null,
            "grid_area": null,
            "grid_template_columns": null,
            "flex": null,
            "_model_name": "LayoutModel",
            "justify_items": null,
            "grid_row": null,
            "max_height": null,
            "align_content": null,
            "visibility": null,
            "align_self": null,
            "height": null,
            "min_height": null,
            "padding": null,
            "grid_auto_rows": null,
            "grid_gap": null,
            "max_width": null,
            "order": null,
            "_view_module_version": "1.2.0",
            "grid_template_areas": null,
            "object_position": null,
            "object_fit": null,
            "grid_auto_columns": null,
            "margin": null,
            "display": null,
            "left": null
          }
        },
        "884387683f8646c4bb9ee346a705d3e7": {
          "model_module": "@jupyter-widgets/controls",
          "model_name": "DescriptionStyleModel",
          "state": {
            "_view_name": "StyleView",
            "_model_name": "DescriptionStyleModel",
            "description_width": "",
            "_view_module": "@jupyter-widgets/base",
            "_model_module_version": "1.5.0",
            "_view_count": null,
            "_view_module_version": "1.2.0",
            "_model_module": "@jupyter-widgets/controls"
          }
        },
        "0fe5014f0a914789986a724763100841": {
          "model_module": "@jupyter-widgets/base",
          "model_name": "LayoutModel",
          "state": {
            "_view_name": "LayoutView",
            "grid_template_rows": null,
            "right": null,
            "justify_content": null,
            "_view_module": "@jupyter-widgets/base",
            "overflow": null,
            "_model_module_version": "1.2.0",
            "_view_count": null,
            "flex_flow": null,
            "width": null,
            "min_width": null,
            "border": null,
            "align_items": null,
            "bottom": null,
            "_model_module": "@jupyter-widgets/base",
            "top": null,
            "grid_column": null,
            "overflow_y": null,
            "overflow_x": null,
            "grid_auto_flow": null,
            "grid_area": null,
            "grid_template_columns": null,
            "flex": null,
            "_model_name": "LayoutModel",
            "justify_items": null,
            "grid_row": null,
            "max_height": null,
            "align_content": null,
            "visibility": null,
            "align_self": null,
            "height": null,
            "min_height": null,
            "padding": null,
            "grid_auto_rows": null,
            "grid_gap": null,
            "max_width": null,
            "order": null,
            "_view_module_version": "1.2.0",
            "grid_template_areas": null,
            "object_position": null,
            "object_fit": null,
            "grid_auto_columns": null,
            "margin": null,
            "display": null,
            "left": null
          }
        },
        "662fe69101cb41589a892404cfebda55": {
          "model_module": "@jupyter-widgets/controls",
          "model_name": "HBoxModel",
          "state": {
            "_view_name": "HBoxView",
            "_dom_classes": [],
            "_model_name": "HBoxModel",
            "_view_module": "@jupyter-widgets/controls",
            "_model_module_version": "1.5.0",
            "_view_count": null,
            "_view_module_version": "1.5.0",
            "box_style": "",
            "layout": "IPY_MODEL_3108637fb1374e679e83df54aa24be56",
            "_model_module": "@jupyter-widgets/controls",
            "children": [
              "IPY_MODEL_b8c959c1ad624bc08f264df36f26ec42",
              "IPY_MODEL_5667d30b330d4bf4b907256ef3bb82ca"
            ]
          }
        },
        "3108637fb1374e679e83df54aa24be56": {
          "model_module": "@jupyter-widgets/base",
          "model_name": "LayoutModel",
          "state": {
            "_view_name": "LayoutView",
            "grid_template_rows": null,
            "right": null,
            "justify_content": null,
            "_view_module": "@jupyter-widgets/base",
            "overflow": null,
            "_model_module_version": "1.2.0",
            "_view_count": null,
            "flex_flow": null,
            "width": null,
            "min_width": null,
            "border": null,
            "align_items": null,
            "bottom": null,
            "_model_module": "@jupyter-widgets/base",
            "top": null,
            "grid_column": null,
            "overflow_y": null,
            "overflow_x": null,
            "grid_auto_flow": null,
            "grid_area": null,
            "grid_template_columns": null,
            "flex": null,
            "_model_name": "LayoutModel",
            "justify_items": null,
            "grid_row": null,
            "max_height": null,
            "align_content": null,
            "visibility": null,
            "align_self": null,
            "height": null,
            "min_height": null,
            "padding": null,
            "grid_auto_rows": null,
            "grid_gap": null,
            "max_width": null,
            "order": null,
            "_view_module_version": "1.2.0",
            "grid_template_areas": null,
            "object_position": null,
            "object_fit": null,
            "grid_auto_columns": null,
            "margin": null,
            "display": null,
            "left": null
          }
        },
        "b8c959c1ad624bc08f264df36f26ec42": {
          "model_module": "@jupyter-widgets/controls",
          "model_name": "FloatProgressModel",
          "state": {
            "_view_name": "ProgressView",
            "style": "IPY_MODEL_3f63a4e24dd04441b0fb58704e5388c6",
            "_dom_classes": [],
            "description": "100%",
            "_model_name": "FloatProgressModel",
            "bar_style": "success",
            "max": 159571,
            "_view_module": "@jupyter-widgets/controls",
            "_model_module_version": "1.5.0",
            "value": 159571,
            "_view_count": null,
            "_view_module_version": "1.5.0",
            "orientation": "horizontal",
            "min": 0,
            "description_tooltip": null,
            "_model_module": "@jupyter-widgets/controls",
            "layout": "IPY_MODEL_0e42bb77e3bd45ecb36f0f6150af5f69"
          }
        },
        "5667d30b330d4bf4b907256ef3bb82ca": {
          "model_module": "@jupyter-widgets/controls",
          "model_name": "HTMLModel",
          "state": {
            "_view_name": "HTMLView",
            "style": "IPY_MODEL_7b10aa5bf7dd42de89a921065c460883",
            "_dom_classes": [],
            "description": "",
            "_model_name": "HTMLModel",
            "placeholder": "​",
            "_view_module": "@jupyter-widgets/controls",
            "_model_module_version": "1.5.0",
            "value": " 159571/159571 [01:44&lt;00:00, 1529.69it/s]",
            "_view_count": null,
            "_view_module_version": "1.5.0",
            "description_tooltip": null,
            "_model_module": "@jupyter-widgets/controls",
            "layout": "IPY_MODEL_0ece4d1e07fb475ab6c6d3f32ba0f5d5"
          }
        },
        "3f63a4e24dd04441b0fb58704e5388c6": {
          "model_module": "@jupyter-widgets/controls",
          "model_name": "ProgressStyleModel",
          "state": {
            "_view_name": "StyleView",
            "_model_name": "ProgressStyleModel",
            "description_width": "initial",
            "_view_module": "@jupyter-widgets/base",
            "_model_module_version": "1.5.0",
            "_view_count": null,
            "_view_module_version": "1.2.0",
            "bar_color": null,
            "_model_module": "@jupyter-widgets/controls"
          }
        },
        "0e42bb77e3bd45ecb36f0f6150af5f69": {
          "model_module": "@jupyter-widgets/base",
          "model_name": "LayoutModel",
          "state": {
            "_view_name": "LayoutView",
            "grid_template_rows": null,
            "right": null,
            "justify_content": null,
            "_view_module": "@jupyter-widgets/base",
            "overflow": null,
            "_model_module_version": "1.2.0",
            "_view_count": null,
            "flex_flow": null,
            "width": null,
            "min_width": null,
            "border": null,
            "align_items": null,
            "bottom": null,
            "_model_module": "@jupyter-widgets/base",
            "top": null,
            "grid_column": null,
            "overflow_y": null,
            "overflow_x": null,
            "grid_auto_flow": null,
            "grid_area": null,
            "grid_template_columns": null,
            "flex": null,
            "_model_name": "LayoutModel",
            "justify_items": null,
            "grid_row": null,
            "max_height": null,
            "align_content": null,
            "visibility": null,
            "align_self": null,
            "height": null,
            "min_height": null,
            "padding": null,
            "grid_auto_rows": null,
            "grid_gap": null,
            "max_width": null,
            "order": null,
            "_view_module_version": "1.2.0",
            "grid_template_areas": null,
            "object_position": null,
            "object_fit": null,
            "grid_auto_columns": null,
            "margin": null,
            "display": null,
            "left": null
          }
        },
        "7b10aa5bf7dd42de89a921065c460883": {
          "model_module": "@jupyter-widgets/controls",
          "model_name": "DescriptionStyleModel",
          "state": {
            "_view_name": "StyleView",
            "_model_name": "DescriptionStyleModel",
            "description_width": "",
            "_view_module": "@jupyter-widgets/base",
            "_model_module_version": "1.5.0",
            "_view_count": null,
            "_view_module_version": "1.2.0",
            "_model_module": "@jupyter-widgets/controls"
          }
        },
        "0ece4d1e07fb475ab6c6d3f32ba0f5d5": {
          "model_module": "@jupyter-widgets/base",
          "model_name": "LayoutModel",
          "state": {
            "_view_name": "LayoutView",
            "grid_template_rows": null,
            "right": null,
            "justify_content": null,
            "_view_module": "@jupyter-widgets/base",
            "overflow": null,
            "_model_module_version": "1.2.0",
            "_view_count": null,
            "flex_flow": null,
            "width": null,
            "min_width": null,
            "border": null,
            "align_items": null,
            "bottom": null,
            "_model_module": "@jupyter-widgets/base",
            "top": null,
            "grid_column": null,
            "overflow_y": null,
            "overflow_x": null,
            "grid_auto_flow": null,
            "grid_area": null,
            "grid_template_columns": null,
            "flex": null,
            "_model_name": "LayoutModel",
            "justify_items": null,
            "grid_row": null,
            "max_height": null,
            "align_content": null,
            "visibility": null,
            "align_self": null,
            "height": null,
            "min_height": null,
            "padding": null,
            "grid_auto_rows": null,
            "grid_gap": null,
            "max_width": null,
            "order": null,
            "_view_module_version": "1.2.0",
            "grid_template_areas": null,
            "object_position": null,
            "object_fit": null,
            "grid_auto_columns": null,
            "margin": null,
            "display": null,
            "left": null
          }
        },
        "464d2a38a8414e799ae561fec9360905": {
          "model_module": "@jupyter-widgets/controls",
          "model_name": "HBoxModel",
          "state": {
            "_view_name": "HBoxView",
            "_dom_classes": [],
            "_model_name": "HBoxModel",
            "_view_module": "@jupyter-widgets/controls",
            "_model_module_version": "1.5.0",
            "_view_count": null,
            "_view_module_version": "1.5.0",
            "box_style": "",
            "layout": "IPY_MODEL_b7ed430d2cde497085d7bad4017c494b",
            "_model_module": "@jupyter-widgets/controls",
            "children": [
              "IPY_MODEL_37ea835df3f840aeaa816cdd182035b1",
              "IPY_MODEL_d8a60cabddf64d9ca5cb713005d5751b"
            ]
          }
        },
        "b7ed430d2cde497085d7bad4017c494b": {
          "model_module": "@jupyter-widgets/base",
          "model_name": "LayoutModel",
          "state": {
            "_view_name": "LayoutView",
            "grid_template_rows": null,
            "right": null,
            "justify_content": null,
            "_view_module": "@jupyter-widgets/base",
            "overflow": null,
            "_model_module_version": "1.2.0",
            "_view_count": null,
            "flex_flow": null,
            "width": null,
            "min_width": null,
            "border": null,
            "align_items": null,
            "bottom": null,
            "_model_module": "@jupyter-widgets/base",
            "top": null,
            "grid_column": null,
            "overflow_y": null,
            "overflow_x": null,
            "grid_auto_flow": null,
            "grid_area": null,
            "grid_template_columns": null,
            "flex": null,
            "_model_name": "LayoutModel",
            "justify_items": null,
            "grid_row": null,
            "max_height": null,
            "align_content": null,
            "visibility": null,
            "align_self": null,
            "height": null,
            "min_height": null,
            "padding": null,
            "grid_auto_rows": null,
            "grid_gap": null,
            "max_width": null,
            "order": null,
            "_view_module_version": "1.2.0",
            "grid_template_areas": null,
            "object_position": null,
            "object_fit": null,
            "grid_auto_columns": null,
            "margin": null,
            "display": null,
            "left": null
          }
        },
        "37ea835df3f840aeaa816cdd182035b1": {
          "model_module": "@jupyter-widgets/controls",
          "model_name": "FloatProgressModel",
          "state": {
            "_view_name": "ProgressView",
            "style": "IPY_MODEL_bfd5fbf645654a8e91b7ddd9cf1cf454",
            "_dom_classes": [],
            "description": "100%",
            "_model_name": "FloatProgressModel",
            "bar_style": "success",
            "max": 159571,
            "_view_module": "@jupyter-widgets/controls",
            "_model_module_version": "1.5.0",
            "value": 159571,
            "_view_count": null,
            "_view_module_version": "1.5.0",
            "orientation": "horizontal",
            "min": 0,
            "description_tooltip": null,
            "_model_module": "@jupyter-widgets/controls",
            "layout": "IPY_MODEL_a41ca2e4510540fdb51f5a27f45499c6"
          }
        },
        "d8a60cabddf64d9ca5cb713005d5751b": {
          "model_module": "@jupyter-widgets/controls",
          "model_name": "HTMLModel",
          "state": {
            "_view_name": "HTMLView",
            "style": "IPY_MODEL_3045d649c5ce480984557028e806dd00",
            "_dom_classes": [],
            "description": "",
            "_model_name": "HTMLModel",
            "placeholder": "​",
            "_view_module": "@jupyter-widgets/controls",
            "_model_module_version": "1.5.0",
            "value": " 159571/159571 [00:07&lt;00:00, 20753.11it/s]",
            "_view_count": null,
            "_view_module_version": "1.5.0",
            "description_tooltip": null,
            "_model_module": "@jupyter-widgets/controls",
            "layout": "IPY_MODEL_930c4402c0554e6395a0dd8e81b4c4fb"
          }
        },
        "bfd5fbf645654a8e91b7ddd9cf1cf454": {
          "model_module": "@jupyter-widgets/controls",
          "model_name": "ProgressStyleModel",
          "state": {
            "_view_name": "StyleView",
            "_model_name": "ProgressStyleModel",
            "description_width": "initial",
            "_view_module": "@jupyter-widgets/base",
            "_model_module_version": "1.5.0",
            "_view_count": null,
            "_view_module_version": "1.2.0",
            "bar_color": null,
            "_model_module": "@jupyter-widgets/controls"
          }
        },
        "a41ca2e4510540fdb51f5a27f45499c6": {
          "model_module": "@jupyter-widgets/base",
          "model_name": "LayoutModel",
          "state": {
            "_view_name": "LayoutView",
            "grid_template_rows": null,
            "right": null,
            "justify_content": null,
            "_view_module": "@jupyter-widgets/base",
            "overflow": null,
            "_model_module_version": "1.2.0",
            "_view_count": null,
            "flex_flow": null,
            "width": null,
            "min_width": null,
            "border": null,
            "align_items": null,
            "bottom": null,
            "_model_module": "@jupyter-widgets/base",
            "top": null,
            "grid_column": null,
            "overflow_y": null,
            "overflow_x": null,
            "grid_auto_flow": null,
            "grid_area": null,
            "grid_template_columns": null,
            "flex": null,
            "_model_name": "LayoutModel",
            "justify_items": null,
            "grid_row": null,
            "max_height": null,
            "align_content": null,
            "visibility": null,
            "align_self": null,
            "height": null,
            "min_height": null,
            "padding": null,
            "grid_auto_rows": null,
            "grid_gap": null,
            "max_width": null,
            "order": null,
            "_view_module_version": "1.2.0",
            "grid_template_areas": null,
            "object_position": null,
            "object_fit": null,
            "grid_auto_columns": null,
            "margin": null,
            "display": null,
            "left": null
          }
        },
        "3045d649c5ce480984557028e806dd00": {
          "model_module": "@jupyter-widgets/controls",
          "model_name": "DescriptionStyleModel",
          "state": {
            "_view_name": "StyleView",
            "_model_name": "DescriptionStyleModel",
            "description_width": "",
            "_view_module": "@jupyter-widgets/base",
            "_model_module_version": "1.5.0",
            "_view_count": null,
            "_view_module_version": "1.2.0",
            "_model_module": "@jupyter-widgets/controls"
          }
        },
        "930c4402c0554e6395a0dd8e81b4c4fb": {
          "model_module": "@jupyter-widgets/base",
          "model_name": "LayoutModel",
          "state": {
            "_view_name": "LayoutView",
            "grid_template_rows": null,
            "right": null,
            "justify_content": null,
            "_view_module": "@jupyter-widgets/base",
            "overflow": null,
            "_model_module_version": "1.2.0",
            "_view_count": null,
            "flex_flow": null,
            "width": null,
            "min_width": null,
            "border": null,
            "align_items": null,
            "bottom": null,
            "_model_module": "@jupyter-widgets/base",
            "top": null,
            "grid_column": null,
            "overflow_y": null,
            "overflow_x": null,
            "grid_auto_flow": null,
            "grid_area": null,
            "grid_template_columns": null,
            "flex": null,
            "_model_name": "LayoutModel",
            "justify_items": null,
            "grid_row": null,
            "max_height": null,
            "align_content": null,
            "visibility": null,
            "align_self": null,
            "height": null,
            "min_height": null,
            "padding": null,
            "grid_auto_rows": null,
            "grid_gap": null,
            "max_width": null,
            "order": null,
            "_view_module_version": "1.2.0",
            "grid_template_areas": null,
            "object_position": null,
            "object_fit": null,
            "grid_auto_columns": null,
            "margin": null,
            "display": null,
            "left": null
          }
        },
        "f451dec7072b441285a772c38aa7236c": {
          "model_module": "@jupyter-widgets/controls",
          "model_name": "HBoxModel",
          "state": {
            "_view_name": "HBoxView",
            "_dom_classes": [],
            "_model_name": "HBoxModel",
            "_view_module": "@jupyter-widgets/controls",
            "_model_module_version": "1.5.0",
            "_view_count": null,
            "_view_module_version": "1.5.0",
            "box_style": "",
            "layout": "IPY_MODEL_7b0dd6d4c9f94a4798d5473d05dfd15a",
            "_model_module": "@jupyter-widgets/controls",
            "children": [
              "IPY_MODEL_93e49f0bcfe54790a63dd89e99099090",
              "IPY_MODEL_8a48bdf8100f4a96b854540fc149305c"
            ]
          }
        },
        "7b0dd6d4c9f94a4798d5473d05dfd15a": {
          "model_module": "@jupyter-widgets/base",
          "model_name": "LayoutModel",
          "state": {
            "_view_name": "LayoutView",
            "grid_template_rows": null,
            "right": null,
            "justify_content": null,
            "_view_module": "@jupyter-widgets/base",
            "overflow": null,
            "_model_module_version": "1.2.0",
            "_view_count": null,
            "flex_flow": null,
            "width": null,
            "min_width": null,
            "border": null,
            "align_items": null,
            "bottom": null,
            "_model_module": "@jupyter-widgets/base",
            "top": null,
            "grid_column": null,
            "overflow_y": null,
            "overflow_x": null,
            "grid_auto_flow": null,
            "grid_area": null,
            "grid_template_columns": null,
            "flex": null,
            "_model_name": "LayoutModel",
            "justify_items": null,
            "grid_row": null,
            "max_height": null,
            "align_content": null,
            "visibility": null,
            "align_self": null,
            "height": null,
            "min_height": null,
            "padding": null,
            "grid_auto_rows": null,
            "grid_gap": null,
            "max_width": null,
            "order": null,
            "_view_module_version": "1.2.0",
            "grid_template_areas": null,
            "object_position": null,
            "object_fit": null,
            "grid_auto_columns": null,
            "margin": null,
            "display": null,
            "left": null
          }
        },
        "93e49f0bcfe54790a63dd89e99099090": {
          "model_module": "@jupyter-widgets/controls",
          "model_name": "FloatProgressModel",
          "state": {
            "_view_name": "ProgressView",
            "style": "IPY_MODEL_bf5349ff86de443f894bd513e93db079",
            "_dom_classes": [],
            "description": "100%",
            "_model_name": "FloatProgressModel",
            "bar_style": "success",
            "max": 153164,
            "_view_module": "@jupyter-widgets/controls",
            "_model_module_version": "1.5.0",
            "value": 153164,
            "_view_count": null,
            "_view_module_version": "1.5.0",
            "orientation": "horizontal",
            "min": 0,
            "description_tooltip": null,
            "_model_module": "@jupyter-widgets/controls",
            "layout": "IPY_MODEL_458c3683c99249579eed78c7c21673ff"
          }
        },
        "8a48bdf8100f4a96b854540fc149305c": {
          "model_module": "@jupyter-widgets/controls",
          "model_name": "HTMLModel",
          "state": {
            "_view_name": "HTMLView",
            "style": "IPY_MODEL_757a7fdd13d647989f8f609d726401f4",
            "_dom_classes": [],
            "description": "",
            "_model_name": "HTMLModel",
            "placeholder": "​",
            "_view_module": "@jupyter-widgets/controls",
            "_model_module_version": "1.5.0",
            "value": " 153164/153164 [00:05&lt;00:00, 28069.58it/s]",
            "_view_count": null,
            "_view_module_version": "1.5.0",
            "description_tooltip": null,
            "_model_module": "@jupyter-widgets/controls",
            "layout": "IPY_MODEL_7b6c020f9de544dfb839f06a82384423"
          }
        },
        "bf5349ff86de443f894bd513e93db079": {
          "model_module": "@jupyter-widgets/controls",
          "model_name": "ProgressStyleModel",
          "state": {
            "_view_name": "StyleView",
            "_model_name": "ProgressStyleModel",
            "description_width": "initial",
            "_view_module": "@jupyter-widgets/base",
            "_model_module_version": "1.5.0",
            "_view_count": null,
            "_view_module_version": "1.2.0",
            "bar_color": null,
            "_model_module": "@jupyter-widgets/controls"
          }
        },
        "458c3683c99249579eed78c7c21673ff": {
          "model_module": "@jupyter-widgets/base",
          "model_name": "LayoutModel",
          "state": {
            "_view_name": "LayoutView",
            "grid_template_rows": null,
            "right": null,
            "justify_content": null,
            "_view_module": "@jupyter-widgets/base",
            "overflow": null,
            "_model_module_version": "1.2.0",
            "_view_count": null,
            "flex_flow": null,
            "width": null,
            "min_width": null,
            "border": null,
            "align_items": null,
            "bottom": null,
            "_model_module": "@jupyter-widgets/base",
            "top": null,
            "grid_column": null,
            "overflow_y": null,
            "overflow_x": null,
            "grid_auto_flow": null,
            "grid_area": null,
            "grid_template_columns": null,
            "flex": null,
            "_model_name": "LayoutModel",
            "justify_items": null,
            "grid_row": null,
            "max_height": null,
            "align_content": null,
            "visibility": null,
            "align_self": null,
            "height": null,
            "min_height": null,
            "padding": null,
            "grid_auto_rows": null,
            "grid_gap": null,
            "max_width": null,
            "order": null,
            "_view_module_version": "1.2.0",
            "grid_template_areas": null,
            "object_position": null,
            "object_fit": null,
            "grid_auto_columns": null,
            "margin": null,
            "display": null,
            "left": null
          }
        },
        "757a7fdd13d647989f8f609d726401f4": {
          "model_module": "@jupyter-widgets/controls",
          "model_name": "DescriptionStyleModel",
          "state": {
            "_view_name": "StyleView",
            "_model_name": "DescriptionStyleModel",
            "description_width": "",
            "_view_module": "@jupyter-widgets/base",
            "_model_module_version": "1.5.0",
            "_view_count": null,
            "_view_module_version": "1.2.0",
            "_model_module": "@jupyter-widgets/controls"
          }
        },
        "7b6c020f9de544dfb839f06a82384423": {
          "model_module": "@jupyter-widgets/base",
          "model_name": "LayoutModel",
          "state": {
            "_view_name": "LayoutView",
            "grid_template_rows": null,
            "right": null,
            "justify_content": null,
            "_view_module": "@jupyter-widgets/base",
            "overflow": null,
            "_model_module_version": "1.2.0",
            "_view_count": null,
            "flex_flow": null,
            "width": null,
            "min_width": null,
            "border": null,
            "align_items": null,
            "bottom": null,
            "_model_module": "@jupyter-widgets/base",
            "top": null,
            "grid_column": null,
            "overflow_y": null,
            "overflow_x": null,
            "grid_auto_flow": null,
            "grid_area": null,
            "grid_template_columns": null,
            "flex": null,
            "_model_name": "LayoutModel",
            "justify_items": null,
            "grid_row": null,
            "max_height": null,
            "align_content": null,
            "visibility": null,
            "align_self": null,
            "height": null,
            "min_height": null,
            "padding": null,
            "grid_auto_rows": null,
            "grid_gap": null,
            "max_width": null,
            "order": null,
            "_view_module_version": "1.2.0",
            "grid_template_areas": null,
            "object_position": null,
            "object_fit": null,
            "grid_auto_columns": null,
            "margin": null,
            "display": null,
            "left": null
          }
        }
      }
    },
    "accelerator": "GPU"
  },
  "cells": [
    {
      "cell_type": "markdown",
      "metadata": {
        "id": "view-in-github",
        "colab_type": "text"
      },
      "source": [
        "<a href=\"https://colab.research.google.com/github/shaunak09vb/Toxic-Comment-Classifier-using-LSTM/blob/main/NLP_LSTM.ipynb\" target=\"_parent\"><img src=\"https://colab.research.google.com/assets/colab-badge.svg\" alt=\"Open In Colab\"/></a>"
      ]
    },
    {
      "cell_type": "markdown",
      "metadata": {
        "id": "wcGq1dF0iWju"
      },
      "source": [
        "# Importing Libraries"
      ]
    },
    {
      "cell_type": "code",
      "metadata": {
        "colab": {
          "base_uri": "https://localhost:8080/"
        },
        "id": "iyTgJx85_MUt",
        "outputId": "8a888f51-4638-4961-90b8-5049da553fb5"
      },
      "source": [
        "from google.colab import drive\n",
        "drive.mount('/content/drive')"
      ],
      "execution_count": 104,
      "outputs": [
        {
          "output_type": "stream",
          "text": [
            "Drive already mounted at /content/drive; to attempt to forcibly remount, call drive.mount(\"/content/drive\", force_remount=True).\n"
          ],
          "name": "stdout"
        }
      ]
    },
    {
      "cell_type": "code",
      "metadata": {
        "id": "xEXu-mePiK9T",
        "colab": {
          "base_uri": "https://localhost:8080/"
        },
        "outputId": "6f12ad70-6faf-46ab-e4bf-f274ab95bfde"
      },
      "source": [
        "import numpy as np, pandas as pd\n",
        "from tqdm import tqdm_notebook\n",
        "\n",
        "import re\n",
        "import spacy\n",
        "from spacy.lang.en import English\n",
        "from spacy.lang.en.stop_words import STOP_WORDS\n",
        "from nltk.tokenize import word_tokenize\n",
        "import nltk\n",
        "from nltk.stem import WordNetLemmatizer\n",
        "#nltk.download('punkt')\n",
        "nltk.download('wordnet')\n",
        "import string\n",
        "from string import ascii_lowercase\n",
        "\n",
        "import itertools\n",
        "\n",
        "import matplotlib.pyplot as plt\n",
        "%matplotlib inline\n",
        "import io\n",
        "\n",
        "from functools import reduce\n",
        "\n",
        "from keras.preprocessing.text import Tokenizer\n",
        "from keras.preprocessing.sequence import pad_sequences\n",
        "from keras.layers import Dense, Input, LSTM, Embedding, Dropout, Activation\n",
        "from keras.layers import Bidirectional, GlobalMaxPool1D\n",
        "from keras.models import Model\n",
        "from keras import initializers, regularizers, constraints, optimizers, layers"
      ],
      "execution_count": 2,
      "outputs": [
        {
          "output_type": "stream",
          "text": [
            "[nltk_data] Downloading package wordnet to /root/nltk_data...\n",
            "[nltk_data]   Unzipping corpora/wordnet.zip.\n"
          ],
          "name": "stdout"
        }
      ]
    },
    {
      "cell_type": "code",
      "metadata": {
        "id": "SkK1P-CdX_0N"
      },
      "source": [
        "max_features=100000      \r\n",
        "maxpadlen = 200          \r\n",
        "val_split = 0.2   \r\n",
        "embedding_dim = 200      "
      ],
      "execution_count": 3,
      "outputs": []
    },
    {
      "cell_type": "markdown",
      "metadata": {
        "id": "z8KPqb7_vC59"
      },
      "source": [
        "# Importing Data"
      ]
    },
    {
      "cell_type": "code",
      "metadata": {
        "id": "96Z6cXAZiaAY"
      },
      "source": [
        "train=pd.read_csv('https://raw.githubusercontent.com/shaunak09vb/Toxic-Comment-Classifier-using-LSTM/main/Data/train.csv')    "
      ],
      "execution_count": 6,
      "outputs": []
    },
    {
      "cell_type": "code",
      "metadata": {
        "colab": {
          "base_uri": "https://localhost:8080/",
          "height": 0
        },
        "id": "yTbZDdkc1lxE",
        "outputId": "feee149c-7f5c-49b3-a7eb-c51910258199"
      },
      "source": [
        "train.head()"
      ],
      "execution_count": 7,
      "outputs": [
        {
          "output_type": "execute_result",
          "data": {
            "text/html": [
              "<div>\n",
              "<style scoped>\n",
              "    .dataframe tbody tr th:only-of-type {\n",
              "        vertical-align: middle;\n",
              "    }\n",
              "\n",
              "    .dataframe tbody tr th {\n",
              "        vertical-align: top;\n",
              "    }\n",
              "\n",
              "    .dataframe thead th {\n",
              "        text-align: right;\n",
              "    }\n",
              "</style>\n",
              "<table border=\"1\" class=\"dataframe\">\n",
              "  <thead>\n",
              "    <tr style=\"text-align: right;\">\n",
              "      <th></th>\n",
              "      <th>id</th>\n",
              "      <th>comment_text</th>\n",
              "      <th>toxic</th>\n",
              "      <th>severe_toxic</th>\n",
              "      <th>obscene</th>\n",
              "      <th>threat</th>\n",
              "      <th>insult</th>\n",
              "      <th>identity_hate</th>\n",
              "    </tr>\n",
              "  </thead>\n",
              "  <tbody>\n",
              "    <tr>\n",
              "      <th>0</th>\n",
              "      <td>0000997932d777bf</td>\n",
              "      <td>Explanation\\nWhy the edits made under my usern...</td>\n",
              "      <td>0</td>\n",
              "      <td>0</td>\n",
              "      <td>0</td>\n",
              "      <td>0</td>\n",
              "      <td>0</td>\n",
              "      <td>0</td>\n",
              "    </tr>\n",
              "    <tr>\n",
              "      <th>1</th>\n",
              "      <td>000103f0d9cfb60f</td>\n",
              "      <td>D'aww! He matches this background colour I'm s...</td>\n",
              "      <td>0</td>\n",
              "      <td>0</td>\n",
              "      <td>0</td>\n",
              "      <td>0</td>\n",
              "      <td>0</td>\n",
              "      <td>0</td>\n",
              "    </tr>\n",
              "    <tr>\n",
              "      <th>2</th>\n",
              "      <td>000113f07ec002fd</td>\n",
              "      <td>Hey man, I'm really not trying to edit war. It...</td>\n",
              "      <td>0</td>\n",
              "      <td>0</td>\n",
              "      <td>0</td>\n",
              "      <td>0</td>\n",
              "      <td>0</td>\n",
              "      <td>0</td>\n",
              "    </tr>\n",
              "    <tr>\n",
              "      <th>3</th>\n",
              "      <td>0001b41b1c6bb37e</td>\n",
              "      <td>\"\\nMore\\nI can't make any real suggestions on ...</td>\n",
              "      <td>0</td>\n",
              "      <td>0</td>\n",
              "      <td>0</td>\n",
              "      <td>0</td>\n",
              "      <td>0</td>\n",
              "      <td>0</td>\n",
              "    </tr>\n",
              "    <tr>\n",
              "      <th>4</th>\n",
              "      <td>0001d958c54c6e35</td>\n",
              "      <td>You, sir, are my hero. Any chance you remember...</td>\n",
              "      <td>0</td>\n",
              "      <td>0</td>\n",
              "      <td>0</td>\n",
              "      <td>0</td>\n",
              "      <td>0</td>\n",
              "      <td>0</td>\n",
              "    </tr>\n",
              "  </tbody>\n",
              "</table>\n",
              "</div>"
            ],
            "text/plain": [
              "                 id  ... identity_hate\n",
              "0  0000997932d777bf  ...             0\n",
              "1  000103f0d9cfb60f  ...             0\n",
              "2  000113f07ec002fd  ...             0\n",
              "3  0001b41b1c6bb37e  ...             0\n",
              "4  0001d958c54c6e35  ...             0\n",
              "\n",
              "[5 rows x 8 columns]"
            ]
          },
          "metadata": {
            "tags": []
          },
          "execution_count": 7
        }
      ]
    },
    {
      "cell_type": "code",
      "metadata": {
        "id": "O2_gDuPMvQHZ"
      },
      "source": [
        "test=pd.read_csv('https://raw.githubusercontent.com/shaunak09vb/Toxic-Comment-Classifier-using-LSTM/main/Data/test.csv')"
      ],
      "execution_count": 8,
      "outputs": []
    },
    {
      "cell_type": "code",
      "metadata": {
        "id": "vewUHsrQvcti",
        "colab": {
          "base_uri": "https://localhost:8080/",
          "height": 0
        },
        "outputId": "e6f78096-1f89-4268-8c1d-c86bc098c542"
      },
      "source": [
        "test.head()"
      ],
      "execution_count": 9,
      "outputs": [
        {
          "output_type": "execute_result",
          "data": {
            "text/html": [
              "<div>\n",
              "<style scoped>\n",
              "    .dataframe tbody tr th:only-of-type {\n",
              "        vertical-align: middle;\n",
              "    }\n",
              "\n",
              "    .dataframe tbody tr th {\n",
              "        vertical-align: top;\n",
              "    }\n",
              "\n",
              "    .dataframe thead th {\n",
              "        text-align: right;\n",
              "    }\n",
              "</style>\n",
              "<table border=\"1\" class=\"dataframe\">\n",
              "  <thead>\n",
              "    <tr style=\"text-align: right;\">\n",
              "      <th></th>\n",
              "      <th>id</th>\n",
              "      <th>comment_text</th>\n",
              "    </tr>\n",
              "  </thead>\n",
              "  <tbody>\n",
              "    <tr>\n",
              "      <th>0</th>\n",
              "      <td>00001cee341fdb12</td>\n",
              "      <td>Yo bitch Ja Rule is more succesful then you'll...</td>\n",
              "    </tr>\n",
              "    <tr>\n",
              "      <th>1</th>\n",
              "      <td>0000247867823ef7</td>\n",
              "      <td>== From RfC == \\n\\n The title is fine as it is...</td>\n",
              "    </tr>\n",
              "    <tr>\n",
              "      <th>2</th>\n",
              "      <td>00013b17ad220c46</td>\n",
              "      <td>\" \\n\\n == Sources == \\n\\n * Zawe Ashton on Lap...</td>\n",
              "    </tr>\n",
              "    <tr>\n",
              "      <th>3</th>\n",
              "      <td>00017563c3f7919a</td>\n",
              "      <td>:If you have a look back at the source, the in...</td>\n",
              "    </tr>\n",
              "    <tr>\n",
              "      <th>4</th>\n",
              "      <td>00017695ad8997eb</td>\n",
              "      <td>I don't anonymously edit articles at all.</td>\n",
              "    </tr>\n",
              "  </tbody>\n",
              "</table>\n",
              "</div>"
            ],
            "text/plain": [
              "                 id                                       comment_text\n",
              "0  00001cee341fdb12  Yo bitch Ja Rule is more succesful then you'll...\n",
              "1  0000247867823ef7  == From RfC == \\n\\n The title is fine as it is...\n",
              "2  00013b17ad220c46  \" \\n\\n == Sources == \\n\\n * Zawe Ashton on Lap...\n",
              "3  00017563c3f7919a  :If you have a look back at the source, the in...\n",
              "4  00017695ad8997eb          I don't anonymously edit articles at all."
            ]
          },
          "metadata": {
            "tags": []
          },
          "execution_count": 9
        }
      ]
    },
    {
      "cell_type": "markdown",
      "metadata": {
        "id": "D8hAcigh3Sh3"
      },
      "source": [
        "# Data Exploration"
      ]
    },
    {
      "cell_type": "markdown",
      "metadata": {
        "id": "MsOBGKJI4aHT"
      },
      "source": [
        "Checking for missing values"
      ]
    },
    {
      "cell_type": "code",
      "metadata": {
        "colab": {
          "base_uri": "https://localhost:8080/"
        },
        "id": "ZzAnL7ly1epE",
        "outputId": "4be6a596-9a2c-4590-e58b-7e425658f968"
      },
      "source": [
        "train.isnull().any()"
      ],
      "execution_count": 10,
      "outputs": [
        {
          "output_type": "execute_result",
          "data": {
            "text/plain": [
              "id               False\n",
              "comment_text     False\n",
              "toxic            False\n",
              "severe_toxic     False\n",
              "obscene          False\n",
              "threat           False\n",
              "insult           False\n",
              "identity_hate    False\n",
              "dtype: bool"
            ]
          },
          "metadata": {
            "tags": []
          },
          "execution_count": 10
        }
      ]
    },
    {
      "cell_type": "code",
      "metadata": {
        "id": "cRc5Wyw24c62",
        "colab": {
          "base_uri": "https://localhost:8080/"
        },
        "outputId": "c8841247-6fde-4971-927f-d0c02904e6f3"
      },
      "source": [
        "test.isnull().any()\n"
      ],
      "execution_count": 11,
      "outputs": [
        {
          "output_type": "execute_result",
          "data": {
            "text/plain": [
              "id              False\n",
              "comment_text    False\n",
              "dtype: bool"
            ]
          },
          "metadata": {
            "tags": []
          },
          "execution_count": 11
        }
      ]
    },
    {
      "cell_type": "code",
      "metadata": {
        "id": "TYZ93LlRbwRB"
      },
      "source": [
        "labels = ['toxic', 'severe_toxic', 'obscene', 'threat', 'insult', 'identity_hate']\r\n",
        "y = train[labels].values"
      ],
      "execution_count": 12,
      "outputs": []
    },
    {
      "cell_type": "markdown",
      "metadata": {
        "id": "NDWRHguXxOF_"
      },
      "source": [
        "#Data Pre-processing"
      ]
    },
    {
      "cell_type": "markdown",
      "metadata": {
        "id": "6z-4hq4jyhBw"
      },
      "source": [
        "## Text Normalization"
      ]
    },
    {
      "cell_type": "markdown",
      "metadata": {
        "id": "h4k-vI8DbqiP"
      },
      "source": [
        "* Removing Characters in between Text\n",
        "* Removing Repeated Characters\n",
        "* Converting data to lower-case\n",
        "* Removing Numbers from the data\n",
        "* Remove Punctuation\n",
        "* Remove Whitespaces\n",
        "* Removing spaces in between words\n",
        "* Removing \"\\n\"\n",
        "* Remove Non-english characters"
      ]
    },
    {
      "cell_type": "code",
      "metadata": {
        "id": "jglnA7LEbpoA"
      },
      "source": [
        "RE_PATTERNS = {\n",
        "    ' american ':\n",
        "        [\n",
        "            'amerikan'\n",
        "        ],\n",
        "\n",
        "    ' adolf ':\n",
        "        [\n",
        "            'adolf'\n",
        "        ],\n",
        "\n",
        "\n",
        "    ' hitler ':\n",
        "        [\n",
        "            'hitler'\n",
        "        ],\n",
        "\n",
        "    ' fuck':\n",
        "        [\n",
        "            '(f)(u|[^a-z0-9 ])(c|[^a-z0-9 ])(k|[^a-z0-9 ])([^ ])*',\n",
        "            '(f)([^a-z]*)(u)([^a-z]*)(c)([^a-z]*)(k)',\n",
        "            ' f[!@#\\$%\\^\\&\\*]*u[!@#\\$%\\^&\\*]*k', 'f u u c',\n",
        "            '(f)(c|[^a-z ])(u|[^a-z ])(k)', r'f\\*',\n",
        "            'feck ', ' fux ', 'f\\*\\*', 'f**k','fu*k',\n",
        "            'f\\-ing', 'f\\.u\\.', 'f###', ' fu ', 'f@ck', 'f u c k', 'f uck', 'f ck'\n",
        "        ],\n",
        "\n",
        "    ' ass ':\n",
        "        [\n",
        "            '[^a-z]ass ', '[^a-z]azz ', 'arrse', ' arse ', '@\\$\\$',\n",
        "            '[^a-z]anus', ' a\\*s\\*s', '[^a-z]ass[^a-z ]',\n",
        "            'a[@#\\$%\\^&\\*][@#\\$%\\^&\\*]', '[^a-z]anal ', 'a s s','a55', '@$$'\n",
        "        ],\n",
        "\n",
        "    ' ass hole ':\n",
        "        [\n",
        "            ' a[s|z]*wipe', 'a[s|z]*[w]*h[o|0]+[l]*e', '@\\$\\$hole', 'a**hole'\n",
        "        ],\n",
        "\n",
        "    ' bitch ':\n",
        "        [\n",
        "            'b[w]*i[t]*ch', 'b!tch',\n",
        "            'bi\\+ch', 'b!\\+ch', '(b)([^a-z]*)(i)([^a-z]*)(t)([^a-z]*)(c)([^a-z]*)(h)',\n",
        "            'biatch', 'bi\\*\\*h', 'bytch', 'b i t c h', 'b!tch', 'bi+ch', 'l3itch'\n",
        "        ],\n",
        "\n",
        "    ' bastard ':\n",
        "        [\n",
        "            'ba[s|z]+t[e|a]+rd'\n",
        "        ],\n",
        "\n",
        "    ' trans gender':\n",
        "        [\n",
        "            'transgender'\n",
        "        ],\n",
        "\n",
        "    ' gay ':\n",
        "        [\n",
        "            'gay'\n",
        "        ],\n",
        "\n",
        "    ' cock ':\n",
        "        [\n",
        "            '[^a-z]cock', 'c0ck', '[^a-z]cok ', 'c0k', '[^a-z]cok[^aeiou]', ' cawk',\n",
        "            '(c)([^a-z ])(o)([^a-z ]*)(c)([^a-z ]*)(k)', 'c o c k'\n",
        "        ],\n",
        "\n",
        "    ' dick ':\n",
        "        [\n",
        "            ' dick[^aeiou]', 'deek', 'd i c k', 'dik'\n",
        "        ],\n",
        "\n",
        "    ' suck ':\n",
        "        [\n",
        "            'sucker', '(s)([^a-z ]*)(u)([^a-z ]*)(c)([^a-z ]*)(k)', 'sucks', '5uck', 's u c k'\n",
        "        ],\n",
        "\n",
        "    ' cunt ':\n",
        "        [\n",
        "            'cunt', 'c u n t'\n",
        "        ],\n",
        "\n",
        "    ' bull shit ':\n",
        "        [\n",
        "            'bullsh\\*t', 'bull\\$hit'\n",
        "        ],\n",
        "\n",
        "    ' homo sex ual':\n",
        "        [\n",
        "            'homosexual'\n",
        "        ],\n",
        "\n",
        "    ' jerk ':\n",
        "        [\n",
        "            'jerk'\n",
        "        ],\n",
        "\n",
        "    ' idiot ':\n",
        "        [\n",
        "            'i[d]+io[t]+', '(i)([^a-z ]*)(d)([^a-z ]*)(i)([^a-z ]*)(o)([^a-z ]*)(t)', 'idiots'\n",
        "                                                                                      'i d i o t'\n",
        "        ],\n",
        "\n",
        "    ' dumb ':\n",
        "        [\n",
        "            '(d)([^a-z ]*)(u)([^a-z ]*)(m)([^a-z ]*)(b)'\n",
        "        ],\n",
        "\n",
        "    ' shit ':\n",
        "        [\n",
        "            'shitty', '(s)([^a-z ]*)(h)([^a-z ]*)(i)([^a-z ]*)(t)', 'shite', '\\$hit', 's h i t', '$h1t'\n",
        "        ],\n",
        "\n",
        "    ' shit hole ':\n",
        "        [\n",
        "            'shythole'\n",
        "        ],\n",
        "\n",
        "    ' retard ':\n",
        "        [\n",
        "            'returd', 'retad', 'retard', 'wiktard', 'wikitud'\n",
        "        ],\n",
        "\n",
        "    ' rape ':\n",
        "        [\n",
        "            ' raped'\n",
        "        ],\n",
        "\n",
        "    ' dumb ass':\n",
        "        [\n",
        "            'dumbass', 'dubass'\n",
        "        ],\n",
        "\n",
        "    ' ass head':\n",
        "        [\n",
        "            'butthead'\n",
        "        ],\n",
        "\n",
        "    ' sex ':\n",
        "        [\n",
        "            'sexy', 's3x', 'sexuality'\n",
        "        ],\n",
        "\n",
        "\n",
        "    ' nigger ':\n",
        "        [\n",
        "            'nigger', 'ni[g]+a', ' nigr ', 'negrito', 'niguh', 'n3gr', 'n i g g e r'\n",
        "        ],\n",
        "\n",
        "    ' shut the fuck up':\n",
        "        [\n",
        "            'stfu', 'st*u'\n",
        "        ],\n",
        "\n",
        "    ' pussy ':\n",
        "        [\n",
        "            'pussy[^c]', 'pusy', 'pussi[^l]', 'pusses', 'p*ssy'\n",
        "        ],\n",
        "\n",
        "    ' faggot ':\n",
        "        [\n",
        "            'faggot', ' fa[g]+[s]*[^a-z ]', 'fagot', 'f a g g o t', 'faggit',\n",
        "            '(f)([^a-z ]*)(a)([^a-z ]*)([g]+)([^a-z ]*)(o)([^a-z ]*)(t)', 'fau[g]+ot', 'fae[g]+ot',\n",
        "        ],\n",
        "\n",
        "    ' mother fucker':\n",
        "        [\n",
        "            ' motha ', ' motha f', ' mother f', 'motherucker',\n",
        "        ],\n",
        "\n",
        "    ' whore ':\n",
        "        [\n",
        "            'wh\\*\\*\\*', 'w h o r e'\n",
        "        ],\n",
        "    ' fucking ':\n",
        "        [\n",
        "            'f*$%-ing'\n",
        "        ],\n",
        "}\n"
      ],
      "execution_count": 13,
      "outputs": []
    },
    {
      "cell_type": "code",
      "metadata": {
        "id": "AuEtj_Hd0WEi",
        "colab": {
          "base_uri": "https://localhost:8080/",
          "height": 0
        },
        "outputId": "453ba905-57ae-47c8-97dc-bee6e3fecc95"
      },
      "source": [
        "'''Abbreviation = {\n",
        "    'a moderate amount of hate':\n",
        "        [\n",
        "        'amoah'\n",
        "        ],\n",
        "    'another day in hell':\n",
        "        [\n",
        "        'adih'\n",
        "        ],\n",
        "    'as fuck':\n",
        "        [\n",
        "        'af'\n",
        "        ],\n",
        "    'boyfriend':\n",
        "        [\n",
        "        'bf'\n",
        "        ],\n",
        "    'chicks':\n",
        "        [\n",
        "        'chx'\n",
        "        ],\n",
        "    'for your information':\n",
        "        [\n",
        "         'fyi'\n",
        "        ],\n",
        "    'get the fuck out':\n",
        "        [\n",
        "         'gtfo'\n",
        "        ],\n",
        "    'girlfriend':\n",
        "        [\n",
        "        'gf'\n",
        "        ],\n",
        "    'good morning':\n",
        "        [\n",
        "         'gm'\n",
        "        ],\n",
        "    'good night':\n",
        "        [\n",
        "         'gn'\n",
        "        ],\n",
        "    'hugs and kisses':\n",
        "        [\n",
        "         'hak','xoxo'\n",
        "        ],\n",
        "    'i dont care':\n",
        "        [\n",
        "         'idc'\n",
        "        ],\n",
        "    'i dont know':\n",
        "        [\n",
        "         'idk'\n",
        "        ],\n",
        "    'i hate you':\n",
        "        [\n",
        "         'ih8u'\n",
        "        ],\n",
        "    'i know':\n",
        "        [\n",
        "         'ik'\n",
        "        ],\n",
        "    'i know right':\n",
        "        [\n",
        "         'ikr'\n",
        "        ],\n",
        "    'i love you':\n",
        "        [\n",
        "         'ilu','ily'\n",
        "        ],\n",
        "    'i miss you':\n",
        "        [\n",
        "         'imy','imu'\n",
        "        ],\n",
        "    'in real life':\n",
        "        [\n",
        "         'irl'\n",
        "        ],\n",
        "    'in my opinion':\n",
        "        [\n",
        "         'imo'\n",
        "        ],\n",
        "    'just kidding':\n",
        "        [\n",
        "         'jk'\n",
        "        ],\n",
        "    'later':\n",
        "        [\n",
        "         'l8r'\n",
        "        ],\n",
        "    'laugh my ass off':\n",
        "        [\n",
        "         'lmao'\n",
        "        ],\n",
        "    'laugh out loud':\n",
        "        [\n",
        "         'lol'\n",
        "        ],\n",
        "    'love':\n",
        "        [\n",
        "         '<3','luv'\n",
        "        ],\n",
        "    'message':\n",
        "        [\n",
        "         'msg'\n",
        "        ],\n",
        "    'nevermind':\n",
        "        [\n",
        "         'nvm'\n",
        "        ],\n",
        "    'no problem':\n",
        "        [\n",
        "         'np'\n",
        "        ],\n",
        "    'oh my god':\n",
        "        [\n",
        "         'omg'\n",
        "        ],\n",
        "    'on the way':\n",
        "        [\n",
        "         'otw'\n",
        "        ],\n",
        "    'please':\n",
        "        [\n",
        "          'pls','plz'\n",
        "        ],\n",
        "    'rolling on the floor laughing':\n",
        "        [\n",
        "          'rofl', 'rotfl'\n",
        "        ],\n",
        "    'shut the fuck up':\n",
        "        [\n",
        "          'stfu'\n",
        "        ],\n",
        "    'talk to you later':\n",
        "        [\n",
        "          'ttyl'\n",
        "        ],\n",
        "    'thank you so much':\n",
        "        [\n",
        "          'tysm'\n",
        "        ],\n",
        "    'thanks':\n",
        "        [\n",
        "         'thnx','thnks','thx',\n",
        "        ],\n",
        "    'thank you':\n",
        "        [\n",
        "         'ty','tu'\n",
        "        ],\n",
        "    'tonight':\n",
        "        [\n",
        "         '2nyt','2nite'\n",
        "        ],\n",
        "    'to be announced':\n",
        "        [\n",
        "         'tba'\n",
        "        ],\n",
        "    'to be decided':\n",
        "        [\n",
        "         'tbd'\n",
        "        ],\n",
        "    'too much information':\n",
        "        [\n",
        "         'tmi'\n",
        "        ],\n",
        "    'you only live once':\n",
        "        [\n",
        "         'yolo'\n",
        "        ],\n",
        "    'your':\n",
        "        [\n",
        "         'ur'\n",
        "        ],\n",
        "    'what are you doing':\n",
        "        [\n",
        "         'wyd'\n",
        "        ],\n",
        "    'what the fuck':\n",
        "        [\n",
        "         'wtf'  \n",
        "        ],\n",
        "    'what the hell':\n",
        "        [\n",
        "         'wth'\n",
        "        ],\n",
        "    'without':\n",
        "        [\n",
        "         'w/o','wo' \n",
        "        ],\n",
        "     'works for me':\n",
        "        [\n",
        "         'wfm'\n",
        "        ],     \n",
        "\n",
        "}'''"
      ],
      "execution_count": 14,
      "outputs": [
        {
          "output_type": "execute_result",
          "data": {
            "application/vnd.google.colaboratory.intrinsic+json": {
              "type": "string"
            },
            "text/plain": [
              "\"Abbreviation = {\\n    'a moderate amount of hate':\\n        [\\n        'amoah'\\n        ],\\n    'another day in hell':\\n        [\\n        'adih'\\n        ],\\n    'as fuck':\\n        [\\n        'af'\\n        ],\\n    'boyfriend':\\n        [\\n        'bf'\\n        ],\\n    'chicks':\\n        [\\n        'chx'\\n        ],\\n    'for your information':\\n        [\\n         'fyi'\\n        ],\\n    'get the fuck out':\\n        [\\n         'gtfo'\\n        ],\\n    'girlfriend':\\n        [\\n        'gf'\\n        ],\\n    'good morning':\\n        [\\n         'gm'\\n        ],\\n    'good night':\\n        [\\n         'gn'\\n        ],\\n    'hugs and kisses':\\n        [\\n         'hak','xoxo'\\n        ],\\n    'i dont care':\\n        [\\n         'idc'\\n        ],\\n    'i dont know':\\n        [\\n         'idk'\\n        ],\\n    'i hate you':\\n        [\\n         'ih8u'\\n        ],\\n    'i know':\\n        [\\n         'ik'\\n        ],\\n    'i know right':\\n        [\\n         'ikr'\\n        ],\\n    'i love you':\\n        [\\n         'ilu','ily'\\n        ],\\n    'i miss you':\\n        [\\n         'imy','imu'\\n        ],\\n    'in real life':\\n        [\\n         'irl'\\n        ],\\n    'in my opinion':\\n        [\\n         'imo'\\n        ],\\n    'just kidding':\\n        [\\n         'jk'\\n        ],\\n    'later':\\n        [\\n         'l8r'\\n        ],\\n    'laugh my ass off':\\n        [\\n         'lmao'\\n        ],\\n    'laugh out loud':\\n        [\\n         'lol'\\n        ],\\n    'love':\\n        [\\n         '<3','luv'\\n        ],\\n    'message':\\n        [\\n         'msg'\\n        ],\\n    'nevermind':\\n        [\\n         'nvm'\\n        ],\\n    'no problem':\\n        [\\n         'np'\\n        ],\\n    'oh my god':\\n        [\\n         'omg'\\n        ],\\n    'on the way':\\n        [\\n         'otw'\\n        ],\\n    'please':\\n        [\\n          'pls','plz'\\n        ],\\n    'rolling on the floor laughing':\\n        [\\n          'rofl', 'rotfl'\\n        ],\\n    'shut the fuck up':\\n        [\\n          'stfu'\\n        ],\\n    'talk to you later':\\n        [\\n          'ttyl'\\n        ],\\n    'thank you so much':\\n        [\\n          'tysm'\\n        ],\\n    'thanks':\\n        [\\n         'thnx','thnks','thx',\\n        ],\\n    'thank you':\\n        [\\n         'ty','tu'\\n        ],\\n    'tonight':\\n        [\\n         '2nyt','2nite'\\n        ],\\n    'to be announced':\\n        [\\n         'tba'\\n        ],\\n    'to be decided':\\n        [\\n         'tbd'\\n        ],\\n    'too much information':\\n        [\\n         'tmi'\\n        ],\\n    'you only live once':\\n        [\\n         'yolo'\\n        ],\\n    'your':\\n        [\\n         'ur'\\n        ],\\n    'what are you doing':\\n        [\\n         'wyd'\\n        ],\\n    'what the fuck':\\n        [\\n         'wtf'  \\n        ],\\n    'what the hell':\\n        [\\n         'wth'\\n        ],\\n    'without':\\n        [\\n         'w/o','wo' \\n        ],\\n     'works for me':\\n        [\\n         'wfm'\\n        ],     \\n\\n}\""
            ]
          },
          "metadata": {
            "tags": []
          },
          "execution_count": 14
        }
      ]
    },
    {
      "cell_type": "code",
      "metadata": {
        "id": "4RetJ1vgswOG"
      },
      "source": [
        "def clean_text(text,remove_repeat_text=True, remove_patterns_text=True, is_lower=True, remove_abbreviations=True):\n",
        "\n",
        "  if is_lower:\n",
        "    text=text.lower()\n",
        "    \n",
        "  if remove_patterns_text:\n",
        "    for target, patterns in RE_PATTERNS.items():\n",
        "      for pat in patterns:\n",
        "        text=str(text).replace(pat, target)\n",
        "\n",
        "  if remove_repeat_text:\n",
        "    text = re.sub(r'(.)\\1{2,}', r'\\1', text) \n",
        "\n",
        "  text = str(text).replace(\"\\n\", \" \")\n",
        "  text = re.sub(r'[^\\w\\s]',' ',text)\n",
        "  text = re.sub('[0-9]',\"\",text)\n",
        "  text = re.sub(\" +\", \" \", text)\n",
        "  text = re.sub(\"([^\\x00-\\x7F])+\",\" \",text)\n",
        "  return text "
      ],
      "execution_count": 15,
      "outputs": []
    },
    {
      "cell_type": "markdown",
      "metadata": {
        "id": "LwyO_GcPuPE_"
      },
      "source": [
        "Cleaning Training Data"
      ]
    },
    {
      "cell_type": "code",
      "metadata": {
        "id": "Cak-Q0fl0qyb"
      },
      "source": [
        "train['comment_text']=train['comment_text'].apply(lambda x: clean_text(x))"
      ],
      "execution_count": 16,
      "outputs": []
    },
    {
      "cell_type": "code",
      "metadata": {
        "colab": {
          "base_uri": "https://localhost:8080/",
          "height": 0
        },
        "id": "6g8ATYkl9pl1",
        "outputId": "fbfcedd8-c5e8-4b9f-caf9-7e93c17ab44c"
      },
      "source": [
        "train['comment_text'][1]"
      ],
      "execution_count": 17,
      "outputs": [
        {
          "output_type": "execute_result",
          "data": {
            "application/vnd.google.colaboratory.intrinsic+json": {
              "type": "string"
            },
            "text/plain": [
              "'d aww he matches this background colour i m seemingly stuck with thanks talk january utc '"
            ]
          },
          "metadata": {
            "tags": []
          },
          "execution_count": 17
        }
      ]
    },
    {
      "cell_type": "markdown",
      "metadata": {
        "id": "8qfbjYXq8huL"
      },
      "source": [
        "Cleaning Test Data"
      ]
    },
    {
      "cell_type": "code",
      "metadata": {
        "id": "V02zaxGN8g-s"
      },
      "source": [
        "test['comment_text']=test['comment_text'].apply(lambda x: clean_text(x))"
      ],
      "execution_count": 18,
      "outputs": []
    },
    {
      "cell_type": "code",
      "metadata": {
        "id": "waADYjfm8pG2",
        "colab": {
          "base_uri": "https://localhost:8080/",
          "height": 0
        },
        "outputId": "781163aa-5d7d-483d-8506-3205e62e3a47"
      },
      "source": [
        "test['comment_text'][1048]"
      ],
      "execution_count": 19,
      "outputs": [
        {
          "output_type": "execute_result",
          "data": {
            "application/vnd.google.colaboratory.intrinsic+json": {
              "type": "string"
            },
            "text/plain": [
              "'this is a university ip address just fyi '"
            ]
          },
          "metadata": {
            "tags": []
          },
          "execution_count": 19
        }
      ]
    },
    {
      "cell_type": "markdown",
      "metadata": {
        "id": "mqRVmH1FRWpL"
      },
      "source": [
        "## Lemmatization"
      ]
    },
    {
      "cell_type": "code",
      "metadata": {
        "id": "vnhCAXkKUF9i"
      },
      "source": [
        "comments_train=train['comment_text']\n",
        "comments_test=test['comment_text']"
      ],
      "execution_count": 20,
      "outputs": []
    },
    {
      "cell_type": "code",
      "metadata": {
        "id": "WwhTNF3pW7Hp"
      },
      "source": [
        "comments_train=list(comments_train)\n",
        "comments_test=list(comments_test)"
      ],
      "execution_count": 21,
      "outputs": []
    },
    {
      "cell_type": "code",
      "metadata": {
        "id": "IuWMc1xqRVqV"
      },
      "source": [
        "wordnet_lemmatizer = WordNetLemmatizer()"
      ],
      "execution_count": 22,
      "outputs": []
    },
    {
      "cell_type": "code",
      "metadata": {
        "id": "fi-vYUcPoi-a"
      },
      "source": [
        "def lemma(text, lemmatization=True):\n",
        "  output=\"\"\n",
        "  if lemmatization:\n",
        "    text=text.split(\" \")\n",
        "    for word in text:\n",
        "       word1 = wordnet_lemmatizer.lemmatize(word, pos = \"n\")\n",
        "       word2 = wordnet_lemmatizer.lemmatize(word1, pos = \"v\")\n",
        "       word3 = wordnet_lemmatizer.lemmatize(word2, pos = \"a\")\n",
        "       word4 = wordnet_lemmatizer.lemmatize(word3, pos = \"r\")\n",
        "       output=output + \" \" + word4\n",
        "  else:\n",
        "    output=text\n",
        "  \n",
        "  return str(output.strip()) "
      ],
      "execution_count": 23,
      "outputs": []
    },
    {
      "cell_type": "markdown",
      "metadata": {
        "id": "AX4DTjGJ-8Id"
      },
      "source": [
        "Lemmatizing Training Data"
      ]
    },
    {
      "cell_type": "code",
      "metadata": {
        "colab": {
          "base_uri": "https://localhost:8080/",
          "height": 0,
          "referenced_widgets": [
            "f4cc69e66d9f40088049c8181eda3398",
            "385e6def25464f879880818fc4ce4288",
            "6b94108d122c4d35bda80833f55c9726",
            "690ec97fc3754adda77e6dabe314837c",
            "eddcfee0b60c425d82ce51e68530a6f1",
            "aaa3829b584f4dd6a460626fec615ed5",
            "b4dc46b9a4b14f2da9b858f6333661ca",
            "0cf758a77de340c58971367d3aeab594"
          ]
        },
        "id": "JRquFt30qWk0",
        "outputId": "c8dc5bfe-7043-4666-d554-427d4dbaa61d"
      },
      "source": [
        "lemmatized_train_data = [] \n",
        "\n",
        "for line in tqdm_notebook(comments_train, total=159571): \n",
        "    lemmatized_train_data.append(lemma(line))"
      ],
      "execution_count": 24,
      "outputs": [
        {
          "output_type": "stream",
          "text": [
            "/usr/local/lib/python3.6/dist-packages/ipykernel_launcher.py:3: TqdmDeprecationWarning: This function will be removed in tqdm==5.0.0\n",
            "Please use `tqdm.notebook.tqdm` instead of `tqdm.tqdm_notebook`\n",
            "  This is separate from the ipykernel package so we can avoid doing imports until\n"
          ],
          "name": "stderr"
        },
        {
          "output_type": "display_data",
          "data": {
            "application/vnd.jupyter.widget-view+json": {
              "model_id": "f4cc69e66d9f40088049c8181eda3398",
              "version_minor": 0,
              "version_major": 2
            },
            "text/plain": [
              "HBox(children=(FloatProgress(value=0.0, max=159571.0), HTML(value='')))"
            ]
          },
          "metadata": {
            "tags": []
          }
        },
        {
          "output_type": "stream",
          "text": [
            "\n"
          ],
          "name": "stdout"
        }
      ]
    },
    {
      "cell_type": "code",
      "metadata": {
        "colab": {
          "base_uri": "https://localhost:8080/",
          "height": 0
        },
        "id": "WK9azHjSrbic",
        "outputId": "d50e7376-2ea0-4bc4-bc61-4c297ff9fb15"
      },
      "source": [
        "lemmatized_train_data[152458]"
      ],
      "execution_count": 25,
      "outputs": [
        {
          "output_type": "execute_result",
          "data": {
            "application/vnd.google.colaboratory.intrinsic+json": {
              "type": "string"
            },
            "text/plain": [
              "'i agree with you about graemel s intention he be a revert nazi and wikipedia ha a way of protect against this report him to the wp rr three revert rule notice board post by report the revert nazi graemel ha show himself herself to be a revert nazi this be unacceptable on a site that be make by it s user and not it s admins if you feel you have be unjustly revert more than time over a hour period please report him her to the three revert noticeboard wp rr it be time to take back what be ours'"
            ]
          },
          "metadata": {
            "tags": []
          },
          "execution_count": 25
        }
      ]
    },
    {
      "cell_type": "markdown",
      "metadata": {
        "id": "yxRJbMBQ-oQ-"
      },
      "source": [
        "Lemmatizing Test Data"
      ]
    },
    {
      "cell_type": "code",
      "metadata": {
        "id": "B4LZUmqy-vvD",
        "colab": {
          "base_uri": "https://localhost:8080/",
          "height": 0,
          "referenced_widgets": [
            "c3263f8a0a8647afa4e003483930a47c",
            "03a70230bbc7409dbcbcd884bb52f2e8",
            "e451f3e75fd34fb3a88a8213e42bf645",
            "a53b156056334b02bcdf16e23abcf0a4",
            "2be44ba5e09943438eed0bb22daf531e",
            "3e10ceb12e8b4bc99e6352ea50a15d13",
            "884387683f8646c4bb9ee346a705d3e7",
            "0fe5014f0a914789986a724763100841"
          ]
        },
        "outputId": "e2763a97-4321-480d-97a8-0a6e7c2aef0c"
      },
      "source": [
        "lemmatized_test_data = [] \n",
        "\n",
        "for line in tqdm_notebook(comments_test, total=len(comments_test)): \n",
        "    lemmatized_test_data.append(lemma(line))"
      ],
      "execution_count": 26,
      "outputs": [
        {
          "output_type": "stream",
          "text": [
            "/usr/local/lib/python3.6/dist-packages/ipykernel_launcher.py:3: TqdmDeprecationWarning: This function will be removed in tqdm==5.0.0\n",
            "Please use `tqdm.notebook.tqdm` instead of `tqdm.tqdm_notebook`\n",
            "  This is separate from the ipykernel package so we can avoid doing imports until\n"
          ],
          "name": "stderr"
        },
        {
          "output_type": "display_data",
          "data": {
            "application/vnd.jupyter.widget-view+json": {
              "model_id": "c3263f8a0a8647afa4e003483930a47c",
              "version_minor": 0,
              "version_major": 2
            },
            "text/plain": [
              "HBox(children=(FloatProgress(value=0.0, max=153164.0), HTML(value='')))"
            ]
          },
          "metadata": {
            "tags": []
          }
        },
        {
          "output_type": "stream",
          "text": [
            "\n"
          ],
          "name": "stdout"
        }
      ]
    },
    {
      "cell_type": "markdown",
      "metadata": {
        "id": "yZaP8BH2UG0N"
      },
      "source": [
        "## Stopwords Removal"
      ]
    },
    {
      "cell_type": "code",
      "metadata": {
        "id": "vNKjE4Vq8kpG"
      },
      "source": [
        "stopword_list=STOP_WORDS\n",
        "#stopword_list"
      ],
      "execution_count": 27,
      "outputs": []
    },
    {
      "cell_type": "markdown",
      "metadata": {
        "id": "m_oqV08mMWmk"
      },
      "source": [
        "Adding Single and Dual to STOP_WORDS"
      ]
    },
    {
      "cell_type": "code",
      "metadata": {
        "id": "go7RVS52I1US"
      },
      "source": [
        "def iter_all_strings():\n",
        "    for size in itertools.count(1):\n",
        "        for s in itertools.product(ascii_lowercase, repeat=size):\n",
        "            yield \"\".join(s)\n",
        "\n",
        "dual_alpha_list=[]\n",
        "for s in iter_all_strings():\n",
        "    dual_alpha_list.append(s)\n",
        "    if s == 'zz':\n",
        "        break"
      ],
      "execution_count": 28,
      "outputs": []
    },
    {
      "cell_type": "code",
      "metadata": {
        "id": "7_x3bQ4MIGVK"
      },
      "source": [
        "dual_alpha_list.remove('i')\n",
        "dual_alpha_list.remove('a')\n",
        "dual_alpha_list.remove('am')\n",
        "dual_alpha_list.remove('an')\n",
        "dual_alpha_list.remove('as')\n",
        "dual_alpha_list.remove('at')\n",
        "dual_alpha_list.remove('be')\n",
        "dual_alpha_list.remove('by')\n",
        "dual_alpha_list.remove('do')\n",
        "dual_alpha_list.remove('go')\n",
        "dual_alpha_list.remove('he')\n",
        "dual_alpha_list.remove('hi')\n",
        "dual_alpha_list.remove('if')\n",
        "dual_alpha_list.remove('is')\n",
        "dual_alpha_list.remove('in')\n",
        "dual_alpha_list.remove('me')\n",
        "dual_alpha_list.remove('my')\n",
        "dual_alpha_list.remove('no')\n",
        "dual_alpha_list.remove('of')\n",
        "dual_alpha_list.remove('on')\n",
        "dual_alpha_list.remove('or')\n",
        "dual_alpha_list.remove('ok')\n",
        "dual_alpha_list.remove('so')\n",
        "dual_alpha_list.remove('to')\n",
        "dual_alpha_list.remove('up')\n",
        "dual_alpha_list.remove('us')\n",
        "dual_alpha_list.remove('we')"
      ],
      "execution_count": 29,
      "outputs": []
    },
    {
      "cell_type": "code",
      "metadata": {
        "id": "of4MsE5VJXHn"
      },
      "source": [
        "#dual_alpha_list"
      ],
      "execution_count": 30,
      "outputs": []
    },
    {
      "cell_type": "code",
      "metadata": {
        "colab": {
          "base_uri": "https://localhost:8080/"
        },
        "id": "H11kkMtXMyct",
        "outputId": "be797b2d-1ca7-402d-c5f3-0526e51e6877"
      },
      "source": [
        "for letter in dual_alpha_list:\n",
        "    stopword_list.add(letter)\n",
        "print(\"Done!!\")"
      ],
      "execution_count": 31,
      "outputs": [
        {
          "output_type": "stream",
          "text": [
            "Done!!\n"
          ],
          "name": "stdout"
        }
      ]
    },
    {
      "cell_type": "code",
      "metadata": {
        "id": "bvjwDFMmNNmo"
      },
      "source": [
        "#stopword_list"
      ],
      "execution_count": 32,
      "outputs": []
    },
    {
      "cell_type": "markdown",
      "metadata": {
        "id": "Ti67XuLCNnsL"
      },
      "source": [
        "Checking for other words that we may need in STOP_WORDS"
      ]
    },
    {
      "cell_type": "code",
      "metadata": {
        "id": "Z4lBqjcBaDVK"
      },
      "source": [
        "def search_stopwords(data, search_stop=True):\n",
        "  output=\"\"\n",
        "  if search_stop:\n",
        "    data=data.split(\" \")\n",
        "    for word in data:\n",
        "      if not word in stopword_list:\n",
        "        output=output+\" \"+word \n",
        "  else:\n",
        "    output=data\n",
        "\n",
        "  return str(output.strip())  "
      ],
      "execution_count": 33,
      "outputs": []
    },
    {
      "cell_type": "code",
      "metadata": {
        "colab": {
          "base_uri": "https://localhost:8080/",
          "height": 0,
          "referenced_widgets": [
            "662fe69101cb41589a892404cfebda55",
            "3108637fb1374e679e83df54aa24be56",
            "b8c959c1ad624bc08f264df36f26ec42",
            "5667d30b330d4bf4b907256ef3bb82ca",
            "3f63a4e24dd04441b0fb58704e5388c6",
            "0e42bb77e3bd45ecb36f0f6150af5f69",
            "7b10aa5bf7dd42de89a921065c460883",
            "0ece4d1e07fb475ab6c6d3f32ba0f5d5"
          ]
        },
        "id": "xn21RMeIbQti",
        "outputId": "ce41e938-4748-4f5e-9d79-c9db5d1278fd"
      },
      "source": [
        "potential_stopwords = [] \n",
        "\n",
        "for line in tqdm_notebook(lemmatized_train_data, total=159571): \n",
        "    potential_stopwords.append(search_stopwords(line))"
      ],
      "execution_count": 34,
      "outputs": [
        {
          "output_type": "stream",
          "text": [
            "/usr/local/lib/python3.6/dist-packages/ipykernel_launcher.py:3: TqdmDeprecationWarning: This function will be removed in tqdm==5.0.0\n",
            "Please use `tqdm.notebook.tqdm` instead of `tqdm.tqdm_notebook`\n",
            "  This is separate from the ipykernel package so we can avoid doing imports until\n"
          ],
          "name": "stderr"
        },
        {
          "output_type": "display_data",
          "data": {
            "application/vnd.jupyter.widget-view+json": {
              "model_id": "662fe69101cb41589a892404cfebda55",
              "version_minor": 0,
              "version_major": 2
            },
            "text/plain": [
              "HBox(children=(FloatProgress(value=0.0, max=159571.0), HTML(value='')))"
            ]
          },
          "metadata": {
            "tags": []
          }
        },
        {
          "output_type": "stream",
          "text": [
            "\n"
          ],
          "name": "stdout"
        }
      ]
    },
    {
      "cell_type": "code",
      "metadata": {
        "colab": {
          "base_uri": "https://localhost:8080/"
        },
        "id": "R4Yp_YRoap6Q",
        "outputId": "41dd5de4-b840-4cd1-c798-6cd50b5cf86b"
      },
      "source": [
        "len(potential_stopwords)"
      ],
      "execution_count": 35,
      "outputs": [
        {
          "output_type": "execute_result",
          "data": {
            "text/plain": [
              "159571"
            ]
          },
          "metadata": {
            "tags": []
          },
          "execution_count": 35
        }
      ]
    },
    {
      "cell_type": "markdown",
      "metadata": {
        "id": "PFSkmGjAZuR3"
      },
      "source": [
        "Combining all the sentences in the list into a single string"
      ]
    },
    {
      "cell_type": "code",
      "metadata": {
        "id": "zpmze-Q7BrK0"
      },
      "source": [
        "def string_combine_a(stopword):\n",
        "  final_a=\"\"\n",
        "  for item in range(39893):\n",
        "    final_a=final_a+\" \"+stopword[item]\n",
        "  return final_a\n",
        "\n",
        "def string_combine_b(stopword):\n",
        "  final_b=\"\"\n",
        "  for item in range(39893,79785):\n",
        "    final_b=final_b+\" \"+stopword[item]\n",
        "  return final_b\n",
        "\n",
        "def string_combine_c(stopword):\n",
        "  final_c=\"\"\n",
        "  for item in range(79785,119678):\n",
        "    final_c=final_c+\" \"+stopword[item]\n",
        "  return final_c\n",
        "\n",
        "def string_combine_d(stopword):\n",
        "  final_d=\"\"\n",
        "  for item in range(119678,159571):\n",
        "    final_d=final_d+\" \"+stopword[item]\n",
        "  return final_d"
      ],
      "execution_count": 36,
      "outputs": []
    },
    {
      "cell_type": "code",
      "metadata": {
        "id": "UqBc4rOahmAz"
      },
      "source": [
        "total_string_potential_a=string_combine_a(potential_stopwords)\n",
        "total_string_potential_b=string_combine_b(potential_stopwords)\n",
        "total_string_potential_c=string_combine_c(potential_stopwords)\n",
        "total_string_potential_d=string_combine_d(potential_stopwords)"
      ],
      "execution_count": 37,
      "outputs": []
    },
    {
      "cell_type": "code",
      "metadata": {
        "id": "VrrmDPjin1gM"
      },
      "source": [
        "#total_string_potential_a"
      ],
      "execution_count": 38,
      "outputs": []
    },
    {
      "cell_type": "markdown",
      "metadata": {
        "id": "hbEm3D8txMSH"
      },
      "source": [
        "Counting the number of words in each of the 4 strings"
      ]
    },
    {
      "cell_type": "code",
      "metadata": {
        "id": "O_hhbMS_xR6t"
      },
      "source": [
        "def word_count(str):\n",
        "    counts = dict()\n",
        "    words = str.split()\n",
        "\n",
        "    for word in words:\n",
        "        if word in counts:\n",
        "            counts[word] += 1\n",
        "        else:\n",
        "            counts[word] = 1\n",
        "\n",
        "    return counts"
      ],
      "execution_count": 39,
      "outputs": []
    },
    {
      "cell_type": "code",
      "metadata": {
        "id": "bsh0BuT9xSDg"
      },
      "source": [
        "#print(word_count(total_string_potential_a))\n",
        "total_string_potential_a_dict=word_count(total_string_potential_a)\n",
        "#print(word_count(total_string_potential_b))\n",
        "total_string_potential_b_dict=word_count(total_string_potential_b)\n",
        "#print(word_count(total_string_potential_c))\n",
        "total_string_potential_c_dict=word_count(total_string_potential_c)\n",
        "#print(word_count(total_string_potential_d))\n",
        "total_string_potential_d_dict=word_count(total_string_potential_d)"
      ],
      "execution_count": 40,
      "outputs": []
    },
    {
      "cell_type": "markdown",
      "metadata": {
        "id": "shmHkLSk3Xxp"
      },
      "source": [
        "Converting Dictionaries to Dataframe"
      ]
    },
    {
      "cell_type": "code",
      "metadata": {
        "id": "pSJXHnv6y9T0"
      },
      "source": [
        "total_string_potential_a_df = pd.DataFrame(list(total_string_potential_a_dict.items()),columns = ['Word','Count'])\n",
        "#total_string_potential_a_df\n",
        "total_string_potential_b_df = pd.DataFrame(list(total_string_potential_b_dict.items()),columns = ['Word','Count'])\n",
        "#total_string_potential_b_df\n",
        "total_string_potential_c_df = pd.DataFrame(list(total_string_potential_c_dict.items()),columns = ['Word','Count'])\n",
        "#total_string_potential_c_df\n",
        "total_string_potential_d_df = pd.DataFrame(list(total_string_potential_d_dict.items()),columns = ['Word','Count'])\n",
        "#total_string_potential_d_df"
      ],
      "execution_count": 41,
      "outputs": []
    },
    {
      "cell_type": "markdown",
      "metadata": {
        "id": "WjWO0vj2yaW7"
      },
      "source": [
        "Getting Dataframe output in descending order"
      ]
    },
    {
      "cell_type": "code",
      "metadata": {
        "id": "bzThNOjA2pjx"
      },
      "source": [
        "top50_potential_stopwords_a=total_string_potential_a_df.sort_values(by=['Count'],ascending=False).head(50)\n",
        "top50_potential_stopwords_b=total_string_potential_b_df.sort_values(by=['Count'],ascending=False).head(50)\n",
        "top50_potential_stopwords_c=total_string_potential_c_df.sort_values(by=['Count'],ascending=False).head(50)\n",
        "top50_potential_stopwords_d=total_string_potential_d_df.sort_values(by=['Count'],ascending=False).head(50)"
      ],
      "execution_count": 42,
      "outputs": []
    },
    {
      "cell_type": "markdown",
      "metadata": {
        "id": "H1d8reN9CaZ8"
      },
      "source": [
        "Looking for common terms in all top 50 dataframes"
      ]
    },
    {
      "cell_type": "code",
      "metadata": {
        "id": "AKUuEbHvCiYG"
      },
      "source": [
        "common_potential_stopwords=list(reduce(set.intersection,map(set,[top50_potential_stopwords_a.Word,top50_potential_stopwords_b.Word,top50_potential_stopwords_c.Word,top50_potential_stopwords_d.Word])))"
      ],
      "execution_count": 43,
      "outputs": []
    },
    {
      "cell_type": "code",
      "metadata": {
        "colab": {
          "base_uri": "https://localhost:8080/"
        },
        "id": "FkQme4SIEGBa",
        "outputId": "4d5fe1c0-ed3d-4399-8baa-cd7183dce8b6"
      },
      "source": [
        "print(common_potential_stopwords)"
      ],
      "execution_count": 44,
      "outputs": [
        {
          "output_type": "stream",
          "text": [
            "['fact', 'talk', 'way', 'information', 'need', 'article', 'deletion', 'doe', 'help', 'new', 'source', 'read', 'section', 'add', 'thing', 'editor', 'know', 'remove', 'question', 'think', 'time', 'delete', 'like', 'reference', 'work', 'don', 'use', 'point', 'wikipedia', 'fuck', 'want', 'page', 'good', 'thank', 'user', 'find', 'image', 'edit', 'write', 'change', 'link', 'block', 'look', 'mean', 'comment', 'try', 'list', 'people']\n"
          ],
          "name": "stdout"
        }
      ]
    },
    {
      "cell_type": "markdown",
      "metadata": {
        "id": "hX3lIQj0l36i"
      },
      "source": [
        "Retaining certain words and removing others form the above list"
      ]
    },
    {
      "cell_type": "code",
      "metadata": {
        "id": "zacbW5ASjN2r"
      },
      "source": [
        "potential_stopwords=['editor', 'reference', 'thank', 'work','find', 'good', 'know', 'like', 'look', 'thing', 'want', 'time', 'list', 'section','wikipedia', 'doe', 'add','new', 'try', 'think', 'write','use', 'user', 'way', 'page']"
      ],
      "execution_count": 45,
      "outputs": []
    },
    {
      "cell_type": "code",
      "metadata": {
        "id": "AxMLifFZl3Bj"
      },
      "source": [
        "#potential_stopwords=['day','ask', 'consider', 'http', 'word', 'mean', 'try', 'let', 'feel', 'come', 'list', 'far', 'doe','thing','utc','note','mention' ]"
      ],
      "execution_count": 46,
      "outputs": []
    },
    {
      "cell_type": "markdown",
      "metadata": {
        "id": "7-yjjvj3LpZs"
      },
      "source": [
        "Adding above retrived words into the stopwords list"
      ]
    },
    {
      "cell_type": "code",
      "metadata": {
        "colab": {
          "base_uri": "https://localhost:8080/"
        },
        "id": "73PbxjxbLvz9",
        "outputId": "0ca84b6e-3ac0-4662-fcc5-c29d68a8a680"
      },
      "source": [
        "for word in potential_stopwords:\n",
        "    stopword_list.add(word)\n",
        "print(\"Done!!\")"
      ],
      "execution_count": 47,
      "outputs": [
        {
          "output_type": "stream",
          "text": [
            "Done!!\n"
          ],
          "name": "stdout"
        }
      ]
    },
    {
      "cell_type": "markdown",
      "metadata": {
        "id": "101v0iZjaNLR"
      },
      "source": [
        "Removing Stopwords from Training Data"
      ]
    },
    {
      "cell_type": "code",
      "metadata": {
        "id": "RRSga8PKsktA"
      },
      "source": [
        "def remove_stopwords(text, remove_stop=True):\n",
        "  output = \"\"\n",
        "  if remove_stop:\n",
        "    text=text.split(\" \")\n",
        "    for word in text:\n",
        "      if word not in stopword_list:\n",
        "        output=output + \" \" + word\n",
        "  else :\n",
        "    output=text\n",
        "\n",
        "  return str(output.strip())      "
      ],
      "execution_count": 48,
      "outputs": []
    },
    {
      "cell_type": "code",
      "metadata": {
        "colab": {
          "base_uri": "https://localhost:8080/",
          "height": 0,
          "referenced_widgets": [
            "464d2a38a8414e799ae561fec9360905",
            "b7ed430d2cde497085d7bad4017c494b",
            "37ea835df3f840aeaa816cdd182035b1",
            "d8a60cabddf64d9ca5cb713005d5751b",
            "bfd5fbf645654a8e91b7ddd9cf1cf454",
            "a41ca2e4510540fdb51f5a27f45499c6",
            "3045d649c5ce480984557028e806dd00",
            "930c4402c0554e6395a0dd8e81b4c4fb"
          ]
        },
        "id": "Q-hItiV7skoV",
        "outputId": "e148fdbb-c575-47c7-b0e0-4b35296a28eb"
      },
      "source": [
        "processed_train_data = [] \n",
        "\n",
        "for line in tqdm_notebook(lemmatized_train_data, total=159571): \n",
        "    processed_train_data.append(remove_stopwords(line))"
      ],
      "execution_count": 49,
      "outputs": [
        {
          "output_type": "stream",
          "text": [
            "/usr/local/lib/python3.6/dist-packages/ipykernel_launcher.py:3: TqdmDeprecationWarning: This function will be removed in tqdm==5.0.0\n",
            "Please use `tqdm.notebook.tqdm` instead of `tqdm.tqdm_notebook`\n",
            "  This is separate from the ipykernel package so we can avoid doing imports until\n"
          ],
          "name": "stderr"
        },
        {
          "output_type": "display_data",
          "data": {
            "application/vnd.jupyter.widget-view+json": {
              "model_id": "464d2a38a8414e799ae561fec9360905",
              "version_minor": 0,
              "version_major": 2
            },
            "text/plain": [
              "HBox(children=(FloatProgress(value=0.0, max=159571.0), HTML(value='')))"
            ]
          },
          "metadata": {
            "tags": []
          }
        },
        {
          "output_type": "stream",
          "text": [
            "\n"
          ],
          "name": "stdout"
        }
      ]
    },
    {
      "cell_type": "code",
      "metadata": {
        "id": "a29qOSPA-rbS",
        "colab": {
          "base_uri": "https://localhost:8080/",
          "height": 0
        },
        "outputId": "de1d9fa8-19a6-4fad-ddc2-649f3bcde66d"
      },
      "source": [
        "processed_train_data[152458]"
      ],
      "execution_count": 50,
      "outputs": [
        {
          "output_type": "execute_result",
          "data": {
            "application/vnd.google.colaboratory.intrinsic+json": {
              "type": "string"
            },
            "text/plain": [
              "'agree graemel intention revert nazi protect report revert rule notice board post report revert nazi graemel revert nazi unacceptable site admins feel unjustly revert hour period report revert noticeboard'"
            ]
          },
          "metadata": {
            "tags": []
          },
          "execution_count": 50
        }
      ]
    },
    {
      "cell_type": "markdown",
      "metadata": {
        "id": "iqXHFaSC-Bkf"
      },
      "source": [
        "Removing Stopwords from Test Data"
      ]
    },
    {
      "cell_type": "code",
      "metadata": {
        "id": "EQ_lUOej-H_b",
        "colab": {
          "base_uri": "https://localhost:8080/",
          "height": 0,
          "referenced_widgets": [
            "f451dec7072b441285a772c38aa7236c",
            "7b0dd6d4c9f94a4798d5473d05dfd15a",
            "93e49f0bcfe54790a63dd89e99099090",
            "8a48bdf8100f4a96b854540fc149305c",
            "bf5349ff86de443f894bd513e93db079",
            "458c3683c99249579eed78c7c21673ff",
            "757a7fdd13d647989f8f609d726401f4",
            "7b6c020f9de544dfb839f06a82384423"
          ]
        },
        "outputId": "1b03b3a9-1a4c-4ddb-c7d6-a5752fb23c72"
      },
      "source": [
        "processed_test_data = [] \n",
        "\n",
        "for line in tqdm_notebook(lemmatized_test_data, total=153164): \n",
        "    processed_test_data.append(remove_stopwords(line))"
      ],
      "execution_count": 51,
      "outputs": [
        {
          "output_type": "stream",
          "text": [
            "/usr/local/lib/python3.6/dist-packages/ipykernel_launcher.py:3: TqdmDeprecationWarning: This function will be removed in tqdm==5.0.0\n",
            "Please use `tqdm.notebook.tqdm` instead of `tqdm.tqdm_notebook`\n",
            "  This is separate from the ipykernel package so we can avoid doing imports until\n"
          ],
          "name": "stderr"
        },
        {
          "output_type": "display_data",
          "data": {
            "application/vnd.jupyter.widget-view+json": {
              "model_id": "f451dec7072b441285a772c38aa7236c",
              "version_minor": 0,
              "version_major": 2
            },
            "text/plain": [
              "HBox(children=(FloatProgress(value=0.0, max=153164.0), HTML(value='')))"
            ]
          },
          "metadata": {
            "tags": []
          }
        },
        {
          "output_type": "stream",
          "text": [
            "\n"
          ],
          "name": "stdout"
        }
      ]
    },
    {
      "cell_type": "markdown",
      "metadata": {
        "id": "CeScalvZDEdD"
      },
      "source": [
        "# Model Building"
      ]
    },
    {
      "cell_type": "markdown",
      "metadata": {
        "id": "GIeovLIr6aAo"
      },
      "source": [
        "Tokenization"
      ]
    },
    {
      "cell_type": "code",
      "metadata": {
        "id": "qaA52PlK4xnV"
      },
      "source": [
        "tokenizer = Tokenizer(num_words=max_features)\n",
        "tokenizer.fit_on_texts(list(processed_train_data))\n",
        "list_tokenized_train = tokenizer.texts_to_sequences(processed_train_data)\n",
        "list_tokenized_test = tokenizer.texts_to_sequences(processed_test_data)"
      ],
      "execution_count": 52,
      "outputs": []
    },
    {
      "cell_type": "code",
      "metadata": {
        "colab": {
          "base_uri": "https://localhost:8080/"
        },
        "id": "pkSXj5sT7jbR",
        "outputId": "77c0179a-d8fa-440d-d0d5-c728fd070287"
      },
      "source": [
        "word_index=tokenizer.word_index\n",
        "print(\"Words in Vocabulary: \",len(word_index))"
      ],
      "execution_count": 53,
      "outputs": [
        {
          "output_type": "stream",
          "text": [
            "Words in Vocabulary:  148917\n"
          ],
          "name": "stdout"
        }
      ]
    },
    {
      "cell_type": "markdown",
      "metadata": {
        "id": "TfDwmzPj8TJf"
      },
      "source": [
        "Padding"
      ]
    },
    {
      "cell_type": "code",
      "metadata": {
        "id": "gEmacO337twa"
      },
      "source": [
        "X_t=pad_sequences(list_tokenized_train, maxlen=maxpadlen, padding = 'post')\n",
        "X_te=pad_sequences(list_tokenized_test, maxlen=maxpadlen, padding = 'post')"
      ],
      "execution_count": 54,
      "outputs": []
    },
    {
      "cell_type": "code",
      "metadata": {
        "colab": {
          "base_uri": "https://localhost:8080/"
        },
        "id": "U6dAeWAnM4RL",
        "outputId": "6e3def4c-f5ff-4a1d-a8b9-2052bc5333b9"
      },
      "source": [
        "print('Tokenized sentences: \\n', X_t[10])\r\n",
        "print('One hot label: \\n', y[10])"
      ],
      "execution_count": 55,
      "outputs": [
        {
          "output_type": "stream",
          "text": [
            "Tokenized sentences: \n",
            " [  116   578    11 32199   239   192    11 32199   239    90    11   579\n",
            "    11   116   366   578     1  1082   116   338  5356   116   119    11\n",
            "   387   269   366   578    11     1  1341   116    11   387     2    32\n",
            "   116   578   192   116   172    46    84   579   116   578    11     2\n",
            "   488   105    10  1087   403  1073    11  2401   489    36   116    11\n",
            "   192   407   366     9   255   192   242   150   109    18    19    29\n",
            "   172    77    19     3   257  4540     4    11 32199   239   192    11\n",
            " 32199   239    90   171   387   312    68   579    34    44    77   423\n",
            "  1550    34   171     8   579  1268    77  1638   134    10   134  4671\n",
            "   134    94    44   565  1255    17    77  1338   118   134  1577    77\n",
            "  1134     4   507    77   434    31   171    68    34   168  2207   449\n",
            "    31   315  1529    70   172   236   150   116    31    31    11    77\n",
            "    31   116    11    77    31    77    31   192   171    46    84   579\n",
            "     4    31   171   192    80    10   862  3126    11     9   255    31\n",
            "   242   150   109    18    11    77   124    67   434   116    11     9\n",
            "   357    19    29   172    77    19     3   257     0     0     0     0\n",
            "     0     0     0     0     0     0     0     0]\n",
            "One hot label: \n",
            " [0 0 0 0 0 0]\n"
          ],
          "name": "stdout"
        }
      ]
    },
    {
      "cell_type": "markdown",
      "metadata": {
        "id": "R9stm--KCCzv"
      },
      "source": [
        "Reason why the length was taken as 200 for maxpadlen"
      ]
    },
    {
      "cell_type": "code",
      "metadata": {
        "id": "J_JhzvK39Cci"
      },
      "source": [
        "totalNumWords = [len(one_comment) for one_comment in list_tokenized_train] "
      ],
      "execution_count": 56,
      "outputs": []
    },
    {
      "cell_type": "code",
      "metadata": {
        "colab": {
          "base_uri": "https://localhost:8080/",
          "height": 265
        },
        "id": "LoRGD4BrCUMV",
        "outputId": "313f68cd-7209-4b2e-f1ac-b68038d42711"
      },
      "source": [
        "plt.hist(totalNumWords, bins=np.arange(0,410,5))\n",
        "plt.show()"
      ],
      "execution_count": 57,
      "outputs": [
        {
          "output_type": "display_data",
          "data": {
            "image/png": "[encoded data removed]",
            "text/plain": [
              "<Figure size 432x288 with 1 Axes>"
            ]
          },
          "metadata": {
            "tags": [],
            "needs_background": "light"
          }
        }
      ]
    },
    {
      "cell_type": "markdown",
      "metadata": {
        "id": "MWn-SkJCCswd"
      },
      "source": [
        "### Splitting data into Training and Validation Set"
      ]
    },
    {
      "cell_type": "code",
      "metadata": {
        "id": "XtZD1j9BCrsG"
      },
      "source": [
        "indices = np.arange(X_t.shape[0])\r\n",
        "np.random.shuffle(indices)\r\n",
        "X_t = X_t[indices]\r\n",
        "labels = y[indices]"
      ],
      "execution_count": 58,
      "outputs": []
    },
    {
      "cell_type": "code",
      "metadata": {
        "colab": {
          "base_uri": "https://localhost:8080/"
        },
        "id": "zgn_UCRqvsDy",
        "outputId": "b15be041-4234-41ef-db95-5b52e67ab080"
      },
      "source": [
        "indices"
      ],
      "execution_count": 59,
      "outputs": [
        {
          "output_type": "execute_result",
          "data": {
            "text/plain": [
              "array([ 42490, 145579,  59951, ...,  49214, 110649,  60646])"
            ]
          },
          "metadata": {
            "tags": []
          },
          "execution_count": 59
        }
      ]
    },
    {
      "cell_type": "code",
      "metadata": {
        "id": "B5hOSGJVb7o4"
      },
      "source": [
        "num_validation_samples = int(val_split*X_t.shape[0])\r\n",
        "x_train = X_t[: -num_validation_samples]\r\n",
        "y_train = labels[: -num_validation_samples]\r\n",
        "x_val = X_t[-num_validation_samples: ]\r\n",
        "y_val = labels[-num_validation_samples: ]"
      ],
      "execution_count": 60,
      "outputs": []
    },
    {
      "cell_type": "code",
      "metadata": {
        "colab": {
          "base_uri": "https://localhost:8080/"
        },
        "id": "tAkl_qg3ruaw",
        "outputId": "8ba6f542-13d8-4684-b533-372c1606d2f9"
      },
      "source": [
        "x_train.shape"
      ],
      "execution_count": 61,
      "outputs": [
        {
          "output_type": "execute_result",
          "data": {
            "text/plain": [
              "(127657, 200)"
            ]
          },
          "metadata": {
            "tags": []
          },
          "execution_count": 61
        }
      ]
    },
    {
      "cell_type": "code",
      "metadata": {
        "colab": {
          "base_uri": "https://localhost:8080/"
        },
        "id": "cHyYFZPDcEmK",
        "outputId": "e939761f-994f-493c-f0e3-0f9a7dcb589d"
      },
      "source": [
        "print('Number of entries in each category:')\r\n",
        "print('training: ', y_train.sum(axis=0))\r\n",
        "print('validation: ', y_val.sum(axis=0))"
      ],
      "execution_count": 62,
      "outputs": [
        {
          "output_type": "stream",
          "text": [
            "Number of entries in each category:\n",
            "training:  [12207  1277  6752   369  6278  1112]\n",
            "validation:  [3087  318 1697  109 1599  293]\n"
          ],
          "name": "stdout"
        }
      ]
    },
    {
      "cell_type": "markdown",
      "metadata": {
        "id": "X86VKe_LC3QH"
      },
      "source": [
        "### Importing Glove"
      ]
    },
    {
      "cell_type": "code",
      "metadata": {
        "colab": {
          "base_uri": "https://localhost:8080/"
        },
        "id": "9DALhsP1DMF-",
        "outputId": "c9a919dc-6896-44e4-bd4e-613a27eb87f6"
      },
      "source": [
        "embeddings_index = {}\r\n",
        "f = open('/content/drive/MyDrive/Glove/glove.6B.200d.txt', encoding='utf8')\r\n",
        "#print('Loading GloVe from:', GLOVE_DIR,'...', end='')\r\n",
        "for line in f:\r\n",
        "    values = line.split()\r\n",
        "    word = values[0]\r\n",
        "    embeddings_index[word] = np.asarray(values[1:], dtype='float32')\r\n",
        "f.close()\r\n",
        "print(\"Done.\\n Proceeding with Embedding Matrix...\", end=\"\")"
      ],
      "execution_count": 63,
      "outputs": [
        {
          "output_type": "stream",
          "text": [
            "Done.\n",
            " Proceeding with Embedding Matrix..."
          ],
          "name": "stdout"
        }
      ]
    },
    {
      "cell_type": "code",
      "metadata": {
        "colab": {
          "base_uri": "https://localhost:8080/"
        },
        "id": "IQpA9WlSC268",
        "outputId": "f6d1ed1c-4b52-4ec1-e8d5-61c31a16e6b9"
      },
      "source": [
        "embedding_matrix = np.random.random((len(word_index) + 1, embedding_dim))\r\n",
        "for word, i in word_index.items():\r\n",
        "    embedding_vector = embeddings_index.get(word)\r\n",
        "    if embedding_vector is not None:\r\n",
        "        embedding_matrix[i] = embedding_vector\r\n",
        "print(\" Completed!\")"
      ],
      "execution_count": 64,
      "outputs": [
        {
          "output_type": "stream",
          "text": [
            " Completed!\n"
          ],
          "name": "stdout"
        }
      ]
    },
    {
      "cell_type": "markdown",
      "metadata": {
        "id": "0OoZ7fTpPWhi"
      },
      "source": [
        "### Creating Model"
      ]
    },
    {
      "cell_type": "code",
      "metadata": {
        "id": "9x04BXTCCdsV"
      },
      "source": [
        "inp=Input(shape=(maxpadlen, ),dtype='int32')"
      ],
      "execution_count": 65,
      "outputs": []
    },
    {
      "cell_type": "code",
      "metadata": {
        "id": "U-fPTQKHFF61"
      },
      "source": [
        "embedding_layer = Embedding(len(word_index) + 1,\n",
        "                           embedding_dim,\n",
        "                           weights = [embedding_matrix],\n",
        "                           input_length = maxpadlen,\n",
        "                           trainable=False,\n",
        "                           name = 'embeddings')\n",
        "embedded_sequences = embedding_layer(inp)"
      ],
      "execution_count": 66,
      "outputs": []
    },
    {
      "cell_type": "code",
      "metadata": {
        "id": "mAF1Ui22FmHX"
      },
      "source": [
        "x = LSTM(60, return_sequences=True,name='lstm_layer')(embedded_sequences)\r\n",
        "x = GlobalMaxPool1D()(x)\r\n",
        "x = Dropout(0.1)(x)\r\n",
        "x = Dense(50, activation=\"relu\")(x)\r\n",
        "x = Dropout(0.1)(x)\r\n",
        "preds = Dense(6, activation=\"sigmoid\")(x)"
      ],
      "execution_count": 67,
      "outputs": []
    },
    {
      "cell_type": "code",
      "metadata": {
        "id": "kigFyK4cHHrv"
      },
      "source": [
        "model = Model(inputs=inp, outputs=preds)\n",
        "model.compile(loss='binary_crossentropy',\n",
        "                  optimizer='adam',\n",
        "                  metrics=['accuracy'])"
      ],
      "execution_count": 68,
      "outputs": []
    },
    {
      "cell_type": "code",
      "metadata": {
        "colab": {
          "base_uri": "https://localhost:8080/"
        },
        "id": "e_qJGa25HVxi",
        "outputId": "86d74caa-101c-441c-bd2b-00895349ebed"
      },
      "source": [
        "model.summary()"
      ],
      "execution_count": 69,
      "outputs": [
        {
          "output_type": "stream",
          "text": [
            "Model: \"model\"\n",
            "_________________________________________________________________\n",
            "Layer (type)                 Output Shape              Param #   \n",
            "=================================================================\n",
            "input_1 (InputLayer)         [(None, 200)]             0         \n",
            "_________________________________________________________________\n",
            "embeddings (Embedding)       (None, 200, 200)          29783600  \n",
            "_________________________________________________________________\n",
            "lstm_layer (LSTM)            (None, 200, 60)           62640     \n",
            "_________________________________________________________________\n",
            "global_max_pooling1d (Global (None, 60)                0         \n",
            "_________________________________________________________________\n",
            "dropout (Dropout)            (None, 60)                0         \n",
            "_________________________________________________________________\n",
            "dense (Dense)                (None, 50)                3050      \n",
            "_________________________________________________________________\n",
            "dropout_1 (Dropout)          (None, 50)                0         \n",
            "_________________________________________________________________\n",
            "dense_1 (Dense)              (None, 6)                 306       \n",
            "=================================================================\n",
            "Total params: 29,849,596\n",
            "Trainable params: 65,996\n",
            "Non-trainable params: 29,783,600\n",
            "_________________________________________________________________\n"
          ],
          "name": "stdout"
        }
      ]
    },
    {
      "cell_type": "code",
      "metadata": {
        "colab": {
          "base_uri": "https://localhost:8080/",
          "height": 758
        },
        "id": "M5BjseUNdBsV",
        "outputId": "0a4a0081-70a7-4a5d-b924-ff717fb08b53"
      },
      "source": [
        "import tensorflow as tf\r\n",
        "tf.keras.utils.plot_model(model)"
      ],
      "execution_count": 70,
      "outputs": [
        {
          "output_type": "execute_result",
          "data": {
            "image/png": "[encoded data removed]",
            "text/plain": [
              "<IPython.core.display.Image object>"
            ]
          },
          "metadata": {
            "tags": []
          },
          "execution_count": 70
        }
      ]
    },
    {
      "cell_type": "code",
      "metadata": {
        "colab": {
          "base_uri": "https://localhost:8080/"
        },
        "id": "Bc-HX52zHNg9",
        "outputId": "eface7f4-d01a-4d8b-ed9d-f2e06a6057d4"
      },
      "source": [
        "model_info=model.fit(x_train,y_train, epochs=2, batch_size=1,  validation_data=(x_val, y_val))"
      ],
      "execution_count": 71,
      "outputs": [
        {
          "output_type": "stream",
          "text": [
            "Epoch 1/2\n",
            "127657/127657 [==============================] - 1093s 8ms/step - loss: 0.0680 - accuracy: 0.9645 - val_loss: 0.0547 - val_accuracy: 0.9943\n",
            "Epoch 2/2\n",
            "127657/127657 [==============================] - 1051s 8ms/step - loss: 0.0579 - accuracy: 0.9925 - val_loss: 0.0561 - val_accuracy: 0.9945\n"
          ],
          "name": "stdout"
        }
      ]
    },
    {
      "cell_type": "markdown",
      "metadata": {
        "id": "kL2OV0YiB3sp"
      },
      "source": [
        "### Plotting Graphs"
      ]
    },
    {
      "cell_type": "code",
      "metadata": {
        "id": "3qKSCDX-KjSX",
        "colab": {
          "base_uri": "https://localhost:8080/",
          "height": 295
        },
        "outputId": "6b3b3fa0-9310-4e96-9b3c-0329040a06f7"
      },
      "source": [
        "loss = model_info.history['loss']\r\n",
        "val_loss = model_info.history['val_loss']\r\n",
        "\r\n",
        "epochs = range(1, len(loss)+1)\r\n",
        "\r\n",
        "plt.plot(epochs, loss, label='Training loss')\r\n",
        "plt.plot(epochs, val_loss, label='Validation loss')\r\n",
        "plt.title('Training and Validation loss')\r\n",
        "plt.xlabel('Epochs')\r\n",
        "plt.ylabel('Loss')\r\n",
        "plt.legend()\r\n",
        "plt.show();"
      ],
      "execution_count": 72,
      "outputs": [
        {
          "output_type": "display_data",
          "data": {
            "image/png": "[encoded data removed]",
            "text/plain": [
              "<Figure size 432x288 with 1 Axes>"
            ]
          },
          "metadata": {
            "tags": [],
            "needs_background": "light"
          }
        }
      ]
    },
    {
      "cell_type": "code",
      "metadata": {
        "colab": {
          "base_uri": "https://localhost:8080/",
          "height": 295
        },
        "id": "P0SaCbD2B_av",
        "outputId": "bb6a9c48-e296-45f1-ccd8-cdc2c17f2189"
      },
      "source": [
        "accuracy = model_info.history['accuracy']\r\n",
        "val_accuracy = model_info.history['val_accuracy']\r\n",
        "\r\n",
        "plt.plot(epochs, accuracy, label='Training accuracy')\r\n",
        "plt.plot(epochs, val_accuracy, label='Validation accuracy')\r\n",
        "plt.title('Training and Validation accuracy')\r\n",
        "plt.ylabel('Accuracy')\r\n",
        "plt.xlabel('Epochs')\r\n",
        "plt.legend()\r\n",
        "plt.show();"
      ],
      "execution_count": 73,
      "outputs": [
        {
          "output_type": "display_data",
          "data": {
            "image/png": "[encoded data removed]",
            "text/plain": [
              "<Figure size 432x288 with 1 Axes>"
            ]
          },
          "metadata": {
            "tags": [],
            "needs_background": "light"
          }
        }
      ]
    },
    {
      "cell_type": "markdown",
      "metadata": {
        "id": "kJJJs5txVS8S"
      },
      "source": [
        "# Generating the Output"
      ]
    },
    {
      "cell_type": "code",
      "metadata": {
        "colab": {
          "base_uri": "https://localhost:8080/",
          "height": 415
        },
        "id": "CWnGYOGsZtVF",
        "outputId": "3c793053-212e-42d1-d1ed-7135b921d1b2"
      },
      "source": [
        "sample_submission = pd.read_csv('https://raw.githubusercontent.com/shaunak09vb/Toxic-Comment-Classifier-using-LSTM/main/Data/sample_submission.csv')\r\n",
        "sample_submission"
      ],
      "execution_count": 85,
      "outputs": [
        {
          "output_type": "execute_result",
          "data": {
            "text/html": [
              "<div>\n",
              "<style scoped>\n",
              "    .dataframe tbody tr th:only-of-type {\n",
              "        vertical-align: middle;\n",
              "    }\n",
              "\n",
              "    .dataframe tbody tr th {\n",
              "        vertical-align: top;\n",
              "    }\n",
              "\n",
              "    .dataframe thead th {\n",
              "        text-align: right;\n",
              "    }\n",
              "</style>\n",
              "<table border=\"1\" class=\"dataframe\">\n",
              "  <thead>\n",
              "    <tr style=\"text-align: right;\">\n",
              "      <th></th>\n",
              "      <th>id</th>\n",
              "      <th>toxic</th>\n",
              "      <th>severe_toxic</th>\n",
              "      <th>obscene</th>\n",
              "      <th>threat</th>\n",
              "      <th>insult</th>\n",
              "      <th>identity_hate</th>\n",
              "    </tr>\n",
              "  </thead>\n",
              "  <tbody>\n",
              "    <tr>\n",
              "      <th>0</th>\n",
              "      <td>00001cee341fdb12</td>\n",
              "      <td>0.5</td>\n",
              "      <td>0.5</td>\n",
              "      <td>0.5</td>\n",
              "      <td>0.5</td>\n",
              "      <td>0.5</td>\n",
              "      <td>0.5</td>\n",
              "    </tr>\n",
              "    <tr>\n",
              "      <th>1</th>\n",
              "      <td>0000247867823ef7</td>\n",
              "      <td>0.5</td>\n",
              "      <td>0.5</td>\n",
              "      <td>0.5</td>\n",
              "      <td>0.5</td>\n",
              "      <td>0.5</td>\n",
              "      <td>0.5</td>\n",
              "    </tr>\n",
              "    <tr>\n",
              "      <th>2</th>\n",
              "      <td>00013b17ad220c46</td>\n",
              "      <td>0.5</td>\n",
              "      <td>0.5</td>\n",
              "      <td>0.5</td>\n",
              "      <td>0.5</td>\n",
              "      <td>0.5</td>\n",
              "      <td>0.5</td>\n",
              "    </tr>\n",
              "    <tr>\n",
              "      <th>3</th>\n",
              "      <td>00017563c3f7919a</td>\n",
              "      <td>0.5</td>\n",
              "      <td>0.5</td>\n",
              "      <td>0.5</td>\n",
              "      <td>0.5</td>\n",
              "      <td>0.5</td>\n",
              "      <td>0.5</td>\n",
              "    </tr>\n",
              "    <tr>\n",
              "      <th>4</th>\n",
              "      <td>00017695ad8997eb</td>\n",
              "      <td>0.5</td>\n",
              "      <td>0.5</td>\n",
              "      <td>0.5</td>\n",
              "      <td>0.5</td>\n",
              "      <td>0.5</td>\n",
              "      <td>0.5</td>\n",
              "    </tr>\n",
              "    <tr>\n",
              "      <th>...</th>\n",
              "      <td>...</td>\n",
              "      <td>...</td>\n",
              "      <td>...</td>\n",
              "      <td>...</td>\n",
              "      <td>...</td>\n",
              "      <td>...</td>\n",
              "      <td>...</td>\n",
              "    </tr>\n",
              "    <tr>\n",
              "      <th>153159</th>\n",
              "      <td>fffcd0960ee309b5</td>\n",
              "      <td>0.5</td>\n",
              "      <td>0.5</td>\n",
              "      <td>0.5</td>\n",
              "      <td>0.5</td>\n",
              "      <td>0.5</td>\n",
              "      <td>0.5</td>\n",
              "    </tr>\n",
              "    <tr>\n",
              "      <th>153160</th>\n",
              "      <td>fffd7a9a6eb32c16</td>\n",
              "      <td>0.5</td>\n",
              "      <td>0.5</td>\n",
              "      <td>0.5</td>\n",
              "      <td>0.5</td>\n",
              "      <td>0.5</td>\n",
              "      <td>0.5</td>\n",
              "    </tr>\n",
              "    <tr>\n",
              "      <th>153161</th>\n",
              "      <td>fffda9e8d6fafa9e</td>\n",
              "      <td>0.5</td>\n",
              "      <td>0.5</td>\n",
              "      <td>0.5</td>\n",
              "      <td>0.5</td>\n",
              "      <td>0.5</td>\n",
              "      <td>0.5</td>\n",
              "    </tr>\n",
              "    <tr>\n",
              "      <th>153162</th>\n",
              "      <td>fffe8f1340a79fc2</td>\n",
              "      <td>0.5</td>\n",
              "      <td>0.5</td>\n",
              "      <td>0.5</td>\n",
              "      <td>0.5</td>\n",
              "      <td>0.5</td>\n",
              "      <td>0.5</td>\n",
              "    </tr>\n",
              "    <tr>\n",
              "      <th>153163</th>\n",
              "      <td>ffffce3fb183ee80</td>\n",
              "      <td>0.5</td>\n",
              "      <td>0.5</td>\n",
              "      <td>0.5</td>\n",
              "      <td>0.5</td>\n",
              "      <td>0.5</td>\n",
              "      <td>0.5</td>\n",
              "    </tr>\n",
              "  </tbody>\n",
              "</table>\n",
              "<p>153164 rows × 7 columns</p>\n",
              "</div>"
            ],
            "text/plain": [
              "                      id  toxic  severe_toxic  ...  threat  insult  identity_hate\n",
              "0       00001cee341fdb12    0.5           0.5  ...     0.5     0.5            0.5\n",
              "1       0000247867823ef7    0.5           0.5  ...     0.5     0.5            0.5\n",
              "2       00013b17ad220c46    0.5           0.5  ...     0.5     0.5            0.5\n",
              "3       00017563c3f7919a    0.5           0.5  ...     0.5     0.5            0.5\n",
              "4       00017695ad8997eb    0.5           0.5  ...     0.5     0.5            0.5\n",
              "...                  ...    ...           ...  ...     ...     ...            ...\n",
              "153159  fffcd0960ee309b5    0.5           0.5  ...     0.5     0.5            0.5\n",
              "153160  fffd7a9a6eb32c16    0.5           0.5  ...     0.5     0.5            0.5\n",
              "153161  fffda9e8d6fafa9e    0.5           0.5  ...     0.5     0.5            0.5\n",
              "153162  fffe8f1340a79fc2    0.5           0.5  ...     0.5     0.5            0.5\n",
              "153163  ffffce3fb183ee80    0.5           0.5  ...     0.5     0.5            0.5\n",
              "\n",
              "[153164 rows x 7 columns]"
            ]
          },
          "metadata": {
            "tags": []
          },
          "execution_count": 85
        }
      ]
    },
    {
      "cell_type": "code",
      "metadata": {
        "id": "aUL3S8xiCYxU",
        "colab": {
          "base_uri": "https://localhost:8080/"
        },
        "outputId": "0949d614-aa40-4204-e864-feec9b588ee9"
      },
      "source": [
        "test_values = model.predict([X_te], batch_size=1, verbose=1)"
      ],
      "execution_count": 97,
      "outputs": [
        {
          "output_type": "stream",
          "text": [
            "153164/153164 [==============================] - 626s 4ms/step\n"
          ],
          "name": "stdout"
        }
      ]
    },
    {
      "cell_type": "code",
      "metadata": {
        "colab": {
          "base_uri": "https://localhost:8080/"
        },
        "id": "dK9pmOZjc-1Q",
        "outputId": "5ee2dc01-b5ab-4095-fb67-6b6d235f7e6a"
      },
      "source": [
        "test_values"
      ],
      "execution_count": 98,
      "outputs": [
        {
          "output_type": "execute_result",
          "data": {
            "text/plain": [
              "array([[9.9715155e-01, 4.0117988e-01, 9.4061673e-01, 3.3321295e-02,\n",
              "        8.2563311e-01, 2.6516607e-01],\n",
              "       [1.0249882e-03, 3.2015246e-16, 1.2039865e-05, 9.6637625e-15,\n",
              "        1.2511550e-06, 1.0458306e-11],\n",
              "       [1.3678820e-02, 1.4810495e-09, 9.8366954e-04, 4.7541903e-08,\n",
              "        9.0258726e-04, 1.2095595e-07],\n",
              "       ...,\n",
              "       [5.2966049e-04, 1.0214524e-14, 1.9288784e-05, 4.6384203e-12,\n",
              "        3.8437361e-06, 6.1081376e-11],\n",
              "       [8.4658444e-02, 8.5504917e-07, 6.2256721e-03, 4.8867198e-05,\n",
              "        1.4575679e-02, 2.7657130e-03],\n",
              "       [8.3098698e-01, 4.0602382e-02, 5.0024831e-01, 1.7764715e-02,\n",
              "        4.7749031e-01, 2.2959163e-02]], dtype=float32)"
            ]
          },
          "metadata": {
            "tags": []
          },
          "execution_count": 98
        }
      ]
    },
    {
      "cell_type": "code",
      "metadata": {
        "colab": {
          "base_uri": "https://localhost:8080/",
          "height": 415
        },
        "id": "_FSvu4hpyU4r",
        "outputId": "7fb5134e-10c6-4656-b4e8-beca60657fb0"
      },
      "source": [
        "test_values=pd.DataFrame(test_values,columns=['toxic', 'severe_toxic', 'obscene', 'threat', 'insult', 'identity_hate'])\r\n",
        "test_values"
      ],
      "execution_count": 99,
      "outputs": [
        {
          "output_type": "execute_result",
          "data": {
            "text/html": [
              "<div>\n",
              "<style scoped>\n",
              "    .dataframe tbody tr th:only-of-type {\n",
              "        vertical-align: middle;\n",
              "    }\n",
              "\n",
              "    .dataframe tbody tr th {\n",
              "        vertical-align: top;\n",
              "    }\n",
              "\n",
              "    .dataframe thead th {\n",
              "        text-align: right;\n",
              "    }\n",
              "</style>\n",
              "<table border=\"1\" class=\"dataframe\">\n",
              "  <thead>\n",
              "    <tr style=\"text-align: right;\">\n",
              "      <th></th>\n",
              "      <th>toxic</th>\n",
              "      <th>severe_toxic</th>\n",
              "      <th>obscene</th>\n",
              "      <th>threat</th>\n",
              "      <th>insult</th>\n",
              "      <th>identity_hate</th>\n",
              "    </tr>\n",
              "  </thead>\n",
              "  <tbody>\n",
              "    <tr>\n",
              "      <th>0</th>\n",
              "      <td>0.997152</td>\n",
              "      <td>4.011799e-01</td>\n",
              "      <td>0.940617</td>\n",
              "      <td>3.332129e-02</td>\n",
              "      <td>0.825633</td>\n",
              "      <td>2.651661e-01</td>\n",
              "    </tr>\n",
              "    <tr>\n",
              "      <th>1</th>\n",
              "      <td>0.001025</td>\n",
              "      <td>3.201525e-16</td>\n",
              "      <td>0.000012</td>\n",
              "      <td>9.663762e-15</td>\n",
              "      <td>0.000001</td>\n",
              "      <td>1.045831e-11</td>\n",
              "    </tr>\n",
              "    <tr>\n",
              "      <th>2</th>\n",
              "      <td>0.013679</td>\n",
              "      <td>1.481050e-09</td>\n",
              "      <td>0.000984</td>\n",
              "      <td>4.754190e-08</td>\n",
              "      <td>0.000903</td>\n",
              "      <td>1.209559e-07</td>\n",
              "    </tr>\n",
              "    <tr>\n",
              "      <th>3</th>\n",
              "      <td>0.013534</td>\n",
              "      <td>4.202029e-08</td>\n",
              "      <td>0.003325</td>\n",
              "      <td>5.466153e-06</td>\n",
              "      <td>0.001577</td>\n",
              "      <td>1.199184e-05</td>\n",
              "    </tr>\n",
              "    <tr>\n",
              "      <th>4</th>\n",
              "      <td>0.013851</td>\n",
              "      <td>2.320152e-08</td>\n",
              "      <td>0.003394</td>\n",
              "      <td>1.230105e-06</td>\n",
              "      <td>0.001556</td>\n",
              "      <td>4.772507e-06</td>\n",
              "    </tr>\n",
              "    <tr>\n",
              "      <th>...</th>\n",
              "      <td>...</td>\n",
              "      <td>...</td>\n",
              "      <td>...</td>\n",
              "      <td>...</td>\n",
              "      <td>...</td>\n",
              "      <td>...</td>\n",
              "    </tr>\n",
              "    <tr>\n",
              "      <th>153159</th>\n",
              "      <td>0.649680</td>\n",
              "      <td>4.380697e-03</td>\n",
              "      <td>0.155780</td>\n",
              "      <td>3.421440e-03</td>\n",
              "      <td>0.303675</td>\n",
              "      <td>5.136910e-03</td>\n",
              "    </tr>\n",
              "    <tr>\n",
              "      <th>153160</th>\n",
              "      <td>0.122049</td>\n",
              "      <td>4.122910e-05</td>\n",
              "      <td>0.023094</td>\n",
              "      <td>1.010037e-03</td>\n",
              "      <td>0.031983</td>\n",
              "      <td>1.215668e-03</td>\n",
              "    </tr>\n",
              "    <tr>\n",
              "      <th>153161</th>\n",
              "      <td>0.000530</td>\n",
              "      <td>1.021452e-14</td>\n",
              "      <td>0.000019</td>\n",
              "      <td>4.638420e-12</td>\n",
              "      <td>0.000004</td>\n",
              "      <td>6.108138e-11</td>\n",
              "    </tr>\n",
              "    <tr>\n",
              "      <th>153162</th>\n",
              "      <td>0.084658</td>\n",
              "      <td>8.550492e-07</td>\n",
              "      <td>0.006226</td>\n",
              "      <td>4.886720e-05</td>\n",
              "      <td>0.014576</td>\n",
              "      <td>2.765713e-03</td>\n",
              "    </tr>\n",
              "    <tr>\n",
              "      <th>153163</th>\n",
              "      <td>0.830987</td>\n",
              "      <td>4.060238e-02</td>\n",
              "      <td>0.500248</td>\n",
              "      <td>1.776472e-02</td>\n",
              "      <td>0.477490</td>\n",
              "      <td>2.295916e-02</td>\n",
              "    </tr>\n",
              "  </tbody>\n",
              "</table>\n",
              "<p>153164 rows × 6 columns</p>\n",
              "</div>"
            ],
            "text/plain": [
              "           toxic  severe_toxic   obscene        threat    insult  identity_hate\n",
              "0       0.997152  4.011799e-01  0.940617  3.332129e-02  0.825633   2.651661e-01\n",
              "1       0.001025  3.201525e-16  0.000012  9.663762e-15  0.000001   1.045831e-11\n",
              "2       0.013679  1.481050e-09  0.000984  4.754190e-08  0.000903   1.209559e-07\n",
              "3       0.013534  4.202029e-08  0.003325  5.466153e-06  0.001577   1.199184e-05\n",
              "4       0.013851  2.320152e-08  0.003394  1.230105e-06  0.001556   4.772507e-06\n",
              "...          ...           ...       ...           ...       ...            ...\n",
              "153159  0.649680  4.380697e-03  0.155780  3.421440e-03  0.303675   5.136910e-03\n",
              "153160  0.122049  4.122910e-05  0.023094  1.010037e-03  0.031983   1.215668e-03\n",
              "153161  0.000530  1.021452e-14  0.000019  4.638420e-12  0.000004   6.108138e-11\n",
              "153162  0.084658  8.550492e-07  0.006226  4.886720e-05  0.014576   2.765713e-03\n",
              "153163  0.830987  4.060238e-02  0.500248  1.776472e-02  0.477490   2.295916e-02\n",
              "\n",
              "[153164 rows x 6 columns]"
            ]
          },
          "metadata": {
            "tags": []
          },
          "execution_count": 99
        }
      ]
    },
    {
      "cell_type": "code",
      "metadata": {
        "colab": {
          "base_uri": "https://localhost:8080/",
          "height": 415
        },
        "id": "Th2Bj8MM2LkZ",
        "outputId": "8fedd99f-17ed-44a5-99f8-d0f8583ba0c5"
      },
      "source": [
        "submission = pd.DataFrame(sample_submission[\"id\"])\r\n",
        "submission"
      ],
      "execution_count": 101,
      "outputs": [
        {
          "output_type": "execute_result",
          "data": {
            "text/html": [
              "<div>\n",
              "<style scoped>\n",
              "    .dataframe tbody tr th:only-of-type {\n",
              "        vertical-align: middle;\n",
              "    }\n",
              "\n",
              "    .dataframe tbody tr th {\n",
              "        vertical-align: top;\n",
              "    }\n",
              "\n",
              "    .dataframe thead th {\n",
              "        text-align: right;\n",
              "    }\n",
              "</style>\n",
              "<table border=\"1\" class=\"dataframe\">\n",
              "  <thead>\n",
              "    <tr style=\"text-align: right;\">\n",
              "      <th></th>\n",
              "      <th>id</th>\n",
              "    </tr>\n",
              "  </thead>\n",
              "  <tbody>\n",
              "    <tr>\n",
              "      <th>0</th>\n",
              "      <td>00001cee341fdb12</td>\n",
              "    </tr>\n",
              "    <tr>\n",
              "      <th>1</th>\n",
              "      <td>0000247867823ef7</td>\n",
              "    </tr>\n",
              "    <tr>\n",
              "      <th>2</th>\n",
              "      <td>00013b17ad220c46</td>\n",
              "    </tr>\n",
              "    <tr>\n",
              "      <th>3</th>\n",
              "      <td>00017563c3f7919a</td>\n",
              "    </tr>\n",
              "    <tr>\n",
              "      <th>4</th>\n",
              "      <td>00017695ad8997eb</td>\n",
              "    </tr>\n",
              "    <tr>\n",
              "      <th>...</th>\n",
              "      <td>...</td>\n",
              "    </tr>\n",
              "    <tr>\n",
              "      <th>153159</th>\n",
              "      <td>fffcd0960ee309b5</td>\n",
              "    </tr>\n",
              "    <tr>\n",
              "      <th>153160</th>\n",
              "      <td>fffd7a9a6eb32c16</td>\n",
              "    </tr>\n",
              "    <tr>\n",
              "      <th>153161</th>\n",
              "      <td>fffda9e8d6fafa9e</td>\n",
              "    </tr>\n",
              "    <tr>\n",
              "      <th>153162</th>\n",
              "      <td>fffe8f1340a79fc2</td>\n",
              "    </tr>\n",
              "    <tr>\n",
              "      <th>153163</th>\n",
              "      <td>ffffce3fb183ee80</td>\n",
              "    </tr>\n",
              "  </tbody>\n",
              "</table>\n",
              "<p>153164 rows × 1 columns</p>\n",
              "</div>"
            ],
            "text/plain": [
              "                      id\n",
              "0       00001cee341fdb12\n",
              "1       0000247867823ef7\n",
              "2       00013b17ad220c46\n",
              "3       00017563c3f7919a\n",
              "4       00017695ad8997eb\n",
              "...                  ...\n",
              "153159  fffcd0960ee309b5\n",
              "153160  fffd7a9a6eb32c16\n",
              "153161  fffda9e8d6fafa9e\n",
              "153162  fffe8f1340a79fc2\n",
              "153163  ffffce3fb183ee80\n",
              "\n",
              "[153164 rows x 1 columns]"
            ]
          },
          "metadata": {
            "tags": []
          },
          "execution_count": 101
        }
      ]
    },
    {
      "cell_type": "code",
      "metadata": {
        "colab": {
          "base_uri": "https://localhost:8080/",
          "height": 415
        },
        "id": "2gYwTGOI2Y4k",
        "outputId": "e51f1f89-6640-4375-bfef-e1f9a86c8a73"
      },
      "source": [
        "combined_submission=pd.concat([submission,test_values],axis=1)\r\n",
        "combined_submission"
      ],
      "execution_count": 102,
      "outputs": [
        {
          "output_type": "execute_result",
          "data": {
            "text/html": [
              "<div>\n",
              "<style scoped>\n",
              "    .dataframe tbody tr th:only-of-type {\n",
              "        vertical-align: middle;\n",
              "    }\n",
              "\n",
              "    .dataframe tbody tr th {\n",
              "        vertical-align: top;\n",
              "    }\n",
              "\n",
              "    .dataframe thead th {\n",
              "        text-align: right;\n",
              "    }\n",
              "</style>\n",
              "<table border=\"1\" class=\"dataframe\">\n",
              "  <thead>\n",
              "    <tr style=\"text-align: right;\">\n",
              "      <th></th>\n",
              "      <th>id</th>\n",
              "      <th>toxic</th>\n",
              "      <th>severe_toxic</th>\n",
              "      <th>obscene</th>\n",
              "      <th>threat</th>\n",
              "      <th>insult</th>\n",
              "      <th>identity_hate</th>\n",
              "    </tr>\n",
              "  </thead>\n",
              "  <tbody>\n",
              "    <tr>\n",
              "      <th>0</th>\n",
              "      <td>00001cee341fdb12</td>\n",
              "      <td>0.997152</td>\n",
              "      <td>4.011799e-01</td>\n",
              "      <td>0.940617</td>\n",
              "      <td>3.332129e-02</td>\n",
              "      <td>0.825633</td>\n",
              "      <td>2.651661e-01</td>\n",
              "    </tr>\n",
              "    <tr>\n",
              "      <th>1</th>\n",
              "      <td>0000247867823ef7</td>\n",
              "      <td>0.001025</td>\n",
              "      <td>3.201525e-16</td>\n",
              "      <td>0.000012</td>\n",
              "      <td>9.663762e-15</td>\n",
              "      <td>0.000001</td>\n",
              "      <td>1.045831e-11</td>\n",
              "    </tr>\n",
              "    <tr>\n",
              "      <th>2</th>\n",
              "      <td>00013b17ad220c46</td>\n",
              "      <td>0.013679</td>\n",
              "      <td>1.481050e-09</td>\n",
              "      <td>0.000984</td>\n",
              "      <td>4.754190e-08</td>\n",
              "      <td>0.000903</td>\n",
              "      <td>1.209559e-07</td>\n",
              "    </tr>\n",
              "    <tr>\n",
              "      <th>3</th>\n",
              "      <td>00017563c3f7919a</td>\n",
              "      <td>0.013534</td>\n",
              "      <td>4.202029e-08</td>\n",
              "      <td>0.003325</td>\n",
              "      <td>5.466153e-06</td>\n",
              "      <td>0.001577</td>\n",
              "      <td>1.199184e-05</td>\n",
              "    </tr>\n",
              "    <tr>\n",
              "      <th>4</th>\n",
              "      <td>00017695ad8997eb</td>\n",
              "      <td>0.013851</td>\n",
              "      <td>2.320152e-08</td>\n",
              "      <td>0.003394</td>\n",
              "      <td>1.230105e-06</td>\n",
              "      <td>0.001556</td>\n",
              "      <td>4.772507e-06</td>\n",
              "    </tr>\n",
              "    <tr>\n",
              "      <th>...</th>\n",
              "      <td>...</td>\n",
              "      <td>...</td>\n",
              "      <td>...</td>\n",
              "      <td>...</td>\n",
              "      <td>...</td>\n",
              "      <td>...</td>\n",
              "      <td>...</td>\n",
              "    </tr>\n",
              "    <tr>\n",
              "      <th>153159</th>\n",
              "      <td>fffcd0960ee309b5</td>\n",
              "      <td>0.649680</td>\n",
              "      <td>4.380697e-03</td>\n",
              "      <td>0.155780</td>\n",
              "      <td>3.421440e-03</td>\n",
              "      <td>0.303675</td>\n",
              "      <td>5.136910e-03</td>\n",
              "    </tr>\n",
              "    <tr>\n",
              "      <th>153160</th>\n",
              "      <td>fffd7a9a6eb32c16</td>\n",
              "      <td>0.122049</td>\n",
              "      <td>4.122910e-05</td>\n",
              "      <td>0.023094</td>\n",
              "      <td>1.010037e-03</td>\n",
              "      <td>0.031983</td>\n",
              "      <td>1.215668e-03</td>\n",
              "    </tr>\n",
              "    <tr>\n",
              "      <th>153161</th>\n",
              "      <td>fffda9e8d6fafa9e</td>\n",
              "      <td>0.000530</td>\n",
              "      <td>1.021452e-14</td>\n",
              "      <td>0.000019</td>\n",
              "      <td>4.638420e-12</td>\n",
              "      <td>0.000004</td>\n",
              "      <td>6.108138e-11</td>\n",
              "    </tr>\n",
              "    <tr>\n",
              "      <th>153162</th>\n",
              "      <td>fffe8f1340a79fc2</td>\n",
              "      <td>0.084658</td>\n",
              "      <td>8.550492e-07</td>\n",
              "      <td>0.006226</td>\n",
              "      <td>4.886720e-05</td>\n",
              "      <td>0.014576</td>\n",
              "      <td>2.765713e-03</td>\n",
              "    </tr>\n",
              "    <tr>\n",
              "      <th>153163</th>\n",
              "      <td>ffffce3fb183ee80</td>\n",
              "      <td>0.830987</td>\n",
              "      <td>4.060238e-02</td>\n",
              "      <td>0.500248</td>\n",
              "      <td>1.776472e-02</td>\n",
              "      <td>0.477490</td>\n",
              "      <td>2.295916e-02</td>\n",
              "    </tr>\n",
              "  </tbody>\n",
              "</table>\n",
              "<p>153164 rows × 7 columns</p>\n",
              "</div>"
            ],
            "text/plain": [
              "                      id     toxic  ...    insult  identity_hate\n",
              "0       00001cee341fdb12  0.997152  ...  0.825633   2.651661e-01\n",
              "1       0000247867823ef7  0.001025  ...  0.000001   1.045831e-11\n",
              "2       00013b17ad220c46  0.013679  ...  0.000903   1.209559e-07\n",
              "3       00017563c3f7919a  0.013534  ...  0.001577   1.199184e-05\n",
              "4       00017695ad8997eb  0.013851  ...  0.001556   4.772507e-06\n",
              "...                  ...       ...  ...       ...            ...\n",
              "153159  fffcd0960ee309b5  0.649680  ...  0.303675   5.136910e-03\n",
              "153160  fffd7a9a6eb32c16  0.122049  ...  0.031983   1.215668e-03\n",
              "153161  fffda9e8d6fafa9e  0.000530  ...  0.000004   6.108138e-11\n",
              "153162  fffe8f1340a79fc2  0.084658  ...  0.014576   2.765713e-03\n",
              "153163  ffffce3fb183ee80  0.830987  ...  0.477490   2.295916e-02\n",
              "\n",
              "[153164 rows x 7 columns]"
            ]
          },
          "metadata": {
            "tags": []
          },
          "execution_count": 102
        }
      ]
    },
    {
      "cell_type": "code",
      "metadata": {
        "id": "Eq311nYWfYQB"
      },
      "source": [
        "combined_submission.to_csv('/content/drive/MyDrive/Submission_Kaggle/submission.csv', index=False)"
      ],
      "execution_count": 105,
      "outputs": []
    },
    {
      "cell_type": "code",
      "metadata": {
        "id": "bEIzu9kWy-rL"
      },
      "source": [
        ""
      ],
      "execution_count": null,
      "outputs": []
    }
  ]
}