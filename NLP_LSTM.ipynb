{
  "nbformat": 4,
  "nbformat_minor": 0,
  "metadata": {
    "colab": {
      "name": "NLP_LSTM.ipynb",
      "provenance": [],
      "collapsed_sections": [
        "z8KPqb7_vC59",
        "D8hAcigh3Sh3",
        "NDWRHguXxOF_",
        "X86VKe_LC3QH",
        "Dwzg_WX32OG3"
      ],
      "toc_visible": true,
      "include_colab_link": true
    },
    "kernelspec": {
      "display_name": "Python 3",
      "language": "python",
      "name": "python3"
    },
    "language_info": {
      "codemirror_mode": {
        "name": "ipython",
        "version": 3
      },
      "file_extension": ".py",
      "mimetype": "text/x-python",
      "name": "python",
      "nbconvert_exporter": "python",
      "pygments_lexer": "ipython3",
      "version": "3.8.3"
    },
    "widgets": {
      "application/vnd.jupyter.widget-state+json": {
        "7a33f572fd6741d8aa95ecd8c74fa7bd": {
          "model_module": "@jupyter-widgets/controls",
          "model_name": "HBoxModel",
          "state": {
            "_view_name": "HBoxView",
            "_dom_classes": [],
            "_model_name": "HBoxModel",
            "_view_module": "@jupyter-widgets/controls",
            "_model_module_version": "1.5.0",
            "_view_count": null,
            "_view_module_version": "1.5.0",
            "box_style": "",
            "layout": "IPY_MODEL_f9ac2b1cb7b64f578eebc56c1b7b464c",
            "_model_module": "@jupyter-widgets/controls",
            "children": [
              "IPY_MODEL_a656227ba49a4ae7a8a5d5dd66d41adc",
              "IPY_MODEL_9f4eddace6ec45b694f0ab8f4a4fcadf"
            ]
          }
        },
        "f9ac2b1cb7b64f578eebc56c1b7b464c": {
          "model_module": "@jupyter-widgets/base",
          "model_name": "LayoutModel",
          "state": {
            "_view_name": "LayoutView",
            "grid_template_rows": null,
            "right": null,
            "justify_content": null,
            "_view_module": "@jupyter-widgets/base",
            "overflow": null,
            "_model_module_version": "1.2.0",
            "_view_count": null,
            "flex_flow": null,
            "width": null,
            "min_width": null,
            "border": null,
            "align_items": null,
            "bottom": null,
            "_model_module": "@jupyter-widgets/base",
            "top": null,
            "grid_column": null,
            "overflow_y": null,
            "overflow_x": null,
            "grid_auto_flow": null,
            "grid_area": null,
            "grid_template_columns": null,
            "flex": null,
            "_model_name": "LayoutModel",
            "justify_items": null,
            "grid_row": null,
            "max_height": null,
            "align_content": null,
            "visibility": null,
            "align_self": null,
            "height": null,
            "min_height": null,
            "padding": null,
            "grid_auto_rows": null,
            "grid_gap": null,
            "max_width": null,
            "order": null,
            "_view_module_version": "1.2.0",
            "grid_template_areas": null,
            "object_position": null,
            "object_fit": null,
            "grid_auto_columns": null,
            "margin": null,
            "display": null,
            "left": null
          }
        },
        "a656227ba49a4ae7a8a5d5dd66d41adc": {
          "model_module": "@jupyter-widgets/controls",
          "model_name": "FloatProgressModel",
          "state": {
            "_view_name": "ProgressView",
            "style": "IPY_MODEL_fa092f464ba447b8bf4a4dd7da29a18d",
            "_dom_classes": [],
            "description": "100%",
            "_model_name": "FloatProgressModel",
            "bar_style": "success",
            "max": 159571,
            "_view_module": "@jupyter-widgets/controls",
            "_model_module_version": "1.5.0",
            "value": 159571,
            "_view_count": null,
            "_view_module_version": "1.5.0",
            "orientation": "horizontal",
            "min": 0,
            "description_tooltip": null,
            "_model_module": "@jupyter-widgets/controls",
            "layout": "IPY_MODEL_a5a6dae561a44f9cbdabaa25383638ce"
          }
        },
        "9f4eddace6ec45b694f0ab8f4a4fcadf": {
          "model_module": "@jupyter-widgets/controls",
          "model_name": "HTMLModel",
          "state": {
            "_view_name": "HTMLView",
            "style": "IPY_MODEL_adb477c775a7462588ddc70348a369b9",
            "_dom_classes": [],
            "description": "",
            "_model_name": "HTMLModel",
            "placeholder": "​",
            "_view_module": "@jupyter-widgets/controls",
            "_model_module_version": "1.5.0",
            "value": " 159571/159571 [06:13&lt;00:00, 427.51it/s]",
            "_view_count": null,
            "_view_module_version": "1.5.0",
            "description_tooltip": null,
            "_model_module": "@jupyter-widgets/controls",
            "layout": "IPY_MODEL_435f171709a449c99c08c60a5124dea4"
          }
        },
        "fa092f464ba447b8bf4a4dd7da29a18d": {
          "model_module": "@jupyter-widgets/controls",
          "model_name": "ProgressStyleModel",
          "state": {
            "_view_name": "StyleView",
            "_model_name": "ProgressStyleModel",
            "description_width": "initial",
            "_view_module": "@jupyter-widgets/base",
            "_model_module_version": "1.5.0",
            "_view_count": null,
            "_view_module_version": "1.2.0",
            "bar_color": null,
            "_model_module": "@jupyter-widgets/controls"
          }
        },
        "a5a6dae561a44f9cbdabaa25383638ce": {
          "model_module": "@jupyter-widgets/base",
          "model_name": "LayoutModel",
          "state": {
            "_view_name": "LayoutView",
            "grid_template_rows": null,
            "right": null,
            "justify_content": null,
            "_view_module": "@jupyter-widgets/base",
            "overflow": null,
            "_model_module_version": "1.2.0",
            "_view_count": null,
            "flex_flow": null,
            "width": null,
            "min_width": null,
            "border": null,
            "align_items": null,
            "bottom": null,
            "_model_module": "@jupyter-widgets/base",
            "top": null,
            "grid_column": null,
            "overflow_y": null,
            "overflow_x": null,
            "grid_auto_flow": null,
            "grid_area": null,
            "grid_template_columns": null,
            "flex": null,
            "_model_name": "LayoutModel",
            "justify_items": null,
            "grid_row": null,
            "max_height": null,
            "align_content": null,
            "visibility": null,
            "align_self": null,
            "height": null,
            "min_height": null,
            "padding": null,
            "grid_auto_rows": null,
            "grid_gap": null,
            "max_width": null,
            "order": null,
            "_view_module_version": "1.2.0",
            "grid_template_areas": null,
            "object_position": null,
            "object_fit": null,
            "grid_auto_columns": null,
            "margin": null,
            "display": null,
            "left": null
          }
        },
        "adb477c775a7462588ddc70348a369b9": {
          "model_module": "@jupyter-widgets/controls",
          "model_name": "DescriptionStyleModel",
          "state": {
            "_view_name": "StyleView",
            "_model_name": "DescriptionStyleModel",
            "description_width": "",
            "_view_module": "@jupyter-widgets/base",
            "_model_module_version": "1.5.0",
            "_view_count": null,
            "_view_module_version": "1.2.0",
            "_model_module": "@jupyter-widgets/controls"
          }
        },
        "435f171709a449c99c08c60a5124dea4": {
          "model_module": "@jupyter-widgets/base",
          "model_name": "LayoutModel",
          "state": {
            "_view_name": "LayoutView",
            "grid_template_rows": null,
            "right": null,
            "justify_content": null,
            "_view_module": "@jupyter-widgets/base",
            "overflow": null,
            "_model_module_version": "1.2.0",
            "_view_count": null,
            "flex_flow": null,
            "width": null,
            "min_width": null,
            "border": null,
            "align_items": null,
            "bottom": null,
            "_model_module": "@jupyter-widgets/base",
            "top": null,
            "grid_column": null,
            "overflow_y": null,
            "overflow_x": null,
            "grid_auto_flow": null,
            "grid_area": null,
            "grid_template_columns": null,
            "flex": null,
            "_model_name": "LayoutModel",
            "justify_items": null,
            "grid_row": null,
            "max_height": null,
            "align_content": null,
            "visibility": null,
            "align_self": null,
            "height": null,
            "min_height": null,
            "padding": null,
            "grid_auto_rows": null,
            "grid_gap": null,
            "max_width": null,
            "order": null,
            "_view_module_version": "1.2.0",
            "grid_template_areas": null,
            "object_position": null,
            "object_fit": null,
            "grid_auto_columns": null,
            "margin": null,
            "display": null,
            "left": null
          }
        },
        "abd3b38f2cf8485ca8397af3d82b250c": {
          "model_module": "@jupyter-widgets/controls",
          "model_name": "HBoxModel",
          "state": {
            "_view_name": "HBoxView",
            "_dom_classes": [],
            "_model_name": "HBoxModel",
            "_view_module": "@jupyter-widgets/controls",
            "_model_module_version": "1.5.0",
            "_view_count": null,
            "_view_module_version": "1.5.0",
            "box_style": "",
            "layout": "IPY_MODEL_d70d5f0f608445e59c23563c6e8f6414",
            "_model_module": "@jupyter-widgets/controls",
            "children": [
              "IPY_MODEL_33429035bb7c4faa837de363386d1c56",
              "IPY_MODEL_bd9bdc011996473d94d846ad7afedd67"
            ]
          }
        },
        "d70d5f0f608445e59c23563c6e8f6414": {
          "model_module": "@jupyter-widgets/base",
          "model_name": "LayoutModel",
          "state": {
            "_view_name": "LayoutView",
            "grid_template_rows": null,
            "right": null,
            "justify_content": null,
            "_view_module": "@jupyter-widgets/base",
            "overflow": null,
            "_model_module_version": "1.2.0",
            "_view_count": null,
            "flex_flow": null,
            "width": null,
            "min_width": null,
            "border": null,
            "align_items": null,
            "bottom": null,
            "_model_module": "@jupyter-widgets/base",
            "top": null,
            "grid_column": null,
            "overflow_y": null,
            "overflow_x": null,
            "grid_auto_flow": null,
            "grid_area": null,
            "grid_template_columns": null,
            "flex": null,
            "_model_name": "LayoutModel",
            "justify_items": null,
            "grid_row": null,
            "max_height": null,
            "align_content": null,
            "visibility": null,
            "align_self": null,
            "height": null,
            "min_height": null,
            "padding": null,
            "grid_auto_rows": null,
            "grid_gap": null,
            "max_width": null,
            "order": null,
            "_view_module_version": "1.2.0",
            "grid_template_areas": null,
            "object_position": null,
            "object_fit": null,
            "grid_auto_columns": null,
            "margin": null,
            "display": null,
            "left": null
          }
        },
        "33429035bb7c4faa837de363386d1c56": {
          "model_module": "@jupyter-widgets/controls",
          "model_name": "FloatProgressModel",
          "state": {
            "_view_name": "ProgressView",
            "style": "IPY_MODEL_f773700464cc44c7a4e116a93e6f0703",
            "_dom_classes": [],
            "description": "100%",
            "_model_name": "FloatProgressModel",
            "bar_style": "success",
            "max": 153164,
            "_view_module": "@jupyter-widgets/controls",
            "_model_module_version": "1.5.0",
            "value": 153164,
            "_view_count": null,
            "_view_module_version": "1.5.0",
            "orientation": "horizontal",
            "min": 0,
            "description_tooltip": null,
            "_model_module": "@jupyter-widgets/controls",
            "layout": "IPY_MODEL_9af0e4f9e5d84f1ca41fe3749321b283"
          }
        },
        "bd9bdc011996473d94d846ad7afedd67": {
          "model_module": "@jupyter-widgets/controls",
          "model_name": "HTMLModel",
          "state": {
            "_view_name": "HTMLView",
            "style": "IPY_MODEL_c8b3c74eabb04732a9960be37530b2ec",
            "_dom_classes": [],
            "description": "",
            "_model_name": "HTMLModel",
            "placeholder": "​",
            "_view_module": "@jupyter-widgets/controls",
            "_model_module_version": "1.5.0",
            "value": " 153164/153164 [01:37&lt;00:00, 1569.01it/s]",
            "_view_count": null,
            "_view_module_version": "1.5.0",
            "description_tooltip": null,
            "_model_module": "@jupyter-widgets/controls",
            "layout": "IPY_MODEL_54b5bb0d898a43d1ab2f21c20040453e"
          }
        },
        "f773700464cc44c7a4e116a93e6f0703": {
          "model_module": "@jupyter-widgets/controls",
          "model_name": "ProgressStyleModel",
          "state": {
            "_view_name": "StyleView",
            "_model_name": "ProgressStyleModel",
            "description_width": "initial",
            "_view_module": "@jupyter-widgets/base",
            "_model_module_version": "1.5.0",
            "_view_count": null,
            "_view_module_version": "1.2.0",
            "bar_color": null,
            "_model_module": "@jupyter-widgets/controls"
          }
        },
        "9af0e4f9e5d84f1ca41fe3749321b283": {
          "model_module": "@jupyter-widgets/base",
          "model_name": "LayoutModel",
          "state": {
            "_view_name": "LayoutView",
            "grid_template_rows": null,
            "right": null,
            "justify_content": null,
            "_view_module": "@jupyter-widgets/base",
            "overflow": null,
            "_model_module_version": "1.2.0",
            "_view_count": null,
            "flex_flow": null,
            "width": null,
            "min_width": null,
            "border": null,
            "align_items": null,
            "bottom": null,
            "_model_module": "@jupyter-widgets/base",
            "top": null,
            "grid_column": null,
            "overflow_y": null,
            "overflow_x": null,
            "grid_auto_flow": null,
            "grid_area": null,
            "grid_template_columns": null,
            "flex": null,
            "_model_name": "LayoutModel",
            "justify_items": null,
            "grid_row": null,
            "max_height": null,
            "align_content": null,
            "visibility": null,
            "align_self": null,
            "height": null,
            "min_height": null,
            "padding": null,
            "grid_auto_rows": null,
            "grid_gap": null,
            "max_width": null,
            "order": null,
            "_view_module_version": "1.2.0",
            "grid_template_areas": null,
            "object_position": null,
            "object_fit": null,
            "grid_auto_columns": null,
            "margin": null,
            "display": null,
            "left": null
          }
        },
        "c8b3c74eabb04732a9960be37530b2ec": {
          "model_module": "@jupyter-widgets/controls",
          "model_name": "DescriptionStyleModel",
          "state": {
            "_view_name": "StyleView",
            "_model_name": "DescriptionStyleModel",
            "description_width": "",
            "_view_module": "@jupyter-widgets/base",
            "_model_module_version": "1.5.0",
            "_view_count": null,
            "_view_module_version": "1.2.0",
            "_model_module": "@jupyter-widgets/controls"
          }
        },
        "54b5bb0d898a43d1ab2f21c20040453e": {
          "model_module": "@jupyter-widgets/base",
          "model_name": "LayoutModel",
          "state": {
            "_view_name": "LayoutView",
            "grid_template_rows": null,
            "right": null,
            "justify_content": null,
            "_view_module": "@jupyter-widgets/base",
            "overflow": null,
            "_model_module_version": "1.2.0",
            "_view_count": null,
            "flex_flow": null,
            "width": null,
            "min_width": null,
            "border": null,
            "align_items": null,
            "bottom": null,
            "_model_module": "@jupyter-widgets/base",
            "top": null,
            "grid_column": null,
            "overflow_y": null,
            "overflow_x": null,
            "grid_auto_flow": null,
            "grid_area": null,
            "grid_template_columns": null,
            "flex": null,
            "_model_name": "LayoutModel",
            "justify_items": null,
            "grid_row": null,
            "max_height": null,
            "align_content": null,
            "visibility": null,
            "align_self": null,
            "height": null,
            "min_height": null,
            "padding": null,
            "grid_auto_rows": null,
            "grid_gap": null,
            "max_width": null,
            "order": null,
            "_view_module_version": "1.2.0",
            "grid_template_areas": null,
            "object_position": null,
            "object_fit": null,
            "grid_auto_columns": null,
            "margin": null,
            "display": null,
            "left": null
          }
        },
        "04bdb9967a1e4f50a45cbfda8b4f300b": {
          "model_module": "@jupyter-widgets/controls",
          "model_name": "HBoxModel",
          "state": {
            "_view_name": "HBoxView",
            "_dom_classes": [],
            "_model_name": "HBoxModel",
            "_view_module": "@jupyter-widgets/controls",
            "_model_module_version": "1.5.0",
            "_view_count": null,
            "_view_module_version": "1.5.0",
            "box_style": "",
            "layout": "IPY_MODEL_e1a5f379338d4db2979a0d689d38e03c",
            "_model_module": "@jupyter-widgets/controls",
            "children": [
              "IPY_MODEL_49c1d60ffb964513b8339c8e85c0979d",
              "IPY_MODEL_fbb5861d79e44ab1baed2e9a1b5c43df"
            ]
          }
        },
        "e1a5f379338d4db2979a0d689d38e03c": {
          "model_module": "@jupyter-widgets/base",
          "model_name": "LayoutModel",
          "state": {
            "_view_name": "LayoutView",
            "grid_template_rows": null,
            "right": null,
            "justify_content": null,
            "_view_module": "@jupyter-widgets/base",
            "overflow": null,
            "_model_module_version": "1.2.0",
            "_view_count": null,
            "flex_flow": null,
            "width": null,
            "min_width": null,
            "border": null,
            "align_items": null,
            "bottom": null,
            "_model_module": "@jupyter-widgets/base",
            "top": null,
            "grid_column": null,
            "overflow_y": null,
            "overflow_x": null,
            "grid_auto_flow": null,
            "grid_area": null,
            "grid_template_columns": null,
            "flex": null,
            "_model_name": "LayoutModel",
            "justify_items": null,
            "grid_row": null,
            "max_height": null,
            "align_content": null,
            "visibility": null,
            "align_self": null,
            "height": null,
            "min_height": null,
            "padding": null,
            "grid_auto_rows": null,
            "grid_gap": null,
            "max_width": null,
            "order": null,
            "_view_module_version": "1.2.0",
            "grid_template_areas": null,
            "object_position": null,
            "object_fit": null,
            "grid_auto_columns": null,
            "margin": null,
            "display": null,
            "left": null
          }
        },
        "49c1d60ffb964513b8339c8e85c0979d": {
          "model_module": "@jupyter-widgets/controls",
          "model_name": "FloatProgressModel",
          "state": {
            "_view_name": "ProgressView",
            "style": "IPY_MODEL_7f52e02f8dff487c97e7369feb078b8e",
            "_dom_classes": [],
            "description": "100%",
            "_model_name": "FloatProgressModel",
            "bar_style": "success",
            "max": 159571,
            "_view_module": "@jupyter-widgets/controls",
            "_model_module_version": "1.5.0",
            "value": 159571,
            "_view_count": null,
            "_view_module_version": "1.5.0",
            "orientation": "horizontal",
            "min": 0,
            "description_tooltip": null,
            "_model_module": "@jupyter-widgets/controls",
            "layout": "IPY_MODEL_3d929f984efa4079be8b122139ed0111"
          }
        },
        "fbb5861d79e44ab1baed2e9a1b5c43df": {
          "model_module": "@jupyter-widgets/controls",
          "model_name": "HTMLModel",
          "state": {
            "_view_name": "HTMLView",
            "style": "IPY_MODEL_7e6d3e51d7554606a170ddec473665cf",
            "_dom_classes": [],
            "description": "",
            "_model_name": "HTMLModel",
            "placeholder": "​",
            "_view_module": "@jupyter-widgets/controls",
            "_model_module_version": "1.5.0",
            "value": " 159571/159571 [02:44&lt;00:00, 972.21it/s]",
            "_view_count": null,
            "_view_module_version": "1.5.0",
            "description_tooltip": null,
            "_model_module": "@jupyter-widgets/controls",
            "layout": "IPY_MODEL_219bae951ab6497da01fd2b3fc90f6a3"
          }
        },
        "7f52e02f8dff487c97e7369feb078b8e": {
          "model_module": "@jupyter-widgets/controls",
          "model_name": "ProgressStyleModel",
          "state": {
            "_view_name": "StyleView",
            "_model_name": "ProgressStyleModel",
            "description_width": "initial",
            "_view_module": "@jupyter-widgets/base",
            "_model_module_version": "1.5.0",
            "_view_count": null,
            "_view_module_version": "1.2.0",
            "bar_color": null,
            "_model_module": "@jupyter-widgets/controls"
          }
        },
        "3d929f984efa4079be8b122139ed0111": {
          "model_module": "@jupyter-widgets/base",
          "model_name": "LayoutModel",
          "state": {
            "_view_name": "LayoutView",
            "grid_template_rows": null,
            "right": null,
            "justify_content": null,
            "_view_module": "@jupyter-widgets/base",
            "overflow": null,
            "_model_module_version": "1.2.0",
            "_view_count": null,
            "flex_flow": null,
            "width": null,
            "min_width": null,
            "border": null,
            "align_items": null,
            "bottom": null,
            "_model_module": "@jupyter-widgets/base",
            "top": null,
            "grid_column": null,
            "overflow_y": null,
            "overflow_x": null,
            "grid_auto_flow": null,
            "grid_area": null,
            "grid_template_columns": null,
            "flex": null,
            "_model_name": "LayoutModel",
            "justify_items": null,
            "grid_row": null,
            "max_height": null,
            "align_content": null,
            "visibility": null,
            "align_self": null,
            "height": null,
            "min_height": null,
            "padding": null,
            "grid_auto_rows": null,
            "grid_gap": null,
            "max_width": null,
            "order": null,
            "_view_module_version": "1.2.0",
            "grid_template_areas": null,
            "object_position": null,
            "object_fit": null,
            "grid_auto_columns": null,
            "margin": null,
            "display": null,
            "left": null
          }
        },
        "7e6d3e51d7554606a170ddec473665cf": {
          "model_module": "@jupyter-widgets/controls",
          "model_name": "DescriptionStyleModel",
          "state": {
            "_view_name": "StyleView",
            "_model_name": "DescriptionStyleModel",
            "description_width": "",
            "_view_module": "@jupyter-widgets/base",
            "_model_module_version": "1.5.0",
            "_view_count": null,
            "_view_module_version": "1.2.0",
            "_model_module": "@jupyter-widgets/controls"
          }
        },
        "219bae951ab6497da01fd2b3fc90f6a3": {
          "model_module": "@jupyter-widgets/base",
          "model_name": "LayoutModel",
          "state": {
            "_view_name": "LayoutView",
            "grid_template_rows": null,
            "right": null,
            "justify_content": null,
            "_view_module": "@jupyter-widgets/base",
            "overflow": null,
            "_model_module_version": "1.2.0",
            "_view_count": null,
            "flex_flow": null,
            "width": null,
            "min_width": null,
            "border": null,
            "align_items": null,
            "bottom": null,
            "_model_module": "@jupyter-widgets/base",
            "top": null,
            "grid_column": null,
            "overflow_y": null,
            "overflow_x": null,
            "grid_auto_flow": null,
            "grid_area": null,
            "grid_template_columns": null,
            "flex": null,
            "_model_name": "LayoutModel",
            "justify_items": null,
            "grid_row": null,
            "max_height": null,
            "align_content": null,
            "visibility": null,
            "align_self": null,
            "height": null,
            "min_height": null,
            "padding": null,
            "grid_auto_rows": null,
            "grid_gap": null,
            "max_width": null,
            "order": null,
            "_view_module_version": "1.2.0",
            "grid_template_areas": null,
            "object_position": null,
            "object_fit": null,
            "grid_auto_columns": null,
            "margin": null,
            "display": null,
            "left": null
          }
        },
        "696ea5a3e2764fbcb5113241380532bb": {
          "model_module": "@jupyter-widgets/controls",
          "model_name": "HBoxModel",
          "state": {
            "_view_name": "HBoxView",
            "_dom_classes": [],
            "_model_name": "HBoxModel",
            "_view_module": "@jupyter-widgets/controls",
            "_model_module_version": "1.5.0",
            "_view_count": null,
            "_view_module_version": "1.5.0",
            "box_style": "",
            "layout": "IPY_MODEL_cfafbe5702c5478ea9af1740c29a9c66",
            "_model_module": "@jupyter-widgets/controls",
            "children": [
              "IPY_MODEL_ea2b5b0a7487421fa603000fb616d026",
              "IPY_MODEL_628bf421d10a4fcaa56c3c2379cc81e8"
            ]
          }
        },
        "cfafbe5702c5478ea9af1740c29a9c66": {
          "model_module": "@jupyter-widgets/base",
          "model_name": "LayoutModel",
          "state": {
            "_view_name": "LayoutView",
            "grid_template_rows": null,
            "right": null,
            "justify_content": null,
            "_view_module": "@jupyter-widgets/base",
            "overflow": null,
            "_model_module_version": "1.2.0",
            "_view_count": null,
            "flex_flow": null,
            "width": null,
            "min_width": null,
            "border": null,
            "align_items": null,
            "bottom": null,
            "_model_module": "@jupyter-widgets/base",
            "top": null,
            "grid_column": null,
            "overflow_y": null,
            "overflow_x": null,
            "grid_auto_flow": null,
            "grid_area": null,
            "grid_template_columns": null,
            "flex": null,
            "_model_name": "LayoutModel",
            "justify_items": null,
            "grid_row": null,
            "max_height": null,
            "align_content": null,
            "visibility": null,
            "align_self": null,
            "height": null,
            "min_height": null,
            "padding": null,
            "grid_auto_rows": null,
            "grid_gap": null,
            "max_width": null,
            "order": null,
            "_view_module_version": "1.2.0",
            "grid_template_areas": null,
            "object_position": null,
            "object_fit": null,
            "grid_auto_columns": null,
            "margin": null,
            "display": null,
            "left": null
          }
        },
        "ea2b5b0a7487421fa603000fb616d026": {
          "model_module": "@jupyter-widgets/controls",
          "model_name": "FloatProgressModel",
          "state": {
            "_view_name": "ProgressView",
            "style": "IPY_MODEL_b05000af38954aae9d971514337c5088",
            "_dom_classes": [],
            "description": "100%",
            "_model_name": "FloatProgressModel",
            "bar_style": "success",
            "max": 159571,
            "_view_module": "@jupyter-widgets/controls",
            "_model_module_version": "1.5.0",
            "value": 159571,
            "_view_count": null,
            "_view_module_version": "1.5.0",
            "orientation": "horizontal",
            "min": 0,
            "description_tooltip": null,
            "_model_module": "@jupyter-widgets/controls",
            "layout": "IPY_MODEL_4ae237faa0c34c85ac078011db958d44"
          }
        },
        "628bf421d10a4fcaa56c3c2379cc81e8": {
          "model_module": "@jupyter-widgets/controls",
          "model_name": "HTMLModel",
          "state": {
            "_view_name": "HTMLView",
            "style": "IPY_MODEL_5fb25ee71b2f4c79953f721e2c0073e3",
            "_dom_classes": [],
            "description": "",
            "_model_name": "HTMLModel",
            "placeholder": "​",
            "_view_module": "@jupyter-widgets/controls",
            "_model_module_version": "1.5.0",
            "value": " 159571/159571 [00:53&lt;00:00, 2998.18it/s]",
            "_view_count": null,
            "_view_module_version": "1.5.0",
            "description_tooltip": null,
            "_model_module": "@jupyter-widgets/controls",
            "layout": "IPY_MODEL_29a07465a8e2468cb8578c13c839de63"
          }
        },
        "b05000af38954aae9d971514337c5088": {
          "model_module": "@jupyter-widgets/controls",
          "model_name": "ProgressStyleModel",
          "state": {
            "_view_name": "StyleView",
            "_model_name": "ProgressStyleModel",
            "description_width": "initial",
            "_view_module": "@jupyter-widgets/base",
            "_model_module_version": "1.5.0",
            "_view_count": null,
            "_view_module_version": "1.2.0",
            "bar_color": null,
            "_model_module": "@jupyter-widgets/controls"
          }
        },
        "4ae237faa0c34c85ac078011db958d44": {
          "model_module": "@jupyter-widgets/base",
          "model_name": "LayoutModel",
          "state": {
            "_view_name": "LayoutView",
            "grid_template_rows": null,
            "right": null,
            "justify_content": null,
            "_view_module": "@jupyter-widgets/base",
            "overflow": null,
            "_model_module_version": "1.2.0",
            "_view_count": null,
            "flex_flow": null,
            "width": null,
            "min_width": null,
            "border": null,
            "align_items": null,
            "bottom": null,
            "_model_module": "@jupyter-widgets/base",
            "top": null,
            "grid_column": null,
            "overflow_y": null,
            "overflow_x": null,
            "grid_auto_flow": null,
            "grid_area": null,
            "grid_template_columns": null,
            "flex": null,
            "_model_name": "LayoutModel",
            "justify_items": null,
            "grid_row": null,
            "max_height": null,
            "align_content": null,
            "visibility": null,
            "align_self": null,
            "height": null,
            "min_height": null,
            "padding": null,
            "grid_auto_rows": null,
            "grid_gap": null,
            "max_width": null,
            "order": null,
            "_view_module_version": "1.2.0",
            "grid_template_areas": null,
            "object_position": null,
            "object_fit": null,
            "grid_auto_columns": null,
            "margin": null,
            "display": null,
            "left": null
          }
        },
        "5fb25ee71b2f4c79953f721e2c0073e3": {
          "model_module": "@jupyter-widgets/controls",
          "model_name": "DescriptionStyleModel",
          "state": {
            "_view_name": "StyleView",
            "_model_name": "DescriptionStyleModel",
            "description_width": "",
            "_view_module": "@jupyter-widgets/base",
            "_model_module_version": "1.5.0",
            "_view_count": null,
            "_view_module_version": "1.2.0",
            "_model_module": "@jupyter-widgets/controls"
          }
        },
        "29a07465a8e2468cb8578c13c839de63": {
          "model_module": "@jupyter-widgets/base",
          "model_name": "LayoutModel",
          "state": {
            "_view_name": "LayoutView",
            "grid_template_rows": null,
            "right": null,
            "justify_content": null,
            "_view_module": "@jupyter-widgets/base",
            "overflow": null,
            "_model_module_version": "1.2.0",
            "_view_count": null,
            "flex_flow": null,
            "width": null,
            "min_width": null,
            "border": null,
            "align_items": null,
            "bottom": null,
            "_model_module": "@jupyter-widgets/base",
            "top": null,
            "grid_column": null,
            "overflow_y": null,
            "overflow_x": null,
            "grid_auto_flow": null,
            "grid_area": null,
            "grid_template_columns": null,
            "flex": null,
            "_model_name": "LayoutModel",
            "justify_items": null,
            "grid_row": null,
            "max_height": null,
            "align_content": null,
            "visibility": null,
            "align_self": null,
            "height": null,
            "min_height": null,
            "padding": null,
            "grid_auto_rows": null,
            "grid_gap": null,
            "max_width": null,
            "order": null,
            "_view_module_version": "1.2.0",
            "grid_template_areas": null,
            "object_position": null,
            "object_fit": null,
            "grid_auto_columns": null,
            "margin": null,
            "display": null,
            "left": null
          }
        },
        "0dacdf708de34177908a9425d962acb5": {
          "model_module": "@jupyter-widgets/controls",
          "model_name": "HBoxModel",
          "state": {
            "_view_name": "HBoxView",
            "_dom_classes": [],
            "_model_name": "HBoxModel",
            "_view_module": "@jupyter-widgets/controls",
            "_model_module_version": "1.5.0",
            "_view_count": null,
            "_view_module_version": "1.5.0",
            "box_style": "",
            "layout": "IPY_MODEL_f366168328fd4565ba3127b30f14a6cf",
            "_model_module": "@jupyter-widgets/controls",
            "children": [
              "IPY_MODEL_3fd51184cf7c4c4f8c708cac59951dfc",
              "IPY_MODEL_cb6e963dfa0a4fa9b6929f2fbc665b61"
            ]
          }
        },
        "f366168328fd4565ba3127b30f14a6cf": {
          "model_module": "@jupyter-widgets/base",
          "model_name": "LayoutModel",
          "state": {
            "_view_name": "LayoutView",
            "grid_template_rows": null,
            "right": null,
            "justify_content": null,
            "_view_module": "@jupyter-widgets/base",
            "overflow": null,
            "_model_module_version": "1.2.0",
            "_view_count": null,
            "flex_flow": null,
            "width": null,
            "min_width": null,
            "border": null,
            "align_items": null,
            "bottom": null,
            "_model_module": "@jupyter-widgets/base",
            "top": null,
            "grid_column": null,
            "overflow_y": null,
            "overflow_x": null,
            "grid_auto_flow": null,
            "grid_area": null,
            "grid_template_columns": null,
            "flex": null,
            "_model_name": "LayoutModel",
            "justify_items": null,
            "grid_row": null,
            "max_height": null,
            "align_content": null,
            "visibility": null,
            "align_self": null,
            "height": null,
            "min_height": null,
            "padding": null,
            "grid_auto_rows": null,
            "grid_gap": null,
            "max_width": null,
            "order": null,
            "_view_module_version": "1.2.0",
            "grid_template_areas": null,
            "object_position": null,
            "object_fit": null,
            "grid_auto_columns": null,
            "margin": null,
            "display": null,
            "left": null
          }
        },
        "3fd51184cf7c4c4f8c708cac59951dfc": {
          "model_module": "@jupyter-widgets/controls",
          "model_name": "FloatProgressModel",
          "state": {
            "_view_name": "ProgressView",
            "style": "IPY_MODEL_1eaad15735374f7f8b2024cab173c212",
            "_dom_classes": [],
            "description": "100%",
            "_model_name": "FloatProgressModel",
            "bar_style": "success",
            "max": 153164,
            "_view_module": "@jupyter-widgets/controls",
            "_model_module_version": "1.5.0",
            "value": 153164,
            "_view_count": null,
            "_view_module_version": "1.5.0",
            "orientation": "horizontal",
            "min": 0,
            "description_tooltip": null,
            "_model_module": "@jupyter-widgets/controls",
            "layout": "IPY_MODEL_12337f965426433fb8ea54b8164a55c8"
          }
        },
        "cb6e963dfa0a4fa9b6929f2fbc665b61": {
          "model_module": "@jupyter-widgets/controls",
          "model_name": "HTMLModel",
          "state": {
            "_view_name": "HTMLView",
            "style": "IPY_MODEL_c6e34ee792504b2ebfd5e16cb8130a6c",
            "_dom_classes": [],
            "description": "",
            "_model_name": "HTMLModel",
            "placeholder": "​",
            "_view_module": "@jupyter-widgets/controls",
            "_model_module_version": "1.5.0",
            "value": " 153164/153164 [00:02&lt;00:00, 69705.10it/s]",
            "_view_count": null,
            "_view_module_version": "1.5.0",
            "description_tooltip": null,
            "_model_module": "@jupyter-widgets/controls",
            "layout": "IPY_MODEL_5daa47adeb2247858b5357138542184f"
          }
        },
        "1eaad15735374f7f8b2024cab173c212": {
          "model_module": "@jupyter-widgets/controls",
          "model_name": "ProgressStyleModel",
          "state": {
            "_view_name": "StyleView",
            "_model_name": "ProgressStyleModel",
            "description_width": "initial",
            "_view_module": "@jupyter-widgets/base",
            "_model_module_version": "1.5.0",
            "_view_count": null,
            "_view_module_version": "1.2.0",
            "bar_color": null,
            "_model_module": "@jupyter-widgets/controls"
          }
        },
        "12337f965426433fb8ea54b8164a55c8": {
          "model_module": "@jupyter-widgets/base",
          "model_name": "LayoutModel",
          "state": {
            "_view_name": "LayoutView",
            "grid_template_rows": null,
            "right": null,
            "justify_content": null,
            "_view_module": "@jupyter-widgets/base",
            "overflow": null,
            "_model_module_version": "1.2.0",
            "_view_count": null,
            "flex_flow": null,
            "width": null,
            "min_width": null,
            "border": null,
            "align_items": null,
            "bottom": null,
            "_model_module": "@jupyter-widgets/base",
            "top": null,
            "grid_column": null,
            "overflow_y": null,
            "overflow_x": null,
            "grid_auto_flow": null,
            "grid_area": null,
            "grid_template_columns": null,
            "flex": null,
            "_model_name": "LayoutModel",
            "justify_items": null,
            "grid_row": null,
            "max_height": null,
            "align_content": null,
            "visibility": null,
            "align_self": null,
            "height": null,
            "min_height": null,
            "padding": null,
            "grid_auto_rows": null,
            "grid_gap": null,
            "max_width": null,
            "order": null,
            "_view_module_version": "1.2.0",
            "grid_template_areas": null,
            "object_position": null,
            "object_fit": null,
            "grid_auto_columns": null,
            "margin": null,
            "display": null,
            "left": null
          }
        },
        "c6e34ee792504b2ebfd5e16cb8130a6c": {
          "model_module": "@jupyter-widgets/controls",
          "model_name": "DescriptionStyleModel",
          "state": {
            "_view_name": "StyleView",
            "_model_name": "DescriptionStyleModel",
            "description_width": "",
            "_view_module": "@jupyter-widgets/base",
            "_model_module_version": "1.5.0",
            "_view_count": null,
            "_view_module_version": "1.2.0",
            "_model_module": "@jupyter-widgets/controls"
          }
        },
        "5daa47adeb2247858b5357138542184f": {
          "model_module": "@jupyter-widgets/base",
          "model_name": "LayoutModel",
          "state": {
            "_view_name": "LayoutView",
            "grid_template_rows": null,
            "right": null,
            "justify_content": null,
            "_view_module": "@jupyter-widgets/base",
            "overflow": null,
            "_model_module_version": "1.2.0",
            "_view_count": null,
            "flex_flow": null,
            "width": null,
            "min_width": null,
            "border": null,
            "align_items": null,
            "bottom": null,
            "_model_module": "@jupyter-widgets/base",
            "top": null,
            "grid_column": null,
            "overflow_y": null,
            "overflow_x": null,
            "grid_auto_flow": null,
            "grid_area": null,
            "grid_template_columns": null,
            "flex": null,
            "_model_name": "LayoutModel",
            "justify_items": null,
            "grid_row": null,
            "max_height": null,
            "align_content": null,
            "visibility": null,
            "align_self": null,
            "height": null,
            "min_height": null,
            "padding": null,
            "grid_auto_rows": null,
            "grid_gap": null,
            "max_width": null,
            "order": null,
            "_view_module_version": "1.2.0",
            "grid_template_areas": null,
            "object_position": null,
            "object_fit": null,
            "grid_auto_columns": null,
            "margin": null,
            "display": null,
            "left": null
          }
        }
      }
    },
    "accelerator": "GPU"
  },
  "cells": [
    {
      "cell_type": "markdown",
      "metadata": {
        "id": "view-in-github",
        "colab_type": "text"
      },
      "source": [
        "<a href=\"https://colab.research.google.com/github/shaunak09vb/Toxic-Comment-Classifier-using-LSTM/blob/main/NLP_LSTM.ipynb\" target=\"_parent\"><img src=\"https://colab.research.google.com/assets/colab-badge.svg\" alt=\"Open In Colab\"/></a>"
      ]
    },
    {
      "cell_type": "markdown",
      "metadata": {
        "id": "wcGq1dF0iWju"
      },
      "source": [
        "# Importing Libraries"
      ]
    },
    {
      "cell_type": "code",
      "metadata": {
        "colab": {
          "base_uri": "https://localhost:8080/"
        },
        "id": "iyTgJx85_MUt",
        "outputId": "6ea3ca9a-8788-4f70-b9a5-a1811f0bc8ac"
      },
      "source": [
        "from google.colab import drive\n",
        "drive.mount('/content/drive')"
      ],
      "execution_count": 1,
      "outputs": [
        {
          "output_type": "stream",
          "text": [
            "Mounted at /content/drive\n"
          ],
          "name": "stdout"
        }
      ]
    },
    {
      "cell_type": "code",
      "metadata": {
        "id": "xEXu-mePiK9T"
      },
      "source": [
        "import numpy as np, pandas as pd\n",
        "\n",
        "!pip install talos\n",
        "\n",
        "import re\n",
        "import spacy\n",
        "from spacy.lang.en import English\n",
        "from spacy.lang.en.stop_words import STOP_WORDS\n",
        "from nltk.tokenize import word_tokenize\n",
        "import nltk\n",
        "from nltk.stem import WordNetLemmatizer\n",
        "nltk.download('wordnet')\n",
        "import string\n",
        "from string import ascii_lowercase\n",
        "\n",
        "from tqdm import tqdm_notebook\n",
        "import itertools\n",
        "import io\n",
        "\n",
        "import matplotlib.pyplot as plt\n",
        "%matplotlib inline\n",
        "\n",
        "from functools import reduce\n",
        "from tensorflow import keras\n",
        "from keras.preprocessing.text import Tokenizer\n",
        "from keras.preprocessing.sequence import pad_sequences\n",
        "from keras.layers import Dense, Input, LSTM, Embedding, Dropout, Activation\n",
        "from keras.layers import Bidirectional, GlobalMaxPool1D\n",
        "from keras.models import Model\n",
        "from keras.models import Sequential\n",
        "from keras.layers import Conv1D, MaxPooling1D\n",
        "from keras.layers import BatchNormalization\n",
        "from keras import initializers, regularizers, constraints, optimizers, layers\n",
        "import talos"
      ],
      "execution_count": null,
      "outputs": []
    },
    {
      "cell_type": "markdown",
      "metadata": {
        "id": "z8KPqb7_vC59"
      },
      "source": [
        "# Importing Data"
      ]
    },
    {
      "cell_type": "code",
      "metadata": {
        "id": "96Z6cXAZiaAY"
      },
      "source": [
        "train=pd.read_csv('https://raw.githubusercontent.com/shaunak09vb/Toxic-Comment-Classifier-using-LSTM/main/Data/train.csv')    "
      ],
      "execution_count": 3,
      "outputs": []
    },
    {
      "cell_type": "code",
      "metadata": {
        "colab": {
          "base_uri": "https://localhost:8080/",
          "height": 0
        },
        "id": "yTbZDdkc1lxE",
        "outputId": "ad3c1a19-5260-495e-8887-f0d24a369007"
      },
      "source": [
        "train.head()"
      ],
      "execution_count": 4,
      "outputs": [
        {
          "output_type": "execute_result",
          "data": {
            "text/html": [
              "<div>\n",
              "<style scoped>\n",
              "    .dataframe tbody tr th:only-of-type {\n",
              "        vertical-align: middle;\n",
              "    }\n",
              "\n",
              "    .dataframe tbody tr th {\n",
              "        vertical-align: top;\n",
              "    }\n",
              "\n",
              "    .dataframe thead th {\n",
              "        text-align: right;\n",
              "    }\n",
              "</style>\n",
              "<table border=\"1\" class=\"dataframe\">\n",
              "  <thead>\n",
              "    <tr style=\"text-align: right;\">\n",
              "      <th></th>\n",
              "      <th>id</th>\n",
              "      <th>comment_text</th>\n",
              "      <th>toxic</th>\n",
              "      <th>severe_toxic</th>\n",
              "      <th>obscene</th>\n",
              "      <th>threat</th>\n",
              "      <th>insult</th>\n",
              "      <th>identity_hate</th>\n",
              "    </tr>\n",
              "  </thead>\n",
              "  <tbody>\n",
              "    <tr>\n",
              "      <th>0</th>\n",
              "      <td>0000997932d777bf</td>\n",
              "      <td>Explanation\\nWhy the edits made under my usern...</td>\n",
              "      <td>0</td>\n",
              "      <td>0</td>\n",
              "      <td>0</td>\n",
              "      <td>0</td>\n",
              "      <td>0</td>\n",
              "      <td>0</td>\n",
              "    </tr>\n",
              "    <tr>\n",
              "      <th>1</th>\n",
              "      <td>000103f0d9cfb60f</td>\n",
              "      <td>D'aww! He matches this background colour I'm s...</td>\n",
              "      <td>0</td>\n",
              "      <td>0</td>\n",
              "      <td>0</td>\n",
              "      <td>0</td>\n",
              "      <td>0</td>\n",
              "      <td>0</td>\n",
              "    </tr>\n",
              "    <tr>\n",
              "      <th>2</th>\n",
              "      <td>000113f07ec002fd</td>\n",
              "      <td>Hey man, I'm really not trying to edit war. It...</td>\n",
              "      <td>0</td>\n",
              "      <td>0</td>\n",
              "      <td>0</td>\n",
              "      <td>0</td>\n",
              "      <td>0</td>\n",
              "      <td>0</td>\n",
              "    </tr>\n",
              "    <tr>\n",
              "      <th>3</th>\n",
              "      <td>0001b41b1c6bb37e</td>\n",
              "      <td>\"\\nMore\\nI can't make any real suggestions on ...</td>\n",
              "      <td>0</td>\n",
              "      <td>0</td>\n",
              "      <td>0</td>\n",
              "      <td>0</td>\n",
              "      <td>0</td>\n",
              "      <td>0</td>\n",
              "    </tr>\n",
              "    <tr>\n",
              "      <th>4</th>\n",
              "      <td>0001d958c54c6e35</td>\n",
              "      <td>You, sir, are my hero. Any chance you remember...</td>\n",
              "      <td>0</td>\n",
              "      <td>0</td>\n",
              "      <td>0</td>\n",
              "      <td>0</td>\n",
              "      <td>0</td>\n",
              "      <td>0</td>\n",
              "    </tr>\n",
              "  </tbody>\n",
              "</table>\n",
              "</div>"
            ],
            "text/plain": [
              "                 id  ... identity_hate\n",
              "0  0000997932d777bf  ...             0\n",
              "1  000103f0d9cfb60f  ...             0\n",
              "2  000113f07ec002fd  ...             0\n",
              "3  0001b41b1c6bb37e  ...             0\n",
              "4  0001d958c54c6e35  ...             0\n",
              "\n",
              "[5 rows x 8 columns]"
            ]
          },
          "metadata": {
            "tags": []
          },
          "execution_count": 4
        }
      ]
    },
    {
      "cell_type": "code",
      "metadata": {
        "id": "O2_gDuPMvQHZ"
      },
      "source": [
        "test=pd.read_csv('https://raw.githubusercontent.com/shaunak09vb/Toxic-Comment-Classifier-using-LSTM/main/Data/test.csv')"
      ],
      "execution_count": 5,
      "outputs": []
    },
    {
      "cell_type": "code",
      "metadata": {
        "id": "vewUHsrQvcti",
        "colab": {
          "base_uri": "https://localhost:8080/",
          "height": 0
        },
        "outputId": "d849c746-4899-4fce-a340-7735eba9bda9"
      },
      "source": [
        "test.head()"
      ],
      "execution_count": 6,
      "outputs": [
        {
          "output_type": "execute_result",
          "data": {
            "text/html": [
              "<div>\n",
              "<style scoped>\n",
              "    .dataframe tbody tr th:only-of-type {\n",
              "        vertical-align: middle;\n",
              "    }\n",
              "\n",
              "    .dataframe tbody tr th {\n",
              "        vertical-align: top;\n",
              "    }\n",
              "\n",
              "    .dataframe thead th {\n",
              "        text-align: right;\n",
              "    }\n",
              "</style>\n",
              "<table border=\"1\" class=\"dataframe\">\n",
              "  <thead>\n",
              "    <tr style=\"text-align: right;\">\n",
              "      <th></th>\n",
              "      <th>id</th>\n",
              "      <th>comment_text</th>\n",
              "    </tr>\n",
              "  </thead>\n",
              "  <tbody>\n",
              "    <tr>\n",
              "      <th>0</th>\n",
              "      <td>00001cee341fdb12</td>\n",
              "      <td>Yo bitch Ja Rule is more succesful then you'll...</td>\n",
              "    </tr>\n",
              "    <tr>\n",
              "      <th>1</th>\n",
              "      <td>0000247867823ef7</td>\n",
              "      <td>== From RfC == \\n\\n The title is fine as it is...</td>\n",
              "    </tr>\n",
              "    <tr>\n",
              "      <th>2</th>\n",
              "      <td>00013b17ad220c46</td>\n",
              "      <td>\" \\n\\n == Sources == \\n\\n * Zawe Ashton on Lap...</td>\n",
              "    </tr>\n",
              "    <tr>\n",
              "      <th>3</th>\n",
              "      <td>00017563c3f7919a</td>\n",
              "      <td>:If you have a look back at the source, the in...</td>\n",
              "    </tr>\n",
              "    <tr>\n",
              "      <th>4</th>\n",
              "      <td>00017695ad8997eb</td>\n",
              "      <td>I don't anonymously edit articles at all.</td>\n",
              "    </tr>\n",
              "  </tbody>\n",
              "</table>\n",
              "</div>"
            ],
            "text/plain": [
              "                 id                                       comment_text\n",
              "0  00001cee341fdb12  Yo bitch Ja Rule is more succesful then you'll...\n",
              "1  0000247867823ef7  == From RfC == \\n\\n The title is fine as it is...\n",
              "2  00013b17ad220c46  \" \\n\\n == Sources == \\n\\n * Zawe Ashton on Lap...\n",
              "3  00017563c3f7919a  :If you have a look back at the source, the in...\n",
              "4  00017695ad8997eb          I don't anonymously edit articles at all."
            ]
          },
          "metadata": {
            "tags": []
          },
          "execution_count": 6
        }
      ]
    },
    {
      "cell_type": "markdown",
      "metadata": {
        "id": "D8hAcigh3Sh3"
      },
      "source": [
        "# Data Exploration"
      ]
    },
    {
      "cell_type": "markdown",
      "metadata": {
        "id": "MsOBGKJI4aHT"
      },
      "source": [
        "Checking for missing values"
      ]
    },
    {
      "cell_type": "code",
      "metadata": {
        "colab": {
          "base_uri": "https://localhost:8080/"
        },
        "id": "ZzAnL7ly1epE",
        "outputId": "652ce53c-9ba4-4f60-9026-7631110bbba5"
      },
      "source": [
        "train.isnull().any()"
      ],
      "execution_count": 7,
      "outputs": [
        {
          "output_type": "execute_result",
          "data": {
            "text/plain": [
              "id               False\n",
              "comment_text     False\n",
              "toxic            False\n",
              "severe_toxic     False\n",
              "obscene          False\n",
              "threat           False\n",
              "insult           False\n",
              "identity_hate    False\n",
              "dtype: bool"
            ]
          },
          "metadata": {
            "tags": []
          },
          "execution_count": 7
        }
      ]
    },
    {
      "cell_type": "code",
      "metadata": {
        "id": "cRc5Wyw24c62",
        "colab": {
          "base_uri": "https://localhost:8080/"
        },
        "outputId": "5ceedef5-85cc-43e2-8122-f46bdb899ffa"
      },
      "source": [
        "test.isnull().any()\n"
      ],
      "execution_count": 8,
      "outputs": [
        {
          "output_type": "execute_result",
          "data": {
            "text/plain": [
              "id              False\n",
              "comment_text    False\n",
              "dtype: bool"
            ]
          },
          "metadata": {
            "tags": []
          },
          "execution_count": 8
        }
      ]
    },
    {
      "cell_type": "code",
      "metadata": {
        "id": "TYZ93LlRbwRB"
      },
      "source": [
        "labels = ['toxic', 'severe_toxic', 'obscene', 'threat', 'insult', 'identity_hate']\r\n",
        "y = train[labels].values"
      ],
      "execution_count": 9,
      "outputs": []
    },
    {
      "cell_type": "markdown",
      "metadata": {
        "id": "NDWRHguXxOF_"
      },
      "source": [
        "#Data Pre-processing"
      ]
    },
    {
      "cell_type": "markdown",
      "metadata": {
        "id": "6z-4hq4jyhBw"
      },
      "source": [
        "## Text Normalization"
      ]
    },
    {
      "cell_type": "markdown",
      "metadata": {
        "id": "h4k-vI8DbqiP"
      },
      "source": [
        "* Removing Characters in between Text\n",
        "* Removing Repeated Characters\n",
        "* Converting data to lower-case\n",
        "* Removing Numbers from the data\n",
        "* Remove Punctuation\n",
        "* Remove Whitespaces\n",
        "* Removing spaces in between words\n",
        "* Removing \"\\n\"\n",
        "* Remove Non-english characters"
      ]
    },
    {
      "cell_type": "code",
      "metadata": {
        "id": "jglnA7LEbpoA"
      },
      "source": [
        "RE_PATTERNS = {\n",
        "    ' american ':\n",
        "        [\n",
        "            'amerikan'\n",
        "        ],\n",
        "\n",
        "    ' adolf ':\n",
        "        [\n",
        "            'adolf'\n",
        "        ],\n",
        "\n",
        "\n",
        "    ' hitler ':\n",
        "        [\n",
        "            'hitler'\n",
        "        ],\n",
        "\n",
        "    ' fuck':\n",
        "        [\n",
        "            '(f)(u|[^a-z0-9 ])(c|[^a-z0-9 ])(k|[^a-z0-9 ])([^ ])*',\n",
        "            '(f)([^a-z]*)(u)([^a-z]*)(c)([^a-z]*)(k)',\n",
        "            ' f[!@#\\$%\\^\\&\\*]*u[!@#\\$%\\^&\\*]*k', 'f u u c',\n",
        "            '(f)(c|[^a-z ])(u|[^a-z ])(k)', r'f\\*',\n",
        "            'feck ', ' fux ', 'f\\*\\*', 'f**k','fu*k',\n",
        "            'f\\-ing', 'f\\.u\\.', 'f###', ' fu ', 'f@ck', 'f u c k', 'f uck', 'f ck'\n",
        "        ],\n",
        "\n",
        "    ' ass ':\n",
        "        [\n",
        "            '[^a-z]ass ', '[^a-z]azz ', 'arrse', ' arse ', '@\\$\\$',\n",
        "            '[^a-z]anus', ' a\\*s\\*s', '[^a-z]ass[^a-z ]',\n",
        "            'a[@#\\$%\\^&\\*][@#\\$%\\^&\\*]', '[^a-z]anal ', 'a s s','a55', '@$$'\n",
        "        ],\n",
        "\n",
        "    ' ass hole ':\n",
        "        [\n",
        "            ' a[s|z]*wipe', 'a[s|z]*[w]*h[o|0]+[l]*e', '@\\$\\$hole', 'a**hole'\n",
        "        ],\n",
        "\n",
        "    ' bitch ':\n",
        "        [\n",
        "            'b[w]*i[t]*ch', 'b!tch',\n",
        "            'bi\\+ch', 'b!\\+ch', '(b)([^a-z]*)(i)([^a-z]*)(t)([^a-z]*)(c)([^a-z]*)(h)',\n",
        "            'biatch', 'bi\\*\\*h', 'bytch', 'b i t c h', 'b!tch', 'bi+ch', 'l3itch'\n",
        "        ],\n",
        "\n",
        "    ' bastard ':\n",
        "        [\n",
        "            'ba[s|z]+t[e|a]+rd'\n",
        "        ],\n",
        "\n",
        "    ' trans gender':\n",
        "        [\n",
        "            'transgender'\n",
        "        ],\n",
        "\n",
        "    ' gay ':\n",
        "        [\n",
        "            'gay'\n",
        "        ],\n",
        "\n",
        "    ' cock ':\n",
        "        [\n",
        "            '[^a-z]cock', 'c0ck', '[^a-z]cok ', 'c0k', '[^a-z]cok[^aeiou]', ' cawk',\n",
        "            '(c)([^a-z ])(o)([^a-z ]*)(c)([^a-z ]*)(k)', 'c o c k'\n",
        "        ],\n",
        "\n",
        "    ' dick ':\n",
        "        [\n",
        "            ' dick[^aeiou]', 'deek', 'd i c k', 'dik'\n",
        "        ],\n",
        "\n",
        "    ' suck ':\n",
        "        [\n",
        "            'sucker', '(s)([^a-z ]*)(u)([^a-z ]*)(c)([^a-z ]*)(k)', 'sucks', '5uck', 's u c k'\n",
        "        ],\n",
        "\n",
        "    ' cunt ':\n",
        "        [\n",
        "            'cunt', 'c u n t'\n",
        "        ],\n",
        "\n",
        "    ' bull shit ':\n",
        "        [\n",
        "            'bullsh\\*t', 'bull\\$hit'\n",
        "        ],\n",
        "\n",
        "    ' homo sex ual':\n",
        "        [\n",
        "            'homosexual'\n",
        "        ],\n",
        "\n",
        "    ' jerk ':\n",
        "        [\n",
        "            'jerk'\n",
        "        ],\n",
        "\n",
        "    ' idiot ':\n",
        "        [\n",
        "            'i[d]+io[t]+', '(i)([^a-z ]*)(d)([^a-z ]*)(i)([^a-z ]*)(o)([^a-z ]*)(t)', 'idiots'\n",
        "                                                                                      'i d i o t'\n",
        "        ],\n",
        "\n",
        "    ' dumb ':\n",
        "        [\n",
        "            '(d)([^a-z ]*)(u)([^a-z ]*)(m)([^a-z ]*)(b)'\n",
        "        ],\n",
        "\n",
        "    ' shit ':\n",
        "        [\n",
        "            'shitty', '(s)([^a-z ]*)(h)([^a-z ]*)(i)([^a-z ]*)(t)', 'shite', '\\$hit', 's h i t', '$h1t'\n",
        "        ],\n",
        "\n",
        "    ' shit hole ':\n",
        "        [\n",
        "            'shythole'\n",
        "        ],\n",
        "\n",
        "    ' retard ':\n",
        "        [\n",
        "            'returd', 'retad', 'retard', 'wiktard', 'wikitud'\n",
        "        ],\n",
        "\n",
        "    ' rape ':\n",
        "        [\n",
        "            ' raped'\n",
        "        ],\n",
        "\n",
        "    ' dumb ass':\n",
        "        [\n",
        "            'dumbass', 'dubass'\n",
        "        ],\n",
        "\n",
        "    ' ass head':\n",
        "        [\n",
        "            'butthead'\n",
        "        ],\n",
        "\n",
        "    ' sex ':\n",
        "        [\n",
        "            'sexy', 's3x', 'sexuality'\n",
        "        ],\n",
        "\n",
        "\n",
        "    ' nigger ':\n",
        "        [\n",
        "            'nigger', 'ni[g]+a', ' nigr ', 'negrito', 'niguh', 'n3gr', 'n i g g e r'\n",
        "        ],\n",
        "\n",
        "    ' shut the fuck up':\n",
        "        [\n",
        "            'stfu', 'st*u'\n",
        "        ],\n",
        "\n",
        "    ' pussy ':\n",
        "        [\n",
        "            'pussy[^c]', 'pusy', 'pussi[^l]', 'pusses', 'p*ssy'\n",
        "        ],\n",
        "\n",
        "    ' faggot ':\n",
        "        [\n",
        "            'faggot', ' fa[g]+[s]*[^a-z ]', 'fagot', 'f a g g o t', 'faggit',\n",
        "            '(f)([^a-z ]*)(a)([^a-z ]*)([g]+)([^a-z ]*)(o)([^a-z ]*)(t)', 'fau[g]+ot', 'fae[g]+ot',\n",
        "        ],\n",
        "\n",
        "    ' mother fucker':\n",
        "        [\n",
        "            ' motha ', ' motha f', ' mother f', 'motherucker',\n",
        "        ],\n",
        "\n",
        "    ' whore ':\n",
        "        [\n",
        "            'wh\\*\\*\\*', 'w h o r e'\n",
        "        ],\n",
        "    ' fucking ':\n",
        "        [\n",
        "            'f*$%-ing'\n",
        "        ],\n",
        "}\n"
      ],
      "execution_count": 10,
      "outputs": []
    },
    {
      "cell_type": "code",
      "metadata": {
        "id": "4RetJ1vgswOG"
      },
      "source": [
        "def clean_text(text,remove_repeat_text=True, remove_patterns_text=True, is_lower=True, remove_abbreviations=True):\n",
        "\n",
        "  if is_lower:\n",
        "    text=text.lower()\n",
        "    \n",
        "  if remove_patterns_text:\n",
        "    for target, patterns in RE_PATTERNS.items():\n",
        "      for pat in patterns:\n",
        "        text=str(text).replace(pat, target)\n",
        "\n",
        "  if remove_repeat_text:\n",
        "    text = re.sub(r'(.)\\1{2,}', r'\\1', text) \n",
        "\n",
        "  text = str(text).replace(\"\\n\", \" \")\n",
        "  text = re.sub(r'[^\\w\\s]',' ',text)\n",
        "  text = re.sub('[0-9]',\"\",text)\n",
        "  text = re.sub(\" +\", \" \", text)\n",
        "  text = re.sub(\"([^\\x00-\\x7F])+\",\" \",text)\n",
        "  return text "
      ],
      "execution_count": 11,
      "outputs": []
    },
    {
      "cell_type": "markdown",
      "metadata": {
        "id": "LwyO_GcPuPE_"
      },
      "source": [
        "Cleaning Training Data"
      ]
    },
    {
      "cell_type": "code",
      "metadata": {
        "id": "Cak-Q0fl0qyb",
        "colab": {
          "base_uri": "https://localhost:8080/",
          "height": 0
        },
        "outputId": "cd911509-bf8f-41c2-d216-00c3d48353d0"
      },
      "source": [
        "train['comment_text']=train['comment_text'].apply(lambda x: clean_text(x))\r\n",
        "train['comment_text'][1]"
      ],
      "execution_count": 12,
      "outputs": [
        {
          "output_type": "execute_result",
          "data": {
            "application/vnd.google.colaboratory.intrinsic+json": {
              "type": "string"
            },
            "text/plain": [
              "'d aww he matches this background colour i m seemingly stuck with thanks talk january utc '"
            ]
          },
          "metadata": {
            "tags": []
          },
          "execution_count": 12
        }
      ]
    },
    {
      "cell_type": "markdown",
      "metadata": {
        "id": "8qfbjYXq8huL"
      },
      "source": [
        "Cleaning Test Data"
      ]
    },
    {
      "cell_type": "code",
      "metadata": {
        "id": "V02zaxGN8g-s",
        "colab": {
          "base_uri": "https://localhost:8080/",
          "height": 0
        },
        "outputId": "e1de6942-e6b7-4a8e-f65e-6dc1d655297f"
      },
      "source": [
        "test['comment_text']=test['comment_text'].apply(lambda x: clean_text(x))\r\n",
        "test['comment_text'][1048]"
      ],
      "execution_count": 13,
      "outputs": [
        {
          "output_type": "execute_result",
          "data": {
            "application/vnd.google.colaboratory.intrinsic+json": {
              "type": "string"
            },
            "text/plain": [
              "'this is a university ip address just fyi '"
            ]
          },
          "metadata": {
            "tags": []
          },
          "execution_count": 13
        }
      ]
    },
    {
      "cell_type": "markdown",
      "metadata": {
        "id": "mqRVmH1FRWpL"
      },
      "source": [
        "## Lemmatization"
      ]
    },
    {
      "cell_type": "code",
      "metadata": {
        "id": "vnhCAXkKUF9i"
      },
      "source": [
        "comments_train=train['comment_text']\n",
        "comments_test=test['comment_text']"
      ],
      "execution_count": 14,
      "outputs": []
    },
    {
      "cell_type": "code",
      "metadata": {
        "id": "WwhTNF3pW7Hp"
      },
      "source": [
        "comments_train=list(comments_train)\n",
        "comments_test=list(comments_test)"
      ],
      "execution_count": 15,
      "outputs": []
    },
    {
      "cell_type": "code",
      "metadata": {
        "id": "IuWMc1xqRVqV"
      },
      "source": [
        "wordnet_lemmatizer = WordNetLemmatizer()"
      ],
      "execution_count": 16,
      "outputs": []
    },
    {
      "cell_type": "code",
      "metadata": {
        "id": "fi-vYUcPoi-a"
      },
      "source": [
        "def lemma(text, lemmatization=True):\n",
        "  output=\"\"\n",
        "  if lemmatization:\n",
        "    text=text.split(\" \")\n",
        "    for word in text:\n",
        "       word1 = wordnet_lemmatizer.lemmatize(word, pos = \"n\")\n",
        "       word2 = wordnet_lemmatizer.lemmatize(word1, pos = \"v\")\n",
        "       word3 = wordnet_lemmatizer.lemmatize(word2, pos = \"a\")\n",
        "       word4 = wordnet_lemmatizer.lemmatize(word3, pos = \"r\")\n",
        "       output=output + \" \" + word4\n",
        "  else:\n",
        "    output=text\n",
        "  \n",
        "  return str(output.strip()) "
      ],
      "execution_count": 17,
      "outputs": []
    },
    {
      "cell_type": "markdown",
      "metadata": {
        "id": "AX4DTjGJ-8Id"
      },
      "source": [
        "Lemmatizing Training Data"
      ]
    },
    {
      "cell_type": "code",
      "metadata": {
        "colab": {
          "base_uri": "https://localhost:8080/",
          "height": 0,
          "referenced_widgets": [
            "7a33f572fd6741d8aa95ecd8c74fa7bd",
            "f9ac2b1cb7b64f578eebc56c1b7b464c",
            "a656227ba49a4ae7a8a5d5dd66d41adc",
            "9f4eddace6ec45b694f0ab8f4a4fcadf",
            "fa092f464ba447b8bf4a4dd7da29a18d",
            "a5a6dae561a44f9cbdabaa25383638ce",
            "adb477c775a7462588ddc70348a369b9",
            "435f171709a449c99c08c60a5124dea4"
          ]
        },
        "id": "JRquFt30qWk0",
        "outputId": "f802f487-2234-4219-cae4-8d710a25eb40"
      },
      "source": [
        "lemmatized_train_data = [] \n",
        "\n",
        "for line in tqdm_notebook(comments_train, total=159571): \n",
        "    lemmatized_train_data.append(lemma(line))"
      ],
      "execution_count": 18,
      "outputs": [
        {
          "output_type": "display_data",
          "data": {
            "application/vnd.jupyter.widget-view+json": {
              "model_id": "7a33f572fd6741d8aa95ecd8c74fa7bd",
              "version_minor": 0,
              "version_major": 2
            },
            "text/plain": [
              "HBox(children=(FloatProgress(value=0.0, max=159571.0), HTML(value='')))"
            ]
          },
          "metadata": {
            "tags": []
          }
        },
        {
          "output_type": "stream",
          "text": [
            "\n"
          ],
          "name": "stdout"
        }
      ]
    },
    {
      "cell_type": "code",
      "metadata": {
        "colab": {
          "base_uri": "https://localhost:8080/",
          "height": 0
        },
        "id": "WK9azHjSrbic",
        "outputId": "eff67d7a-10fb-4582-b4f8-593e72a6d5da"
      },
      "source": [
        "lemmatized_train_data[152458]"
      ],
      "execution_count": 19,
      "outputs": [
        {
          "output_type": "execute_result",
          "data": {
            "application/vnd.google.colaboratory.intrinsic+json": {
              "type": "string"
            },
            "text/plain": [
              "'i agree with you about graemel s intention he be a revert nazi and wikipedia ha a way of protect against this report him to the wp rr three revert rule notice board post by report the revert nazi graemel ha show himself herself to be a revert nazi this be unacceptable on a site that be make by it s user and not it s admins if you feel you have be unjustly revert more than time over a hour period please report him her to the three revert noticeboard wp rr it be time to take back what be ours'"
            ]
          },
          "metadata": {
            "tags": []
          },
          "execution_count": 19
        }
      ]
    },
    {
      "cell_type": "markdown",
      "metadata": {
        "id": "yxRJbMBQ-oQ-"
      },
      "source": [
        "Lemmatizing Test Data"
      ]
    },
    {
      "cell_type": "code",
      "metadata": {
        "id": "B4LZUmqy-vvD",
        "colab": {
          "base_uri": "https://localhost:8080/",
          "height": 0,
          "referenced_widgets": [
            "abd3b38f2cf8485ca8397af3d82b250c",
            "d70d5f0f608445e59c23563c6e8f6414",
            "33429035bb7c4faa837de363386d1c56",
            "bd9bdc011996473d94d846ad7afedd67",
            "f773700464cc44c7a4e116a93e6f0703",
            "9af0e4f9e5d84f1ca41fe3749321b283",
            "c8b3c74eabb04732a9960be37530b2ec",
            "54b5bb0d898a43d1ab2f21c20040453e"
          ]
        },
        "outputId": "490abf2a-46e3-4f9f-c82b-2071bcf8cffd"
      },
      "source": [
        "lemmatized_test_data = [] \n",
        "\n",
        "for line in tqdm_notebook(comments_test, total=len(comments_test)): \n",
        "    lemmatized_test_data.append(lemma(line))"
      ],
      "execution_count": 20,
      "outputs": [
        {
          "output_type": "display_data",
          "data": {
            "application/vnd.jupyter.widget-view+json": {
              "model_id": "abd3b38f2cf8485ca8397af3d82b250c",
              "version_minor": 0,
              "version_major": 2
            },
            "text/plain": [
              "HBox(children=(FloatProgress(value=0.0, max=153164.0), HTML(value='')))"
            ]
          },
          "metadata": {
            "tags": []
          }
        },
        {
          "output_type": "stream",
          "text": [
            "\n"
          ],
          "name": "stdout"
        }
      ]
    },
    {
      "cell_type": "markdown",
      "metadata": {
        "id": "yZaP8BH2UG0N"
      },
      "source": [
        "## Stopwords Removal"
      ]
    },
    {
      "cell_type": "code",
      "metadata": {
        "id": "vNKjE4Vq8kpG"
      },
      "source": [
        "stopword_list=STOP_WORDS\n",
        "#stopword_list"
      ],
      "execution_count": 21,
      "outputs": []
    },
    {
      "cell_type": "markdown",
      "metadata": {
        "id": "m_oqV08mMWmk"
      },
      "source": [
        "Adding Single and Dual to STOP_WORDS"
      ]
    },
    {
      "cell_type": "code",
      "metadata": {
        "id": "go7RVS52I1US"
      },
      "source": [
        "def iter_all_strings():\n",
        "    for size in itertools.count(1):\n",
        "        for s in itertools.product(ascii_lowercase, repeat=size):\n",
        "            yield \"\".join(s)\n",
        "\n",
        "dual_alpha_list=[]\n",
        "for s in iter_all_strings():\n",
        "    dual_alpha_list.append(s)\n",
        "    if s == 'zz':\n",
        "        break"
      ],
      "execution_count": 22,
      "outputs": []
    },
    {
      "cell_type": "code",
      "metadata": {
        "id": "7_x3bQ4MIGVK"
      },
      "source": [
        "dual_alpha_list.remove('i')\n",
        "dual_alpha_list.remove('a')\n",
        "dual_alpha_list.remove('am')\n",
        "dual_alpha_list.remove('an')\n",
        "dual_alpha_list.remove('as')\n",
        "dual_alpha_list.remove('at')\n",
        "dual_alpha_list.remove('be')\n",
        "dual_alpha_list.remove('by')\n",
        "dual_alpha_list.remove('do')\n",
        "dual_alpha_list.remove('go')\n",
        "dual_alpha_list.remove('he')\n",
        "dual_alpha_list.remove('hi')\n",
        "dual_alpha_list.remove('if')\n",
        "dual_alpha_list.remove('is')\n",
        "dual_alpha_list.remove('in')\n",
        "dual_alpha_list.remove('me')\n",
        "dual_alpha_list.remove('my')\n",
        "dual_alpha_list.remove('no')\n",
        "dual_alpha_list.remove('of')\n",
        "dual_alpha_list.remove('on')\n",
        "dual_alpha_list.remove('or')\n",
        "dual_alpha_list.remove('ok')\n",
        "dual_alpha_list.remove('so')\n",
        "dual_alpha_list.remove('to')\n",
        "dual_alpha_list.remove('up')\n",
        "dual_alpha_list.remove('us')\n",
        "dual_alpha_list.remove('we')"
      ],
      "execution_count": 23,
      "outputs": []
    },
    {
      "cell_type": "code",
      "metadata": {
        "id": "of4MsE5VJXHn"
      },
      "source": [
        "#dual_alpha_list"
      ],
      "execution_count": 24,
      "outputs": []
    },
    {
      "cell_type": "code",
      "metadata": {
        "colab": {
          "base_uri": "https://localhost:8080/"
        },
        "id": "H11kkMtXMyct",
        "outputId": "c4074f2c-4b42-4834-bb6d-432111e098ea"
      },
      "source": [
        "for letter in dual_alpha_list:\n",
        "    stopword_list.add(letter)\n",
        "print(\"Done!!\")"
      ],
      "execution_count": 25,
      "outputs": [
        {
          "output_type": "stream",
          "text": [
            "Done!!\n"
          ],
          "name": "stdout"
        }
      ]
    },
    {
      "cell_type": "code",
      "metadata": {
        "id": "bvjwDFMmNNmo"
      },
      "source": [
        "#stopword_list"
      ],
      "execution_count": 26,
      "outputs": []
    },
    {
      "cell_type": "markdown",
      "metadata": {
        "id": "Ti67XuLCNnsL"
      },
      "source": [
        "Checking for other words that we may need in STOP_WORDS"
      ]
    },
    {
      "cell_type": "code",
      "metadata": {
        "id": "Z4lBqjcBaDVK"
      },
      "source": [
        "def search_stopwords(data, search_stop=True):\n",
        "  output=\"\"\n",
        "  if search_stop:\n",
        "    data=data.split(\" \")\n",
        "    for word in data:\n",
        "      if not word in stopword_list:\n",
        "        output=output+\" \"+word \n",
        "  else:\n",
        "    output=data\n",
        "\n",
        "  return str(output.strip())  "
      ],
      "execution_count": 27,
      "outputs": []
    },
    {
      "cell_type": "code",
      "metadata": {
        "colab": {
          "base_uri": "https://localhost:8080/",
          "height": 0,
          "referenced_widgets": [
            "04bdb9967a1e4f50a45cbfda8b4f300b",
            "e1a5f379338d4db2979a0d689d38e03c",
            "49c1d60ffb964513b8339c8e85c0979d",
            "fbb5861d79e44ab1baed2e9a1b5c43df",
            "7f52e02f8dff487c97e7369feb078b8e",
            "3d929f984efa4079be8b122139ed0111",
            "7e6d3e51d7554606a170ddec473665cf",
            "219bae951ab6497da01fd2b3fc90f6a3"
          ]
        },
        "id": "xn21RMeIbQti",
        "outputId": "bd4e6477-722a-44ad-ffdb-1752430f7b67"
      },
      "source": [
        "potential_stopwords = [] \n",
        "\n",
        "for line in tqdm_notebook(lemmatized_train_data, total=159571): \n",
        "    potential_stopwords.append(search_stopwords(line))"
      ],
      "execution_count": 28,
      "outputs": [
        {
          "output_type": "display_data",
          "data": {
            "application/vnd.jupyter.widget-view+json": {
              "model_id": "04bdb9967a1e4f50a45cbfda8b4f300b",
              "version_minor": 0,
              "version_major": 2
            },
            "text/plain": [
              "HBox(children=(FloatProgress(value=0.0, max=159571.0), HTML(value='')))"
            ]
          },
          "metadata": {
            "tags": []
          }
        },
        {
          "output_type": "stream",
          "text": [
            "\n"
          ],
          "name": "stdout"
        }
      ]
    },
    {
      "cell_type": "code",
      "metadata": {
        "colab": {
          "base_uri": "https://localhost:8080/"
        },
        "id": "R4Yp_YRoap6Q",
        "outputId": "aefe192e-fe79-463c-ad14-ee14009a49cd"
      },
      "source": [
        "len(potential_stopwords)"
      ],
      "execution_count": 29,
      "outputs": [
        {
          "output_type": "execute_result",
          "data": {
            "text/plain": [
              "159571"
            ]
          },
          "metadata": {
            "tags": []
          },
          "execution_count": 29
        }
      ]
    },
    {
      "cell_type": "markdown",
      "metadata": {
        "id": "PFSkmGjAZuR3"
      },
      "source": [
        "Combining all the sentences in the list into a single string"
      ]
    },
    {
      "cell_type": "code",
      "metadata": {
        "id": "zpmze-Q7BrK0"
      },
      "source": [
        "def string_combine_a(stopword):\n",
        "  final_a=\"\"\n",
        "  for item in range(39893):\n",
        "    final_a=final_a+\" \"+stopword[item]\n",
        "  return final_a\n",
        "\n",
        "def string_combine_b(stopword):\n",
        "  final_b=\"\"\n",
        "  for item in range(39893,79785):\n",
        "    final_b=final_b+\" \"+stopword[item]\n",
        "  return final_b\n",
        "\n",
        "def string_combine_c(stopword):\n",
        "  final_c=\"\"\n",
        "  for item in range(79785,119678):\n",
        "    final_c=final_c+\" \"+stopword[item]\n",
        "  return final_c\n",
        "\n",
        "def string_combine_d(stopword):\n",
        "  final_d=\"\"\n",
        "  for item in range(119678,159571):\n",
        "    final_d=final_d+\" \"+stopword[item]\n",
        "  return final_d"
      ],
      "execution_count": 30,
      "outputs": []
    },
    {
      "cell_type": "code",
      "metadata": {
        "id": "UqBc4rOahmAz"
      },
      "source": [
        "total_string_potential_a=string_combine_a(potential_stopwords)\n",
        "total_string_potential_b=string_combine_b(potential_stopwords)\n",
        "total_string_potential_c=string_combine_c(potential_stopwords)\n",
        "total_string_potential_d=string_combine_d(potential_stopwords)"
      ],
      "execution_count": 31,
      "outputs": []
    },
    {
      "cell_type": "code",
      "metadata": {
        "id": "VrrmDPjin1gM"
      },
      "source": [
        "#total_string_potential_a"
      ],
      "execution_count": 32,
      "outputs": []
    },
    {
      "cell_type": "markdown",
      "metadata": {
        "id": "hbEm3D8txMSH"
      },
      "source": [
        "Counting the number of words in each of the 4 strings"
      ]
    },
    {
      "cell_type": "code",
      "metadata": {
        "id": "O_hhbMS_xR6t"
      },
      "source": [
        "def word_count(str):\n",
        "    counts = dict()\n",
        "    words = str.split()\n",
        "\n",
        "    for word in words:\n",
        "        if word in counts:\n",
        "            counts[word] += 1\n",
        "        else:\n",
        "            counts[word] = 1\n",
        "\n",
        "    return counts"
      ],
      "execution_count": 33,
      "outputs": []
    },
    {
      "cell_type": "code",
      "metadata": {
        "id": "bsh0BuT9xSDg"
      },
      "source": [
        "#print(word_count(total_string_potential_a))\n",
        "total_string_potential_a_dict=word_count(total_string_potential_a)\n",
        "#print(word_count(total_string_potential_b))\n",
        "total_string_potential_b_dict=word_count(total_string_potential_b)\n",
        "#print(word_count(total_string_potential_c))\n",
        "total_string_potential_c_dict=word_count(total_string_potential_c)\n",
        "#print(word_count(total_string_potential_d))\n",
        "total_string_potential_d_dict=word_count(total_string_potential_d)"
      ],
      "execution_count": 34,
      "outputs": []
    },
    {
      "cell_type": "markdown",
      "metadata": {
        "id": "shmHkLSk3Xxp"
      },
      "source": [
        "Converting Dictionaries to Dataframe"
      ]
    },
    {
      "cell_type": "code",
      "metadata": {
        "id": "pSJXHnv6y9T0"
      },
      "source": [
        "total_string_potential_a_df = pd.DataFrame(list(total_string_potential_a_dict.items()),columns = ['Word','Count'])\n",
        "#total_string_potential_a_df\n",
        "total_string_potential_b_df = pd.DataFrame(list(total_string_potential_b_dict.items()),columns = ['Word','Count'])\n",
        "#total_string_potential_b_df\n",
        "total_string_potential_c_df = pd.DataFrame(list(total_string_potential_c_dict.items()),columns = ['Word','Count'])\n",
        "#total_string_potential_c_df\n",
        "total_string_potential_d_df = pd.DataFrame(list(total_string_potential_d_dict.items()),columns = ['Word','Count'])\n",
        "#total_string_potential_d_df"
      ],
      "execution_count": 35,
      "outputs": []
    },
    {
      "cell_type": "markdown",
      "metadata": {
        "id": "WjWO0vj2yaW7"
      },
      "source": [
        "Getting Dataframe output in descending order"
      ]
    },
    {
      "cell_type": "code",
      "metadata": {
        "id": "bzThNOjA2pjx"
      },
      "source": [
        "top50_potential_stopwords_a=total_string_potential_a_df.sort_values(by=['Count'],ascending=False).head(50)\n",
        "top50_potential_stopwords_b=total_string_potential_b_df.sort_values(by=['Count'],ascending=False).head(50)\n",
        "top50_potential_stopwords_c=total_string_potential_c_df.sort_values(by=['Count'],ascending=False).head(50)\n",
        "top50_potential_stopwords_d=total_string_potential_d_df.sort_values(by=['Count'],ascending=False).head(50)"
      ],
      "execution_count": 36,
      "outputs": []
    },
    {
      "cell_type": "markdown",
      "metadata": {
        "id": "H1d8reN9CaZ8"
      },
      "source": [
        "Looking for common terms in all top 50 dataframes"
      ]
    },
    {
      "cell_type": "code",
      "metadata": {
        "id": "AKUuEbHvCiYG"
      },
      "source": [
        "common_potential_stopwords=list(reduce(set.intersection,map(set,[top50_potential_stopwords_a.Word,top50_potential_stopwords_b.Word,top50_potential_stopwords_c.Word,top50_potential_stopwords_d.Word])))"
      ],
      "execution_count": 37,
      "outputs": []
    },
    {
      "cell_type": "code",
      "metadata": {
        "colab": {
          "base_uri": "https://localhost:8080/"
        },
        "id": "FkQme4SIEGBa",
        "outputId": "c596485d-66c3-4430-f046-1fe0c31dd954"
      },
      "source": [
        "print(common_potential_stopwords)"
      ],
      "execution_count": 38,
      "outputs": [
        {
          "output_type": "stream",
          "text": [
            "['page', 'fuck', 'way', 'add', 'new', 'wikipedia', 'mean', 'change', 'want', 'block', 'thank', 'good', 'know', 'write', 'reference', 'user', 'point', 'fact', 'image', 'don', 'comment', 'use', 'time', 'try', 'read', 'link', 'help', 'find', 'talk', 'delete', 'doe', 'remove', 'edit', 'editor', 'people', 'question', 'article', 'section', 'look', 'like', 'list', 'deletion', 'information', 'need', 'source', 'thing', 'work', 'think']\n"
          ],
          "name": "stdout"
        }
      ]
    },
    {
      "cell_type": "markdown",
      "metadata": {
        "id": "hX3lIQj0l36i"
      },
      "source": [
        "Retaining certain words and removing others form the above list"
      ]
    },
    {
      "cell_type": "code",
      "metadata": {
        "id": "zacbW5ASjN2r"
      },
      "source": [
        "potential_stopwords=['editor', 'reference', 'thank', 'work','find', 'good', 'know', 'like', 'look', 'thing', 'want', 'time', 'list', 'section','wikipedia', 'doe', 'add','new', 'try', 'think', 'write','use', 'user', 'way', 'page']"
      ],
      "execution_count": 39,
      "outputs": []
    },
    {
      "cell_type": "code",
      "metadata": {
        "id": "AxMLifFZl3Bj"
      },
      "source": [
        "#potential_stopwords=['day','ask', 'consider', 'http', 'word', 'mean', 'try', 'let', 'feel', 'come', 'list', 'far', 'doe','thing','utc','note','mention' ]"
      ],
      "execution_count": 40,
      "outputs": []
    },
    {
      "cell_type": "markdown",
      "metadata": {
        "id": "7-yjjvj3LpZs"
      },
      "source": [
        "Adding above retrived words into the stopwords list"
      ]
    },
    {
      "cell_type": "code",
      "metadata": {
        "colab": {
          "base_uri": "https://localhost:8080/"
        },
        "id": "73PbxjxbLvz9",
        "outputId": "ecf3f359-d93c-49a6-b4a6-9c781229a20c"
      },
      "source": [
        "for word in potential_stopwords:\n",
        "    stopword_list.add(word)\n",
        "print(\"Done!!\")"
      ],
      "execution_count": 41,
      "outputs": [
        {
          "output_type": "stream",
          "text": [
            "Done!!\n"
          ],
          "name": "stdout"
        }
      ]
    },
    {
      "cell_type": "markdown",
      "metadata": {
        "id": "101v0iZjaNLR"
      },
      "source": [
        "Removing Stopwords from Training Data"
      ]
    },
    {
      "cell_type": "code",
      "metadata": {
        "id": "RRSga8PKsktA"
      },
      "source": [
        "def remove_stopwords(text, remove_stop=True):\n",
        "  output = \"\"\n",
        "  if remove_stop:\n",
        "    text=text.split(\" \")\n",
        "    for word in text:\n",
        "      if word not in stopword_list:\n",
        "        output=output + \" \" + word\n",
        "  else :\n",
        "    output=text\n",
        "\n",
        "  return str(output.strip())      "
      ],
      "execution_count": 42,
      "outputs": []
    },
    {
      "cell_type": "code",
      "metadata": {
        "colab": {
          "base_uri": "https://localhost:8080/",
          "height": 0,
          "referenced_widgets": [
            "696ea5a3e2764fbcb5113241380532bb",
            "cfafbe5702c5478ea9af1740c29a9c66",
            "ea2b5b0a7487421fa603000fb616d026",
            "628bf421d10a4fcaa56c3c2379cc81e8",
            "b05000af38954aae9d971514337c5088",
            "4ae237faa0c34c85ac078011db958d44",
            "5fb25ee71b2f4c79953f721e2c0073e3",
            "29a07465a8e2468cb8578c13c839de63"
          ]
        },
        "id": "Q-hItiV7skoV",
        "outputId": "ff5abe5c-2263-4384-dbe6-00c0ca588f40"
      },
      "source": [
        "processed_train_data = [] \n",
        "\n",
        "for line in tqdm_notebook(lemmatized_train_data, total=159571): \n",
        "    processed_train_data.append(remove_stopwords(line))"
      ],
      "execution_count": 43,
      "outputs": [
        {
          "output_type": "display_data",
          "data": {
            "application/vnd.jupyter.widget-view+json": {
              "model_id": "696ea5a3e2764fbcb5113241380532bb",
              "version_minor": 0,
              "version_major": 2
            },
            "text/plain": [
              "HBox(children=(FloatProgress(value=0.0, max=159571.0), HTML(value='')))"
            ]
          },
          "metadata": {
            "tags": []
          }
        },
        {
          "output_type": "stream",
          "text": [
            "\n"
          ],
          "name": "stdout"
        }
      ]
    },
    {
      "cell_type": "code",
      "metadata": {
        "id": "a29qOSPA-rbS",
        "colab": {
          "base_uri": "https://localhost:8080/",
          "height": 0
        },
        "outputId": "69013d37-f466-43f8-af23-5259cc1a9f68"
      },
      "source": [
        "processed_train_data[152458]"
      ],
      "execution_count": 44,
      "outputs": [
        {
          "output_type": "execute_result",
          "data": {
            "application/vnd.google.colaboratory.intrinsic+json": {
              "type": "string"
            },
            "text/plain": [
              "'agree graemel intention revert nazi protect report revert rule notice board post report revert nazi graemel revert nazi unacceptable site admins feel unjustly revert hour period report revert noticeboard'"
            ]
          },
          "metadata": {
            "tags": []
          },
          "execution_count": 44
        }
      ]
    },
    {
      "cell_type": "markdown",
      "metadata": {
        "id": "iqXHFaSC-Bkf"
      },
      "source": [
        "Removing Stopwords from Test Data"
      ]
    },
    {
      "cell_type": "code",
      "metadata": {
        "id": "EQ_lUOej-H_b",
        "colab": {
          "base_uri": "https://localhost:8080/",
          "height": 0,
          "referenced_widgets": [
            "0dacdf708de34177908a9425d962acb5",
            "f366168328fd4565ba3127b30f14a6cf",
            "3fd51184cf7c4c4f8c708cac59951dfc",
            "cb6e963dfa0a4fa9b6929f2fbc665b61",
            "1eaad15735374f7f8b2024cab173c212",
            "12337f965426433fb8ea54b8164a55c8",
            "c6e34ee792504b2ebfd5e16cb8130a6c",
            "5daa47adeb2247858b5357138542184f"
          ]
        },
        "outputId": "e3869775-0f39-4514-ad7a-87313b8929de"
      },
      "source": [
        "processed_test_data = [] \n",
        "\n",
        "for line in tqdm_notebook(lemmatized_test_data, total=153164): \n",
        "    processed_test_data.append(remove_stopwords(line))"
      ],
      "execution_count": 45,
      "outputs": [
        {
          "output_type": "display_data",
          "data": {
            "application/vnd.jupyter.widget-view+json": {
              "model_id": "0dacdf708de34177908a9425d962acb5",
              "version_minor": 0,
              "version_major": 2
            },
            "text/plain": [
              "HBox(children=(FloatProgress(value=0.0, max=153164.0), HTML(value='')))"
            ]
          },
          "metadata": {
            "tags": []
          }
        },
        {
          "output_type": "stream",
          "text": [
            "\n"
          ],
          "name": "stdout"
        }
      ]
    },
    {
      "cell_type": "markdown",
      "metadata": {
        "id": "CeScalvZDEdD"
      },
      "source": [
        "# Model Building"
      ]
    },
    {
      "cell_type": "code",
      "metadata": {
        "id": "SkK1P-CdX_0N"
      },
      "source": [
        "max_features=100000      \r\n",
        "maxpadlen = 200          \r\n",
        "val_split = 0.2   \r\n",
        "embedding_dim = 200      \r\n",
        "embedding_dim_fasttext = 300  #for fast text"
      ],
      "execution_count": 46,
      "outputs": []
    },
    {
      "cell_type": "markdown",
      "metadata": {
        "id": "GIeovLIr6aAo"
      },
      "source": [
        "Tokenization"
      ]
    },
    {
      "cell_type": "code",
      "metadata": {
        "id": "qaA52PlK4xnV"
      },
      "source": [
        "tokenizer = Tokenizer(num_words=max_features)\n",
        "tokenizer.fit_on_texts(list(processed_train_data))\n",
        "list_tokenized_train = tokenizer.texts_to_sequences(processed_train_data)\n",
        "list_tokenized_test = tokenizer.texts_to_sequences(processed_test_data)"
      ],
      "execution_count": 47,
      "outputs": []
    },
    {
      "cell_type": "code",
      "metadata": {
        "colab": {
          "base_uri": "https://localhost:8080/"
        },
        "id": "pkSXj5sT7jbR",
        "outputId": "d2d323e5-719c-4802-ab9b-1e814a27cdf3"
      },
      "source": [
        "word_index=tokenizer.word_index\n",
        "print(\"Words in Vocabulary: \",len(word_index))"
      ],
      "execution_count": 48,
      "outputs": [
        {
          "output_type": "stream",
          "text": [
            "Words in Vocabulary:  148917\n"
          ],
          "name": "stdout"
        }
      ]
    },
    {
      "cell_type": "markdown",
      "metadata": {
        "id": "TfDwmzPj8TJf"
      },
      "source": [
        "Padding"
      ]
    },
    {
      "cell_type": "code",
      "metadata": {
        "id": "gEmacO337twa"
      },
      "source": [
        "X_t=pad_sequences(list_tokenized_train, maxlen=maxpadlen, padding = 'post')\n",
        "X_te=pad_sequences(list_tokenized_test, maxlen=maxpadlen, padding = 'post')"
      ],
      "execution_count": 49,
      "outputs": []
    },
    {
      "cell_type": "code",
      "metadata": {
        "colab": {
          "base_uri": "https://localhost:8080/"
        },
        "id": "U6dAeWAnM4RL",
        "outputId": "e1062e6b-5467-400b-aa3f-0eb069f97ab0"
      },
      "source": [
        "print('Tokenized sentences: \\n', X_t[10])\r\n",
        "print('One hot label: \\n', y[10])"
      ],
      "execution_count": 50,
      "outputs": [
        {
          "output_type": "stream",
          "text": [
            "Tokenized sentences: \n",
            " [  116   578    11 32199   239   192    11 32199   239    90    11   579\n",
            "    11   116   366   578     1  1082   116   338  5356   116   119    11\n",
            "   387   269   366   578    11     1  1341   116    11   387     2    32\n",
            "   116   578   192   116   172    46    84   579   116   578    11     2\n",
            "   488   105    10  1087   403  1073    11  2401   489    36   116    11\n",
            "   192   407   366     9   255   192   242   150   109    18    19    29\n",
            "   172    77    19     3   257  4540     4    11 32199   239   192    11\n",
            " 32199   239    90   171   387   312    68   579    34    44    77   423\n",
            "  1550    34   171     8   579  1268    77  1638   134    10   134  4671\n",
            "   134    94    44   565  1255    17    77  1338   118   134  1577    77\n",
            "  1134     4   507    77   434    31   171    68    34   168  2207   449\n",
            "    31   315  1529    70   172   236   150   116    31    31    11    77\n",
            "    31   116    11    77    31    77    31   192   171    46    84   579\n",
            "     4    31   171   192    80    10   862  3126    11     9   255    31\n",
            "   242   150   109    18    11    77   124    67   434   116    11     9\n",
            "   357    19    29   172    77    19     3   257     0     0     0     0\n",
            "     0     0     0     0     0     0     0     0]\n",
            "One hot label: \n",
            " [0 0 0 0 0 0]\n"
          ],
          "name": "stdout"
        }
      ]
    },
    {
      "cell_type": "code",
      "metadata": {
        "id": "XtZD1j9BCrsG"
      },
      "source": [
        "indices = np.arange(X_t.shape[0])\r\n",
        "np.random.shuffle(indices)"
      ],
      "execution_count": 51,
      "outputs": []
    },
    {
      "cell_type": "code",
      "metadata": {
        "id": "k51hkGqOnZLB"
      },
      "source": [
        "X_t = X_t[indices]\r\n",
        "labels = y[indices]"
      ],
      "execution_count": 52,
      "outputs": []
    },
    {
      "cell_type": "markdown",
      "metadata": {
        "id": "MWn-SkJCCswd"
      },
      "source": [
        "### Splitting data into Training and Validation Set"
      ]
    },
    {
      "cell_type": "code",
      "metadata": {
        "id": "B5hOSGJVb7o4"
      },
      "source": [
        "num_validation_samples = int(val_split*X_t.shape[0])\r\n",
        "x_train = X_t[: -num_validation_samples]\r\n",
        "y_train = labels[: -num_validation_samples]\r\n",
        "x_val = X_t[-num_validation_samples: ]\r\n",
        "y_val = labels[-num_validation_samples: ]"
      ],
      "execution_count": 53,
      "outputs": []
    },
    {
      "cell_type": "code",
      "metadata": {
        "colab": {
          "base_uri": "https://localhost:8080/"
        },
        "id": "cHyYFZPDcEmK",
        "outputId": "7a658729-cc8a-4196-ec0c-22fb8ce97ae4"
      },
      "source": [
        "print('Number of entries in each category:')\r\n",
        "print('training: ', y_train.sum(axis=0))\r\n",
        "print('validation: ', y_val.sum(axis=0))"
      ],
      "execution_count": 54,
      "outputs": [
        {
          "output_type": "stream",
          "text": [
            "Number of entries in each category:\n",
            "training:  [12218  1274  6758   370  6276  1098]\n",
            "validation:  [3076  321 1691  108 1601  307]\n"
          ],
          "name": "stdout"
        }
      ]
    },
    {
      "cell_type": "markdown",
      "metadata": {
        "id": "hL7Mv1Z6D8_w"
      },
      "source": [
        "### Importing Fast Text"
      ]
    },
    {
      "cell_type": "code",
      "metadata": {
        "id": "vsvNLXZ6DlWS"
      },
      "source": [
        "embeddings_index_fasttext = {}\r\n",
        "f = open('/content/drive/MyDrive/Fast Text/wiki-news-300d-1M.vec', encoding='utf8')\r\n",
        "for line in f:\r\n",
        "    values = line.split()\r\n",
        "    word = values[0]\r\n",
        "    embeddings_index_fasttext[word] = np.asarray(values[1:], dtype='float32')\r\n",
        "f.close()"
      ],
      "execution_count": 55,
      "outputs": []
    },
    {
      "cell_type": "code",
      "metadata": {
        "colab": {
          "base_uri": "https://localhost:8080/"
        },
        "id": "hpkSOB6iEFCB",
        "outputId": "6a963133-43f0-4581-8074-b541aac9d5ef"
      },
      "source": [
        "embedding_matrix_fasttext = np.random.random((len(word_index) + 1, embedding_dim_fasttext))\r\n",
        "for word, i in word_index.items():\r\n",
        "    embedding_vector = embeddings_index_fasttext.get(word)\r\n",
        "    if embedding_vector is not None:\r\n",
        "        embedding_matrix_fasttext[i] = embedding_vector\r\n",
        "print(\" Completed!\")"
      ],
      "execution_count": 56,
      "outputs": [
        {
          "output_type": "stream",
          "text": [
            " Completed!\n"
          ],
          "name": "stdout"
        }
      ]
    },
    {
      "cell_type": "markdown",
      "metadata": {
        "id": "0OoZ7fTpPWhi"
      },
      "source": [
        "### Creating Model"
      ]
    },
    {
      "cell_type": "markdown",
      "metadata": {
        "id": "Dwzg_WX32OG3"
      },
      "source": [
        "#### Method 1"
      ]
    },
    {
      "cell_type": "code",
      "metadata": {
        "id": "oZdik3-jGkye"
      },
      "source": [
        "def toxic_classifier(x_train,y_train,x_val,y_val,params):\r\n",
        "\r\n",
        "  inp=Input(shape=(maxpadlen, ),dtype='int32')\r\n",
        "\r\n",
        "  embedding_layer = Embedding(len(word_index) + 1,\r\n",
        "                           embedding_dim_fasttext,\r\n",
        "                           weights = [embedding_matrix_fasttext],\r\n",
        "                           input_length = maxpadlen,\r\n",
        "                           trainable=False,\r\n",
        "                           name = 'embeddings')\r\n",
        "  embedded_sequences = embedding_layer(inp)\r\n",
        "\r\n",
        "  x = LSTM(params['output_count_lstm'], return_sequences=True,name='lstm_layer')(embedded_sequences)\r\n",
        "  \r\n",
        "  x = GlobalMaxPool1D()(x)\r\n",
        "  \r\n",
        "  x = Dropout(params['dropout'])(x)\r\n",
        "  \r\n",
        "  x = Dense(params['output_count_dense'], activation=params['activation'], kernel_initializer='he_uniform')(x)\r\n",
        "  \r\n",
        "  x = Dropout(params['dropout'])(x)\r\n",
        "  \r\n",
        "  preds = Dense(6, activation=params['last_activation'], kernel_initializer='glorot_uniform')(x)\r\n",
        "\r\n",
        "  model = Model(inputs=inp, outputs=preds)\r\n",
        "\r\n",
        "  model.compile(loss=params['loss'], optimizer=params['optimizer'], metrics=['accuracy'])\r\n",
        "\r\n",
        "  model_info=model.fit(x_train,y_train, epochs=params['epochs'], batch_size=params['batch_size'],  validation_data=(x_val, y_val))\r\n",
        "\r\n",
        "  return model_info, model"
      ],
      "execution_count": 70,
      "outputs": []
    },
    {
      "cell_type": "code",
      "metadata": {
        "id": "-6AtSibHGoTU"
      },
      "source": [
        "p={\r\n",
        "    'output_count_lstm': [40,50,60],\r\n",
        "    'output_count_dense': [30,40,50],\r\n",
        "    'batch_size': [32],\r\n",
        "    'epochs':[2],\r\n",
        "    'optimizer':['adam'],\r\n",
        "    'activation':['relu'],\r\n",
        "    'last_activation': ['sigmoid'],\r\n",
        "    'dropout':[0.1,0.2],\r\n",
        "    'loss': ['binary_crossentropy']   \r\n",
        "}"
      ],
      "execution_count": 74,
      "outputs": []
    },
    {
      "cell_type": "code",
      "metadata": {
        "colab": {
          "base_uri": "https://localhost:8080/"
        },
        "id": "DAnaHxh1GpFi",
        "outputId": "97a06a8c-9f18-4774-a9ed-6a78c1f23d31"
      },
      "source": [
        "scan_results = talos.Scan(x=x_train,\r\n",
        "               y=y_train,\r\n",
        "               x_val=x_val,\r\n",
        "               y_val=y_val,\r\n",
        "               model=toxic_classifier,\r\n",
        "               params=p,\r\n",
        "               experiment_name='tcc',\r\n",
        "               print_params=True)"
      ],
      "execution_count": 75,
      "outputs": [
        {
          "output_type": "stream",
          "text": [
            "\n",
            "  0%|          | 0/18 [00:00<?, ?it/s]\u001b[A"
          ],
          "name": "stderr"
        },
        {
          "output_type": "stream",
          "text": [
            "{'activation': 'relu', 'batch_size': 32, 'dropout': 0.1, 'epochs': 2, 'last_activation': 'sigmoid', 'loss': 'binary_crossentropy', 'optimizer': 'adam', 'output_count_dense': 30, 'output_count_lstm': 40}\n",
            "Epoch 1/2\n",
            "3990/3990 [==============================] - 54s 13ms/step - loss: 0.0892 - accuracy: 0.8584 - val_loss: 0.0511 - val_accuracy: 0.9938\n",
            "Epoch 2/2\n",
            "3990/3990 [==============================] - 53s 13ms/step - loss: 0.0505 - accuracy: 0.9863 - val_loss: 0.0476 - val_accuracy: 0.9938\n"
          ],
          "name": "stdout"
        },
        {
          "output_type": "stream",
          "text": [
            "\n",
            "  6%|▌         | 1/18 [01:48<30:51, 108.91s/it]\u001b[A"
          ],
          "name": "stderr"
        },
        {
          "output_type": "stream",
          "text": [
            "{'activation': 'relu', 'batch_size': 32, 'dropout': 0.1, 'epochs': 2, 'last_activation': 'sigmoid', 'loss': 'binary_crossentropy', 'optimizer': 'adam', 'output_count_dense': 30, 'output_count_lstm': 50}\n",
            "Epoch 1/2\n",
            "3990/3990 [==============================] - 60s 15ms/step - loss: 0.0873 - accuracy: 0.7718 - val_loss: 0.0507 - val_accuracy: 0.9938\n",
            "Epoch 2/2\n",
            "3990/3990 [==============================] - 58s 14ms/step - loss: 0.0498 - accuracy: 0.9834 - val_loss: 0.0491 - val_accuracy: 0.9938\n"
          ],
          "name": "stdout"
        },
        {
          "output_type": "stream",
          "text": [
            "\n",
            " 11%|█         | 2/18 [03:48<29:51, 111.98s/it]\u001b[A"
          ],
          "name": "stderr"
        },
        {
          "output_type": "stream",
          "text": [
            "{'activation': 'relu', 'batch_size': 32, 'dropout': 0.1, 'epochs': 2, 'last_activation': 'sigmoid', 'loss': 'binary_crossentropy', 'optimizer': 'adam', 'output_count_dense': 30, 'output_count_lstm': 60}\n",
            "Epoch 1/2\n",
            "3990/3990 [==============================] - 57s 14ms/step - loss: 0.0958 - accuracy: 0.8196 - val_loss: 0.0511 - val_accuracy: 0.9936\n",
            "Epoch 2/2\n",
            "3990/3990 [==============================] - 55s 14ms/step - loss: 0.0496 - accuracy: 0.9709 - val_loss: 0.0479 - val_accuracy: 0.9936\n"
          ],
          "name": "stdout"
        },
        {
          "output_type": "stream",
          "text": [
            "\n",
            " 17%|█▋        | 3/18 [05:41<28:07, 112.48s/it]\u001b[A"
          ],
          "name": "stderr"
        },
        {
          "output_type": "stream",
          "text": [
            "{'activation': 'relu', 'batch_size': 32, 'dropout': 0.1, 'epochs': 2, 'last_activation': 'sigmoid', 'loss': 'binary_crossentropy', 'optimizer': 'adam', 'output_count_dense': 40, 'output_count_lstm': 40}\n",
            "Epoch 1/2\n",
            "3990/3990 [==============================] - 55s 13ms/step - loss: 0.0872 - accuracy: 0.8877 - val_loss: 0.0508 - val_accuracy: 0.9930\n",
            "Epoch 2/2\n",
            "3990/3990 [==============================] - 53s 13ms/step - loss: 0.0498 - accuracy: 0.9509 - val_loss: 0.0482 - val_accuracy: 0.9921\n"
          ],
          "name": "stdout"
        },
        {
          "output_type": "stream",
          "text": [
            "\n",
            " 22%|██▏       | 4/18 [07:30<25:58, 111.36s/it]\u001b[A"
          ],
          "name": "stderr"
        },
        {
          "output_type": "stream",
          "text": [
            "{'activation': 'relu', 'batch_size': 32, 'dropout': 0.1, 'epochs': 2, 'last_activation': 'sigmoid', 'loss': 'binary_crossentropy', 'optimizer': 'adam', 'output_count_dense': 40, 'output_count_lstm': 50}\n",
            "Epoch 1/2\n",
            "3990/3990 [==============================] - 58s 14ms/step - loss: 0.0986 - accuracy: 0.8191 - val_loss: 0.0508 - val_accuracy: 0.9938\n",
            "Epoch 2/2\n",
            "3990/3990 [==============================] - 56s 14ms/step - loss: 0.0502 - accuracy: 0.9637 - val_loss: 0.0485 - val_accuracy: 0.9938\n"
          ],
          "name": "stdout"
        },
        {
          "output_type": "stream",
          "text": [
            "\n",
            " 28%|██▊       | 5/18 [09:26<24:25, 112.75s/it]\u001b[A"
          ],
          "name": "stderr"
        },
        {
          "output_type": "stream",
          "text": [
            "{'activation': 'relu', 'batch_size': 32, 'dropout': 0.1, 'epochs': 2, 'last_activation': 'sigmoid', 'loss': 'binary_crossentropy', 'optimizer': 'adam', 'output_count_dense': 40, 'output_count_lstm': 60}\n",
            "Epoch 1/2\n",
            "3990/3990 [==============================] - 57s 14ms/step - loss: 0.0901 - accuracy: 0.8447 - val_loss: 0.0500 - val_accuracy: 0.9938\n",
            "Epoch 2/2\n",
            "3990/3990 [==============================] - 57s 14ms/step - loss: 0.0498 - accuracy: 0.9810 - val_loss: 0.0477 - val_accuracy: 0.9937\n"
          ],
          "name": "stdout"
        },
        {
          "output_type": "stream",
          "text": [
            "\n",
            " 33%|███▎      | 6/18 [11:22<22:43, 113.61s/it]\u001b[A"
          ],
          "name": "stderr"
        },
        {
          "output_type": "stream",
          "text": [
            "{'activation': 'relu', 'batch_size': 32, 'dropout': 0.1, 'epochs': 2, 'last_activation': 'sigmoid', 'loss': 'binary_crossentropy', 'optimizer': 'adam', 'output_count_dense': 50, 'output_count_lstm': 40}\n",
            "Epoch 1/2\n",
            "3990/3990 [==============================] - 56s 14ms/step - loss: 0.0892 - accuracy: 0.8314 - val_loss: 0.0504 - val_accuracy: 0.9937\n",
            "Epoch 2/2\n",
            "3990/3990 [==============================] - 51s 13ms/step - loss: 0.0497 - accuracy: 0.9830 - val_loss: 0.0476 - val_accuracy: 0.9937\n"
          ],
          "name": "stdout"
        },
        {
          "output_type": "stream",
          "text": [
            "\n",
            " 39%|███▉      | 7/18 [13:10<20:32, 112.06s/it]\u001b[A"
          ],
          "name": "stderr"
        },
        {
          "output_type": "stream",
          "text": [
            "{'activation': 'relu', 'batch_size': 32, 'dropout': 0.1, 'epochs': 2, 'last_activation': 'sigmoid', 'loss': 'binary_crossentropy', 'optimizer': 'adam', 'output_count_dense': 50, 'output_count_lstm': 50}\n",
            "Epoch 1/2\n",
            "3990/3990 [==============================] - 59s 14ms/step - loss: 0.0824 - accuracy: 0.8729 - val_loss: 0.0498 - val_accuracy: 0.9938\n",
            "Epoch 2/2\n",
            "3990/3990 [==============================] - 57s 14ms/step - loss: 0.0488 - accuracy: 0.9888 - val_loss: 0.0476 - val_accuracy: 0.9936\n"
          ],
          "name": "stdout"
        },
        {
          "output_type": "stream",
          "text": [
            "\n",
            " 44%|████▍     | 8/18 [15:07<18:55, 113.54s/it]\u001b[A"
          ],
          "name": "stderr"
        },
        {
          "output_type": "stream",
          "text": [
            "{'activation': 'relu', 'batch_size': 32, 'dropout': 0.1, 'epochs': 2, 'last_activation': 'sigmoid', 'loss': 'binary_crossentropy', 'optimizer': 'adam', 'output_count_dense': 50, 'output_count_lstm': 60}\n",
            "Epoch 1/2\n",
            "3990/3990 [==============================] - 57s 14ms/step - loss: 0.0903 - accuracy: 0.8352 - val_loss: 0.0499 - val_accuracy: 0.9938\n",
            "Epoch 2/2\n",
            "3990/3990 [==============================] - 55s 14ms/step - loss: 0.0498 - accuracy: 0.9881 - val_loss: 0.0483 - val_accuracy: 0.9937\n"
          ],
          "name": "stdout"
        },
        {
          "output_type": "stream",
          "text": [
            "\n",
            " 50%|█████     | 9/18 [17:00<17:01, 113.52s/it]\u001b[A"
          ],
          "name": "stderr"
        },
        {
          "output_type": "stream",
          "text": [
            "{'activation': 'relu', 'batch_size': 32, 'dropout': 0.2, 'epochs': 2, 'last_activation': 'sigmoid', 'loss': 'binary_crossentropy', 'optimizer': 'adam', 'output_count_dense': 30, 'output_count_lstm': 40}\n",
            "Epoch 1/2\n",
            "3990/3990 [==============================] - 55s 13ms/step - loss: 0.1040 - accuracy: 0.6943 - val_loss: 0.0511 - val_accuracy: 0.9938\n",
            "Epoch 2/2\n",
            "3990/3990 [==============================] - 53s 13ms/step - loss: 0.0518 - accuracy: 0.9820 - val_loss: 0.0486 - val_accuracy: 0.9938\n"
          ],
          "name": "stdout"
        },
        {
          "output_type": "stream",
          "text": [
            "\n",
            " 56%|█████▌    | 10/18 [18:50<14:57, 112.23s/it]\u001b[A"
          ],
          "name": "stderr"
        },
        {
          "output_type": "stream",
          "text": [
            "{'activation': 'relu', 'batch_size': 32, 'dropout': 0.2, 'epochs': 2, 'last_activation': 'sigmoid', 'loss': 'binary_crossentropy', 'optimizer': 'adam', 'output_count_dense': 30, 'output_count_lstm': 50}\n",
            "Epoch 1/2\n",
            "3990/3990 [==============================] - 58s 14ms/step - loss: 0.0908 - accuracy: 0.7750 - val_loss: 0.0515 - val_accuracy: 0.9938\n",
            "Epoch 2/2\n",
            "3990/3990 [==============================] - 56s 14ms/step - loss: 0.0519 - accuracy: 0.9906 - val_loss: 0.0485 - val_accuracy: 0.9938\n"
          ],
          "name": "stdout"
        },
        {
          "output_type": "stream",
          "text": [
            "\n",
            " 61%|██████    | 11/18 [20:45<13:11, 113.06s/it]\u001b[A"
          ],
          "name": "stderr"
        },
        {
          "output_type": "stream",
          "text": [
            "{'activation': 'relu', 'batch_size': 32, 'dropout': 0.2, 'epochs': 2, 'last_activation': 'sigmoid', 'loss': 'binary_crossentropy', 'optimizer': 'adam', 'output_count_dense': 30, 'output_count_lstm': 60}\n",
            "Epoch 1/2\n",
            "3990/3990 [==============================] - 57s 14ms/step - loss: 0.1021 - accuracy: 0.8145 - val_loss: 0.0511 - val_accuracy: 0.9938\n",
            "Epoch 2/2\n",
            "3990/3990 [==============================] - 55s 14ms/step - loss: 0.0519 - accuracy: 0.9918 - val_loss: 0.0494 - val_accuracy: 0.9938\n"
          ],
          "name": "stdout"
        },
        {
          "output_type": "stream",
          "text": [
            "\n",
            " 67%|██████▋   | 12/18 [22:38<11:18, 113.12s/it]\u001b[A"
          ],
          "name": "stderr"
        },
        {
          "output_type": "stream",
          "text": [
            "{'activation': 'relu', 'batch_size': 32, 'dropout': 0.2, 'epochs': 2, 'last_activation': 'sigmoid', 'loss': 'binary_crossentropy', 'optimizer': 'adam', 'output_count_dense': 40, 'output_count_lstm': 40}\n",
            "Epoch 1/2\n",
            "3990/3990 [==============================] - 54s 13ms/step - loss: 0.0921 - accuracy: 0.7787 - val_loss: 0.0513 - val_accuracy: 0.9938\n",
            "Epoch 2/2\n",
            "3990/3990 [==============================] - 52s 13ms/step - loss: 0.0527 - accuracy: 0.9785 - val_loss: 0.0490 - val_accuracy: 0.9933\n"
          ],
          "name": "stdout"
        },
        {
          "output_type": "stream",
          "text": [
            "\n",
            " 72%|███████▏  | 13/18 [24:26<09:17, 111.49s/it]\u001b[A"
          ],
          "name": "stderr"
        },
        {
          "output_type": "stream",
          "text": [
            "{'activation': 'relu', 'batch_size': 32, 'dropout': 0.2, 'epochs': 2, 'last_activation': 'sigmoid', 'loss': 'binary_crossentropy', 'optimizer': 'adam', 'output_count_dense': 40, 'output_count_lstm': 50}\n",
            "Epoch 1/2\n",
            "3990/3990 [==============================] - 60s 15ms/step - loss: 0.0970 - accuracy: 0.8067 - val_loss: 0.0516 - val_accuracy: 0.9938\n",
            "Epoch 2/2\n",
            "3990/3990 [==============================] - 56s 14ms/step - loss: 0.0517 - accuracy: 0.9661 - val_loss: 0.0512 - val_accuracy: 0.9938\n"
          ],
          "name": "stdout"
        },
        {
          "output_type": "stream",
          "text": [
            "\n",
            " 78%|███████▊  | 14/18 [26:22<07:32, 113.05s/it]\u001b[A"
          ],
          "name": "stderr"
        },
        {
          "output_type": "stream",
          "text": [
            "{'activation': 'relu', 'batch_size': 32, 'dropout': 0.2, 'epochs': 2, 'last_activation': 'sigmoid', 'loss': 'binary_crossentropy', 'optimizer': 'adam', 'output_count_dense': 40, 'output_count_lstm': 60}\n",
            "Epoch 1/2\n",
            "3990/3990 [==============================] - 56s 14ms/step - loss: 0.0967 - accuracy: 0.7810 - val_loss: 0.0500 - val_accuracy: 0.9938\n",
            "Epoch 2/2\n",
            "3990/3990 [==============================] - 57s 14ms/step - loss: 0.0509 - accuracy: 0.9755 - val_loss: 0.0478 - val_accuracy: 0.9938\n"
          ],
          "name": "stdout"
        },
        {
          "output_type": "stream",
          "text": [
            "\n",
            " 83%|████████▎ | 15/18 [28:18<05:41, 113.74s/it]\u001b[A"
          ],
          "name": "stderr"
        },
        {
          "output_type": "stream",
          "text": [
            "{'activation': 'relu', 'batch_size': 32, 'dropout': 0.2, 'epochs': 2, 'last_activation': 'sigmoid', 'loss': 'binary_crossentropy', 'optimizer': 'adam', 'output_count_dense': 50, 'output_count_lstm': 40}\n",
            "Epoch 1/2\n",
            "3990/3990 [==============================] - 55s 13ms/step - loss: 0.1024 - accuracy: 0.8331 - val_loss: 0.0514 - val_accuracy: 0.9938\n",
            "Epoch 2/2\n",
            "3990/3990 [==============================] - 53s 13ms/step - loss: 0.0521 - accuracy: 0.9824 - val_loss: 0.0487 - val_accuracy: 0.9936\n"
          ],
          "name": "stdout"
        },
        {
          "output_type": "stream",
          "text": [
            "\n",
            " 89%|████████▉ | 16/18 [30:07<03:45, 112.53s/it]\u001b[A"
          ],
          "name": "stderr"
        },
        {
          "output_type": "stream",
          "text": [
            "{'activation': 'relu', 'batch_size': 32, 'dropout': 0.2, 'epochs': 2, 'last_activation': 'sigmoid', 'loss': 'binary_crossentropy', 'optimizer': 'adam', 'output_count_dense': 50, 'output_count_lstm': 50}\n",
            "Epoch 1/2\n",
            "3990/3990 [==============================] - 59s 14ms/step - loss: 0.1003 - accuracy: 0.8060 - val_loss: 0.0526 - val_accuracy: 0.9938\n",
            "Epoch 2/2\n",
            "3990/3990 [==============================] - 58s 15ms/step - loss: 0.0532 - accuracy: 0.9817 - val_loss: 0.0501 - val_accuracy: 0.9938\n"
          ],
          "name": "stdout"
        },
        {
          "output_type": "stream",
          "text": [
            "\n",
            " 94%|█████████▍| 17/18 [32:06<01:54, 114.26s/it]\u001b[A"
          ],
          "name": "stderr"
        },
        {
          "output_type": "stream",
          "text": [
            "{'activation': 'relu', 'batch_size': 32, 'dropout': 0.2, 'epochs': 2, 'last_activation': 'sigmoid', 'loss': 'binary_crossentropy', 'optimizer': 'adam', 'output_count_dense': 50, 'output_count_lstm': 60}\n",
            "Epoch 1/2\n",
            "3990/3990 [==============================] - 56s 14ms/step - loss: 0.0838 - accuracy: 0.8191 - val_loss: 0.0511 - val_accuracy: 0.9938\n",
            "Epoch 2/2\n",
            "3990/3990 [==============================] - 55s 14ms/step - loss: 0.0503 - accuracy: 0.9934 - val_loss: 0.0487 - val_accuracy: 0.9935\n"
          ],
          "name": "stdout"
        },
        {
          "output_type": "stream",
          "text": [
            "\n",
            "100%|██████████| 18/18 [33:58<00:00, 113.24s/it]\n"
          ],
          "name": "stderr"
        }
      ]
    },
    {
      "cell_type": "code",
      "metadata": {
        "colab": {
          "base_uri": "https://localhost:8080/"
        },
        "id": "HXl1ZQSWtdYK",
        "outputId": "07c769db-fa76-4ad2-9cef-0ca4fabfdacd"
      },
      "source": [
        "model_id = scan_results.data['val_accuracy'].astype('float').argmax()\r\n",
        "model_id"
      ],
      "execution_count": 78,
      "outputs": [
        {
          "output_type": "execute_result",
          "data": {
            "text/plain": [
              "0"
            ]
          },
          "metadata": {
            "tags": []
          },
          "execution_count": 78
        }
      ]
    },
    {
      "cell_type": "code",
      "metadata": {
        "id": "7yict0QyGxV7"
      },
      "source": [
        "analyze_object = talos.Analyze(scan_results)"
      ],
      "execution_count": 76,
      "outputs": []
    },
    {
      "cell_type": "code",
      "metadata": {
        "id": "S3d78iYYG0I3",
        "colab": {
          "base_uri": "https://localhost:8080/"
        },
        "outputId": "1e913231-5d59-4f77-9110-e8d44cd04f85"
      },
      "source": [
        "analyze_object.best_params('val_accuracy', ['accuracy', 'loss', 'val_loss'])"
      ],
      "execution_count": 77,
      "outputs": [
        {
          "output_type": "execute_result",
          "data": {
            "text/plain": [
              "array([[30, 'relu', 108.2523627281189, 2, 32, 0.1, '01/15/21-102711', 2,\n",
              "        'adam', 40, '01/15/21-102859', 'sigmoid', 0],\n",
              "       [30, 'relu', 114.26977229118347, 2, 32, 0.2, '01/15/21-104601', 2,\n",
              "        'adam', 50, '01/15/21-104755', 'sigmoid', 1],\n",
              "       [50, 'relu', 117.57265043258667, 2, 32, 0.2, '01/15/21-105719', 2,\n",
              "        'adam', 50, '01/15/21-105916', 'sigmoid', 2],\n",
              "       [40, 'relu', 115.9641854763031, 2, 32, 0.2, '01/15/21-105137', 2,\n",
              "        'adam', 50, '01/15/21-105333', 'sigmoid', 3],\n",
              "       [30, 'relu', 112.53515625, 2, 32, 0.2, '01/15/21-104756', 2,\n",
              "        'adam', 60, '01/15/21-104949', 'sigmoid', 4],\n",
              "       [30, 'relu', 108.50347089767456, 2, 32, 0.2, '01/15/21-104412', 2,\n",
              "        'adam', 40, '01/15/21-104600', 'sigmoid', 5],\n",
              "       [40, 'relu', 115.30012941360474, 2, 32, 0.1, '01/15/21-103441', 2,\n",
              "        'adam', 50, '01/15/21-103637', 'sigmoid', 6],\n",
              "       [30, 'relu', 118.4379813671112, 2, 32, 0.1, '01/15/21-102900', 2,\n",
              "        'adam', 50, '01/15/21-103058', 'sigmoid', 7],\n",
              "       [40, 'relu', 114.37433314323425, 2, 32, 0.2, '01/15/21-105334', 2,\n",
              "        'adam', 60, '01/15/21-105528', 'sigmoid', 8],\n",
              "       [50, 'relu', 107.72537541389465, 2, 32, 0.1, '01/15/21-103833', 2,\n",
              "        'adam', 40, '01/15/21-104021', 'sigmoid', 9]], dtype=object)"
            ]
          },
          "metadata": {
            "tags": []
          },
          "execution_count": 77
        }
      ]
    },
    {
      "cell_type": "code",
      "metadata": {
        "id": "KBlqpfIhG2xq",
        "colab": {
          "base_uri": "https://localhost:8080/",
          "height": 410
        },
        "outputId": "35cde257-5bc5-4cf1-b22c-a94acc316959"
      },
      "source": [
        "analyze_object.plot_line('val_accuracy')"
      ],
      "execution_count": 79,
      "outputs": [
        {
          "output_type": "display_data",
          "data": {
            "image/png": "[encoded data removed]",
            "text/plain": [
              "<Figure size 864x475.2 with 1 Axes>"
            ]
          },
          "metadata": {
            "tags": []
          }
        }
      ]
    },
    {
      "cell_type": "code",
      "metadata": {
        "id": "mQ8Xr0tiG4ry",
        "colab": {
          "base_uri": "https://localhost:8080/",
          "height": 410
        },
        "outputId": "2f2afc68-a008-4c89-e7ed-01561f0e5eab"
      },
      "source": [
        "analyze_object.plot_line('accuracy')"
      ],
      "execution_count": 80,
      "outputs": [
        {
          "output_type": "display_data",
          "data": {
            "image/png": "[encoded data removed]",
            "text/plain": [
              "<Figure size 864x475.2 with 1 Axes>"
            ]
          },
          "metadata": {
            "tags": []
          }
        }
      ]
    },
    {
      "cell_type": "markdown",
      "metadata": {
        "id": "pV4ierVz7J02"
      },
      "source": [
        "#### Method 2"
      ]
    },
    {
      "cell_type": "code",
      "metadata": {
        "id": "jH7jcbAs7MXv"
      },
      "source": [
        "def toxic_classifier(x_train,y_train,x_val,y_val,params):\r\n",
        "\r\n",
        "  inp=Input(shape=(maxpadlen, ),dtype='int32')\r\n",
        "\r\n",
        "  embedding_layer = Embedding(len(word_index) + 1,\r\n",
        "                           embedding_dim_fasttext,\r\n",
        "                           weights = [embedding_matrix_fasttext],\r\n",
        "                           input_length = maxpadlen,\r\n",
        "                           trainable=False,\r\n",
        "                           name = 'embeddings')\r\n",
        "  embedded_sequences = embedding_layer(inp)\r\n",
        "\r\n",
        "  x = LSTM(params['output_count_lstm'], return_sequences=True,name='lstm_layer')(embedded_sequences)\r\n",
        "\r\n",
        "  x = Conv1D(filters=params['filters'], kernel_size=params['kernel_size'], padding='same', activation='relu', kernel_initializer='he_uniform')(x)\r\n",
        "\r\n",
        "  x = MaxPooling1D(params['pool_size'])(x)\r\n",
        "  \r\n",
        "  x = GlobalMaxPool1D()(x)\r\n",
        "  \r\n",
        "  x = BatchNormalization()(x)\r\n",
        "  \r\n",
        "  x = Dense(params['output_1_count_dense'], activation=params['activation'], kernel_initializer='he_uniform')(x)\r\n",
        "  \r\n",
        "  x = Dropout(params['dropout'])(x)\r\n",
        "\r\n",
        "  x = Dense(params['output_2_count_dense'], activation=params['activation'], kernel_initializer='he_uniform')(x)\r\n",
        "  \r\n",
        "  x = Dropout(params['dropout'])(x)\r\n",
        "  \r\n",
        "  preds = Dense(6, activation=params['last_activation'], kernel_initializer='glorot_uniform')(x)\r\n",
        "\r\n",
        "  model = Model(inputs=inp, outputs=preds)\r\n",
        "\r\n",
        "  model.compile(loss=params['loss'], optimizer=params['optimizer'], metrics=['accuracy'])\r\n",
        "\r\n",
        "  model_info=model.fit(x_train,y_train, epochs=params['epochs'], batch_size=params['batch_size'],  validation_data=(x_val, y_val))\r\n",
        "\r\n",
        "  return model_info, model"
      ],
      "execution_count": 103,
      "outputs": []
    },
    {
      "cell_type": "code",
      "metadata": {
        "id": "-Ru7Tkq67QoO"
      },
      "source": [
        "p={\r\n",
        "    'output_count_lstm': [50,60],\r\n",
        "    'output_1_count_dense': [40,50],\r\n",
        "    'output_2_count_dense': [30,40],\r\n",
        "    'filters' : [64],\r\n",
        "    'kernel_size' : [3],\r\n",
        "    'batch_size': [32],\r\n",
        "    'pool_size': [3],\r\n",
        "    'epochs':[2],\r\n",
        "    'optimizer':['adam'],\r\n",
        "    'activation':['relu'],\r\n",
        "    'last_activation': ['sigmoid'],\r\n",
        "    'dropout':[0.1,0.2],\r\n",
        "    'loss': ['binary_crossentropy']   \r\n",
        "}"
      ],
      "execution_count": null,
      "outputs": []
    },
    {
      "cell_type": "code",
      "metadata": {
        "colab": {
          "base_uri": "https://localhost:8080/"
        },
        "id": "9l3M27FU7QiG",
        "outputId": "54ff1850-c200-4a43-bd62-cb90511d9701"
      },
      "source": [
        "scan_results = talos.Scan(x=x_train,\r\n",
        "               y=y_train,\r\n",
        "               x_val=x_val,\r\n",
        "               y_val=y_val,\r\n",
        "               model=toxic_classifier,\r\n",
        "               params=p,\r\n",
        "               experiment_name='tcc',\r\n",
        "               print_params=True)"
      ],
      "execution_count": null,
      "outputs": [
        {
          "output_type": "stream",
          "text": [
            "\r  0%|          | 0/24 [00:00<?, ?it/s]"
          ],
          "name": "stderr"
        },
        {
          "output_type": "stream",
          "text": [
            "{'activation': 'relu', 'batch_size': 32, 'dropout': 0.2, 'epochs': 2, 'filters': 64, 'kernel_size': 3, 'last_activation': 'sigmoid', 'loss': 'binary_crossentropy', 'optimizer': 'adam', 'output_1_count_dense': 40, 'output_2_count_dense': 30, 'output_count_lstm': 50, 'pool_size': 3}\n",
            "Epoch 1/2\n",
            "3990/3990 [==============================] - 60s 14ms/step - loss: 0.1122 - accuracy: 0.6805 - val_loss: 0.0529 - val_accuracy: 0.9941\n",
            "Epoch 2/2\n",
            "3990/3990 [==============================] - 55s 14ms/step - loss: 0.0555 - accuracy: 0.9812 - val_loss: 0.0517 - val_accuracy: 0.9941\n"
          ],
          "name": "stdout"
        },
        {
          "output_type": "stream",
          "text": [
            "\r  4%|▍         | 1/24 [01:57<45:03, 117.55s/it]"
          ],
          "name": "stderr"
        },
        {
          "output_type": "stream",
          "text": [
            "{'activation': 'relu', 'batch_size': 32, 'dropout': 0.2, 'epochs': 2, 'filters': 64, 'kernel_size': 3, 'last_activation': 'sigmoid', 'loss': 'binary_crossentropy', 'optimizer': 'adam', 'output_1_count_dense': 40, 'output_2_count_dense': 40, 'output_count_lstm': 50, 'pool_size': 3}\n",
            "Epoch 1/2\n",
            "3990/3990 [==============================] - 57s 14ms/step - loss: 0.1062 - accuracy: 0.6787 - val_loss: 0.0604 - val_accuracy: 0.9941\n",
            "Epoch 2/2\n",
            "3990/3990 [==============================] - 55s 14ms/step - loss: 0.0557 - accuracy: 0.9810 - val_loss: 0.0493 - val_accuracy: 0.9940\n"
          ],
          "name": "stdout"
        },
        {
          "output_type": "stream",
          "text": [
            "\r  8%|▊         | 2/24 [03:50<42:34, 116.10s/it]"
          ],
          "name": "stderr"
        },
        {
          "output_type": "stream",
          "text": [
            "{'activation': 'relu', 'batch_size': 32, 'dropout': 0.2, 'epochs': 2, 'filters': 64, 'kernel_size': 4, 'last_activation': 'sigmoid', 'loss': 'binary_crossentropy', 'optimizer': 'adam', 'output_1_count_dense': 40, 'output_2_count_dense': 30, 'output_count_lstm': 50, 'pool_size': 3}\n",
            "Epoch 1/2\n",
            "3990/3990 [==============================] - 57s 14ms/step - loss: 0.1068 - accuracy: 0.7428 - val_loss: 0.0558 - val_accuracy: 0.9941\n",
            "Epoch 2/2\n",
            "3990/3990 [==============================] - 54s 13ms/step - loss: 0.0559 - accuracy: 0.9907 - val_loss: 0.0532 - val_accuracy: 0.9941\n"
          ],
          "name": "stdout"
        },
        {
          "output_type": "stream",
          "text": [
            "\r 12%|█▎        | 3/24 [05:42<40:11, 114.81s/it]"
          ],
          "name": "stderr"
        },
        {
          "output_type": "stream",
          "text": [
            "{'activation': 'relu', 'batch_size': 32, 'dropout': 0.2, 'epochs': 2, 'filters': 64, 'kernel_size': 4, 'last_activation': 'sigmoid', 'loss': 'binary_crossentropy', 'optimizer': 'adam', 'output_1_count_dense': 40, 'output_2_count_dense': 40, 'output_count_lstm': 50, 'pool_size': 3}\n",
            "Epoch 1/2\n",
            "3990/3990 [==============================] - 57s 14ms/step - loss: 0.1057 - accuracy: 0.7745 - val_loss: 0.0734 - val_accuracy: 0.9941\n",
            "Epoch 2/2\n",
            "3990/3990 [==============================] - 54s 14ms/step - loss: 0.0561 - accuracy: 0.9800 - val_loss: 0.0506 - val_accuracy: 0.9937\n"
          ],
          "name": "stdout"
        },
        {
          "output_type": "stream",
          "text": [
            "\r 17%|█▋        | 4/24 [07:34<38:04, 114.24s/it]"
          ],
          "name": "stderr"
        },
        {
          "output_type": "stream",
          "text": [
            "{'activation': 'relu', 'batch_size': 32, 'dropout': 0.2, 'epochs': 2, 'filters': 64, 'kernel_size': 5, 'last_activation': 'sigmoid', 'loss': 'binary_crossentropy', 'optimizer': 'adam', 'output_1_count_dense': 40, 'output_2_count_dense': 30, 'output_count_lstm': 50, 'pool_size': 3}\n",
            "Epoch 1/2\n",
            "3990/3990 [==============================] - 56s 14ms/step - loss: 0.1169 - accuracy: 0.8019 - val_loss: 0.0509 - val_accuracy: 0.9935\n",
            "Epoch 2/2\n",
            "3990/3990 [==============================] - 54s 13ms/step - loss: 0.0568 - accuracy: 0.9886 - val_loss: 0.0498 - val_accuracy: 0.9941\n"
          ],
          "name": "stdout"
        },
        {
          "output_type": "stream",
          "text": [
            "\r 21%|██        | 5/24 [09:26<35:54, 113.37s/it]"
          ],
          "name": "stderr"
        },
        {
          "output_type": "stream",
          "text": [
            "{'activation': 'relu', 'batch_size': 32, 'dropout': 0.2, 'epochs': 2, 'filters': 64, 'kernel_size': 5, 'last_activation': 'sigmoid', 'loss': 'binary_crossentropy', 'optimizer': 'adam', 'output_1_count_dense': 40, 'output_2_count_dense': 40, 'output_count_lstm': 50, 'pool_size': 3}\n",
            "Epoch 1/2\n",
            "3990/3990 [==============================] - 56s 14ms/step - loss: 0.1013 - accuracy: 0.7782 - val_loss: 0.0674 - val_accuracy: 0.9941\n",
            "Epoch 2/2\n",
            "3990/3990 [==============================] - 53s 13ms/step - loss: 0.0551 - accuracy: 0.9755 - val_loss: 0.0484 - val_accuracy: 0.9929\n"
          ],
          "name": "stdout"
        },
        {
          "output_type": "stream",
          "text": [
            "\r 25%|██▌       | 6/24 [11:17<33:47, 112.66s/it]"
          ],
          "name": "stderr"
        },
        {
          "output_type": "stream",
          "text": [
            "{'activation': 'relu', 'batch_size': 32, 'dropout': 0.2, 'epochs': 2, 'filters': 128, 'kernel_size': 3, 'last_activation': 'sigmoid', 'loss': 'binary_crossentropy', 'optimizer': 'adam', 'output_1_count_dense': 40, 'output_2_count_dense': 30, 'output_count_lstm': 50, 'pool_size': 3}\n",
            "Epoch 1/2\n",
            "3990/3990 [==============================] - 58s 14ms/step - loss: 0.1071 - accuracy: 0.6946 - val_loss: 0.0522 - val_accuracy: 0.9941\n",
            "Epoch 2/2\n",
            "3990/3990 [==============================] - 54s 14ms/step - loss: 0.0557 - accuracy: 0.9911 - val_loss: 0.0489 - val_accuracy: 0.9941\n"
          ],
          "name": "stdout"
        },
        {
          "output_type": "stream",
          "text": [
            "\r 29%|██▉       | 7/24 [13:10<31:59, 112.89s/it]"
          ],
          "name": "stderr"
        },
        {
          "output_type": "stream",
          "text": [
            "{'activation': 'relu', 'batch_size': 32, 'dropout': 0.2, 'epochs': 2, 'filters': 128, 'kernel_size': 3, 'last_activation': 'sigmoid', 'loss': 'binary_crossentropy', 'optimizer': 'adam', 'output_1_count_dense': 40, 'output_2_count_dense': 40, 'output_count_lstm': 50, 'pool_size': 3}\n",
            "Epoch 1/2\n",
            "3990/3990 [==============================] - 57s 14ms/step - loss: 0.0945 - accuracy: 0.7963 - val_loss: 0.0521 - val_accuracy: 0.9941\n",
            "Epoch 2/2\n",
            "3990/3990 [==============================] - 54s 14ms/step - loss: 0.0550 - accuracy: 0.9744 - val_loss: 0.0524 - val_accuracy: 0.9941\n"
          ],
          "name": "stdout"
        },
        {
          "output_type": "stream",
          "text": [
            "\r 33%|███▎      | 8/24 [15:03<30:04, 112.78s/it]"
          ],
          "name": "stderr"
        },
        {
          "output_type": "stream",
          "text": [
            "{'activation': 'relu', 'batch_size': 32, 'dropout': 0.2, 'epochs': 2, 'filters': 128, 'kernel_size': 4, 'last_activation': 'sigmoid', 'loss': 'binary_crossentropy', 'optimizer': 'adam', 'output_1_count_dense': 40, 'output_2_count_dense': 30, 'output_count_lstm': 50, 'pool_size': 3}\n",
            "Epoch 1/2\n",
            "3990/3990 [==============================] - 57s 14ms/step - loss: 0.1092 - accuracy: 0.7207 - val_loss: 0.0543 - val_accuracy: 0.9941\n",
            "Epoch 2/2\n",
            "3990/3990 [==============================] - 54s 14ms/step - loss: 0.0545 - accuracy: 0.9854 - val_loss: 0.0486 - val_accuracy: 0.9941\n"
          ],
          "name": "stdout"
        },
        {
          "output_type": "stream",
          "text": [
            "\r 38%|███▊      | 9/24 [16:55<28:10, 112.72s/it]"
          ],
          "name": "stderr"
        },
        {
          "output_type": "stream",
          "text": [
            "{'activation': 'relu', 'batch_size': 32, 'dropout': 0.2, 'epochs': 2, 'filters': 128, 'kernel_size': 4, 'last_activation': 'sigmoid', 'loss': 'binary_crossentropy', 'optimizer': 'adam', 'output_1_count_dense': 40, 'output_2_count_dense': 40, 'output_count_lstm': 50, 'pool_size': 3}\n",
            "Epoch 1/2\n",
            "3990/3990 [==============================] - 57s 14ms/step - loss: 0.0999 - accuracy: 0.7439 - val_loss: 0.0525 - val_accuracy: 0.9939\n",
            "Epoch 2/2\n",
            "3990/3990 [==============================] - 54s 13ms/step - loss: 0.0548 - accuracy: 0.9855 - val_loss: 0.0495 - val_accuracy: 0.9938\n"
          ],
          "name": "stdout"
        },
        {
          "output_type": "stream",
          "text": [
            "\r 42%|████▏     | 10/24 [18:47<26:15, 112.54s/it]"
          ],
          "name": "stderr"
        },
        {
          "output_type": "stream",
          "text": [
            "{'activation': 'relu', 'batch_size': 32, 'dropout': 0.2, 'epochs': 2, 'filters': 128, 'kernel_size': 5, 'last_activation': 'sigmoid', 'loss': 'binary_crossentropy', 'optimizer': 'adam', 'output_1_count_dense': 40, 'output_2_count_dense': 30, 'output_count_lstm': 50, 'pool_size': 3}\n",
            "Epoch 1/2\n",
            "3990/3990 [==============================] - 57s 14ms/step - loss: 0.1129 - accuracy: 0.6835 - val_loss: 0.0526 - val_accuracy: 0.9938\n",
            "Epoch 2/2\n",
            "3990/3990 [==============================] - 54s 14ms/step - loss: 0.0561 - accuracy: 0.9837 - val_loss: 0.0495 - val_accuracy: 0.9941\n"
          ],
          "name": "stdout"
        },
        {
          "output_type": "stream",
          "text": [
            "\r 46%|████▌     | 11/24 [20:40<24:21, 112.45s/it]"
          ],
          "name": "stderr"
        },
        {
          "output_type": "stream",
          "text": [
            "{'activation': 'relu', 'batch_size': 32, 'dropout': 0.2, 'epochs': 2, 'filters': 128, 'kernel_size': 5, 'last_activation': 'sigmoid', 'loss': 'binary_crossentropy', 'optimizer': 'adam', 'output_1_count_dense': 40, 'output_2_count_dense': 40, 'output_count_lstm': 50, 'pool_size': 3}\n",
            "Epoch 1/2\n",
            "3990/3990 [==============================] - 56s 14ms/step - loss: 0.0955 - accuracy: 0.8038 - val_loss: 0.0514 - val_accuracy: 0.9898\n",
            "Epoch 2/2\n",
            "3990/3990 [==============================] - 54s 14ms/step - loss: 0.0553 - accuracy: 0.9849 - val_loss: 0.0497 - val_accuracy: 0.9941\n"
          ],
          "name": "stdout"
        },
        {
          "output_type": "stream",
          "text": [
            "\r 50%|█████     | 12/24 [22:32<22:27, 112.30s/it]"
          ],
          "name": "stderr"
        },
        {
          "output_type": "stream",
          "text": [
            "{'activation': 'relu', 'batch_size': 32, 'dropout': 0.3, 'epochs': 2, 'filters': 64, 'kernel_size': 3, 'last_activation': 'sigmoid', 'loss': 'binary_crossentropy', 'optimizer': 'adam', 'output_1_count_dense': 40, 'output_2_count_dense': 30, 'output_count_lstm': 50, 'pool_size': 3}\n",
            "Epoch 1/2\n",
            "3990/3990 [==============================] - 56s 14ms/step - loss: 0.1130 - accuracy: 0.7310 - val_loss: 0.0530 - val_accuracy: 0.9941\n",
            "Epoch 2/2\n",
            "3990/3990 [==============================] - 54s 13ms/step - loss: 0.0580 - accuracy: 0.9885 - val_loss: 0.0543 - val_accuracy: 0.9941\n"
          ],
          "name": "stdout"
        },
        {
          "output_type": "stream",
          "text": [
            "\r 54%|█████▍    | 13/24 [24:23<20:31, 111.97s/it]"
          ],
          "name": "stderr"
        },
        {
          "output_type": "stream",
          "text": [
            "{'activation': 'relu', 'batch_size': 32, 'dropout': 0.3, 'epochs': 2, 'filters': 64, 'kernel_size': 3, 'last_activation': 'sigmoid', 'loss': 'binary_crossentropy', 'optimizer': 'adam', 'output_1_count_dense': 40, 'output_2_count_dense': 40, 'output_count_lstm': 50, 'pool_size': 3}\n",
            "Epoch 1/2\n",
            "3990/3990 [==============================] - 56s 14ms/step - loss: 0.1119 - accuracy: 0.7097 - val_loss: 0.0549 - val_accuracy: 0.9941\n",
            "Epoch 2/2\n",
            "3990/3990 [==============================] - 53s 13ms/step - loss: 0.0578 - accuracy: 0.9675 - val_loss: 0.0694 - val_accuracy: 0.9941\n"
          ],
          "name": "stdout"
        },
        {
          "output_type": "stream",
          "text": [
            "\r 58%|█████▊    | 14/24 [26:14<18:36, 111.61s/it]"
          ],
          "name": "stderr"
        },
        {
          "output_type": "stream",
          "text": [
            "{'activation': 'relu', 'batch_size': 32, 'dropout': 0.3, 'epochs': 2, 'filters': 64, 'kernel_size': 4, 'last_activation': 'sigmoid', 'loss': 'binary_crossentropy', 'optimizer': 'adam', 'output_1_count_dense': 40, 'output_2_count_dense': 30, 'output_count_lstm': 50, 'pool_size': 3}\n",
            "Epoch 1/2\n",
            "3990/3990 [==============================] - 57s 14ms/step - loss: 0.1221 - accuracy: 0.7096 - val_loss: 0.0541 - val_accuracy: 0.9941\n",
            "Epoch 2/2\n",
            "3990/3990 [==============================] - 55s 14ms/step - loss: 0.0569 - accuracy: 0.9934 - val_loss: 0.0521 - val_accuracy: 0.9941\n"
          ],
          "name": "stdout"
        },
        {
          "output_type": "stream",
          "text": [
            "\r 62%|██████▎   | 15/24 [28:07<16:49, 112.15s/it]"
          ],
          "name": "stderr"
        },
        {
          "output_type": "stream",
          "text": [
            "{'activation': 'relu', 'batch_size': 32, 'dropout': 0.3, 'epochs': 2, 'filters': 64, 'kernel_size': 4, 'last_activation': 'sigmoid', 'loss': 'binary_crossentropy', 'optimizer': 'adam', 'output_1_count_dense': 40, 'output_2_count_dense': 40, 'output_count_lstm': 50, 'pool_size': 3}\n",
            "Epoch 1/2\n",
            "3990/3990 [==============================] - 56s 14ms/step - loss: 0.1136 - accuracy: 0.7548 - val_loss: 0.0533 - val_accuracy: 0.9941\n",
            "Epoch 2/2\n",
            "3990/3990 [==============================] - 54s 13ms/step - loss: 0.0576 - accuracy: 0.9853 - val_loss: 0.0514 - val_accuracy: 0.9941\n"
          ],
          "name": "stdout"
        },
        {
          "output_type": "stream",
          "text": [
            "\r 67%|██████▋   | 16/24 [29:59<14:55, 111.98s/it]"
          ],
          "name": "stderr"
        },
        {
          "output_type": "stream",
          "text": [
            "{'activation': 'relu', 'batch_size': 32, 'dropout': 0.3, 'epochs': 2, 'filters': 64, 'kernel_size': 5, 'last_activation': 'sigmoid', 'loss': 'binary_crossentropy', 'optimizer': 'adam', 'output_1_count_dense': 40, 'output_2_count_dense': 30, 'output_count_lstm': 50, 'pool_size': 3}\n",
            "Epoch 1/2\n",
            "3990/3990 [==============================] - 56s 14ms/step - loss: 0.1311 - accuracy: 0.7175 - val_loss: 0.0573 - val_accuracy: 0.9941\n",
            "Epoch 2/2\n",
            "3990/3990 [==============================] - 53s 13ms/step - loss: 0.0585 - accuracy: 0.9678 - val_loss: 0.0502 - val_accuracy: 0.9941\n"
          ],
          "name": "stdout"
        },
        {
          "output_type": "stream",
          "text": [
            "\r 71%|███████   | 17/24 [31:49<13:01, 111.60s/it]"
          ],
          "name": "stderr"
        },
        {
          "output_type": "stream",
          "text": [
            "{'activation': 'relu', 'batch_size': 32, 'dropout': 0.3, 'epochs': 2, 'filters': 64, 'kernel_size': 5, 'last_activation': 'sigmoid', 'loss': 'binary_crossentropy', 'optimizer': 'adam', 'output_1_count_dense': 40, 'output_2_count_dense': 40, 'output_count_lstm': 50, 'pool_size': 3}\n",
            "Epoch 1/2\n",
            "3990/3990 [==============================] - 57s 14ms/step - loss: 0.1278 - accuracy: 0.6966 - val_loss: 0.0526 - val_accuracy: 0.9940\n",
            "Epoch 2/2\n",
            "3990/3990 [==============================] - 54s 14ms/step - loss: 0.0579 - accuracy: 0.9848 - val_loss: 0.0532 - val_accuracy: 0.9941\n"
          ],
          "name": "stdout"
        },
        {
          "output_type": "stream",
          "text": [
            "\r 75%|███████▌  | 18/24 [33:42<11:10, 111.78s/it]"
          ],
          "name": "stderr"
        },
        {
          "output_type": "stream",
          "text": [
            "{'activation': 'relu', 'batch_size': 32, 'dropout': 0.3, 'epochs': 2, 'filters': 128, 'kernel_size': 3, 'last_activation': 'sigmoid', 'loss': 'binary_crossentropy', 'optimizer': 'adam', 'output_1_count_dense': 40, 'output_2_count_dense': 30, 'output_count_lstm': 50, 'pool_size': 3}\n",
            "Epoch 1/2\n",
            "3990/3990 [==============================] - 56s 14ms/step - loss: 0.1252 - accuracy: 0.6679 - val_loss: 0.0553 - val_accuracy: 0.9941\n",
            "Epoch 2/2\n",
            "3990/3990 [==============================] - 54s 13ms/step - loss: 0.0583 - accuracy: 0.9920 - val_loss: 0.0519 - val_accuracy: 0.9941\n"
          ],
          "name": "stdout"
        },
        {
          "output_type": "stream",
          "text": [
            "\r 79%|███████▉  | 19/24 [35:32<09:17, 111.52s/it]"
          ],
          "name": "stderr"
        },
        {
          "output_type": "stream",
          "text": [
            "{'activation': 'relu', 'batch_size': 32, 'dropout': 0.3, 'epochs': 2, 'filters': 128, 'kernel_size': 3, 'last_activation': 'sigmoid', 'loss': 'binary_crossentropy', 'optimizer': 'adam', 'output_1_count_dense': 40, 'output_2_count_dense': 40, 'output_count_lstm': 50, 'pool_size': 3}\n",
            "Epoch 1/2\n",
            "3990/3990 [==============================] - 56s 14ms/step - loss: 0.1070 - accuracy: 0.6480 - val_loss: 0.0540 - val_accuracy: 0.9941\n",
            "Epoch 2/2\n",
            "3990/3990 [==============================] - 54s 14ms/step - loss: 0.0566 - accuracy: 0.9872 - val_loss: 0.0520 - val_accuracy: 0.9941\n"
          ],
          "name": "stdout"
        },
        {
          "output_type": "stream",
          "text": [
            "\r 83%|████████▎ | 20/24 [37:25<07:26, 111.70s/it]"
          ],
          "name": "stderr"
        },
        {
          "output_type": "stream",
          "text": [
            "{'activation': 'relu', 'batch_size': 32, 'dropout': 0.3, 'epochs': 2, 'filters': 128, 'kernel_size': 4, 'last_activation': 'sigmoid', 'loss': 'binary_crossentropy', 'optimizer': 'adam', 'output_1_count_dense': 40, 'output_2_count_dense': 30, 'output_count_lstm': 50, 'pool_size': 3}\n",
            "Epoch 1/2\n",
            "3990/3990 [==============================] - 57s 14ms/step - loss: 0.1139 - accuracy: 0.6824 - val_loss: 0.0534 - val_accuracy: 0.9941\n",
            "Epoch 2/2\n",
            "3990/3990 [==============================] - 54s 14ms/step - loss: 0.0587 - accuracy: 0.9878 - val_loss: 0.0506 - val_accuracy: 0.9941\n"
          ],
          "name": "stdout"
        },
        {
          "output_type": "stream",
          "text": [
            "\r 88%|████████▊ | 21/24 [39:17<05:35, 111.83s/it]"
          ],
          "name": "stderr"
        },
        {
          "output_type": "stream",
          "text": [
            "{'activation': 'relu', 'batch_size': 32, 'dropout': 0.3, 'epochs': 2, 'filters': 128, 'kernel_size': 4, 'last_activation': 'sigmoid', 'loss': 'binary_crossentropy', 'optimizer': 'adam', 'output_1_count_dense': 40, 'output_2_count_dense': 40, 'output_count_lstm': 50, 'pool_size': 3}\n",
            "Epoch 1/2\n",
            "3990/3990 [==============================] - 57s 14ms/step - loss: 0.1029 - accuracy: 0.7413 - val_loss: 0.0619 - val_accuracy: 0.9941\n",
            "Epoch 2/2\n",
            "3990/3990 [==============================] - 54s 14ms/step - loss: 0.0588 - accuracy: 0.9834 - val_loss: 0.0504 - val_accuracy: 0.9941\n"
          ],
          "name": "stdout"
        },
        {
          "output_type": "stream",
          "text": [
            "\r 92%|█████████▏| 22/24 [41:09<03:43, 111.97s/it]"
          ],
          "name": "stderr"
        },
        {
          "output_type": "stream",
          "text": [
            "{'activation': 'relu', 'batch_size': 32, 'dropout': 0.3, 'epochs': 2, 'filters': 128, 'kernel_size': 5, 'last_activation': 'sigmoid', 'loss': 'binary_crossentropy', 'optimizer': 'adam', 'output_1_count_dense': 40, 'output_2_count_dense': 30, 'output_count_lstm': 50, 'pool_size': 3}\n",
            "Epoch 1/2\n",
            "3990/3990 [==============================] - 56s 14ms/step - loss: 0.1220 - accuracy: 0.6922 - val_loss: 0.0623 - val_accuracy: 0.9941\n",
            "Epoch 2/2\n",
            "3990/3990 [==============================] - 54s 14ms/step - loss: 0.0585 - accuracy: 0.9902 - val_loss: 0.0617 - val_accuracy: 0.9941\n"
          ],
          "name": "stdout"
        },
        {
          "output_type": "stream",
          "text": [
            "\r 96%|█████████▌| 23/24 [43:01<01:51, 111.98s/it]"
          ],
          "name": "stderr"
        },
        {
          "output_type": "stream",
          "text": [
            "{'activation': 'relu', 'batch_size': 32, 'dropout': 0.3, 'epochs': 2, 'filters': 128, 'kernel_size': 5, 'last_activation': 'sigmoid', 'loss': 'binary_crossentropy', 'optimizer': 'adam', 'output_1_count_dense': 40, 'output_2_count_dense': 40, 'output_count_lstm': 50, 'pool_size': 3}\n",
            "Epoch 1/2\n",
            "3990/3990 [==============================] - 56s 14ms/step - loss: 0.1070 - accuracy: 0.6884 - val_loss: 0.0639 - val_accuracy: 0.9941\n",
            "Epoch 2/2\n",
            "3990/3990 [==============================] - 54s 14ms/step - loss: 0.0580 - accuracy: 0.9799 - val_loss: 0.0500 - val_accuracy: 0.9941\n"
          ],
          "name": "stdout"
        },
        {
          "output_type": "stream",
          "text": [
            "100%|██████████| 24/24 [44:53<00:00, 112.22s/it]\n"
          ],
          "name": "stderr"
        }
      ]
    },
    {
      "cell_type": "code",
      "metadata": {
        "colab": {
          "base_uri": "https://localhost:8080/"
        },
        "id": "eQU9iqMM_IT2",
        "outputId": "2128d1c6-0201-4387-c82d-c619d43d54b5"
      },
      "source": [
        "model_id = scan_results.data['val_accuracy'].astype('float').argmax()\r\n",
        "model_id"
      ],
      "execution_count": null,
      "outputs": [
        {
          "output_type": "execute_result",
          "data": {
            "text/plain": [
              "0"
            ]
          },
          "metadata": {
            "tags": []
          },
          "execution_count": 60
        }
      ]
    },
    {
      "cell_type": "code",
      "metadata": {
        "colab": {
          "base_uri": "https://localhost:8080/",
          "height": 116
        },
        "id": "8OiN965L_JOz",
        "outputId": "c0452f44-ad6f-4f7f-bcde-7db6a0e71ddb"
      },
      "source": [
        "scan_results.data[0:1]"
      ],
      "execution_count": null,
      "outputs": [
        {
          "output_type": "execute_result",
          "data": {
            "text/html": [
              "<div>\n",
              "<style scoped>\n",
              "    .dataframe tbody tr th:only-of-type {\n",
              "        vertical-align: middle;\n",
              "    }\n",
              "\n",
              "    .dataframe tbody tr th {\n",
              "        vertical-align: top;\n",
              "    }\n",
              "\n",
              "    .dataframe thead th {\n",
              "        text-align: right;\n",
              "    }\n",
              "</style>\n",
              "<table border=\"1\" class=\"dataframe\">\n",
              "  <thead>\n",
              "    <tr style=\"text-align: right;\">\n",
              "      <th></th>\n",
              "      <th>start</th>\n",
              "      <th>end</th>\n",
              "      <th>duration</th>\n",
              "      <th>round_epochs</th>\n",
              "      <th>loss</th>\n",
              "      <th>accuracy</th>\n",
              "      <th>val_loss</th>\n",
              "      <th>val_accuracy</th>\n",
              "      <th>activation</th>\n",
              "      <th>batch_size</th>\n",
              "      <th>dropout</th>\n",
              "      <th>epochs</th>\n",
              "      <th>filters</th>\n",
              "      <th>kernel_size</th>\n",
              "      <th>last_activation</th>\n",
              "      <th>loss</th>\n",
              "      <th>optimizer</th>\n",
              "      <th>output_1_count_dense</th>\n",
              "      <th>output_2_count_dense</th>\n",
              "      <th>output_count_lstm</th>\n",
              "      <th>pool_size</th>\n",
              "    </tr>\n",
              "  </thead>\n",
              "  <tbody>\n",
              "    <tr>\n",
              "      <th>0</th>\n",
              "      <td>01/10/21-090630</td>\n",
              "      <td>01/10/21-090826</td>\n",
              "      <td>116.698817</td>\n",
              "      <td>2</td>\n",
              "      <td>0.054549</td>\n",
              "      <td>0.982038</td>\n",
              "      <td>0.051664</td>\n",
              "      <td>0.994078</td>\n",
              "      <td>relu</td>\n",
              "      <td>32</td>\n",
              "      <td>0.2</td>\n",
              "      <td>2</td>\n",
              "      <td>64</td>\n",
              "      <td>3</td>\n",
              "      <td>sigmoid</td>\n",
              "      <td>binary_crossentropy</td>\n",
              "      <td>adam</td>\n",
              "      <td>40</td>\n",
              "      <td>30</td>\n",
              "      <td>50</td>\n",
              "      <td>3</td>\n",
              "    </tr>\n",
              "  </tbody>\n",
              "</table>\n",
              "</div>"
            ],
            "text/plain": [
              "             start              end  ...  output_count_lstm  pool_size\n",
              "0  01/10/21-090630  01/10/21-090826  ...                 50          3\n",
              "\n",
              "[1 rows x 21 columns]"
            ]
          },
          "metadata": {
            "tags": []
          },
          "execution_count": 61
        }
      ]
    },
    {
      "cell_type": "code",
      "metadata": {
        "id": "xbIfeqlH_JK-"
      },
      "source": [
        "analyze_object = talos.Analyze(scan_results)"
      ],
      "execution_count": null,
      "outputs": []
    },
    {
      "cell_type": "code",
      "metadata": {
        "colab": {
          "base_uri": "https://localhost:8080/"
        },
        "id": "oMfSKDje_JHw",
        "outputId": "82f30e3b-66c1-42fb-84e9-9a62a938c82f"
      },
      "source": [
        "analyze_object.best_params('val_accuracy', ['accuracy', 'loss', 'val_loss'])"
      ],
      "execution_count": null,
      "outputs": [
        {
          "output_type": "execute_result",
          "data": {
            "text/plain": [
              "array([['adam', 3, 0.2, 50, 30, '01/10/21-090630', 32, 40, 2, 3,\n",
              "        '01/10/21-090826', 'sigmoid', 64, 2, 'relu', 116.69881653785706,\n",
              "        0],\n",
              "       ['adam', 3, 0.3, 50, 40, '01/10/21-093053', 32, 40, 2, 3,\n",
              "        '01/10/21-093243', 'sigmoid', 64, 2, 'relu', 110.06025195121765,\n",
              "        1],\n",
              "       ['adam', 3, 0.3, 50, 30, '01/10/21-094739', 32, 40, 2, 5,\n",
              "        '01/10/21-094930', 'sigmoid', 128, 2, 'relu', 111.29186987876892,\n",
              "        2],\n",
              "       ['adam', 3, 0.3, 50, 40, '01/10/21-094547', 32, 40, 2, 4,\n",
              "        '01/10/21-094738', 'sigmoid', 128, 2, 'relu', 111.57755947113037,\n",
              "        3],\n",
              "       ['adam', 3, 0.3, 50, 30, '01/10/21-094355', 32, 40, 2, 4,\n",
              "        '01/10/21-094546', 'sigmoid', 128, 2, 'relu', 111.43396997451782,\n",
              "        4],\n",
              "       ['adam', 3, 0.3, 50, 40, '01/10/21-094203', 32, 40, 2, 3,\n",
              "        '01/10/21-094354', 'sigmoid', 128, 2, 'relu', 111.39009833335876,\n",
              "        5],\n",
              "       ['adam', 3, 0.3, 50, 30, '01/10/21-094012', 32, 40, 2, 3,\n",
              "        '01/10/21-094202', 'sigmoid', 128, 2, 'relu', 110.21675276756287,\n",
              "        6],\n",
              "       ['adam', 3, 0.3, 50, 40, '01/10/21-093819', 32, 40, 2, 5,\n",
              "        '01/10/21-094011', 'sigmoid', 64, 2, 'relu', 111.47262454032898,\n",
              "        7],\n",
              "       ['adam', 3, 0.3, 50, 30, '01/10/21-093629', 32, 40, 2, 5,\n",
              "        '01/10/21-093819', 'sigmoid', 64, 2, 'relu', 110.01473665237427,\n",
              "        8],\n",
              "       ['adam', 3, 0.3, 50, 40, '01/10/21-093437', 32, 40, 2, 4,\n",
              "        '01/10/21-093628', 'sigmoid', 64, 2, 'relu', 110.83472061157227,\n",
              "        9]], dtype=object)"
            ]
          },
          "metadata": {
            "tags": []
          },
          "execution_count": 63
        }
      ]
    },
    {
      "cell_type": "code",
      "metadata": {
        "colab": {
          "base_uri": "https://localhost:8080/",
          "height": 410
        },
        "id": "K40v1m_N_Rgo",
        "outputId": "8f35c201-8eaa-4d2d-fc00-ad8141843196"
      },
      "source": [
        "analyze_object.plot_line('val_accuracy')"
      ],
      "execution_count": null,
      "outputs": [
        {
          "output_type": "display_data",
          "data": {
            "image/png": "[encoded data removed]",
            "text/plain": [
              "<Figure size 864x475.2 with 1 Axes>"
            ]
          },
          "metadata": {
            "tags": []
          }
        }
      ]
    },
    {
      "cell_type": "code",
      "metadata": {
        "colab": {
          "base_uri": "https://localhost:8080/",
          "height": 410
        },
        "id": "z50AydTs_RdW",
        "outputId": "8969baaf-f574-4897-fa5d-7c1e9fdc383c"
      },
      "source": [
        "analyze_object.plot_line('accuracy')"
      ],
      "execution_count": null,
      "outputs": [
        {
          "output_type": "display_data",
          "data": {
            "image/png": "[encoded data removed]",
            "text/plain": [
              "<Figure size 864x475.2 with 1 Axes>"
            ]
          },
          "metadata": {
            "tags": []
          }
        }
      ]
    },
    {
      "cell_type": "markdown",
      "metadata": {
        "id": "sHrPeYI_Giky"
      },
      "source": [
        "#### Training Model with Best Parameters"
      ]
    },
    {
      "cell_type": "code",
      "metadata": {
        "id": "9x04BXTCCdsV"
      },
      "source": [
        "inp=Input(shape=(maxpadlen, ),dtype='int32')"
      ],
      "execution_count": 81,
      "outputs": []
    },
    {
      "cell_type": "code",
      "metadata": {
        "id": "U-fPTQKHFF61"
      },
      "source": [
        "embedding_layer = Embedding(len(word_index) + 1,\n",
        "                           embedding_dim_fasttext,\n",
        "                           weights = [embedding_matrix_fasttext],\n",
        "                           input_length = maxpadlen,\n",
        "                           trainable=False,\n",
        "                           name = 'embeddings')\n",
        "embedded_sequences = embedding_layer(inp)"
      ],
      "execution_count": 82,
      "outputs": []
    },
    {
      "cell_type": "markdown",
      "metadata": {
        "id": "lIRoKKp9mzQz"
      },
      "source": [
        "LSTM"
      ]
    },
    {
      "cell_type": "code",
      "metadata": {
        "id": "mAF1Ui22FmHX"
      },
      "source": [
        "x = LSTM(40, return_sequences=True,name='lstm_layer')(embedded_sequences)\r\n",
        "x = GlobalMaxPool1D()(x)\r\n",
        "x = Dropout(0.1)(x)\r\n",
        "x = Dense(30, activation=\"relu\", kernel_initializer='he_uniform')(x)\r\n",
        "x = Dropout(0.1)(x)\r\n",
        "preds = Dense(6, activation=\"sigmoid\", kernel_initializer='glorot_uniform')(x)"
      ],
      "execution_count": 83,
      "outputs": []
    },
    {
      "cell_type": "markdown",
      "metadata": {
        "id": "q63N5a-Rm0zp"
      },
      "source": [
        "LSTM-CNN"
      ]
    },
    {
      "cell_type": "code",
      "metadata": {
        "id": "hKK_321BdT-o"
      },
      "source": [
        "x = LSTM(50, return_sequences=True,name='lstm_layer')(embedded_sequences)\r\n",
        "x = Conv1D(filters=64, kernel_size=3, padding='same', activation='relu', kernel_initializer='he_uniform')(x)\r\n",
        "x = MaxPooling1D(3)(x)\r\n",
        "x = GlobalMaxPool1D()(x)\r\n",
        "x = BatchNormalization()(x)\r\n",
        "x = Dense(40, activation=\"relu\", kernel_initializer='he_uniform')(x)\r\n",
        "x = Dropout(0.2)(x)\r\n",
        "x = Dense(30, activation=\"relu\", kernel_initializer='he_uniform')(x)\r\n",
        "x = Dropout(0.2)(x)\r\n",
        "preds = Dense(6, activation=\"sigmoid\", kernel_initializer='glorot_uniform')(x)"
      ],
      "execution_count": null,
      "outputs": []
    },
    {
      "cell_type": "code",
      "metadata": {
        "id": "kigFyK4cHHrv"
      },
      "source": [
        "model = Model(inputs=inp, outputs=preds)\n",
        "model.compile(loss='binary_crossentropy',\n",
        "                  optimizer='adam',\n",
        "                  metrics=['accuracy'])"
      ],
      "execution_count": 84,
      "outputs": []
    },
    {
      "cell_type": "code",
      "metadata": {
        "colab": {
          "base_uri": "https://localhost:8080/"
        },
        "id": "e_qJGa25HVxi",
        "outputId": "e8627992-b76b-4e2a-bc3d-bf601a65a209"
      },
      "source": [
        "model.summary()"
      ],
      "execution_count": 85,
      "outputs": [
        {
          "output_type": "stream",
          "text": [
            "Model: \"model\"\n",
            "_________________________________________________________________\n",
            "Layer (type)                 Output Shape              Param #   \n",
            "=================================================================\n",
            "input_1 (InputLayer)         [(None, 200)]             0         \n",
            "_________________________________________________________________\n",
            "embeddings (Embedding)       (None, 200, 300)          44675400  \n",
            "_________________________________________________________________\n",
            "lstm_layer (LSTM)            (None, 200, 40)           54560     \n",
            "_________________________________________________________________\n",
            "global_max_pooling1d (Global (None, 40)                0         \n",
            "_________________________________________________________________\n",
            "dropout (Dropout)            (None, 40)                0         \n",
            "_________________________________________________________________\n",
            "dense (Dense)                (None, 30)                1230      \n",
            "_________________________________________________________________\n",
            "dropout_1 (Dropout)          (None, 30)                0         \n",
            "_________________________________________________________________\n",
            "dense_1 (Dense)              (None, 6)                 186       \n",
            "=================================================================\n",
            "Total params: 44,731,376\n",
            "Trainable params: 55,976\n",
            "Non-trainable params: 44,675,400\n",
            "_________________________________________________________________\n"
          ],
          "name": "stdout"
        }
      ]
    },
    {
      "cell_type": "code",
      "metadata": {
        "id": "Bc-HX52zHNg9",
        "colab": {
          "base_uri": "https://localhost:8080/"
        },
        "outputId": "c4afacd2-293c-4894-f927-5a78fb74d753"
      },
      "source": [
        "model_info=model.fit(x_train,y_train, epochs=2, batch_size=32,  validation_data=(x_val, y_val))"
      ],
      "execution_count": 86,
      "outputs": [
        {
          "output_type": "stream",
          "text": [
            "Epoch 1/2\n",
            "3990/3990 [==============================] - 54s 13ms/step - loss: 0.1012 - accuracy: 0.8328 - val_loss: 0.0505 - val_accuracy: 0.9938\n",
            "Epoch 2/2\n",
            "3990/3990 [==============================] - 52s 13ms/step - loss: 0.0502 - accuracy: 0.9771 - val_loss: 0.0480 - val_accuracy: 0.9937\n"
          ],
          "name": "stdout"
        }
      ]
    },
    {
      "cell_type": "markdown",
      "metadata": {
        "id": "kL2OV0YiB3sp"
      },
      "source": [
        "## Plotting Graphs"
      ]
    },
    {
      "cell_type": "code",
      "metadata": {
        "id": "3qKSCDX-KjSX",
        "colab": {
          "base_uri": "https://localhost:8080/",
          "height": 315
        },
        "outputId": "eec821ca-4b4c-47a3-bd4e-28d3d2495967"
      },
      "source": [
        "loss = model_info.history['loss']\r\n",
        "val_loss = model_info.history['val_loss']\r\n",
        "\r\n",
        "epochs = range(1, len(loss)+1)\r\n",
        "\r\n",
        "plt.plot(epochs, loss, label='Training loss')\r\n",
        "plt.plot(epochs, val_loss, label='Validation loss')\r\n",
        "plt.title('Training and Validation loss')\r\n",
        "plt.xlabel('Epochs')\r\n",
        "plt.ylabel('Loss')\r\n",
        "plt.legend()\r\n",
        "plt.show();"
      ],
      "execution_count": 87,
      "outputs": [
        {
          "output_type": "display_data",
          "data": {
            "image/png": "[encoded data removed]",
            "text/plain": [
              "<Figure size 432x288 with 1 Axes>"
            ]
          },
          "metadata": {
            "tags": []
          }
        }
      ]
    },
    {
      "cell_type": "markdown",
      "metadata": {
        "id": "7wv1IdwZk_qG"
      },
      "source": [
        "# Saving the Model"
      ]
    },
    {
      "cell_type": "code",
      "metadata": {
        "colab": {
          "base_uri": "https://localhost:8080/"
        },
        "id": "eisFdjOUlBbM",
        "outputId": "13100576-56c0-4efc-f4b9-b391dd4d76be"
      },
      "source": [
        "model.save(filepath=\"/content/drive/MyDrive/lstm_model\")"
      ],
      "execution_count": 102,
      "outputs": [
        {
          "output_type": "stream",
          "text": [
            "WARNING:absl:Found untraced functions such as lstm_cell_layer_call_and_return_conditional_losses, lstm_cell_layer_call_fn, lstm_cell_layer_call_fn, lstm_cell_layer_call_and_return_conditional_losses, lstm_cell_layer_call_and_return_conditional_losses while saving (showing 5 of 5). These functions will not be directly callable after loading.\n",
            "WARNING:absl:Found untraced functions such as lstm_cell_layer_call_and_return_conditional_losses, lstm_cell_layer_call_fn, lstm_cell_layer_call_fn, lstm_cell_layer_call_and_return_conditional_losses, lstm_cell_layer_call_and_return_conditional_losses while saving (showing 5 of 5). These functions will not be directly callable after loading.\n"
          ],
          "name": "stderr"
        },
        {
          "output_type": "stream",
          "text": [
            "INFO:tensorflow:Assets written to: /content/drive/MyDrive/lstm_model/assets\n"
          ],
          "name": "stdout"
        },
        {
          "output_type": "stream",
          "text": [
            "INFO:tensorflow:Assets written to: /content/drive/MyDrive/lstm_model/assets\n"
          ],
          "name": "stderr"
        }
      ]
    },
    {
      "cell_type": "markdown",
      "metadata": {
        "id": "bXx4IOYn4_XB"
      },
      "source": [
        "# Loading Saved Model"
      ]
    },
    {
      "cell_type": "code",
      "metadata": {
        "id": "ulj64J7p4YKB"
      },
      "source": [
        "loaded_model = keras.models.load_model(filepath=\"/content/drive/MyDrive/lstm_model\")"
      ],
      "execution_count": 57,
      "outputs": []
    },
    {
      "cell_type": "markdown",
      "metadata": {
        "id": "kJJJs5txVS8S"
      },
      "source": [
        "# Generating the Output"
      ]
    },
    {
      "cell_type": "code",
      "metadata": {
        "id": "aUL3S8xiCYxU",
        "colab": {
          "base_uri": "https://localhost:8080/"
        },
        "outputId": "c8666d50-20a2-49f8-ee5a-f029392406e4"
      },
      "source": [
        "test_values = model.predict([X_te], batch_size=1, verbose=1)"
      ],
      "execution_count": 100,
      "outputs": [
        {
          "output_type": "stream",
          "text": [
            "153164/153164 [==============================] - 602s 4ms/step\n"
          ],
          "name": "stdout"
        }
      ]
    },
    {
      "cell_type": "code",
      "metadata": {
        "id": "_FSvu4hpyU4r"
      },
      "source": [
        "sample_submission = pd.read_csv('https://raw.githubusercontent.com/shaunak09vb/Toxic-Comment-Classifier-using-LSTM/main/Data/sample_submission.csv')\r\n",
        "test_values=pd.DataFrame(test_values,columns=['toxic', 'severe_toxic', 'obscene', 'threat', 'insult', 'identity_hate'])\r\n",
        "submission = pd.DataFrame(sample_submission[\"id\"])\r\n",
        "combined_submission=pd.concat([submission,test_values],axis=1)\r\n",
        "combined_submission.to_csv('/content/drive/MyDrive/Submission_Kaggle/submission_27.csv', index=False)"
      ],
      "execution_count": 101,
      "outputs": []
    },
    {
      "cell_type": "markdown",
      "metadata": {
        "id": "7HkAldq1IJcr"
      },
      "source": [
        "# Testing the Created Model"
      ]
    },
    {
      "cell_type": "code",
      "metadata": {
        "id": "fPneHbuzIIxj"
      },
      "source": [
        "def toxicity_level(string):\r\n",
        "    \"\"\"\r\n",
        "    Return toxicity probability based on inputed string.\r\n",
        "    \"\"\"\r\n",
        "    # Process string\r\n",
        "    new_string = [string]\r\n",
        "    new_string = tokenizer.texts_to_sequences(new_string)\r\n",
        "    new_string = pad_sequences(new_string, maxlen=maxpadlen, padding='post')\r\n",
        "    \r\n",
        "    # Predict\r\n",
        "    prediction = model.predict(new_string)\r\n",
        "    \r\n",
        "    # Print output\r\n",
        "    print(\"Toxicity levels for '{}':\".format(string))\r\n",
        "    print('Toxic:         {:.0%}'.format(prediction[0][0]))\r\n",
        "    print('Severe Toxic:  {:.0%}'.format(prediction[0][1]))\r\n",
        "    print('Obscene:       {:.0%}'.format(prediction[0][2]))\r\n",
        "    print('Threat:        {:.0%}'.format(prediction[0][3]))\r\n",
        "    print('Insult:        {:.0%}'.format(prediction[0][4]))\r\n",
        "    print('Identity Hate: {:.0%}'.format(prediction[0][5]))\r\n",
        "    print()\r\n",
        "    \r\n",
        "    return"
      ],
      "execution_count": 88,
      "outputs": []
    },
    {
      "cell_type": "code",
      "metadata": {
        "colab": {
          "base_uri": "https://localhost:8080/"
        },
        "id": "wxWkAax7JLF1",
        "outputId": "14d07fda-f1c2-4c70-90ca-65575cbce0ac"
      },
      "source": [
        "toxicity_level('go jump off a bridge jerk')"
      ],
      "execution_count": 89,
      "outputs": [
        {
          "output_type": "stream",
          "text": [
            "Toxicity levels for 'go jump off a bridge jerk':\n",
            "Toxic:         68%\n",
            "Severe Toxic:  1%\n",
            "Obscene:       25%\n",
            "Threat:        1%\n",
            "Insult:        34%\n",
            "Identity Hate: 1%\n",
            "\n"
          ],
          "name": "stdout"
        }
      ]
    },
    {
      "cell_type": "code",
      "metadata": {
        "colab": {
          "base_uri": "https://localhost:8080/"
        },
        "id": "QLGZpQ1KIpFG",
        "outputId": "a4f5b57a-c4cc-412b-f456-c0a9841e2eaf"
      },
      "source": [
        "toxicity_level('i will kill you')"
      ],
      "execution_count": 90,
      "outputs": [
        {
          "output_type": "stream",
          "text": [
            "Toxicity levels for 'i will kill you':\n",
            "Toxic:         20%\n",
            "Severe Toxic:  1%\n",
            "Obscene:       9%\n",
            "Threat:        3%\n",
            "Insult:        6%\n",
            "Identity Hate: 2%\n",
            "\n"
          ],
          "name": "stdout"
        }
      ]
    },
    {
      "cell_type": "code",
      "metadata": {
        "colab": {
          "base_uri": "https://localhost:8080/"
        },
        "id": "Be1lw-liIpfe",
        "outputId": "22cce153-c337-47f7-e68f-301d20b39553"
      },
      "source": [
        "toxicity_level('have a nice day')"
      ],
      "execution_count": 91,
      "outputs": [
        {
          "output_type": "stream",
          "text": [
            "Toxicity levels for 'have a nice day':\n",
            "Toxic:         0%\n",
            "Severe Toxic:  0%\n",
            "Obscene:       0%\n",
            "Threat:        0%\n",
            "Insult:        0%\n",
            "Identity Hate: 0%\n",
            "\n"
          ],
          "name": "stdout"
        }
      ]
    },
    {
      "cell_type": "code",
      "metadata": {
        "colab": {
          "base_uri": "https://localhost:8080/"
        },
        "id": "HZ-_6XzxIxxT",
        "outputId": "9e374b5c-dcd2-43d2-c22b-97d40ff7baa4"
      },
      "source": [
        "toxicity_level('fuck ofF!!')"
      ],
      "execution_count": 99,
      "outputs": [
        {
          "output_type": "stream",
          "text": [
            "Toxicity levels for 'fuck ofF!!':\n",
            "Toxic:         98%\n",
            "Severe Toxic:  18%\n",
            "Obscene:       94%\n",
            "Threat:        3%\n",
            "Insult:        56%\n",
            "Identity Hate: 3%\n",
            "\n"
          ],
          "name": "stdout"
        }
      ]
    },
    {
      "cell_type": "code",
      "metadata": {
        "colab": {
          "base_uri": "https://localhost:8080/"
        },
        "id": "1s_5EQEFJD3G",
        "outputId": "79cdedbf-498a-40d2-928d-0aa1b20c6919"
      },
      "source": [
        "toxicity_level('Hello, How are you?')"
      ],
      "execution_count": 93,
      "outputs": [
        {
          "output_type": "stream",
          "text": [
            "Toxicity levels for 'Hello, How are you?':\n",
            "Toxic:         0%\n",
            "Severe Toxic:  0%\n",
            "Obscene:       0%\n",
            "Threat:        0%\n",
            "Insult:        0%\n",
            "Identity Hate: 0%\n",
            "\n"
          ],
          "name": "stdout"
        }
      ]
    },
    {
      "cell_type": "code",
      "metadata": {
        "colab": {
          "base_uri": "https://localhost:8080/"
        },
        "id": "apOGOBU3uZxl",
        "outputId": "48ef8b99-fff9-4d89-92fa-42c096d8264c"
      },
      "source": [
        "toxicity_level('go the fuck away from me @sshole!!')"
      ],
      "execution_count": 95,
      "outputs": [
        {
          "output_type": "stream",
          "text": [
            "Toxicity levels for 'go the fuck away from me @sshole!!':\n",
            "Toxic:         95%\n",
            "Severe Toxic:  7%\n",
            "Obscene:       86%\n",
            "Threat:        2%\n",
            "Insult:        46%\n",
            "Identity Hate: 1%\n",
            "\n"
          ],
          "name": "stdout"
        }
      ]
    }
  ]
}